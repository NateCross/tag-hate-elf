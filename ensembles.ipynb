{
  "cells": [
    {
      "cell_type": "markdown",
      "metadata": {},
      "source": [
        "# Ensembles\n",
        "\n",
        "This script runs the ensemble methods (hard voting, soft voting, stacking) using the three learners (Bernoulli Naive Bayes, LSTM, mBERT)."
      ]
    },
    {
      "cell_type": "markdown",
      "metadata": {},
      "source": [
        "## Imports"
      ]
    },
    {
      "cell_type": "code",
      "execution_count": 1,
      "metadata": {},
      "outputs": [
        {
          "name": "stderr",
          "output_type": "stream",
          "text": [
            "/tmp/ipykernel_18380/3723750217.py:5: DeprecationWarning: \n",
            "Pyarrow will become a required dependency of pandas in the next major release of pandas (pandas 3.0),\n",
            "(to allow more performant data types, such as the Arrow string type, and better interoperability with other libraries)\n",
            "but was not found to be installed on your system.\n",
            "If this would cause problems for you,\n",
            "please provide us feedback at https://github.com/pandas-dev/pandas/issues/54466\n",
            "        \n",
            "  import pandas as pd\n",
            "/home/nate/miniconda3/lib/python3.9/site-packages/transformers/utils/generic.py:311: UserWarning: torch.utils._pytree._register_pytree_node is deprecated. Please use torch.utils._pytree.register_pytree_node instead.\n",
            "  torch.utils._pytree._register_pytree_node(\n",
            "/home/nate/miniconda3/lib/python3.9/site-packages/transformers/utils/generic.py:311: UserWarning: torch.utils._pytree._register_pytree_node is deprecated. Please use torch.utils._pytree.register_pytree_node instead.\n",
            "  torch.utils._pytree._register_pytree_node(\n"
          ]
        }
      ],
      "source": [
        "import torch\n",
        "import joblib\n",
        "from sklearn.naive_bayes import BernoulliNB\n",
        "from sklearn.feature_extraction.text import TfidfVectorizer\n",
        "import pandas as pd\n",
        "import numpy as np\n",
        "from torch import Tensor, nn, LongTensor\n",
        "import calamancy\n",
        "from transformers import (\n",
        "  BertForSequenceClassification,\n",
        "  BertTokenizer\n",
        ")\n",
        "import numpy as np\n",
        "import pandas as pd\n",
        "import torch\n",
        "import math\n",
        "from sklearn.linear_model import LogisticRegression\n",
        "from sklearn.metrics import accuracy_score, recall_score, precision_score, f1_score, confusion_matrix, ConfusionMatrixDisplay\n",
        "import matplotlib.pyplot as plt"
      ]
    },
    {
      "cell_type": "markdown",
      "metadata": {},
      "source": [
        "## Settings"
      ]
    },
    {
      "cell_type": "code",
      "execution_count": 2,
      "metadata": {},
      "outputs": [],
      "source": [
        "# Locate the root directory where the trained Bernoulli Naive Bayes, LSTM, and\n",
        "# mBERT models were saved\n",
        "MODELS_FOLDER = 'models'\n",
        "\n",
        "# Locate the test dataset\n",
        "DATASET_TEST = 'datasets/dataset-test.csv'\n",
        "\n",
        "# Use the GPU if available\n",
        "DEVICE = torch.device('cuda:0' if torch.cuda.is_available() else 'cpu')"
      ]
    },
    {
      "cell_type": "markdown",
      "metadata": {},
      "source": [
        "### Hyperparameters"
      ]
    },
    {
      "cell_type": "markdown",
      "metadata": {},
      "source": [
        "#### LSTM"
      ]
    },
    {
      "cell_type": "code",
      "execution_count": 3,
      "metadata": {},
      "outputs": [],
      "source": [
        "HIDDEN_SIZE = 50"
      ]
    },
    {
      "cell_type": "markdown",
      "metadata": {},
      "source": [
        "#### mBERT"
      ]
    },
    {
      "cell_type": "code",
      "execution_count": 4,
      "metadata": {},
      "outputs": [],
      "source": [
        "BERT_MAX_LENGTH = 250"
      ]
    },
    {
      "cell_type": "markdown",
      "metadata": {},
      "source": [
        "## Bernoulli Naive Bayes"
      ]
    },
    {
      "cell_type": "markdown",
      "metadata": {},
      "source": [
        "### Loading TF-IDF"
      ]
    },
    {
      "cell_type": "code",
      "execution_count": 5,
      "metadata": {},
      "outputs": [],
      "source": [
        "try:\n",
        "  tfidf = joblib.load(f'{MODELS_FOLDER}/model_bayes/best/tfidf.pkl')\n",
        "except FileNotFoundError:\n",
        "  print(\"ERROR: Model not found\")"
      ]
    },
    {
      "cell_type": "markdown",
      "metadata": {},
      "source": [
        "### Loading Bernoulli Naive Bayes"
      ]
    },
    {
      "cell_type": "code",
      "execution_count": 6,
      "metadata": {},
      "outputs": [],
      "source": [
        "try:\n",
        "  BayesModel = joblib.load(f'{MODELS_FOLDER}/model_bayes/best/bayes.pkl')\n",
        "except FileNotFoundError:\n",
        "  print(\"ERROR: Model not found\")"
      ]
    },
    {
      "cell_type": "markdown",
      "metadata": {},
      "source": [
        "### Prediction Functions\n",
        "\n",
        "To get the predictions for Bernoulli Naive Bayes, we vectorize the input using TF-IDF and use that as the input to the model itself."
      ]
    },
    {
      "cell_type": "code",
      "execution_count": 7,
      "metadata": {},
      "outputs": [],
      "source": [
        "def predict_bayes(inputs: list):\n",
        "  inputs_transformed = tfidf.transform(inputs)\n",
        "  predictions = BayesModel.predict(inputs_transformed)\n",
        "  return predictions\n",
        "\n",
        "def predict_proba_bayes(inputs: list):\n",
        "  inputs_transformed = tfidf.transform(inputs)\n",
        "  predictions = BayesModel.predict_proba(inputs_transformed)\n",
        "  return predictions"
      ]
    },
    {
      "cell_type": "markdown",
      "metadata": {},
      "source": [
        "## LSTM"
      ]
    },
    {
      "cell_type": "markdown",
      "metadata": {},
      "source": [
        "### Loading CalamanCy"
      ]
    },
    {
      "cell_type": "code",
      "execution_count": 8,
      "metadata": {},
      "outputs": [
        {
          "name": "stderr",
          "output_type": "stream",
          "text": [
            "/home/nate/miniconda3/lib/python3.9/site-packages/spacy/util.py:918: UserWarning: [W094] Model 'tl_calamancy_md' (0.1.0) specifies an under-constrained spaCy version requirement: >=3.5.0. This can lead to compatibility problems with older versions, or as new spaCy versions are released, because the model may say it's compatible when it's not. Consider changing the \"spacy_version\" in your meta.json to a version range, with a lower and upper pin. For example: >=3.7.4,<3.8.0\n",
            "  warnings.warn(warn_msg)\n",
            "/home/nate/miniconda3/lib/python3.9/site-packages/spacy/util.py:918: UserWarning: [W094] Model 'tl_calamancy_lg' (0.1.0) specifies an under-constrained spaCy version requirement: >=3.5.0. This can lead to compatibility problems with older versions, or as new spaCy versions are released, because the model may say it's compatible when it's not. Consider changing the \"spacy_version\" in your meta.json to a version range, with a lower and upper pin. For example: >=3.7.4,<3.8.0\n",
            "  warnings.warn(warn_msg)\n"
          ]
        },
        {
          "data": {
            "text/plain": [
              "<spacy.lang.tl.Tagalog at 0x7feae044e8e0>"
            ]
          },
          "execution_count": 8,
          "metadata": {},
          "output_type": "execute_result"
        }
      ],
      "source": [
        "Calamancy = calamancy.load(\"tl_calamancy_md-0.1.0\")\n",
        "\n",
        "Calamancy"
      ]
    },
    {
      "cell_type": "markdown",
      "metadata": {},
      "source": [
        "### CalamanCy Functions\n",
        "\n",
        "These are used to tokenize and vectorize the inputs to LSTM."
      ]
    },
    {
      "cell_type": "code",
      "execution_count": 9,
      "metadata": {},
      "outputs": [],
      "source": [
        "def get_calamancy_tokens(data):\n",
        "  # Allows it to work with both dataframes and\n",
        "  # simple lists of strings\n",
        "  if isinstance(data, pd.Series):\n",
        "    data = data.values\n",
        "\n",
        "  data = [text.lower() for text in data]\n",
        "\n",
        "  samples = []\n",
        "\n",
        "  for sample in Calamancy.pipe(data):\n",
        "    tokens = []\n",
        "\n",
        "    for token in sample:\n",
        "      if token.is_punct: continue\n",
        "      if token.is_space: continue\n",
        "\n",
        "      tokens.append(token)\n",
        "\n",
        "    samples.append(tokens)\n",
        "\n",
        "  return samples\n",
        "\n",
        "def get_token_vectors(tokens):\n",
        "  vectors = []\n",
        "\n",
        "  for sample in tokens:\n",
        "    token_vectors = []\n",
        "    # Check in case empty due to processing\n",
        "    if not sample:\n",
        "      token_vectors.append(np.zeros((200)))\n",
        "    else:\n",
        "      for token in sample:\n",
        "        if token.has_vector:\n",
        "          token_vectors.append(token.vector)\n",
        "    token_vectors = Tensor(np.array(token_vectors))\n",
        "\n",
        "    vectors.append(token_vectors)\n",
        "\n",
        "  return vectors"
      ]
    },
    {
      "cell_type": "markdown",
      "metadata": {},
      "source": [
        "### Loading LSTM\n",
        "\n",
        "We must initialize LSTM using the hyperparameters it was first set with, particularly the hidden size; input and output size remain the same. Then we load the parameters obtained from training."
      ]
    },
    {
      "cell_type": "code",
      "execution_count": 10,
      "metadata": {},
      "outputs": [
        {
          "data": {
            "text/plain": [
              "LstmModel(\n",
              "  (lstm): LSTM(200, 50)\n",
              "  (linear): Linear(in_features=50, out_features=2, bias=True)\n",
              ")"
            ]
          },
          "execution_count": 10,
          "metadata": {},
          "output_type": "execute_result"
        }
      ],
      "source": [
        "INPUT_SIZE = 200\n",
        "LINEAR_OUTPUT_SIZE = 2\n",
        "\n",
        "class LstmModel(nn.Module):\n",
        "  def __init__(self):\n",
        "    super().__init__()\n",
        "    self.lstm = nn.LSTM(\n",
        "      INPUT_SIZE,\n",
        "      HIDDEN_SIZE,\n",
        "    )\n",
        "    self.linear = nn.Linear(\n",
        "      HIDDEN_SIZE, \n",
        "      LINEAR_OUTPUT_SIZE,\n",
        "    )\n",
        "\n",
        "  def forward(self, input):\n",
        "    lstm_output, _ = self.lstm(input)\n",
        "\n",
        "    linear_output = self.linear(lstm_output[-1])\n",
        "\n",
        "    return linear_output\n",
        "\n",
        "Lstm = LstmModel()\n",
        "Lstm.load_state_dict(\n",
        "  torch.load(\n",
        "    f\"{MODELS_FOLDER}/model_lstm/best/lstm_checkpoint.pth\",\n",
        "    map_location=DEVICE,\n",
        "  )['model']\n",
        ")\n",
        "\n",
        "Lstm.to(DEVICE)"
      ]
    },
    {
      "cell_type": "markdown",
      "metadata": {},
      "source": [
        "### Prediction Functions\n",
        "\n",
        "To predict for LSTM, first the inputs must be tokenized and vectorized using the CalamanCy functions. Afterwards, they are input to the model to make a prediction."
      ]
    },
    {
      "cell_type": "code",
      "execution_count": 11,
      "metadata": {},
      "outputs": [],
      "source": [
        "# Transform output into probabilities\n",
        "softmax_function = nn.Softmax(dim=1)"
      ]
    },
    {
      "cell_type": "code",
      "execution_count": 12,
      "metadata": {},
      "outputs": [],
      "source": [
        "def process_lstm(inputs: list):\n",
        "  tokens = get_calamancy_tokens(inputs)\n",
        "  vectors = get_token_vectors(tokens)\n",
        "  return vectors\n",
        "\n",
        "def predict_proba_lstm(inputs: list):\n",
        "  vectors = process_lstm(inputs)\n",
        "  preds = []\n",
        "  for sample in vectors:\n",
        "    sample = Tensor(sample).to(DEVICE)\n",
        "    sample_pred = Lstm(sample)\n",
        "    preds.append(sample_pred)\n",
        "  preds = torch.stack(preds)\n",
        "  probabilities = softmax_function(preds)\n",
        "\n",
        "  return probabilities.cpu()\n",
        "\n",
        "def predict_lstm(inputs: list):\n",
        "  probabilities = predict_proba_lstm(inputs)\n",
        "  discrete_probabilities = torch.argmax(\n",
        "    probabilities,\n",
        "    dim=1,\n",
        "  )\n",
        "  return discrete_probabilities\n"
      ]
    },
    {
      "cell_type": "markdown",
      "metadata": {},
      "source": [
        "## mBERT"
      ]
    },
    {
      "cell_type": "code",
      "execution_count": 13,
      "metadata": {},
      "outputs": [],
      "source": [
        "BERT_MODEL_NAME = \"bert-base-multilingual-uncased\""
      ]
    },
    {
      "cell_type": "markdown",
      "metadata": {},
      "source": [
        "### Loading BERT Tokenizer"
      ]
    },
    {
      "cell_type": "code",
      "execution_count": 14,
      "metadata": {},
      "outputs": [],
      "source": [
        "bert_tokenizer = BertTokenizer.from_pretrained(\n",
        "  BERT_MODEL_NAME\n",
        ")"
      ]
    },
    {
      "cell_type": "markdown",
      "metadata": {},
      "source": [
        "### Loading mBERT\n",
        "\n",
        "First, we initialize the mBERT model. Then we load the parameters learned during training."
      ]
    },
    {
      "cell_type": "code",
      "execution_count": 15,
      "metadata": {},
      "outputs": [
        {
          "name": "stderr",
          "output_type": "stream",
          "text": [
            "Some weights of BertForSequenceClassification were not initialized from the model checkpoint at bert-base-multilingual-uncased and are newly initialized: ['classifier.bias', 'classifier.weight']\n",
            "You should probably TRAIN this model on a down-stream task to be able to use it for predictions and inference.\n"
          ]
        },
        {
          "data": {
            "text/plain": [
              "<All keys matched successfully>"
            ]
          },
          "execution_count": 15,
          "metadata": {},
          "output_type": "execute_result"
        }
      ],
      "source": [
        "Bert = BertForSequenceClassification.from_pretrained(BERT_MODEL_NAME).to(DEVICE)\n",
        "Bert.load_state_dict(\n",
        "  torch.load(\n",
        "    f\"{MODELS_FOLDER}/model_bert/best/bert_checkpoint.pth\",\n",
        "    map_location=torch.device('cpu'),\n",
        "  )['model']\n",
        ")"
      ]
    },
    {
      "cell_type": "markdown",
      "metadata": {},
      "source": [
        "### Prediction Functions\n",
        "\n",
        "We use the BERT Tokenizer to get the input IDs and attention masks for the text. These are then used by BERT to make predictions."
      ]
    },
    {
      "cell_type": "code",
      "execution_count": 16,
      "metadata": {},
      "outputs": [],
      "source": [
        "def process_bert(inputs):\n",
        "    input_ids = []\n",
        "    attention_masks = []\n",
        "\n",
        "    for text in inputs:\n",
        "        # Tokenize the text\n",
        "        tokens = bert_tokenizer.tokenize(text)\n",
        "\n",
        "        # Truncate the tokens if necessary\n",
        "        if len(tokens) > BERT_MAX_LENGTH - 2:\n",
        "            tokens = tokens[:BERT_MAX_LENGTH - 2]\n",
        "\n",
        "        # Add special tokens\n",
        "        tokens = ['[CLS]'] + tokens + ['[SEP]']\n",
        "\n",
        "        # Convert tokens to token IDs\n",
        "        token_ids = bert_tokenizer.convert_tokens_to_ids(tokens)\n",
        "\n",
        "        # Pad the token IDs to BERT_MAX_LENGTH\n",
        "        padding = [0] * (BERT_MAX_LENGTH - len(token_ids))\n",
        "        token_ids += padding\n",
        "\n",
        "        # Create attention mask\n",
        "        attention_mask = [1] * len(tokens) + [0] * len(padding)\n",
        "\n",
        "        input_ids.append(token_ids)\n",
        "        attention_masks.append(attention_mask)\n",
        "\n",
        "    # Convert lists to tensors\n",
        "    input_ids = torch.tensor(input_ids).to(DEVICE)\n",
        "    attention_masks = torch.tensor(attention_masks).to(DEVICE)\n",
        "\n",
        "    return input_ids, attention_masks\n",
        "\n",
        "# Custom data loader\n",
        "def data_loader(input_ids, attention_masks, batch_size):\n",
        "    for i in range(0, len(input_ids), batch_size):\n",
        "        yield input_ids[i:i+batch_size], attention_masks[i:i+batch_size]\n",
        "\n",
        "def predict_proba_bert(inputs: list):\n",
        "  with torch.inference_mode():\n",
        "    input_ids, attention_masks = process_bert(inputs)\n",
        "\n",
        "    all_predictions = []\n",
        "    for batch_input_ids, batch_attention_masks in data_loader(input_ids, attention_masks, 5):\n",
        "      batch_input_ids = batch_input_ids.to(DEVICE)\n",
        "      batch_attention_masks = batch_attention_masks.to(DEVICE)\n",
        "\n",
        "      predictions = Bert(\n",
        "        batch_input_ids,\n",
        "        attention_mask=batch_attention_masks,\n",
        "      ).logits\n",
        "\n",
        "      probabilities = softmax_function(predictions)\n",
        "\n",
        "      all_predictions.append(probabilities)\n",
        "\n",
        "    return torch.cat(all_predictions).cpu()\n",
        "\n",
        "def predict_bert(inputs: list):\n",
        "  probabilities = predict_proba_bert(inputs)\n",
        "  discrete_probabilities = torch.argmax(\n",
        "    probabilities,\n",
        "    dim=1,\n",
        "  )\n",
        "  return discrete_probabilities"
      ]
    },
    {
      "cell_type": "markdown",
      "metadata": {},
      "source": [
        "## Logistic Regression\n",
        "\n",
        "Load the logistic regression model trained from the outputs of the other learners."
      ]
    },
    {
      "cell_type": "code",
      "execution_count": 17,
      "metadata": {},
      "outputs": [
        {
          "name": "stderr",
          "output_type": "stream",
          "text": [
            "/home/nate/miniconda3/lib/python3.9/site-packages/sklearn/base.py:348: InconsistentVersionWarning: Trying to unpickle estimator LogisticRegression from version 1.2.2 when using version 1.3.1. This might lead to breaking code or invalid results. Use at your own risk. For more info please refer to:\n",
            "https://scikit-learn.org/stable/model_persistence.html#security-maintainability-limitations\n",
            "  warnings.warn(\n"
          ]
        }
      ],
      "source": [
        "LogReg = joblib.load(f'{MODELS_FOLDER}/model_lr/best/lr.pkl')"
      ]
    },
    {
      "cell_type": "markdown",
      "metadata": {},
      "source": [
        "## Ensemble Methods\n",
        "\n",
        "These functions collectively get the predictions of each learner, be it in the form of only 0 or 1, or probabilities.\n",
        "\n",
        "`get_learner_predictions` returns an array of the shape $ (3, number\\ of \\ inputs) $. The three refers to each learner: Bernoulli NB predictions are index 0, LSTM predictions are index 1, and mBERT predictions are index 2. The outputs from each learner are either 0 (non-hate) or 1 (hate).\n",
        "\n",
        "`get_learner_predictions_proba` likewise returns an array of shape $ (3, number\\ of \\ inputs, 2) $, where the 2 refers to the probabilities of each prediction being 0 (non-hate) or 1 (hate).\n"
      ]
    },
    {
      "cell_type": "code",
      "execution_count": 18,
      "metadata": {},
      "outputs": [],
      "source": [
        "def get_learner_predictions(inputs: list):\n",
        "  bayes_pred = predict_bayes(inputs)\n",
        "  lstm_pred = predict_lstm(inputs)\n",
        "  bert_pred = predict_bert(inputs)\n",
        "\n",
        "  return np.array([\n",
        "    bayes_pred,\n",
        "    lstm_pred,\n",
        "    bert_pred,\n",
        "  ])\n",
        "\n",
        "def get_learner_predictions_proba(inputs: list):\n",
        "  bayes_pred = predict_proba_bayes(inputs)\n",
        "  lstm_pred = predict_proba_lstm(inputs)\n",
        "  bert_pred = predict_proba_bert(inputs)\n",
        "\n",
        "  return np.array([\n",
        "    bayes_pred,\n",
        "    lstm_pred.detach().numpy(),\n",
        "    bert_pred.detach().numpy(),\n",
        "  ])"
      ]
    },
    {
      "cell_type": "markdown",
      "metadata": {},
      "source": [
        "### Hard Voting\n",
        "\n",
        "Get the majority vote among learners."
      ]
    },
    {
      "cell_type": "code",
      "execution_count": 19,
      "metadata": {
        "id": "I0oqDL7Yov7T"
      },
      "outputs": [],
      "source": [
        "def hard_voting(inputs: list):\n",
        "  preds = get_learner_predictions(inputs)\n",
        "  results = np.apply_along_axis(\n",
        "      lambda x: np.bincount(x).argmax(),\n",
        "      axis=0,\n",
        "      arr=preds\n",
        "  )\n",
        "  return results"
      ]
    },
    {
      "cell_type": "markdown",
      "metadata": {},
      "source": [
        "### Soft Voting\n",
        "\n",
        "Get the average of the predicted probabilities among learners."
      ]
    },
    {
      "cell_type": "code",
      "execution_count": 20,
      "metadata": {
        "id": "T_0bxkibnipo"
      },
      "outputs": [],
      "source": [
        "def soft_voting(inputs: list):\n",
        "  preds = get_learner_predictions_proba(inputs)\n",
        "  results = np.average(\n",
        "      preds, axis=0,\n",
        "  )\n",
        "  return results"
      ]
    },
    {
      "cell_type": "markdown",
      "metadata": {},
      "source": [
        "### Stacking\n",
        "\n",
        "Use the outputs from the other learners on logistic regression to make a prediction."
      ]
    },
    {
      "cell_type": "code",
      "execution_count": 21,
      "metadata": {
        "id": "X-ALSjaisqx0"
      },
      "outputs": [],
      "source": [
        "def stacking(inputs: list):\n",
        "  preds = get_learner_predictions_proba(inputs)\n",
        "\n",
        "  # Get the individual predictions used by the model\n",
        "  preds = preds[:, :, 1:]\n",
        "\n",
        "  # Transpose so all learners' preds are on the same row\n",
        "  transposed_preds = preds.T[0]\n",
        "\n",
        "  return LogReg.predict_proba(transposed_preds)"
      ]
    },
    {
      "cell_type": "markdown",
      "metadata": {},
      "source": [
        "## Results"
      ]
    },
    {
      "cell_type": "markdown",
      "metadata": {},
      "source": [
        "### Testing"
      ]
    },
    {
      "cell_type": "code",
      "execution_count": 22,
      "metadata": {
        "colab": {
          "base_uri": "https://localhost:8080/"
        },
        "id": "abtYbIdbGp6p",
        "outputId": "c6bfd244-a6c5-499e-ff60-1ee51495b68c"
      },
      "outputs": [],
      "source": [
        "def read_csv_file(filename: str) -> pd.DataFrame:\n",
        "    try:\n",
        "        data = pd.read_csv(filename, lineterminator='\\n', usecols=range(2))\n",
        "        print(\"CSV file read successfully!\")\n",
        "        return data\n",
        "    except FileNotFoundError:\n",
        "        print(\"ERROR: File not found\")\n",
        "        exit(1)"
      ]
    },
    {
      "cell_type": "code",
      "execution_count": 23,
      "metadata": {
        "colab": {
          "base_uri": "https://localhost:8080/",
          "height": 441
        },
        "id": "_1hIJU55HTvX",
        "outputId": "7d347fb9-f665-4a69-9d8e-dbfa5f187db5"
      },
      "outputs": [
        {
          "name": "stdout",
          "output_type": "stream",
          "text": [
            "CSV file read successfully!\n"
          ]
        },
        {
          "data": {
            "text/html": [
              "<div>\n",
              "<style scoped>\n",
              "    .dataframe tbody tr th:only-of-type {\n",
              "        vertical-align: middle;\n",
              "    }\n",
              "\n",
              "    .dataframe tbody tr th {\n",
              "        vertical-align: top;\n",
              "    }\n",
              "\n",
              "    .dataframe thead th {\n",
              "        text-align: right;\n",
              "    }\n",
              "</style>\n",
              "<table border=\"1\" class=\"dataframe\">\n",
              "  <thead>\n",
              "    <tr style=\"text-align: right;\">\n",
              "      <th></th>\n",
              "      <th>text</th>\n",
              "      <th>label</th>\n",
              "    </tr>\n",
              "  </thead>\n",
              "  <tbody>\n",
              "    <tr>\n",
              "      <th>0</th>\n",
              "      <td>Hindi susuportahan ng theatre and literary est...</td>\n",
              "      <td>0</td>\n",
              "    </tr>\n",
              "    <tr>\n",
              "      <th>1</th>\n",
              "      <td>BABAE LABAN SA FAKE AT FRAUDBFFSUMBONGDAYA DES...</td>\n",
              "      <td>1</td>\n",
              "    </tr>\n",
              "    <tr>\n",
              "      <th>2</th>\n",
              "      <td>Im proud to be a Filipino and a kakampink like...</td>\n",
              "      <td>0</td>\n",
              "    </tr>\n",
              "    <tr>\n",
              "      <th>3</th>\n",
              "      <td>Grabe noThe hypocrisy of the church to preach ...</td>\n",
              "      <td>1</td>\n",
              "    </tr>\n",
              "    <tr>\n",
              "      <th>4</th>\n",
              "      <td>BBMSARAUniteam Ph Arena BBMSARA</td>\n",
              "      <td>0</td>\n",
              "    </tr>\n",
              "    <tr>\n",
              "      <th>...</th>\n",
              "      <td>...</td>\n",
              "      <td>...</td>\n",
              "    </tr>\n",
              "    <tr>\n",
              "      <th>5687</th>\n",
              "      <td>[USERNAME] Rizalito David is a good man you ca...</td>\n",
              "      <td>0</td>\n",
              "    </tr>\n",
              "    <tr>\n",
              "      <th>5688</th>\n",
              "      <td>A very famous religious cult in the Philippine...</td>\n",
              "      <td>1</td>\n",
              "    </tr>\n",
              "    <tr>\n",
              "      <th>5689</th>\n",
              "      <td>Tama sir VP Leni Di dapat iboto SI BBM Kase No...</td>\n",
              "      <td>0</td>\n",
              "    </tr>\n",
              "    <tr>\n",
              "      <th>5690</th>\n",
              "      <td>RT [USERNAME]: Mar Roxas forever arrogantI can...</td>\n",
              "      <td>1</td>\n",
              "    </tr>\n",
              "    <tr>\n",
              "      <th>5691</th>\n",
              "      <td>Let Leni Lead Kakampinks</td>\n",
              "      <td>0</td>\n",
              "    </tr>\n",
              "  </tbody>\n",
              "</table>\n",
              "<p>5692 rows × 2 columns</p>\n",
              "</div>"
            ],
            "text/plain": [
              "                                                   text  label\n",
              "0     Hindi susuportahan ng theatre and literary est...      0\n",
              "1     BABAE LABAN SA FAKE AT FRAUDBFFSUMBONGDAYA DES...      1\n",
              "2     Im proud to be a Filipino and a kakampink like...      0\n",
              "3     Grabe noThe hypocrisy of the church to preach ...      1\n",
              "4                       BBMSARAUniteam Ph Arena BBMSARA      0\n",
              "...                                                 ...    ...\n",
              "5687  [USERNAME] Rizalito David is a good man you ca...      0\n",
              "5688  A very famous religious cult in the Philippine...      1\n",
              "5689  Tama sir VP Leni Di dapat iboto SI BBM Kase No...      0\n",
              "5690  RT [USERNAME]: Mar Roxas forever arrogantI can...      1\n",
              "5691                           Let Leni Lead Kakampinks      0\n",
              "\n",
              "[5692 rows x 2 columns]"
            ]
          },
          "execution_count": 23,
          "metadata": {},
          "output_type": "execute_result"
        }
      ],
      "source": [
        "dataset_test = read_csv_file(DATASET_TEST)\n",
        "dataset_test"
      ]
    },
    {
      "cell_type": "code",
      "execution_count": 24,
      "metadata": {
        "id": "UL6nqhLwHMZO"
      },
      "outputs": [],
      "source": [
        "X_test = dataset_test['text']\n",
        "y_test = dataset_test['label']"
      ]
    },
    {
      "cell_type": "markdown",
      "metadata": {},
      "source": [
        "## Hard Voting"
      ]
    },
    {
      "cell_type": "code",
      "execution_count": 25,
      "metadata": {},
      "outputs": [
        {
          "data": {
            "text/plain": [
              "array([0, 1, 0, ..., 0, 1, 0])"
            ]
          },
          "execution_count": 25,
          "metadata": {},
          "output_type": "execute_result"
        }
      ],
      "source": [
        "hard_results = hard_voting(X_test)\n",
        "\n",
        "hard_results"
      ]
    },
    {
      "cell_type": "markdown",
      "metadata": {},
      "source": [
        "### Metrics"
      ]
    },
    {
      "cell_type": "code",
      "execution_count": 26,
      "metadata": {},
      "outputs": [
        {
          "name": "stdout",
          "output_type": "stream",
          "text": [
            "Accuracy: 0.8545326774420239\n",
            "Recall: 0.8888114325548971\n",
            "Precision: 0.8336057535142203\n",
            "F1: 0.8603238866396761\n"
          ]
        }
      ],
      "source": [
        "print(f\"Accuracy: {accuracy_score(y_test, hard_results)}\")\n",
        "print(f\"Recall: {recall_score(y_test, hard_results)}\")\n",
        "print(f\"Precision: {precision_score(y_test, hard_results)}\")\n",
        "print(f\"F1: {f1_score(y_test, hard_results)}\")"
      ]
    },
    {
      "cell_type": "markdown",
      "metadata": {},
      "source": [
        "### Confusion Matrix"
      ]
    },
    {
      "cell_type": "code",
      "execution_count": 27,
      "metadata": {},
      "outputs": [
        {
          "data": {
            "image/png": "[encoded data removed]",
            "text/plain": [
              "<Figure size 640x480 with 2 Axes>"
            ]
          },
          "metadata": {},
          "output_type": "display_data"
        }
      ],
      "source": [
        "hard_conf_matrix = confusion_matrix(y_test, hard_results)\n",
        "hard_conf_matrix_display = ConfusionMatrixDisplay(hard_conf_matrix)\n",
        "hard_conf_matrix_display.plot()\n",
        "plt.title(\"Hard Voting\")\n",
        "plt.show()"
      ]
    },
    {
      "cell_type": "markdown",
      "metadata": {},
      "source": [
        "## Soft Voting"
      ]
    },
    {
      "cell_type": "code",
      "execution_count": 28,
      "metadata": {},
      "outputs": [
        {
          "data": {
            "text/plain": [
              "array([[0.63176405, 0.36823595],\n",
              "       [0.48560062, 0.51439938],\n",
              "       [0.99263035, 0.00736966],\n",
              "       ...,\n",
              "       [0.75674968, 0.24325032],\n",
              "       [0.05780327, 0.94219671],\n",
              "       [0.99463084, 0.00536914]])"
            ]
          },
          "execution_count": 28,
          "metadata": {},
          "output_type": "execute_result"
        }
      ],
      "source": [
        "soft_results = soft_voting(X_test)\n",
        "\n",
        "soft_results"
      ]
    },
    {
      "cell_type": "markdown",
      "metadata": {},
      "source": [
        "### Metrics"
      ]
    },
    {
      "cell_type": "code",
      "execution_count": 29,
      "metadata": {},
      "outputs": [
        {
          "name": "stdout",
          "output_type": "stream",
          "text": [
            "Accuracy: 0.8545326774420239\n",
            "Recall: 0.8936911815963751\n",
            "Precision: 0.8305798509880142\n",
            "F1: 0.8609805238415045\n"
          ]
        }
      ],
      "source": [
        "soft_results_discrete = np.argmax(soft_results, axis=1)\n",
        "\n",
        "print(f\"Accuracy: {accuracy_score(y_test, soft_results_discrete)}\")\n",
        "print(f\"Recall: {recall_score(y_test, soft_results_discrete)}\")\n",
        "print(f\"Precision: {precision_score(y_test, soft_results_discrete)}\")\n",
        "print(f\"F1: {f1_score(y_test, soft_results_discrete)}\")"
      ]
    },
    {
      "cell_type": "code",
      "execution_count": 30,
      "metadata": {},
      "outputs": [
        {
          "data": {
            "image/png": "[encoded data removed]",
            "text/plain": [
              "<Figure size 640x480 with 2 Axes>"
            ]
          },
          "metadata": {},
          "output_type": "display_data"
        }
      ],
      "source": [
        "soft_conf_matrix = confusion_matrix(y_test, soft_results_discrete)\n",
        "soft_conf_matrix_display = ConfusionMatrixDisplay(soft_conf_matrix)\n",
        "soft_conf_matrix_display.plot()\n",
        "plt.title(\"Soft Voting\")\n",
        "plt.show()"
      ]
    },
    {
      "cell_type": "markdown",
      "metadata": {},
      "source": [
        "## Stacking"
      ]
    },
    {
      "cell_type": "code",
      "execution_count": 31,
      "metadata": {},
      "outputs": [
        {
          "data": {
            "text/plain": [
              "array([[0.36213769, 0.63786231],\n",
              "       [0.20860718, 0.79139282],\n",
              "       [0.99805111, 0.00194889],\n",
              "       ...,\n",
              "       [0.99519543, 0.00480457],\n",
              "       [0.01632897, 0.98367103],\n",
              "       [0.9981204 , 0.0018796 ]])"
            ]
          },
          "execution_count": 31,
          "metadata": {},
          "output_type": "execute_result"
        }
      ],
      "source": [
        "stacking_results = stacking(X_test)\n",
        "\n",
        "stacking_results"
      ]
    },
    {
      "cell_type": "markdown",
      "metadata": {},
      "source": [
        "### Metrics"
      ]
    },
    {
      "cell_type": "code",
      "execution_count": 32,
      "metadata": {},
      "outputs": [
        {
          "name": "stdout",
          "output_type": "stream",
          "text": [
            "Accuracy: 0.8620871398453971\n",
            "Recall: 0.8790519344719414\n",
            "Precision: 0.852027027027027\n",
            "F1: 0.8653285297649682\n"
          ]
        }
      ],
      "source": [
        "stacking_results_discrete = np.argmax(stacking_results, axis=1)\n",
        "\n",
        "print(f\"Accuracy: {accuracy_score(y_test, stacking_results_discrete)}\")\n",
        "print(f\"Recall: {recall_score(y_test, stacking_results_discrete)}\")\n",
        "print(f\"Precision: {precision_score(y_test, stacking_results_discrete)}\")\n",
        "print(f\"F1: {f1_score(y_test, stacking_results_discrete)}\")"
      ]
    },
    {
      "cell_type": "markdown",
      "metadata": {},
      "source": [
        "### Confusion Matrix"
      ]
    },
    {
      "cell_type": "code",
      "execution_count": 33,
      "metadata": {},
      "outputs": [
        {
          "data": {
            "image/png": "[encoded data removed]",
            "text/plain": [
              "<Figure size 640x480 with 2 Axes>"
            ]
          },
          "metadata": {},
          "output_type": "display_data"
        }
      ],
      "source": [
        "stacking_conf_matrix = confusion_matrix(y_test, stacking_results_discrete)\n",
        "stacking_conf_matrix_display = ConfusionMatrixDisplay(stacking_conf_matrix)\n",
        "stacking_conf_matrix_display.plot()\n",
        "plt.title(\"Stacking\")\n",
        "plt.show()"
      ]
    }
  ],
  "metadata": {
    "accelerator": "GPU",
    "colab": {
      "gpuType": "V100",
      "machine_shape": "hm",
      "provenance": []
    },
    "kernelspec": {
      "display_name": "Python 3",
      "name": "python3"
    },
    "language_info": {
      "codemirror_mode": {
        "name": "ipython",
        "version": 3
      },
      "file_extension": ".py",
      "mimetype": "text/x-python",
      "name": "python",
      "nbconvert_exporter": "python",
      "pygments_lexer": "ipython3",
      "version": "3.9.12"
    },
    "widgets": {
      "application/vnd.jupyter.widget-state+json": {
        "0aef155e2f5c432a958ebdc4eabfea8f": {
          "model_module": "@jupyter-widgets/controls",
          "model_module_version": "1.5.0",
          "model_name": "HTMLModel",
          "state": {
            "_dom_classes": [],
            "_model_module": "@jupyter-widgets/controls",
            "_model_module_version": "1.5.0",
            "_model_name": "HTMLModel",
            "_view_count": null,
            "_view_module": "@jupyter-widgets/controls",
            "_view_module_version": "1.5.0",
            "_view_name": "HTMLView",
            "description": "",
            "description_tooltip": null,
            "layout": "IPY_MODEL_61b7b8c78eaf4a99bef90ed98fac7876",
            "placeholder": "​",
            "style": "IPY_MODEL_a70eedbb29b2446bbe4eab5996d9c51b",
            "value": " 714M/714M [00:02&lt;00:00, 280MB/s]"
          }
        },
        "16532849f85040d5b5035df26b9d5756": {
          "model_module": "@jupyter-widgets/controls",
          "model_module_version": "1.5.0",
          "model_name": "DescriptionStyleModel",
          "state": {
            "_model_module": "@jupyter-widgets/controls",
            "_model_module_version": "1.5.0",
            "_model_name": "DescriptionStyleModel",
            "_view_count": null,
            "_view_module": "@jupyter-widgets/base",
            "_view_module_version": "1.2.0",
            "_view_name": "StyleView",
            "description_width": ""
          }
        },
        "20c8b02281ba416b977790569103b539": {
          "model_module": "@jupyter-widgets/controls",
          "model_module_version": "1.5.0",
          "model_name": "HBoxModel",
          "state": {
            "_dom_classes": [],
            "_model_module": "@jupyter-widgets/controls",
            "_model_module_version": "1.5.0",
            "_model_name": "HBoxModel",
            "_view_count": null,
            "_view_module": "@jupyter-widgets/controls",
            "_view_module_version": "1.5.0",
            "_view_name": "HBoxView",
            "box_style": "",
            "children": [
              "IPY_MODEL_ba4ca31c583f4428b9ca46feb3940666",
              "IPY_MODEL_2cfd4c6d234c4b4b8833dca2178f527c",
              "IPY_MODEL_0aef155e2f5c432a958ebdc4eabfea8f"
            ],
            "layout": "IPY_MODEL_bf85f97d51ff4a5fb4a3d5764395460e"
          }
        },
        "25f5bf17757c45f19f2038cebecf49ab": {
          "model_module": "@jupyter-widgets/controls",
          "model_module_version": "1.5.0",
          "model_name": "ProgressStyleModel",
          "state": {
            "_model_module": "@jupyter-widgets/controls",
            "_model_module_version": "1.5.0",
            "_model_name": "ProgressStyleModel",
            "_view_count": null,
            "_view_module": "@jupyter-widgets/base",
            "_view_module_version": "1.2.0",
            "_view_name": "StyleView",
            "bar_color": null,
            "description_width": ""
          }
        },
        "2cfd4c6d234c4b4b8833dca2178f527c": {
          "model_module": "@jupyter-widgets/controls",
          "model_module_version": "1.5.0",
          "model_name": "FloatProgressModel",
          "state": {
            "_dom_classes": [],
            "_model_module": "@jupyter-widgets/controls",
            "_model_module_version": "1.5.0",
            "_model_name": "FloatProgressModel",
            "_view_count": null,
            "_view_module": "@jupyter-widgets/controls",
            "_view_module_version": "1.5.0",
            "_view_name": "ProgressView",
            "bar_style": "success",
            "description": "",
            "description_tooltip": null,
            "layout": "IPY_MODEL_bc63939e46f44340a69a989f8c15b855",
            "max": 714290682,
            "min": 0,
            "orientation": "horizontal",
            "style": "IPY_MODEL_25f5bf17757c45f19f2038cebecf49ab",
            "value": 714290682
          }
        },
        "3ec9874d9ddd40039fd4028e382d8b01": {
          "model_module": "@jupyter-widgets/controls",
          "model_module_version": "1.5.0",
          "model_name": "HTMLModel",
          "state": {
            "_dom_classes": [],
            "_model_module": "@jupyter-widgets/controls",
            "_model_module_version": "1.5.0",
            "_model_name": "HTMLModel",
            "_view_count": null,
            "_view_module": "@jupyter-widgets/controls",
            "_view_module_version": "1.5.0",
            "_view_name": "HTMLView",
            "description": "",
            "description_tooltip": null,
            "layout": "IPY_MODEL_e73b68c13dc64558aaab8aefdca36124",
            "placeholder": "​",
            "style": "IPY_MODEL_16532849f85040d5b5035df26b9d5756",
            "value": "config.json: 100%"
          }
        },
        "61b7b8c78eaf4a99bef90ed98fac7876": {
          "model_module": "@jupyter-widgets/base",
          "model_module_version": "1.2.0",
          "model_name": "LayoutModel",
          "state": {
            "_model_module": "@jupyter-widgets/base",
            "_model_module_version": "1.2.0",
            "_model_name": "LayoutModel",
            "_view_count": null,
            "_view_module": "@jupyter-widgets/base",
            "_view_module_version": "1.2.0",
            "_view_name": "LayoutView",
            "align_content": null,
            "align_items": null,
            "align_self": null,
            "border": null,
            "bottom": null,
            "display": null,
            "flex": null,
            "flex_flow": null,
            "grid_area": null,
            "grid_auto_columns": null,
            "grid_auto_flow": null,
            "grid_auto_rows": null,
            "grid_column": null,
            "grid_gap": null,
            "grid_row": null,
            "grid_template_areas": null,
            "grid_template_columns": null,
            "grid_template_rows": null,
            "height": null,
            "justify_content": null,
            "justify_items": null,
            "left": null,
            "margin": null,
            "max_height": null,
            "max_width": null,
            "min_height": null,
            "min_width": null,
            "object_fit": null,
            "object_position": null,
            "order": null,
            "overflow": null,
            "overflow_x": null,
            "overflow_y": null,
            "padding": null,
            "right": null,
            "top": null,
            "visibility": null,
            "width": null
          }
        },
        "63f57f4549424c9f9271b9a3720fb4a2": {
          "model_module": "@jupyter-widgets/controls",
          "model_module_version": "1.5.0",
          "model_name": "FloatProgressModel",
          "state": {
            "_dom_classes": [],
            "_model_module": "@jupyter-widgets/controls",
            "_model_module_version": "1.5.0",
            "_model_name": "FloatProgressModel",
            "_view_count": null,
            "_view_module": "@jupyter-widgets/controls",
            "_view_module_version": "1.5.0",
            "_view_name": "ProgressView",
            "bar_style": "success",
            "description": "",
            "description_tooltip": null,
            "layout": "IPY_MODEL_aafad781e5934db6ae90ec7c03942468",
            "max": 625,
            "min": 0,
            "orientation": "horizontal",
            "style": "IPY_MODEL_6ab3db732dfa4e4e9f91bbe1736f70a3",
            "value": 625
          }
        },
        "6ab3db732dfa4e4e9f91bbe1736f70a3": {
          "model_module": "@jupyter-widgets/controls",
          "model_module_version": "1.5.0",
          "model_name": "ProgressStyleModel",
          "state": {
            "_model_module": "@jupyter-widgets/controls",
            "_model_module_version": "1.5.0",
            "_model_name": "ProgressStyleModel",
            "_view_count": null,
            "_view_module": "@jupyter-widgets/base",
            "_view_module_version": "1.2.0",
            "_view_name": "StyleView",
            "bar_color": null,
            "description_width": ""
          }
        },
        "6ae72c302ccb45b1aeda050342a4654d": {
          "model_module": "@jupyter-widgets/base",
          "model_module_version": "1.2.0",
          "model_name": "LayoutModel",
          "state": {
            "_model_module": "@jupyter-widgets/base",
            "_model_module_version": "1.2.0",
            "_model_name": "LayoutModel",
            "_view_count": null,
            "_view_module": "@jupyter-widgets/base",
            "_view_module_version": "1.2.0",
            "_view_name": "LayoutView",
            "align_content": null,
            "align_items": null,
            "align_self": null,
            "border": null,
            "bottom": null,
            "display": null,
            "flex": null,
            "flex_flow": null,
            "grid_area": null,
            "grid_auto_columns": null,
            "grid_auto_flow": null,
            "grid_auto_rows": null,
            "grid_column": null,
            "grid_gap": null,
            "grid_row": null,
            "grid_template_areas": null,
            "grid_template_columns": null,
            "grid_template_rows": null,
            "height": null,
            "justify_content": null,
            "justify_items": null,
            "left": null,
            "margin": null,
            "max_height": null,
            "max_width": null,
            "min_height": null,
            "min_width": null,
            "object_fit": null,
            "object_position": null,
            "order": null,
            "overflow": null,
            "overflow_x": null,
            "overflow_y": null,
            "padding": null,
            "right": null,
            "top": null,
            "visibility": null,
            "width": null
          }
        },
        "790dd7b6e3c5443087a09f520e09ad2c": {
          "model_module": "@jupyter-widgets/base",
          "model_module_version": "1.2.0",
          "model_name": "LayoutModel",
          "state": {
            "_model_module": "@jupyter-widgets/base",
            "_model_module_version": "1.2.0",
            "_model_name": "LayoutModel",
            "_view_count": null,
            "_view_module": "@jupyter-widgets/base",
            "_view_module_version": "1.2.0",
            "_view_name": "LayoutView",
            "align_content": null,
            "align_items": null,
            "align_self": null,
            "border": null,
            "bottom": null,
            "display": null,
            "flex": null,
            "flex_flow": null,
            "grid_area": null,
            "grid_auto_columns": null,
            "grid_auto_flow": null,
            "grid_auto_rows": null,
            "grid_column": null,
            "grid_gap": null,
            "grid_row": null,
            "grid_template_areas": null,
            "grid_template_columns": null,
            "grid_template_rows": null,
            "height": null,
            "justify_content": null,
            "justify_items": null,
            "left": null,
            "margin": null,
            "max_height": null,
            "max_width": null,
            "min_height": null,
            "min_width": null,
            "object_fit": null,
            "object_position": null,
            "order": null,
            "overflow": null,
            "overflow_x": null,
            "overflow_y": null,
            "padding": null,
            "right": null,
            "top": null,
            "visibility": null,
            "width": null
          }
        },
        "86ee816db0ed4fa8939c2471f4996b4e": {
          "model_module": "@jupyter-widgets/base",
          "model_module_version": "1.2.0",
          "model_name": "LayoutModel",
          "state": {
            "_model_module": "@jupyter-widgets/base",
            "_model_module_version": "1.2.0",
            "_model_name": "LayoutModel",
            "_view_count": null,
            "_view_module": "@jupyter-widgets/base",
            "_view_module_version": "1.2.0",
            "_view_name": "LayoutView",
            "align_content": null,
            "align_items": null,
            "align_self": null,
            "border": null,
            "bottom": null,
            "display": null,
            "flex": null,
            "flex_flow": null,
            "grid_area": null,
            "grid_auto_columns": null,
            "grid_auto_flow": null,
            "grid_auto_rows": null,
            "grid_column": null,
            "grid_gap": null,
            "grid_row": null,
            "grid_template_areas": null,
            "grid_template_columns": null,
            "grid_template_rows": null,
            "height": null,
            "justify_content": null,
            "justify_items": null,
            "left": null,
            "margin": null,
            "max_height": null,
            "max_width": null,
            "min_height": null,
            "min_width": null,
            "object_fit": null,
            "object_position": null,
            "order": null,
            "overflow": null,
            "overflow_x": null,
            "overflow_y": null,
            "padding": null,
            "right": null,
            "top": null,
            "visibility": null,
            "width": null
          }
        },
        "a70eedbb29b2446bbe4eab5996d9c51b": {
          "model_module": "@jupyter-widgets/controls",
          "model_module_version": "1.5.0",
          "model_name": "DescriptionStyleModel",
          "state": {
            "_model_module": "@jupyter-widgets/controls",
            "_model_module_version": "1.5.0",
            "_model_name": "DescriptionStyleModel",
            "_view_count": null,
            "_view_module": "@jupyter-widgets/base",
            "_view_module_version": "1.2.0",
            "_view_name": "StyleView",
            "description_width": ""
          }
        },
        "a7df646dba064721936fd2f5292a18b0": {
          "model_module": "@jupyter-widgets/controls",
          "model_module_version": "1.5.0",
          "model_name": "DescriptionStyleModel",
          "state": {
            "_model_module": "@jupyter-widgets/controls",
            "_model_module_version": "1.5.0",
            "_model_name": "DescriptionStyleModel",
            "_view_count": null,
            "_view_module": "@jupyter-widgets/base",
            "_view_module_version": "1.2.0",
            "_view_name": "StyleView",
            "description_width": ""
          }
        },
        "a84fa44c93044280aabad8b80d80918c": {
          "model_module": "@jupyter-widgets/controls",
          "model_module_version": "1.5.0",
          "model_name": "HBoxModel",
          "state": {
            "_dom_classes": [],
            "_model_module": "@jupyter-widgets/controls",
            "_model_module_version": "1.5.0",
            "_model_name": "HBoxModel",
            "_view_count": null,
            "_view_module": "@jupyter-widgets/controls",
            "_view_module_version": "1.5.0",
            "_view_name": "HBoxView",
            "box_style": "",
            "children": [
              "IPY_MODEL_3ec9874d9ddd40039fd4028e382d8b01",
              "IPY_MODEL_63f57f4549424c9f9271b9a3720fb4a2",
              "IPY_MODEL_b4649112924441f1af5263ada125efd6"
            ],
            "layout": "IPY_MODEL_86ee816db0ed4fa8939c2471f4996b4e"
          }
        },
        "aafad781e5934db6ae90ec7c03942468": {
          "model_module": "@jupyter-widgets/base",
          "model_module_version": "1.2.0",
          "model_name": "LayoutModel",
          "state": {
            "_model_module": "@jupyter-widgets/base",
            "_model_module_version": "1.2.0",
            "_model_name": "LayoutModel",
            "_view_count": null,
            "_view_module": "@jupyter-widgets/base",
            "_view_module_version": "1.2.0",
            "_view_name": "LayoutView",
            "align_content": null,
            "align_items": null,
            "align_self": null,
            "border": null,
            "bottom": null,
            "display": null,
            "flex": null,
            "flex_flow": null,
            "grid_area": null,
            "grid_auto_columns": null,
            "grid_auto_flow": null,
            "grid_auto_rows": null,
            "grid_column": null,
            "grid_gap": null,
            "grid_row": null,
            "grid_template_areas": null,
            "grid_template_columns": null,
            "grid_template_rows": null,
            "height": null,
            "justify_content": null,
            "justify_items": null,
            "left": null,
            "margin": null,
            "max_height": null,
            "max_width": null,
            "min_height": null,
            "min_width": null,
            "object_fit": null,
            "object_position": null,
            "order": null,
            "overflow": null,
            "overflow_x": null,
            "overflow_y": null,
            "padding": null,
            "right": null,
            "top": null,
            "visibility": null,
            "width": null
          }
        },
        "b4649112924441f1af5263ada125efd6": {
          "model_module": "@jupyter-widgets/controls",
          "model_module_version": "1.5.0",
          "model_name": "HTMLModel",
          "state": {
            "_dom_classes": [],
            "_model_module": "@jupyter-widgets/controls",
            "_model_module_version": "1.5.0",
            "_model_name": "HTMLModel",
            "_view_count": null,
            "_view_module": "@jupyter-widgets/controls",
            "_view_module_version": "1.5.0",
            "_view_name": "HTMLView",
            "description": "",
            "description_tooltip": null,
            "layout": "IPY_MODEL_6ae72c302ccb45b1aeda050342a4654d",
            "placeholder": "​",
            "style": "IPY_MODEL_c50bcc263d924a62aa45b8e1dacc7346",
            "value": " 625/625 [00:00&lt;00:00, 48.2kB/s]"
          }
        },
        "ba4ca31c583f4428b9ca46feb3940666": {
          "model_module": "@jupyter-widgets/controls",
          "model_module_version": "1.5.0",
          "model_name": "HTMLModel",
          "state": {
            "_dom_classes": [],
            "_model_module": "@jupyter-widgets/controls",
            "_model_module_version": "1.5.0",
            "_model_name": "HTMLModel",
            "_view_count": null,
            "_view_module": "@jupyter-widgets/controls",
            "_view_module_version": "1.5.0",
            "_view_name": "HTMLView",
            "description": "",
            "description_tooltip": null,
            "layout": "IPY_MODEL_790dd7b6e3c5443087a09f520e09ad2c",
            "placeholder": "​",
            "style": "IPY_MODEL_a7df646dba064721936fd2f5292a18b0",
            "value": "model.safetensors: 100%"
          }
        },
        "bc63939e46f44340a69a989f8c15b855": {
          "model_module": "@jupyter-widgets/base",
          "model_module_version": "1.2.0",
          "model_name": "LayoutModel",
          "state": {
            "_model_module": "@jupyter-widgets/base",
            "_model_module_version": "1.2.0",
            "_model_name": "LayoutModel",
            "_view_count": null,
            "_view_module": "@jupyter-widgets/base",
            "_view_module_version": "1.2.0",
            "_view_name": "LayoutView",
            "align_content": null,
            "align_items": null,
            "align_self": null,
            "border": null,
            "bottom": null,
            "display": null,
            "flex": null,
            "flex_flow": null,
            "grid_area": null,
            "grid_auto_columns": null,
            "grid_auto_flow": null,
            "grid_auto_rows": null,
            "grid_column": null,
            "grid_gap": null,
            "grid_row": null,
            "grid_template_areas": null,
            "grid_template_columns": null,
            "grid_template_rows": null,
            "height": null,
            "justify_content": null,
            "justify_items": null,
            "left": null,
            "margin": null,
            "max_height": null,
            "max_width": null,
            "min_height": null,
            "min_width": null,
            "object_fit": null,
            "object_position": null,
            "order": null,
            "overflow": null,
            "overflow_x": null,
            "overflow_y": null,
            "padding": null,
            "right": null,
            "top": null,
            "visibility": null,
            "width": null
          }
        },
        "bf85f97d51ff4a5fb4a3d5764395460e": {
          "model_module": "@jupyter-widgets/base",
          "model_module_version": "1.2.0",
          "model_name": "LayoutModel",
          "state": {
            "_model_module": "@jupyter-widgets/base",
            "_model_module_version": "1.2.0",
            "_model_name": "LayoutModel",
            "_view_count": null,
            "_view_module": "@jupyter-widgets/base",
            "_view_module_version": "1.2.0",
            "_view_name": "LayoutView",
            "align_content": null,
            "align_items": null,
            "align_self": null,
            "border": null,
            "bottom": null,
            "display": null,
            "flex": null,
            "flex_flow": null,
            "grid_area": null,
            "grid_auto_columns": null,
            "grid_auto_flow": null,
            "grid_auto_rows": null,
            "grid_column": null,
            "grid_gap": null,
            "grid_row": null,
            "grid_template_areas": null,
            "grid_template_columns": null,
            "grid_template_rows": null,
            "height": null,
            "justify_content": null,
            "justify_items": null,
            "left": null,
            "margin": null,
            "max_height": null,
            "max_width": null,
            "min_height": null,
            "min_width": null,
            "object_fit": null,
            "object_position": null,
            "order": null,
            "overflow": null,
            "overflow_x": null,
            "overflow_y": null,
            "padding": null,
            "right": null,
            "top": null,
            "visibility": null,
            "width": null
          }
        },
        "c50bcc263d924a62aa45b8e1dacc7346": {
          "model_module": "@jupyter-widgets/controls",
          "model_module_version": "1.5.0",
          "model_name": "DescriptionStyleModel",
          "state": {
            "_model_module": "@jupyter-widgets/controls",
            "_model_module_version": "1.5.0",
            "_model_name": "DescriptionStyleModel",
            "_view_count": null,
            "_view_module": "@jupyter-widgets/base",
            "_view_module_version": "1.2.0",
            "_view_name": "StyleView",
            "description_width": ""
          }
        },
        "e73b68c13dc64558aaab8aefdca36124": {
          "model_module": "@jupyter-widgets/base",
          "model_module_version": "1.2.0",
          "model_name": "LayoutModel",
          "state": {
            "_model_module": "@jupyter-widgets/base",
            "_model_module_version": "1.2.0",
            "_model_name": "LayoutModel",
            "_view_count": null,
            "_view_module": "@jupyter-widgets/base",
            "_view_module_version": "1.2.0",
            "_view_name": "LayoutView",
            "align_content": null,
            "align_items": null,
            "align_self": null,
            "border": null,
            "bottom": null,
            "display": null,
            "flex": null,
            "flex_flow": null,
            "grid_area": null,
            "grid_auto_columns": null,
            "grid_auto_flow": null,
            "grid_auto_rows": null,
            "grid_column": null,
            "grid_gap": null,
            "grid_row": null,
            "grid_template_areas": null,
            "grid_template_columns": null,
            "grid_template_rows": null,
            "height": null,
            "justify_content": null,
            "justify_items": null,
            "left": null,
            "margin": null,
            "max_height": null,
            "max_width": null,
            "min_height": null,
            "min_width": null,
            "object_fit": null,
            "object_position": null,
            "order": null,
            "overflow": null,
            "overflow_x": null,
            "overflow_y": null,
            "padding": null,
            "right": null,
            "top": null,
            "visibility": null,
            "width": null
          }
        }
      }
    }
  },
  "nbformat": 4,
  "nbformat_minor": 0
}
