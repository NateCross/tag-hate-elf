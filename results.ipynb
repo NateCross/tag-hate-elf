{
 "cells": [
  {
   "cell_type": "markdown",
   "metadata": {},
   "source": [
    "# Results\n",
    "\n",
    "This Jupyter notebook is designed to demonstrate the loading of three distinct trained ensemble models, perform predictions on new data, and evaluate these predictions using several metrics: accuracy, recall, precision, and F1 score. The process encompasses obtaining predictions from individual learners within each ensemble and aggregating these predictions to form the final ensemble predictions. The evaluation metrics provide a comprehensive understanding of the ensemble models' performance on the given dataset.\n"
   ]
  },
  {
   "cell_type": "markdown",
   "metadata": {},
   "source": [
    "## Import Required Libraries\n",
    "\n",
    "First, we import all necessary libraries and modules. This includes standard data processing and machine learning libraries such as NumPy and joblib for model loading, and specific functions from scikit-learn for ensemble methods and metrics. We also suppress warnings to keep the notebook clean and more readable."
   ]
  },
  {
   "cell_type": "code",
   "execution_count": 38,
   "metadata": {},
   "outputs": [],
   "source": [
    "import warnings\n",
    "warnings.filterwarnings('ignore')\n",
    "from sklearn.ensemble import VotingClassifier\n",
    "from sklearn.metrics import accuracy_score, recall_score, precision_score, f1_score\n",
    "import joblib\n",
    "import numpy as np\n",
    "import pandas as pd\n",
    "import torch\n",
    "from sklearn.model_selection import train_test_split\n",
    "import gc\n",
    "from sklearn.metrics import (\n",
    "    accuracy_score, \n",
    "    recall_score, \n",
    "    precision_score, \n",
    "    f1_score\n",
    ")\n",
    "import matplotlib.pyplot as plt\n"
   ]
  },
  {
   "cell_type": "markdown",
   "metadata": {},
   "source": [
    "## Load Dataset"
   ]
  },
  {
   "cell_type": "code",
   "execution_count": 39,
   "metadata": {},
   "outputs": [
    {
     "data": {
      "text/html": [
       "<div>\n",
       "<style scoped>\n",
       "    .dataframe tbody tr th:only-of-type {\n",
       "        vertical-align: middle;\n",
       "    }\n",
       "\n",
       "    .dataframe tbody tr th {\n",
       "        vertical-align: top;\n",
       "    }\n",
       "\n",
       "    .dataframe thead th {\n",
       "        text-align: right;\n",
       "    }\n",
       "</style>\n",
       "<table border=\"1\" class=\"dataframe\">\n",
       "  <thead>\n",
       "    <tr style=\"text-align: right;\">\n",
       "      <th></th>\n",
       "      <th>text</th>\n",
       "      <th>label</th>\n",
       "      <th>Unnamed: 2</th>\n",
       "    </tr>\n",
       "  </thead>\n",
       "  <tbody>\n",
       "    <tr>\n",
       "      <th>0</th>\n",
       "      <td>Binay: Patuloy ang kahirapan dahil sa maling p...</td>\n",
       "      <td>0.0</td>\n",
       "      <td>NaN</td>\n",
       "    </tr>\n",
       "    <tr>\n",
       "      <th>1</th>\n",
       "      <td>SA GOBYERNONG TAPAT WELCOME SA BAGUO ANG LAHAT...</td>\n",
       "      <td>0.0</td>\n",
       "      <td>NaN</td>\n",
       "    </tr>\n",
       "    <tr>\n",
       "      <th>2</th>\n",
       "      <td>wait so ur telling me Let Leni Lead mo pero NY...</td>\n",
       "      <td>1.0</td>\n",
       "      <td>NaN</td>\n",
       "    </tr>\n",
       "    <tr>\n",
       "      <th>3</th>\n",
       "      <td>[USERNAME]wish this is just a nightmare that ...</td>\n",
       "      <td>0.0</td>\n",
       "      <td>NaN</td>\n",
       "    </tr>\n",
       "    <tr>\n",
       "      <th>4</th>\n",
       "      <td>doc willie ong and isko sabunutan po</td>\n",
       "      <td>0.0</td>\n",
       "      <td>NaN</td>\n",
       "    </tr>\n",
       "    <tr>\n",
       "      <th>...</th>\n",
       "      <td>...</td>\n",
       "      <td>...</td>\n",
       "      <td>...</td>\n",
       "    </tr>\n",
       "    <tr>\n",
       "      <th>28455</th>\n",
       "      <td>Bisaya, Probinsyano/a, mostly Bisaya = katulong</td>\n",
       "      <td>1.0</td>\n",
       "      <td>NaN</td>\n",
       "    </tr>\n",
       "    <tr>\n",
       "      <th>28456</th>\n",
       "      <td>Amnesia. In my whole life wala pa ako nakasala...</td>\n",
       "      <td>1.0</td>\n",
       "      <td>NaN</td>\n",
       "    </tr>\n",
       "    <tr>\n",
       "      <th>28457</th>\n",
       "      <td>Kontrabida na ilang beses na tinalo at obvious...</td>\n",
       "      <td>1.0</td>\n",
       "      <td>NaN</td>\n",
       "    </tr>\n",
       "    <tr>\n",
       "      <th>28458</th>\n",
       "      <td>Yung antagonist laging kailangang sobrang sama...</td>\n",
       "      <td>1.0</td>\n",
       "      <td>NaN</td>\n",
       "    </tr>\n",
       "    <tr>\n",
       "      <th>28459</th>\n",
       "      <td>May nabaril or nasaksak na pero 'di pa tatawag...</td>\n",
       "      <td>1.0</td>\n",
       "      <td>NaN</td>\n",
       "    </tr>\n",
       "  </tbody>\n",
       "</table>\n",
       "<p>28460 rows × 3 columns</p>\n",
       "</div>"
      ],
      "text/plain": [
       "                                                    text  label  Unnamed: 2\n",
       "0      Binay: Patuloy ang kahirapan dahil sa maling p...    0.0         NaN\n",
       "1      SA GOBYERNONG TAPAT WELCOME SA BAGUO ANG LAHAT...    0.0         NaN\n",
       "2      wait so ur telling me Let Leni Lead mo pero NY...    1.0         NaN\n",
       "3       [USERNAME]wish this is just a nightmare that ...    0.0         NaN\n",
       "4                   doc willie ong and isko sabunutan po    0.0         NaN\n",
       "...                                                  ...    ...         ...\n",
       "28455    Bisaya, Probinsyano/a, mostly Bisaya = katulong    1.0         NaN\n",
       "28456  Amnesia. In my whole life wala pa ako nakasala...    1.0         NaN\n",
       "28457  Kontrabida na ilang beses na tinalo at obvious...    1.0         NaN\n",
       "28458  Yung antagonist laging kailangang sobrang sama...    1.0         NaN\n",
       "28459  May nabaril or nasaksak na pero 'di pa tatawag...    1.0         NaN\n",
       "\n",
       "[28460 rows x 3 columns]"
      ]
     },
     "execution_count": 39,
     "metadata": {},
     "output_type": "execute_result"
    }
   ],
   "source": [
    "def read_csv_file(filename: str) -> pd.DataFrame:\n",
    "    \"\"\"\n",
    "    Read the given file. Raises an error and quits script\n",
    "    if the file does not exist.\n",
    "\n",
    "    Args:\n",
    "        filename (str): A string filename. Must be a csv file.\n",
    "\n",
    "    Returns:\n",
    "        pd.DataFrame: A pandas data frame whose data can be\n",
    "            manipulated\n",
    "    \"\"\"\n",
    "    try:\n",
    "        return pd.read_csv(\n",
    "            filename, \n",
    "            lineterminator='\\n',\n",
    "            dtype={\n",
    "                'label': float,\n",
    "            },\n",
    "        )\n",
    "    except FileNotFoundError:\n",
    "        print(\"ERROR: File not found\")\n",
    "        exit(1)\n",
    "\n",
    "csv = read_csv_file('datasets/combined-hate-tagalog-taglish.csv')\n",
    "\n",
    "csv"
   ]
  },
  {
   "cell_type": "markdown",
   "metadata": {},
   "source": [
    "### Get Test Data"
   ]
  },
  {
   "cell_type": "code",
   "execution_count": 40,
   "metadata": {},
   "outputs": [],
   "source": [
    "def get_train_test_split(data_frame: pd.DataFrame):\n",
    "    \"\"\"\n",
    "    Args:\n",
    "        data_frame (pd.DataFrame): The data frame obtained from\n",
    "            reading a csv file\n",
    "    Returns:\n",
    "        X_train\n",
    "        X_test\n",
    "        y_train\n",
    "        y_test\n",
    "    \"\"\"\n",
    "    text = data_frame['text']\n",
    "    labels = data_frame['label']\n",
    "\n",
    "    labels = np.array(labels)\n",
    "\n",
    "    X_train, X_test, y_train, y_test = train_test_split(\n",
    "        text, \n",
    "        labels, \n",
    "        test_size=0.2,  # 80/20 train/test split\n",
    "        random_state=42,\n",
    "    )\n",
    "\n",
    "    return X_train, X_test, y_train, y_test\n",
    "\n",
    "_, X_test, _, y_test = get_train_test_split(csv)"
   ]
  },
  {
   "cell_type": "code",
   "execution_count": 41,
   "metadata": {},
   "outputs": [
    {
     "data": {
      "text/plain": [
       "8374     Grabe andami ads ni Only Binay kawawa nmn taxe...\n",
       "12922    LOOK Presidential candidate Ka Leody de Guzman...\n",
       "18002    [USERNAME] Not like that Wharton-bred Mar Roxa...\n",
       "26027    Uso mag move on [USERNAME] Roxas Quit Now POE2016\n",
       "16004    [USERNAME] Mar Roxas and Binay. Both turned do...\n",
       "                               ...                        \n",
       "5418     Wala naman kasing maibibintang sayo kung walan...\n",
       "28442    Maaga plng ba? Ang iingay ng mga tumatakbo sa ...\n",
       "1977      [USERNAME] Oct Leody de Guzman should foster ...\n",
       "27198    This is the most puzzling thing! No. 1 sa blac...\n",
       "9098     Mr. Perfectly Fine [USERNAME] Enabler Never Ag...\n",
       "Name: text, Length: 5692, dtype: object"
      ]
     },
     "execution_count": 41,
     "metadata": {},
     "output_type": "execute_result"
    }
   ],
   "source": [
    "X_test"
   ]
  },
  {
   "cell_type": "code",
   "execution_count": 42,
   "metadata": {},
   "outputs": [
    {
     "data": {
      "text/plain": [
       "array([1., 0., 1., ..., 0., 0., 1.])"
      ]
     },
     "execution_count": 42,
     "metadata": {},
     "output_type": "execute_result"
    }
   ],
   "source": [
    "y_test"
   ]
  },
  {
   "cell_type": "markdown",
   "metadata": {},
   "source": [
    "## Results Functions"
   ]
  },
  {
   "cell_type": "code",
   "execution_count": 43,
   "metadata": {},
   "outputs": [],
   "source": [
    "def get_ensemble_results(X_test: list, y_test: list, ensemble):\n",
    "    \"\"\"\n",
    "    Predict with the trained ensemble using the csv data.\n",
    "    Gives quantifiable results.\n",
    "\n",
    "    Args:\n",
    "        X_test: From the csv after train-test split\n",
    "        y_test: From the csv after train-test split\n",
    "        ensemble (VotingClassifier | StackingClassifier):\n",
    "            A trained hard voting, soft voting, or stacking \n",
    "            ensemble from scikit-learn\n",
    "\n",
    "    Returns:\n",
    "        accuracy (float)\n",
    "        recall (float)\n",
    "        precision (float)\n",
    "        f1 (float)\n",
    "    \"\"\"\n",
    "    with torch.inference_mode():\n",
    "        y_pred = ensemble.predict(X_test)\n",
    "        accuracy = accuracy_score(y_test, y_pred)\n",
    "        recall = recall_score(y_test, y_pred)\n",
    "        precision = precision_score(y_test, y_pred)\n",
    "        f1 = f1_score(y_test, y_pred)\n",
    "        return accuracy, recall, precision, f1"
   ]
  },
  {
   "cell_type": "code",
   "execution_count": 51,
   "metadata": {},
   "outputs": [],
   "source": [
    "def get_learner_results(X_test: list, y_test: list, ensemble):\n",
    "    with torch.inference_mode():\n",
    "        predictions = []\n",
    "        for estimator in ensemble.estimators_:\n",
    "            y_pred = estimator.predict(X_test)\n",
    "            estimator_results = []\n",
    "            estimator_results.append(accuracy_score(y_test, y_pred))\n",
    "            estimator_results.append(recall_score(y_test, y_pred))\n",
    "            estimator_results.append(precision_score(y_test, y_pred))\n",
    "            estimator_results.append(f1_score(y_test, y_pred))\n",
    "            predictions.append(estimator_results)\n",
    "        return predictions"
   ]
  },
  {
   "cell_type": "code",
   "execution_count": 45,
   "metadata": {},
   "outputs": [],
   "source": [
    "## Results Display Functions"
   ]
  },
  {
   "cell_type": "code",
   "execution_count": 80,
   "metadata": {},
   "outputs": [],
   "source": [
    "def plot_grouped_bar_graph(data, labels, title=\"Performance Metrics\"):\n",
    "    data = np.array(data).T\n",
    "    groups = len(data)\n",
    "    num_of_bars = len(data[0])\n",
    "    bar_width = 0.2\n",
    "    bar_locations = np.arange(num_of_bars)\n",
    "    bar_names = ('Accuracy', 'Precision', 'Recall', 'F1-score')\n",
    "\n",
    "    # Create subplot\n",
    "    fig, ax = plt.subplots()\n",
    "    \n",
    "    for i in range(groups):\n",
    "        bars = ax.bar(bar_locations + i * bar_width, data[i], width=bar_width, label=bar_names[i])\n",
    "        ax.bar_label(bars, fmt='%.2f', fontsize='small')\n",
    "\n",
    "    ax.set_xlabel('Learners')\n",
    "    ax.set_ylabel('Scores')\n",
    "    ax.set_title(title)\n",
    "    ax.set_xticks(bar_locations + 0.3, labels)\n",
    "    ax.set_xticklabels(labels)\n",
    "    ax.legend()\n",
    "    \n",
    "    plt.show()\n",
    "\n",
    "learner_labels = ['Bernoulli Naive Bayes', 'LSTM', 'mBERT']"
   ]
  },
  {
   "cell_type": "markdown",
   "metadata": {},
   "source": [
    "## Load Ensemble Models\n",
    "\n",
    "Here, we load the pre-trained ensemble models from their respective files. These models have been saved previously using the joblib library, which allows for easy storage and loading of Python objects. Ensure that the paths to the model files ('ensemble1.pkl', 'ensemble2.pkl', 'ensemble3.pkl') are correct and accessible."
   ]
  },
  {
   "cell_type": "markdown",
   "metadata": {},
   "source": [
    "### Hard Ensemble"
   ]
  },
  {
   "cell_type": "code",
   "execution_count": 47,
   "metadata": {},
   "outputs": [
    {
     "data": {
      "text/html": [
       "<style>#sk-container-id-1 {color: black;}#sk-container-id-1 pre{padding: 0;}#sk-container-id-1 div.sk-toggleable {background-color: white;}#sk-container-id-1 label.sk-toggleable__label {cursor: pointer;display: block;width: 100%;margin-bottom: 0;padding: 0.3em;box-sizing: border-box;text-align: center;}#sk-container-id-1 label.sk-toggleable__label-arrow:before {content: \"▸\";float: left;margin-right: 0.25em;color: #696969;}#sk-container-id-1 label.sk-toggleable__label-arrow:hover:before {color: black;}#sk-container-id-1 div.sk-estimator:hover label.sk-toggleable__label-arrow:before {color: black;}#sk-container-id-1 div.sk-toggleable__content {max-height: 0;max-width: 0;overflow: hidden;text-align: left;background-color: #f0f8ff;}#sk-container-id-1 div.sk-toggleable__content pre {margin: 0.2em;color: black;border-radius: 0.25em;background-color: #f0f8ff;}#sk-container-id-1 input.sk-toggleable__control:checked~div.sk-toggleable__content {max-height: 200px;max-width: 100%;overflow: auto;}#sk-container-id-1 input.sk-toggleable__control:checked~label.sk-toggleable__label-arrow:before {content: \"▾\";}#sk-container-id-1 div.sk-estimator input.sk-toggleable__control:checked~label.sk-toggleable__label {background-color: #d4ebff;}#sk-container-id-1 div.sk-label input.sk-toggleable__control:checked~label.sk-toggleable__label {background-color: #d4ebff;}#sk-container-id-1 input.sk-hidden--visually {border: 0;clip: rect(1px 1px 1px 1px);clip: rect(1px, 1px, 1px, 1px);height: 1px;margin: -1px;overflow: hidden;padding: 0;position: absolute;width: 1px;}#sk-container-id-1 div.sk-estimator {font-family: monospace;background-color: #f0f8ff;border: 1px dotted black;border-radius: 0.25em;box-sizing: border-box;margin-bottom: 0.5em;}#sk-container-id-1 div.sk-estimator:hover {background-color: #d4ebff;}#sk-container-id-1 div.sk-parallel-item::after {content: \"\";width: 100%;border-bottom: 1px solid gray;flex-grow: 1;}#sk-container-id-1 div.sk-label:hover label.sk-toggleable__label {background-color: #d4ebff;}#sk-container-id-1 div.sk-serial::before {content: \"\";position: absolute;border-left: 1px solid gray;box-sizing: border-box;top: 0;bottom: 0;left: 50%;z-index: 0;}#sk-container-id-1 div.sk-serial {display: flex;flex-direction: column;align-items: center;background-color: white;padding-right: 0.2em;padding-left: 0.2em;position: relative;}#sk-container-id-1 div.sk-item {position: relative;z-index: 1;}#sk-container-id-1 div.sk-parallel {display: flex;align-items: stretch;justify-content: center;background-color: white;position: relative;}#sk-container-id-1 div.sk-item::before, #sk-container-id-1 div.sk-parallel-item::before {content: \"\";position: absolute;border-left: 1px solid gray;box-sizing: border-box;top: 0;bottom: 0;left: 50%;z-index: -1;}#sk-container-id-1 div.sk-parallel-item {display: flex;flex-direction: column;z-index: 1;position: relative;background-color: white;}#sk-container-id-1 div.sk-parallel-item:first-child::after {align-self: flex-end;width: 50%;}#sk-container-id-1 div.sk-parallel-item:last-child::after {align-self: flex-start;width: 50%;}#sk-container-id-1 div.sk-parallel-item:only-child::after {width: 0;}#sk-container-id-1 div.sk-dashed-wrapped {border: 1px dashed gray;margin: 0 0.4em 0.5em 0.4em;box-sizing: border-box;padding-bottom: 0.4em;background-color: white;}#sk-container-id-1 div.sk-label label {font-family: monospace;font-weight: bold;display: inline-block;line-height: 1.2em;}#sk-container-id-1 div.sk-label-container {text-align: center;}#sk-container-id-1 div.sk-container {/* jupyter's `normalize.less` sets `[hidden] { display: none; }` but bootstrap.min.css set `[hidden] { display: none !important; }` so we also need the `!important` here to be able to override the default hidden behavior on the sphinx rendered scikit-learn.org. See: https://github.com/scikit-learn/scikit-learn/issues/21755 */display: inline-block !important;position: relative;}#sk-container-id-1 div.sk-text-repr-fallback {display: none;}</style><div id=\"sk-container-id-1\" class=\"sk-top-container\"><div class=\"sk-text-repr-fallback\"><pre>VotingClassifier(estimators=[(&#x27;nb&#x27;,\n",
       "                              Pipeline(steps=[(&#x27;tfidf&#x27;,\n",
       "                                               TfidfVectorizer(stop_words=[&#x27;akin&#x27;,\n",
       "                                                                           &#x27;aking&#x27;,\n",
       "                                                                           &#x27;ako&#x27;,\n",
       "                                                                           &#x27;alin&#x27;,\n",
       "                                                                           &#x27;am&#x27;,\n",
       "                                                                           &#x27;amin&#x27;,\n",
       "                                                                           &#x27;aming&#x27;,\n",
       "                                                                           &#x27;ang&#x27;,\n",
       "                                                                           &#x27;ano&#x27;,\n",
       "                                                                           &#x27;anumang&#x27;,\n",
       "                                                                           &#x27;apat&#x27;,\n",
       "                                                                           &#x27;at&#x27;,\n",
       "                                                                           &#x27;atin&#x27;,\n",
       "                                                                           &#x27;ating&#x27;,\n",
       "                                                                           &#x27;ay&#x27;,\n",
       "                                                                           &#x27;bababa&#x27;,\n",
       "                                                                           &#x27;bago&#x27;,\n",
       "                                                                           &#x27;bakit&#x27;,\n",
       "                                                                           &#x27;bawat&#x27;,\n",
       "                                                                           &#x27;bilang&#x27;,\n",
       "                                                                           &#x27;dahil&#x27;,\n",
       "                                                                           &#x27;dalawa&#x27;,\n",
       "                                                                           &#x27;dapat&#x27;,\n",
       "                                                                           &#x27;din&#x27;,\n",
       "                                                                           &#x27;dito&#x27;,\n",
       "                                                                           &#x27;doon&#x27;,\n",
       "                                                                           &#x27;gagawin&#x27;,\n",
       "                                                                           &#x27;gayunman&#x27;,\n",
       "                                                                           &#x27;ginagawa&#x27;,\n",
       "                                                                           &#x27;ginawa&#x27;, ...])),\n",
       "                                              (&#x27;bayes&#x27;, BernoulliNB())]))...\n",
       "                                               &lt;class &#x27;skorch.classifier.NeuralNetClassifier&#x27;&gt;[uninitialized](\n",
       "  module=&lt;class &#x27;src.LSTM.LstmModel&#x27;&gt;,\n",
       "  module__hidden_size=400,\n",
       "))])),\n",
       "                             (&#x27;bert&#x27;,\n",
       "                              Pipeline(steps=[(&#x27;tokenizer&#x27;,\n",
       "                                               HuggingfacePretrainedTokenizer(max_length=255,\n",
       "                                                                              tokenizer=&#x27;bert-base-multilingual-cased&#x27;)),\n",
       "                                              (&#x27;bert&#x27;,\n",
       "                                               &lt;class &#x27;skorch.classifier.NeuralNetClassifier&#x27;&gt;[uninitialized](\n",
       "  module=&lt;class &#x27;src.BERT.BertModel&#x27;&gt;,\n",
       "))]))])</pre><b>In a Jupyter environment, please rerun this cell to show the HTML representation or trust the notebook. <br />On GitHub, the HTML representation is unable to render, please try loading this page with nbviewer.org.</b></div><div class=\"sk-container\" hidden><div class=\"sk-item sk-dashed-wrapped\"><div class=\"sk-label-container\"><div class=\"sk-label sk-toggleable\"><input class=\"sk-toggleable__control sk-hidden--visually\" id=\"sk-estimator-id-1\" type=\"checkbox\" ><label for=\"sk-estimator-id-1\" class=\"sk-toggleable__label sk-toggleable__label-arrow\">VotingClassifier</label><div class=\"sk-toggleable__content\"><pre>VotingClassifier(estimators=[(&#x27;nb&#x27;,\n",
       "                              Pipeline(steps=[(&#x27;tfidf&#x27;,\n",
       "                                               TfidfVectorizer(stop_words=[&#x27;akin&#x27;,\n",
       "                                                                           &#x27;aking&#x27;,\n",
       "                                                                           &#x27;ako&#x27;,\n",
       "                                                                           &#x27;alin&#x27;,\n",
       "                                                                           &#x27;am&#x27;,\n",
       "                                                                           &#x27;amin&#x27;,\n",
       "                                                                           &#x27;aming&#x27;,\n",
       "                                                                           &#x27;ang&#x27;,\n",
       "                                                                           &#x27;ano&#x27;,\n",
       "                                                                           &#x27;anumang&#x27;,\n",
       "                                                                           &#x27;apat&#x27;,\n",
       "                                                                           &#x27;at&#x27;,\n",
       "                                                                           &#x27;atin&#x27;,\n",
       "                                                                           &#x27;ating&#x27;,\n",
       "                                                                           &#x27;ay&#x27;,\n",
       "                                                                           &#x27;bababa&#x27;,\n",
       "                                                                           &#x27;bago&#x27;,\n",
       "                                                                           &#x27;bakit&#x27;,\n",
       "                                                                           &#x27;bawat&#x27;,\n",
       "                                                                           &#x27;bilang&#x27;,\n",
       "                                                                           &#x27;dahil&#x27;,\n",
       "                                                                           &#x27;dalawa&#x27;,\n",
       "                                                                           &#x27;dapat&#x27;,\n",
       "                                                                           &#x27;din&#x27;,\n",
       "                                                                           &#x27;dito&#x27;,\n",
       "                                                                           &#x27;doon&#x27;,\n",
       "                                                                           &#x27;gagawin&#x27;,\n",
       "                                                                           &#x27;gayunman&#x27;,\n",
       "                                                                           &#x27;ginagawa&#x27;,\n",
       "                                                                           &#x27;ginawa&#x27;, ...])),\n",
       "                                              (&#x27;bayes&#x27;, BernoulliNB())]))...\n",
       "                                               &lt;class &#x27;skorch.classifier.NeuralNetClassifier&#x27;&gt;[uninitialized](\n",
       "  module=&lt;class &#x27;src.LSTM.LstmModel&#x27;&gt;,\n",
       "  module__hidden_size=400,\n",
       "))])),\n",
       "                             (&#x27;bert&#x27;,\n",
       "                              Pipeline(steps=[(&#x27;tokenizer&#x27;,\n",
       "                                               HuggingfacePretrainedTokenizer(max_length=255,\n",
       "                                                                              tokenizer=&#x27;bert-base-multilingual-cased&#x27;)),\n",
       "                                              (&#x27;bert&#x27;,\n",
       "                                               &lt;class &#x27;skorch.classifier.NeuralNetClassifier&#x27;&gt;[uninitialized](\n",
       "  module=&lt;class &#x27;src.BERT.BertModel&#x27;&gt;,\n",
       "))]))])</pre></div></div></div><div class=\"sk-parallel\"><div class=\"sk-parallel-item\"><div class=\"sk-item\"><div class=\"sk-label-container\"><div class=\"sk-label sk-toggleable\"><label>nb</label></div></div><div class=\"sk-serial\"><div class=\"sk-item\"><div class=\"sk-serial\"><div class=\"sk-item\"><div class=\"sk-estimator sk-toggleable\"><input class=\"sk-toggleable__control sk-hidden--visually\" id=\"sk-estimator-id-2\" type=\"checkbox\" ><label for=\"sk-estimator-id-2\" class=\"sk-toggleable__label sk-toggleable__label-arrow\">TfidfVectorizer</label><div class=\"sk-toggleable__content\"><pre>TfidfVectorizer(stop_words=[&#x27;akin&#x27;, &#x27;aking&#x27;, &#x27;ako&#x27;, &#x27;alin&#x27;, &#x27;am&#x27;, &#x27;amin&#x27;,\n",
       "                            &#x27;aming&#x27;, &#x27;ang&#x27;, &#x27;ano&#x27;, &#x27;anumang&#x27;, &#x27;apat&#x27;, &#x27;at&#x27;,\n",
       "                            &#x27;atin&#x27;, &#x27;ating&#x27;, &#x27;ay&#x27;, &#x27;bababa&#x27;, &#x27;bago&#x27;, &#x27;bakit&#x27;,\n",
       "                            &#x27;bawat&#x27;, &#x27;bilang&#x27;, &#x27;dahil&#x27;, &#x27;dalawa&#x27;, &#x27;dapat&#x27;,\n",
       "                            &#x27;din&#x27;, &#x27;dito&#x27;, &#x27;doon&#x27;, &#x27;gagawin&#x27;, &#x27;gayunman&#x27;,\n",
       "                            &#x27;ginagawa&#x27;, &#x27;ginawa&#x27;, ...])</pre></div></div></div><div class=\"sk-item\"><div class=\"sk-estimator sk-toggleable\"><input class=\"sk-toggleable__control sk-hidden--visually\" id=\"sk-estimator-id-3\" type=\"checkbox\" ><label for=\"sk-estimator-id-3\" class=\"sk-toggleable__label sk-toggleable__label-arrow\">BernoulliNB</label><div class=\"sk-toggleable__content\"><pre>BernoulliNB()</pre></div></div></div></div></div></div></div></div><div class=\"sk-parallel-item\"><div class=\"sk-item\"><div class=\"sk-label-container\"><div class=\"sk-label sk-toggleable\"><label>lstm</label></div></div><div class=\"sk-serial\"><div class=\"sk-item\"><div class=\"sk-serial\"><div class=\"sk-item\"><div class=\"sk-estimator sk-toggleable\"><input class=\"sk-toggleable__control sk-hidden--visually\" id=\"sk-estimator-id-4\" type=\"checkbox\" ><label for=\"sk-estimator-id-4\" class=\"sk-toggleable__label sk-toggleable__label-arrow\">CalamancyTokenizer</label><div class=\"sk-toggleable__content\"><pre>CalamancyTokenizer()</pre></div></div></div><div class=\"sk-item\"><div class=\"sk-estimator sk-toggleable\"><input class=\"sk-toggleable__control sk-hidden--visually\" id=\"sk-estimator-id-5\" type=\"checkbox\" ><label for=\"sk-estimator-id-5\" class=\"sk-toggleable__label sk-toggleable__label-arrow\">NeuralNetClassifier</label><div class=\"sk-toggleable__content\"><pre>&lt;class &#x27;skorch.classifier.NeuralNetClassifier&#x27;&gt;[uninitialized](\n",
       "  module=&lt;class &#x27;src.LSTM.LstmModel&#x27;&gt;,\n",
       "  module__hidden_size=400,\n",
       ")</pre></div></div></div></div></div></div></div></div><div class=\"sk-parallel-item\"><div class=\"sk-item\"><div class=\"sk-label-container\"><div class=\"sk-label sk-toggleable\"><label>bert</label></div></div><div class=\"sk-serial\"><div class=\"sk-item\"><div class=\"sk-serial\"><div class=\"sk-item\"><div class=\"sk-estimator sk-toggleable\"><input class=\"sk-toggleable__control sk-hidden--visually\" id=\"sk-estimator-id-6\" type=\"checkbox\" ><label for=\"sk-estimator-id-6\" class=\"sk-toggleable__label sk-toggleable__label-arrow\">HuggingfacePretrainedTokenizer</label><div class=\"sk-toggleable__content\"><pre>HuggingfacePretrainedTokenizer(max_length=255,\n",
       "                               tokenizer=&#x27;bert-base-multilingual-cased&#x27;)</pre></div></div></div><div class=\"sk-item\"><div class=\"sk-estimator sk-toggleable\"><input class=\"sk-toggleable__control sk-hidden--visually\" id=\"sk-estimator-id-7\" type=\"checkbox\" ><label for=\"sk-estimator-id-7\" class=\"sk-toggleable__label sk-toggleable__label-arrow\">NeuralNetClassifier</label><div class=\"sk-toggleable__content\"><pre>&lt;class &#x27;skorch.classifier.NeuralNetClassifier&#x27;&gt;[uninitialized](\n",
       "  module=&lt;class &#x27;src.BERT.BertModel&#x27;&gt;,\n",
       ")</pre></div></div></div></div></div></div></div></div></div></div></div></div>"
      ],
      "text/plain": [
       "VotingClassifier(estimators=[('nb',\n",
       "                              Pipeline(steps=[('tfidf',\n",
       "                                               TfidfVectorizer(stop_words=['akin',\n",
       "                                                                           'aking',\n",
       "                                                                           'ako',\n",
       "                                                                           'alin',\n",
       "                                                                           'am',\n",
       "                                                                           'amin',\n",
       "                                                                           'aming',\n",
       "                                                                           'ang',\n",
       "                                                                           'ano',\n",
       "                                                                           'anumang',\n",
       "                                                                           'apat',\n",
       "                                                                           'at',\n",
       "                                                                           'atin',\n",
       "                                                                           'ating',\n",
       "                                                                           'ay',\n",
       "                                                                           'bababa',\n",
       "                                                                           'bago',\n",
       "                                                                           'bakit',\n",
       "                                                                           'bawat',\n",
       "                                                                           'bilang',\n",
       "                                                                           'dahil',\n",
       "                                                                           'dalawa',\n",
       "                                                                           'dapat',\n",
       "                                                                           'din',\n",
       "                                                                           'dito',\n",
       "                                                                           'doon',\n",
       "                                                                           'gagawin',\n",
       "                                                                           'gayunman',\n",
       "                                                                           'ginagawa',\n",
       "                                                                           'ginawa', ...])),\n",
       "                                              ('bayes', BernoulliNB())]))...\n",
       "                                               <class 'skorch.classifier.NeuralNetClassifier'>[uninitialized](\n",
       "  module=<class 'src.LSTM.LstmModel'>,\n",
       "  module__hidden_size=400,\n",
       "))])),\n",
       "                             ('bert',\n",
       "                              Pipeline(steps=[('tokenizer',\n",
       "                                               HuggingfacePretrainedTokenizer(max_length=255,\n",
       "                                                                              tokenizer='bert-base-multilingual-cased')),\n",
       "                                              ('bert',\n",
       "                                               <class 'skorch.classifier.NeuralNetClassifier'>[uninitialized](\n",
       "  module=<class 'src.BERT.BertModel'>,\n",
       "))]))])"
      ]
     },
     "execution_count": 47,
     "metadata": {},
     "output_type": "execute_result"
    }
   ],
   "source": [
    "hard_ensemble = joblib.load('ensemble-hard.pkl')\n",
    "hard_ensemble\n",
    "#soft_ensemble = joblib.load('ensemble-soft.pkl')\n",
    "#stack_ensemble = joblib.load('ensemble-stacking.pkl')\n",
    "\n",
    "#ensembles = [hard_ensemble, soft_ensemble, stack_ensemble]"
   ]
  },
  {
   "cell_type": "code",
   "execution_count": 82,
   "metadata": {},
   "outputs": [],
   "source": [
    "hard_ensemble_results = get_ensemble_results(X_test, y_test, hard_ensemble)"
   ]
  },
  {
   "cell_type": "code",
   "execution_count": 52,
   "metadata": {},
   "outputs": [],
   "source": [
    "hard_ensemble_learners = get_learner_results(X_test, y_test, hard_ensemble)"
   ]
  },
  {
   "cell_type": "code",
   "execution_count": 81,
   "metadata": {},
   "outputs": [
    {
     "data": {
      "image/png": "[encoded data removed]",
      "text/plain": [
       "<Figure size 640x480 with 1 Axes>"
      ]
     },
     "metadata": {},
     "output_type": "display_data"
    }
   ],
   "source": [
    "plot_grouped_bar_graph(hard_ensemble_learners, learner_labels, \"Hard Voting Learners\")"
   ]
  },
  {
   "cell_type": "code",
   "execution_count": 83,
   "metadata": {},
   "outputs": [
    {
     "data": {
      "text/plain": [
       "15889"
      ]
     },
     "execution_count": 83,
     "metadata": {},
     "output_type": "execute_result"
    }
   ],
   "source": [
    "hard_ensemble = None\n",
    "gc.collect()"
   ]
  },
  {
   "cell_type": "code",
   "execution_count": null,
   "metadata": {},
   "outputs": [],
   "source": [
    "soft_ensemble = joblib.load('ensemble-soft.pkl')\n",
    "soft_ensemble"
   ]
  },
  {
   "cell_type": "code",
   "execution_count": null,
   "metadata": {},
   "outputs": [],
   "source": [
    "soft_ensemble_results = get_ensemble_results(X_test, y_test, soft_ensemble)"
   ]
  },
  {
   "cell_type": "code",
   "execution_count": null,
   "metadata": {},
   "outputs": [],
   "source": [
    "soft_ensemble_learners = get_learner_results(X_test, y_test, soft_ensemble)"
   ]
  },
  {
   "cell_type": "markdown",
   "metadata": {},
   "source": [
    "## Define Input Data and True Labels\n",
    "\n",
    "In this cell, we define the input data on which we want to make predictions. This data consists of a list of text samples. Additionally, we specify the true labels for these samples, which are required to evaluate the performance of our models. Replace the placeholder true labels with the actual labels corresponding to your input data."
   ]
  },
  {
   "cell_type": "code",
   "execution_count": null,
   "metadata": {},
   "outputs": [],
   "source": [
    "quotes = [\n",
    "    \"Gago ka putang ina\", \n",
    "    'OIDAjodiajisjdai', \n",
    "    \"You are a fucking bitch\", \n",
    "    \"NAKO  NAHIYA  YUNG  KAPAL  NG  PERA  NI  BINAY \", \n",
    "    \"fuck you binay gago ka\",\n",
    "]\n",
    "\n",
    "true_labels = np.array([1, 0, 1, 1, 1])  # Example placeholder labels"
   ]
  },
  {
   "cell_type": "markdown",
   "metadata": {},
   "source": [
    "## Predictions and Metrics Evaluation\n",
    "\n",
    "For each of the loaded ensemble models, we perform the following steps:\n",
    "- Obtain final predictions for the input data. For hard voting classifiers, we directly use the 'predict' method. For soft voting classifiers or other ensemble types, we use the 'predict_proba' method and then derive predictions based on the highest probability.\n",
    "- Evaluate the models' predictions using four metrics: accuracy, recall, precision, and F1 score. These metrics provide a holistic view of the models' performance, indicating not only their overall correctness (accuracy) but also how well they manage positive class predictions (recall and precision) and the balance between recall and precision (F1 score)."
   ]
  },
  {
   "cell_type": "code",
   "execution_count": null,
   "metadata": {},
   "outputs": [],
   "source": [
    "for idx, ensemble in enumerate(ensembles, start=1):\n",
    "    print(f\"=== Ensemble Model {idx} ===\")\n",
    "    \n",
    "    # Final ensemble predictions\n",
    "    if isinstance(ensemble, VotingClassifier) and ensemble.voting == 'hard':\n",
    "        predictions = ensemble.predict(quotes)\n",
    "    else:\n",
    "        # Assuming binary classification and taking the class with the higher probability\n",
    "        predictions_proba = ensemble.predict_proba(quotes)\n",
    "        predictions = np.argmax(predictions_proba, axis=1)\n",
    "    \n",
    "    # Metrics evaluation\n",
    "    accuracy = accuracy_score(true_labels, predictions)\n",
    "    recall = recall_score(true_labels, predictions)\n",
    "    precision = precision_score(true_labels, predictions)\n",
    "    f1 = f1_score(true_labels, predictions)\n",
    "    \n",
    "    print(f\"Accuracy: {accuracy}\")\n",
    "    print(f\"Recall: {recall}\")\n",
    "    print(f\"Precision: {precision}\")\n",
    "    print(f\"F1 Score: {f1}\\n\")"
   ]
  }
 ],
 "metadata": {
  "kernelspec": {
   "display_name": "Python 3 (ipykernel)",
   "language": "python",
   "name": "python3"
  },
  "language_info": {
   "codemirror_mode": {
    "name": "ipython",
    "version": 3
   },
   "file_extension": ".py",
   "mimetype": "text/x-python",
   "name": "python",
   "nbconvert_exporter": "python",
   "pygments_lexer": "ipython3",
   "version": "3.9.12"
  }
 },
 "nbformat": 4,
 "nbformat_minor": 4
}
