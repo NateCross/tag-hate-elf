{
  "cells": [
    {
      "cell_type": "markdown",
      "metadata": {
        "id": "sa550x-dxIZl"
      },
      "source": [
        "# BERT TRAINING\n",
        "\n",
        "Note: This notebook was meant to be run in [Google Colab](https://colab.research.google.com/) due to the hardware requirements needed to train BERT. It is placed here for reference purposes."
      ]
    },
    {
      "cell_type": "code",
      "execution_count": null,
      "metadata": {
        "colab": {
          "base_uri": "https://localhost:8080/"
        },
        "id": "7t5N0R5jQOh1",
        "outputId": "95f3c9ec-7fe2-4960-93f0-d6c1398140eb"
      },
      "outputs": [
        {
          "name": "stdout",
          "output_type": "stream",
          "text": [
            "Drive already mounted at /content/drive; to attempt to forcibly remount, call drive.mount(\"/content/drive\", force_remount=True).\n"
          ]
        }
      ],
      "source": [
        "from google.colab import drive\n",
        "drive.mount('/content/drive')"
      ]
    },
    {
      "cell_type": "markdown",
      "metadata": {
        "id": "TLAzecvExSF5"
      },
      "source": [
        "## Imports"
      ]
    },
    {
      "cell_type": "code",
      "execution_count": null,
      "metadata": {
        "id": "Ju1T8r6uQgH_"
      },
      "outputs": [],
      "source": [
        "import pandas as pd\n",
        "import numpy as np\n",
        "import math\n",
        "import matplotlib.pyplot as plt\n",
        "import torch\n",
        "import os\n",
        "from torch import nn, optim, device, cuda, Tensor, LongTensor, argmax, bincount\n",
        "from sklearn.metrics import accuracy_score, confusion_matrix, ConfusionMatrixDisplay, precision_score, recall_score, f1_score\n",
        "from transformers import BertForSequenceClassification, BertTokenizer, get_linear_schedule_with_warmup\n",
        "from tqdm import tqdm\n",
        "import random"
      ]
    },
    {
      "cell_type": "markdown",
      "metadata": {
        "id": "RWRITWfkxbjC"
      },
      "source": [
        "## Constants"
      ]
    },
    {
      "cell_type": "code",
      "execution_count": null,
      "metadata": {
        "id": "5yefTAALS-RQ"
      },
      "outputs": [],
      "source": [
        "# Locate the train and test datasets\n",
        "DATASET_TRAIN = '/content/drive/MyDrive/School/Thesis - Hate Speech/Data/dataset-train.csv'\n",
        "DATASET_TEST = '/content/drive/MyDrive/School/Thesis - Hate Speech/Data/dataset-test.csv'\n",
        "\n",
        "# Set to True to save the model in the directory listed\n",
        "# in MODEL_FOLDER\n",
        "SAVE_MODEL = True\n",
        "MODEL_FOLDER = '/content/drive/MyDrive/models/sample'\n",
        "\n",
        "# Use GPU if available\n",
        "DEVICE = torch.device('cuda' if torch.cuda.is_available() else 'cpu')"
      ]
    },
    {
      "cell_type": "markdown",
      "metadata": {
        "id": "9s6XuxFN8AUd"
      },
      "source": [
        "### Hyperparameters"
      ]
    },
    {
      "cell_type": "code",
      "execution_count": null,
      "metadata": {
        "id": "lx65RQRd7_Sx"
      },
      "outputs": [],
      "source": [
        "# How many lines the model processes at the same time\n",
        "BATCH_SIZE = 32\n",
        "\n",
        "# Longest amount of tokens that the model can analyze\n",
        "# at one time\n",
        "MAX_LENGTH = 250\n",
        "\n",
        "# Scales how much parameters are updated\n",
        "# in each step during training\n",
        "LEARNING_RATE = 2.20E-05\n",
        "\n",
        "# Determines when we stop training\n",
        "# How many times to perform a complete pass through\n",
        "# the dataset during training\n",
        "MAX_EPOCHS = 2"
      ]
    },
    {
      "cell_type": "markdown",
      "metadata": {
        "id": "uDVXoRs9Atmd"
      },
      "source": [
        "**Batch Size** - how many lines the model processes at the same time. A larger batch size allows the model to analyze more lines together, which can make the overall process faster, but may require more computer memory.\n",
        "\n",
        "**Maximum Length** -  the longest amount of tokens that the model can analyze at one time."
      ]
    },
    {
      "cell_type": "markdown",
      "metadata": {
        "id": "YynwYF7fyQVE"
      },
      "source": [
        "## Utility Functions\n",
        "\n",
        "### Model saving & folder creation"
      ]
    },
    {
      "cell_type": "code",
      "execution_count": null,
      "metadata": {
        "colab": {
          "base_uri": "https://localhost:8080/"
        },
        "id": "EisdficlTYSg",
        "outputId": "4e6a2c16-99ec-49da-c4e7-7ce1cfed058f"
      },
      "outputs": [
        {
          "name": "stdout",
          "output_type": "stream",
          "text": [
            "Saving model at '/content/drive/MyDrive/models/model_bert_52'\n"
          ]
        }
      ],
      "source": [
        "if SAVE_MODEL:\n",
        "  os.makedirs(\n",
        "    MODEL_FOLDER,\n",
        "    exist_ok=True, # Create folder if it doesn't exist, else do nothing\n",
        "  )\n",
        "\n",
        "  print(f\"Saving model at '{MODEL_FOLDER}'\")"
      ]
    },
    {
      "cell_type": "markdown",
      "metadata": {
        "id": "yvX8CVDeyeu2"
      },
      "source": [
        "### Read CSV file"
      ]
    },
    {
      "cell_type": "code",
      "execution_count": null,
      "metadata": {
        "colab": {
          "base_uri": "https://localhost:8080/"
        },
        "id": "OIVAcuXGTjbi",
        "outputId": "54e39bd3-9042-4c80-f9cc-76b8c829f56e"
      },
      "outputs": [
        {
          "name": "stdout",
          "output_type": "stream",
          "text": [
            "CSV file read successfully!\n",
            "CSV file read successfully!\n"
          ]
        }
      ],
      "source": [
        "def read_csv_file(filename: str) -> pd.DataFrame:\n",
        "    try:\n",
        "        data = pd.read_csv(filename, lineterminator='\\n', usecols=range(2))\n",
        "        print(\"CSV file read successfully!\")\n",
        "        return data\n",
        "    except FileNotFoundError:\n",
        "        print(\"ERROR: File not found\")\n",
        "        exit(1)\n",
        "\n",
        "dataset_train = read_csv_file(DATASET_TRAIN)\n",
        "dataset_test = read_csv_file(DATASET_TEST)"
      ]
    },
    {
      "cell_type": "code",
      "execution_count": null,
      "metadata": {
        "colab": {
          "base_uri": "https://localhost:8080/",
          "height": 424
        },
        "id": "6JbWX0fDIm88",
        "outputId": "ae1faded-bb09-488d-cfed-4265c4ed1008"
      },
      "outputs": [
        {
          "data": {
            "application/vnd.google.colaboratory.intrinsic+json": {
              "summary": "{\n  \"name\": \"dataset_train\",\n  \"rows\": 22769,\n  \"fields\": [\n    {\n      \"column\": \"text\",\n      \"properties\": {\n        \"dtype\": \"string\",\n        \"num_unique_values\": 22565,\n        \"samples\": [\n          \"Akala ko MAKATI lang ang kamay nitong si Binay. Mapanlait din pala sa mga butihing guro. Ay sauce. Nog Nog Hambog\",\n          \"Presidential aspirant and former Defense secretary Norberto Gonzales on Wednesday urged young Filipinos not to fall for attempts to revise history and to remain vigilant against the spread of fake news ahead of Eleksyon2022. gmanetwork.com Norberto Gonzales: We will explain why people judged Marcoses inPresidential aspirant Norberto Gonzales on Wednesday made an impassioned plea against historical revisionism saying that Filipinos must not allow the youth of the nation to be swayed by disinforma...\",\n          \"The BRAT PACK got the Marcos cronies ?? - ErapDandingOngpin . Too bad Binay cant join them. Tears for Escudero ??\"\n        ],\n        \"semantic_type\": \"\",\n        \"description\": \"\"\n      }\n    },\n    {\n      \"column\": \"label\",\n      \"properties\": {\n        \"dtype\": \"number\",\n        \"std\": 0,\n        \"min\": 0,\n        \"max\": 1,\n        \"num_unique_values\": 2,\n        \"samples\": [\n          0,\n          1\n        ],\n        \"semantic_type\": \"\",\n        \"description\": \"\"\n      }\n    }\n  ]\n}",
              "type": "dataframe",
              "variable_name": "dataset_train"
            },
            "text/html": [
              "\n",
              "  <div id=\"df-b5e88afc-de1d-43f9-ba80-64bc7ae0bf98\" class=\"colab-df-container\">\n",
              "    <div>\n",
              "<style scoped>\n",
              "    .dataframe tbody tr th:only-of-type {\n",
              "        vertical-align: middle;\n",
              "    }\n",
              "\n",
              "    .dataframe tbody tr th {\n",
              "        vertical-align: top;\n",
              "    }\n",
              "\n",
              "    .dataframe thead th {\n",
              "        text-align: right;\n",
              "    }\n",
              "</style>\n",
              "<table border=\"1\" class=\"dataframe\">\n",
              "  <thead>\n",
              "    <tr style=\"text-align: right;\">\n",
              "      <th></th>\n",
              "      <th>text</th>\n",
              "      <th>label</th>\n",
              "    </tr>\n",
              "  </thead>\n",
              "  <tbody>\n",
              "    <tr>\n",
              "      <th>0</th>\n",
              "      <td>Matthew Chang [USERNAME] Remind ko lang di ba ...</td>\n",
              "      <td>1</td>\n",
              "    </tr>\n",
              "    <tr>\n",
              "      <th>1</th>\n",
              "      <td>Yay! The interview served its purpose wellJess...</td>\n",
              "      <td>0</td>\n",
              "    </tr>\n",
              "    <tr>\n",
              "      <th>2</th>\n",
              "      <td>I say DASURV</td>\n",
              "      <td>0</td>\n",
              "    </tr>\n",
              "    <tr>\n",
              "      <th>3</th>\n",
              "      <td>TayNew said Let Leni Lead</td>\n",
              "      <td>0</td>\n",
              "    </tr>\n",
              "    <tr>\n",
              "      <th>4</th>\n",
              "      <td>Gloc 9 is not endorsing Jejomar Binay as his p...</td>\n",
              "      <td>0</td>\n",
              "    </tr>\n",
              "    <tr>\n",
              "      <th>...</th>\n",
              "      <td>...</td>\n",
              "      <td>...</td>\n",
              "    </tr>\n",
              "    <tr>\n",
              "      <th>22764</th>\n",
              "      <td>Nov. 11: on [USERNAME] saw tv ads of Jojo Bina...</td>\n",
              "      <td>1</td>\n",
              "    </tr>\n",
              "    <tr>\n",
              "      <th>22765</th>\n",
              "      <td>Mar Roxas your call for unity describes one th...</td>\n",
              "      <td>1</td>\n",
              "    </tr>\n",
              "    <tr>\n",
              "      <th>22766</th>\n",
              "      <td>Buti nalang nagdecide nakong hindi manood ng T...</td>\n",
              "      <td>0</td>\n",
              "    </tr>\n",
              "    <tr>\n",
              "      <th>22767</th>\n",
              "      <td>sang boto para sa pagbabago. Let Leni Lead phi...</td>\n",
              "      <td>0</td>\n",
              "    </tr>\n",
              "    <tr>\n",
              "      <th>22768</th>\n",
              "      <td>Nakakainit ng dugo yung tv ad ni Binay</td>\n",
              "      <td>1</td>\n",
              "    </tr>\n",
              "  </tbody>\n",
              "</table>\n",
              "<p>22769 rows × 2 columns</p>\n",
              "</div>\n",
              "    <div class=\"colab-df-buttons\">\n",
              "\n",
              "  <div class=\"colab-df-container\">\n",
              "    <button class=\"colab-df-convert\" onclick=\"convertToInteractive('df-b5e88afc-de1d-43f9-ba80-64bc7ae0bf98')\"\n",
              "            title=\"Convert this dataframe to an interactive table.\"\n",
              "            style=\"display:none;\">\n",
              "\n",
              "  <svg xmlns=\"http://www.w3.org/2000/svg\" height=\"24px\" viewBox=\"0 -960 960 960\">\n",
              "    <path d=\"M120-120v-720h720v720H120Zm60-500h600v-160H180v160Zm220 220h160v-160H400v160Zm0 220h160v-160H400v160ZM180-400h160v-160H180v160Zm440 0h160v-160H620v160ZM180-180h160v-160H180v160Zm440 0h160v-160H620v160Z\"/>\n",
              "  </svg>\n",
              "    </button>\n",
              "\n",
              "  <style>\n",
              "    .colab-df-container {\n",
              "      display:flex;\n",
              "      gap: 12px;\n",
              "    }\n",
              "\n",
              "    .colab-df-convert {\n",
              "      background-color: #E8F0FE;\n",
              "      border: none;\n",
              "      border-radius: 50%;\n",
              "      cursor: pointer;\n",
              "      display: none;\n",
              "      fill: #1967D2;\n",
              "      height: 32px;\n",
              "      padding: 0 0 0 0;\n",
              "      width: 32px;\n",
              "    }\n",
              "\n",
              "    .colab-df-convert:hover {\n",
              "      background-color: #E2EBFA;\n",
              "      box-shadow: 0px 1px 2px rgba(60, 64, 67, 0.3), 0px 1px 3px 1px rgba(60, 64, 67, 0.15);\n",
              "      fill: #174EA6;\n",
              "    }\n",
              "\n",
              "    .colab-df-buttons div {\n",
              "      margin-bottom: 4px;\n",
              "    }\n",
              "\n",
              "    [theme=dark] .colab-df-convert {\n",
              "      background-color: #3B4455;\n",
              "      fill: #D2E3FC;\n",
              "    }\n",
              "\n",
              "    [theme=dark] .colab-df-convert:hover {\n",
              "      background-color: #434B5C;\n",
              "      box-shadow: 0px 1px 3px 1px rgba(0, 0, 0, 0.15);\n",
              "      filter: drop-shadow(0px 1px 2px rgba(0, 0, 0, 0.3));\n",
              "      fill: #FFFFFF;\n",
              "    }\n",
              "  </style>\n",
              "\n",
              "    <script>\n",
              "      const buttonEl =\n",
              "        document.querySelector('#df-b5e88afc-de1d-43f9-ba80-64bc7ae0bf98 button.colab-df-convert');\n",
              "      buttonEl.style.display =\n",
              "        google.colab.kernel.accessAllowed ? 'block' : 'none';\n",
              "\n",
              "      async function convertToInteractive(key) {\n",
              "        const element = document.querySelector('#df-b5e88afc-de1d-43f9-ba80-64bc7ae0bf98');\n",
              "        const dataTable =\n",
              "          await google.colab.kernel.invokeFunction('convertToInteractive',\n",
              "                                                    [key], {});\n",
              "        if (!dataTable) return;\n",
              "\n",
              "        const docLinkHtml = 'Like what you see? Visit the ' +\n",
              "          '<a target=\"_blank\" href=https://colab.research.google.com/notebooks/data_table.ipynb>data table notebook</a>'\n",
              "          + ' to learn more about interactive tables.';\n",
              "        element.innerHTML = '';\n",
              "        dataTable['output_type'] = 'display_data';\n",
              "        await google.colab.output.renderOutput(dataTable, element);\n",
              "        const docLink = document.createElement('div');\n",
              "        docLink.innerHTML = docLinkHtml;\n",
              "        element.appendChild(docLink);\n",
              "      }\n",
              "    </script>\n",
              "  </div>\n",
              "\n",
              "\n",
              "<div id=\"df-8a8d5cf9-0a71-4623-bed8-fbcba076ab87\">\n",
              "  <button class=\"colab-df-quickchart\" onclick=\"quickchart('df-8a8d5cf9-0a71-4623-bed8-fbcba076ab87')\"\n",
              "            title=\"Suggest charts\"\n",
              "            style=\"display:none;\">\n",
              "\n",
              "<svg xmlns=\"http://www.w3.org/2000/svg\" height=\"24px\"viewBox=\"0 0 24 24\"\n",
              "     width=\"24px\">\n",
              "    <g>\n",
              "        <path d=\"M19 3H5c-1.1 0-2 .9-2 2v14c0 1.1.9 2 2 2h14c1.1 0 2-.9 2-2V5c0-1.1-.9-2-2-2zM9 17H7v-7h2v7zm4 0h-2V7h2v10zm4 0h-2v-4h2v4z\"/>\n",
              "    </g>\n",
              "</svg>\n",
              "  </button>\n",
              "\n",
              "<style>\n",
              "  .colab-df-quickchart {\n",
              "      --bg-color: #E8F0FE;\n",
              "      --fill-color: #1967D2;\n",
              "      --hover-bg-color: #E2EBFA;\n",
              "      --hover-fill-color: #174EA6;\n",
              "      --disabled-fill-color: #AAA;\n",
              "      --disabled-bg-color: #DDD;\n",
              "  }\n",
              "\n",
              "  [theme=dark] .colab-df-quickchart {\n",
              "      --bg-color: #3B4455;\n",
              "      --fill-color: #D2E3FC;\n",
              "      --hover-bg-color: #434B5C;\n",
              "      --hover-fill-color: #FFFFFF;\n",
              "      --disabled-bg-color: #3B4455;\n",
              "      --disabled-fill-color: #666;\n",
              "  }\n",
              "\n",
              "  .colab-df-quickchart {\n",
              "    background-color: var(--bg-color);\n",
              "    border: none;\n",
              "    border-radius: 50%;\n",
              "    cursor: pointer;\n",
              "    display: none;\n",
              "    fill: var(--fill-color);\n",
              "    height: 32px;\n",
              "    padding: 0;\n",
              "    width: 32px;\n",
              "  }\n",
              "\n",
              "  .colab-df-quickchart:hover {\n",
              "    background-color: var(--hover-bg-color);\n",
              "    box-shadow: 0 1px 2px rgba(60, 64, 67, 0.3), 0 1px 3px 1px rgba(60, 64, 67, 0.15);\n",
              "    fill: var(--button-hover-fill-color);\n",
              "  }\n",
              "\n",
              "  .colab-df-quickchart-complete:disabled,\n",
              "  .colab-df-quickchart-complete:disabled:hover {\n",
              "    background-color: var(--disabled-bg-color);\n",
              "    fill: var(--disabled-fill-color);\n",
              "    box-shadow: none;\n",
              "  }\n",
              "\n",
              "  .colab-df-spinner {\n",
              "    border: 2px solid var(--fill-color);\n",
              "    border-color: transparent;\n",
              "    border-bottom-color: var(--fill-color);\n",
              "    animation:\n",
              "      spin 1s steps(1) infinite;\n",
              "  }\n",
              "\n",
              "  @keyframes spin {\n",
              "    0% {\n",
              "      border-color: transparent;\n",
              "      border-bottom-color: var(--fill-color);\n",
              "      border-left-color: var(--fill-color);\n",
              "    }\n",
              "    20% {\n",
              "      border-color: transparent;\n",
              "      border-left-color: var(--fill-color);\n",
              "      border-top-color: var(--fill-color);\n",
              "    }\n",
              "    30% {\n",
              "      border-color: transparent;\n",
              "      border-left-color: var(--fill-color);\n",
              "      border-top-color: var(--fill-color);\n",
              "      border-right-color: var(--fill-color);\n",
              "    }\n",
              "    40% {\n",
              "      border-color: transparent;\n",
              "      border-right-color: var(--fill-color);\n",
              "      border-top-color: var(--fill-color);\n",
              "    }\n",
              "    60% {\n",
              "      border-color: transparent;\n",
              "      border-right-color: var(--fill-color);\n",
              "    }\n",
              "    80% {\n",
              "      border-color: transparent;\n",
              "      border-right-color: var(--fill-color);\n",
              "      border-bottom-color: var(--fill-color);\n",
              "    }\n",
              "    90% {\n",
              "      border-color: transparent;\n",
              "      border-bottom-color: var(--fill-color);\n",
              "    }\n",
              "  }\n",
              "</style>\n",
              "\n",
              "  <script>\n",
              "    async function quickchart(key) {\n",
              "      const quickchartButtonEl =\n",
              "        document.querySelector('#' + key + ' button');\n",
              "      quickchartButtonEl.disabled = true;  // To prevent multiple clicks.\n",
              "      quickchartButtonEl.classList.add('colab-df-spinner');\n",
              "      try {\n",
              "        const charts = await google.colab.kernel.invokeFunction(\n",
              "            'suggestCharts', [key], {});\n",
              "      } catch (error) {\n",
              "        console.error('Error during call to suggestCharts:', error);\n",
              "      }\n",
              "      quickchartButtonEl.classList.remove('colab-df-spinner');\n",
              "      quickchartButtonEl.classList.add('colab-df-quickchart-complete');\n",
              "    }\n",
              "    (() => {\n",
              "      let quickchartButtonEl =\n",
              "        document.querySelector('#df-8a8d5cf9-0a71-4623-bed8-fbcba076ab87 button');\n",
              "      quickchartButtonEl.style.display =\n",
              "        google.colab.kernel.accessAllowed ? 'block' : 'none';\n",
              "    })();\n",
              "  </script>\n",
              "</div>\n",
              "    </div>\n",
              "  </div>\n"
            ],
            "text/plain": [
              "                                                    text  label\n",
              "0      Matthew Chang [USERNAME] Remind ko lang di ba ...      1\n",
              "1      Yay! The interview served its purpose wellJess...      0\n",
              "2                                           I say DASURV      0\n",
              "3                              TayNew said Let Leni Lead      0\n",
              "4      Gloc 9 is not endorsing Jejomar Binay as his p...      0\n",
              "...                                                  ...    ...\n",
              "22764  Nov. 11: on [USERNAME] saw tv ads of Jojo Bina...      1\n",
              "22765  Mar Roxas your call for unity describes one th...      1\n",
              "22766  Buti nalang nagdecide nakong hindi manood ng T...      0\n",
              "22767  sang boto para sa pagbabago. Let Leni Lead phi...      0\n",
              "22768             Nakakainit ng dugo yung tv ad ni Binay      1\n",
              "\n",
              "[22769 rows x 2 columns]"
            ]
          },
          "execution_count": 7,
          "metadata": {},
          "output_type": "execute_result"
        }
      ],
      "source": [
        "dataset_train"
      ]
    },
    {
      "cell_type": "code",
      "execution_count": null,
      "metadata": {
        "colab": {
          "base_uri": "https://localhost:8080/",
          "height": 424
        },
        "id": "z2B8tp90Iop0",
        "outputId": "a5449d32-5115-4b8c-c076-7baf5699e97c"
      },
      "outputs": [
        {
          "data": {
            "application/vnd.google.colaboratory.intrinsic+json": {
              "summary": "{\n  \"name\": \"dataset_test\",\n  \"rows\": 5692,\n  \"fields\": [\n    {\n      \"column\": \"text\",\n      \"properties\": {\n        \"dtype\": \"string\",\n        \"num_unique_values\": 5682,\n        \"samples\": [\n          \"Ito ang tama!! Pula Ang Kulay Ng NakawPula Ang Kulay Ng MagnanakawPula Ang Kulay Ng Posas\",\n          \"Online precinct finder ng Comelec kamusta ba? Click the vide below!halalan\",\n          \"di makita si binay!!! ??????????\"\n        ],\n        \"semantic_type\": \"\",\n        \"description\": \"\"\n      }\n    },\n    {\n      \"column\": \"label\",\n      \"properties\": {\n        \"dtype\": \"number\",\n        \"std\": 0,\n        \"min\": 0,\n        \"max\": 1,\n        \"num_unique_values\": 2,\n        \"samples\": [\n          1,\n          0\n        ],\n        \"semantic_type\": \"\",\n        \"description\": \"\"\n      }\n    }\n  ]\n}",
              "type": "dataframe",
              "variable_name": "dataset_test"
            },
            "text/html": [
              "\n",
              "  <div id=\"df-89e000eb-b282-40c8-9d1a-2c5210ed9e0c\" class=\"colab-df-container\">\n",
              "    <div>\n",
              "<style scoped>\n",
              "    .dataframe tbody tr th:only-of-type {\n",
              "        vertical-align: middle;\n",
              "    }\n",
              "\n",
              "    .dataframe tbody tr th {\n",
              "        vertical-align: top;\n",
              "    }\n",
              "\n",
              "    .dataframe thead th {\n",
              "        text-align: right;\n",
              "    }\n",
              "</style>\n",
              "<table border=\"1\" class=\"dataframe\">\n",
              "  <thead>\n",
              "    <tr style=\"text-align: right;\">\n",
              "      <th></th>\n",
              "      <th>text</th>\n",
              "      <th>label</th>\n",
              "    </tr>\n",
              "  </thead>\n",
              "  <tbody>\n",
              "    <tr>\n",
              "      <th>0</th>\n",
              "      <td>Hindi susuportahan ng theatre and literary est...</td>\n",
              "      <td>0</td>\n",
              "    </tr>\n",
              "    <tr>\n",
              "      <th>1</th>\n",
              "      <td>BABAE LABAN SA FAKE AT FRAUDBFFSUMBONGDAYA DES...</td>\n",
              "      <td>1</td>\n",
              "    </tr>\n",
              "    <tr>\n",
              "      <th>2</th>\n",
              "      <td>Im proud to be a Filipino and a kakampink like...</td>\n",
              "      <td>0</td>\n",
              "    </tr>\n",
              "    <tr>\n",
              "      <th>3</th>\n",
              "      <td>Grabe noThe hypocrisy of the church to preach ...</td>\n",
              "      <td>1</td>\n",
              "    </tr>\n",
              "    <tr>\n",
              "      <th>4</th>\n",
              "      <td>BBMSARAUniteam Ph Arena BBMSARA</td>\n",
              "      <td>0</td>\n",
              "    </tr>\n",
              "    <tr>\n",
              "      <th>...</th>\n",
              "      <td>...</td>\n",
              "      <td>...</td>\n",
              "    </tr>\n",
              "    <tr>\n",
              "      <th>5687</th>\n",
              "      <td>[USERNAME] Rizalito David is a good man you ca...</td>\n",
              "      <td>0</td>\n",
              "    </tr>\n",
              "    <tr>\n",
              "      <th>5688</th>\n",
              "      <td>A very famous religious cult in the Philippine...</td>\n",
              "      <td>1</td>\n",
              "    </tr>\n",
              "    <tr>\n",
              "      <th>5689</th>\n",
              "      <td>Tama sir VP Leni Di dapat iboto SI BBM Kase No...</td>\n",
              "      <td>0</td>\n",
              "    </tr>\n",
              "    <tr>\n",
              "      <th>5690</th>\n",
              "      <td>RT [USERNAME]: Mar Roxas forever arrogantI can...</td>\n",
              "      <td>1</td>\n",
              "    </tr>\n",
              "    <tr>\n",
              "      <th>5691</th>\n",
              "      <td>Let Leni Lead Kakampinks</td>\n",
              "      <td>0</td>\n",
              "    </tr>\n",
              "  </tbody>\n",
              "</table>\n",
              "<p>5692 rows × 2 columns</p>\n",
              "</div>\n",
              "    <div class=\"colab-df-buttons\">\n",
              "\n",
              "  <div class=\"colab-df-container\">\n",
              "    <button class=\"colab-df-convert\" onclick=\"convertToInteractive('df-89e000eb-b282-40c8-9d1a-2c5210ed9e0c')\"\n",
              "            title=\"Convert this dataframe to an interactive table.\"\n",
              "            style=\"display:none;\">\n",
              "\n",
              "  <svg xmlns=\"http://www.w3.org/2000/svg\" height=\"24px\" viewBox=\"0 -960 960 960\">\n",
              "    <path d=\"M120-120v-720h720v720H120Zm60-500h600v-160H180v160Zm220 220h160v-160H400v160Zm0 220h160v-160H400v160ZM180-400h160v-160H180v160Zm440 0h160v-160H620v160ZM180-180h160v-160H180v160Zm440 0h160v-160H620v160Z\"/>\n",
              "  </svg>\n",
              "    </button>\n",
              "\n",
              "  <style>\n",
              "    .colab-df-container {\n",
              "      display:flex;\n",
              "      gap: 12px;\n",
              "    }\n",
              "\n",
              "    .colab-df-convert {\n",
              "      background-color: #E8F0FE;\n",
              "      border: none;\n",
              "      border-radius: 50%;\n",
              "      cursor: pointer;\n",
              "      display: none;\n",
              "      fill: #1967D2;\n",
              "      height: 32px;\n",
              "      padding: 0 0 0 0;\n",
              "      width: 32px;\n",
              "    }\n",
              "\n",
              "    .colab-df-convert:hover {\n",
              "      background-color: #E2EBFA;\n",
              "      box-shadow: 0px 1px 2px rgba(60, 64, 67, 0.3), 0px 1px 3px 1px rgba(60, 64, 67, 0.15);\n",
              "      fill: #174EA6;\n",
              "    }\n",
              "\n",
              "    .colab-df-buttons div {\n",
              "      margin-bottom: 4px;\n",
              "    }\n",
              "\n",
              "    [theme=dark] .colab-df-convert {\n",
              "      background-color: #3B4455;\n",
              "      fill: #D2E3FC;\n",
              "    }\n",
              "\n",
              "    [theme=dark] .colab-df-convert:hover {\n",
              "      background-color: #434B5C;\n",
              "      box-shadow: 0px 1px 3px 1px rgba(0, 0, 0, 0.15);\n",
              "      filter: drop-shadow(0px 1px 2px rgba(0, 0, 0, 0.3));\n",
              "      fill: #FFFFFF;\n",
              "    }\n",
              "  </style>\n",
              "\n",
              "    <script>\n",
              "      const buttonEl =\n",
              "        document.querySelector('#df-89e000eb-b282-40c8-9d1a-2c5210ed9e0c button.colab-df-convert');\n",
              "      buttonEl.style.display =\n",
              "        google.colab.kernel.accessAllowed ? 'block' : 'none';\n",
              "\n",
              "      async function convertToInteractive(key) {\n",
              "        const element = document.querySelector('#df-89e000eb-b282-40c8-9d1a-2c5210ed9e0c');\n",
              "        const dataTable =\n",
              "          await google.colab.kernel.invokeFunction('convertToInteractive',\n",
              "                                                    [key], {});\n",
              "        if (!dataTable) return;\n",
              "\n",
              "        const docLinkHtml = 'Like what you see? Visit the ' +\n",
              "          '<a target=\"_blank\" href=https://colab.research.google.com/notebooks/data_table.ipynb>data table notebook</a>'\n",
              "          + ' to learn more about interactive tables.';\n",
              "        element.innerHTML = '';\n",
              "        dataTable['output_type'] = 'display_data';\n",
              "        await google.colab.output.renderOutput(dataTable, element);\n",
              "        const docLink = document.createElement('div');\n",
              "        docLink.innerHTML = docLinkHtml;\n",
              "        element.appendChild(docLink);\n",
              "      }\n",
              "    </script>\n",
              "  </div>\n",
              "\n",
              "\n",
              "<div id=\"df-8177c9cb-56fa-4156-ac62-28bcd218c8bf\">\n",
              "  <button class=\"colab-df-quickchart\" onclick=\"quickchart('df-8177c9cb-56fa-4156-ac62-28bcd218c8bf')\"\n",
              "            title=\"Suggest charts\"\n",
              "            style=\"display:none;\">\n",
              "\n",
              "<svg xmlns=\"http://www.w3.org/2000/svg\" height=\"24px\"viewBox=\"0 0 24 24\"\n",
              "     width=\"24px\">\n",
              "    <g>\n",
              "        <path d=\"M19 3H5c-1.1 0-2 .9-2 2v14c0 1.1.9 2 2 2h14c1.1 0 2-.9 2-2V5c0-1.1-.9-2-2-2zM9 17H7v-7h2v7zm4 0h-2V7h2v10zm4 0h-2v-4h2v4z\"/>\n",
              "    </g>\n",
              "</svg>\n",
              "  </button>\n",
              "\n",
              "<style>\n",
              "  .colab-df-quickchart {\n",
              "      --bg-color: #E8F0FE;\n",
              "      --fill-color: #1967D2;\n",
              "      --hover-bg-color: #E2EBFA;\n",
              "      --hover-fill-color: #174EA6;\n",
              "      --disabled-fill-color: #AAA;\n",
              "      --disabled-bg-color: #DDD;\n",
              "  }\n",
              "\n",
              "  [theme=dark] .colab-df-quickchart {\n",
              "      --bg-color: #3B4455;\n",
              "      --fill-color: #D2E3FC;\n",
              "      --hover-bg-color: #434B5C;\n",
              "      --hover-fill-color: #FFFFFF;\n",
              "      --disabled-bg-color: #3B4455;\n",
              "      --disabled-fill-color: #666;\n",
              "  }\n",
              "\n",
              "  .colab-df-quickchart {\n",
              "    background-color: var(--bg-color);\n",
              "    border: none;\n",
              "    border-radius: 50%;\n",
              "    cursor: pointer;\n",
              "    display: none;\n",
              "    fill: var(--fill-color);\n",
              "    height: 32px;\n",
              "    padding: 0;\n",
              "    width: 32px;\n",
              "  }\n",
              "\n",
              "  .colab-df-quickchart:hover {\n",
              "    background-color: var(--hover-bg-color);\n",
              "    box-shadow: 0 1px 2px rgba(60, 64, 67, 0.3), 0 1px 3px 1px rgba(60, 64, 67, 0.15);\n",
              "    fill: var(--button-hover-fill-color);\n",
              "  }\n",
              "\n",
              "  .colab-df-quickchart-complete:disabled,\n",
              "  .colab-df-quickchart-complete:disabled:hover {\n",
              "    background-color: var(--disabled-bg-color);\n",
              "    fill: var(--disabled-fill-color);\n",
              "    box-shadow: none;\n",
              "  }\n",
              "\n",
              "  .colab-df-spinner {\n",
              "    border: 2px solid var(--fill-color);\n",
              "    border-color: transparent;\n",
              "    border-bottom-color: var(--fill-color);\n",
              "    animation:\n",
              "      spin 1s steps(1) infinite;\n",
              "  }\n",
              "\n",
              "  @keyframes spin {\n",
              "    0% {\n",
              "      border-color: transparent;\n",
              "      border-bottom-color: var(--fill-color);\n",
              "      border-left-color: var(--fill-color);\n",
              "    }\n",
              "    20% {\n",
              "      border-color: transparent;\n",
              "      border-left-color: var(--fill-color);\n",
              "      border-top-color: var(--fill-color);\n",
              "    }\n",
              "    30% {\n",
              "      border-color: transparent;\n",
              "      border-left-color: var(--fill-color);\n",
              "      border-top-color: var(--fill-color);\n",
              "      border-right-color: var(--fill-color);\n",
              "    }\n",
              "    40% {\n",
              "      border-color: transparent;\n",
              "      border-right-color: var(--fill-color);\n",
              "      border-top-color: var(--fill-color);\n",
              "    }\n",
              "    60% {\n",
              "      border-color: transparent;\n",
              "      border-right-color: var(--fill-color);\n",
              "    }\n",
              "    80% {\n",
              "      border-color: transparent;\n",
              "      border-right-color: var(--fill-color);\n",
              "      border-bottom-color: var(--fill-color);\n",
              "    }\n",
              "    90% {\n",
              "      border-color: transparent;\n",
              "      border-bottom-color: var(--fill-color);\n",
              "    }\n",
              "  }\n",
              "</style>\n",
              "\n",
              "  <script>\n",
              "    async function quickchart(key) {\n",
              "      const quickchartButtonEl =\n",
              "        document.querySelector('#' + key + ' button');\n",
              "      quickchartButtonEl.disabled = true;  // To prevent multiple clicks.\n",
              "      quickchartButtonEl.classList.add('colab-df-spinner');\n",
              "      try {\n",
              "        const charts = await google.colab.kernel.invokeFunction(\n",
              "            'suggestCharts', [key], {});\n",
              "      } catch (error) {\n",
              "        console.error('Error during call to suggestCharts:', error);\n",
              "      }\n",
              "      quickchartButtonEl.classList.remove('colab-df-spinner');\n",
              "      quickchartButtonEl.classList.add('colab-df-quickchart-complete');\n",
              "    }\n",
              "    (() => {\n",
              "      let quickchartButtonEl =\n",
              "        document.querySelector('#df-8177c9cb-56fa-4156-ac62-28bcd218c8bf button');\n",
              "      quickchartButtonEl.style.display =\n",
              "        google.colab.kernel.accessAllowed ? 'block' : 'none';\n",
              "    })();\n",
              "  </script>\n",
              "</div>\n",
              "    </div>\n",
              "  </div>\n"
            ],
            "text/plain": [
              "                                                   text  label\n",
              "0     Hindi susuportahan ng theatre and literary est...      0\n",
              "1     BABAE LABAN SA FAKE AT FRAUDBFFSUMBONGDAYA DES...      1\n",
              "2     Im proud to be a Filipino and a kakampink like...      0\n",
              "3     Grabe noThe hypocrisy of the church to preach ...      1\n",
              "4                       BBMSARAUniteam Ph Arena BBMSARA      0\n",
              "...                                                 ...    ...\n",
              "5687  [USERNAME] Rizalito David is a good man you ca...      0\n",
              "5688  A very famous religious cult in the Philippine...      1\n",
              "5689  Tama sir VP Leni Di dapat iboto SI BBM Kase No...      0\n",
              "5690  RT [USERNAME]: Mar Roxas forever arrogantI can...      1\n",
              "5691                           Let Leni Lead Kakampinks      0\n",
              "\n",
              "[5692 rows x 2 columns]"
            ]
          },
          "execution_count": 8,
          "metadata": {},
          "output_type": "execute_result"
        }
      ],
      "source": [
        "dataset_test"
      ]
    },
    {
      "cell_type": "code",
      "execution_count": null,
      "metadata": {
        "id": "WDnt2AjkYpnY"
      },
      "outputs": [],
      "source": [
        "X_train = dataset_train['text']\n",
        "y_train = dataset_train['label']\n",
        "\n",
        "X_test = dataset_test['text']\n",
        "y_test = dataset_test['label']"
      ]
    },
    {
      "cell_type": "markdown",
      "metadata": {
        "id": "f_TNLamf1F-V"
      },
      "source": [
        "## Multilingual BERT for Sequence Classification"
      ]
    },
    {
      "cell_type": "code",
      "execution_count": null,
      "metadata": {
        "colab": {
          "base_uri": "https://localhost:8080/"
        },
        "id": "Pcf3yozxT8Vy",
        "outputId": "a83667b4-a325-4b04-f861-2c8ba395a625"
      },
      "outputs": [
        {
          "name": "stderr",
          "output_type": "stream",
          "text": [
            "/usr/local/lib/python3.10/dist-packages/huggingface_hub/utils/_token.py:88: UserWarning: \n",
            "The secret `HF_TOKEN` does not exist in your Colab secrets.\n",
            "To authenticate with the Hugging Face Hub, create a token in your settings tab (https://huggingface.co/settings/tokens), set it as secret in your Google Colab and restart your session.\n",
            "You will be able to reuse this secret in all of your notebooks.\n",
            "Please note that authentication is recommended but still optional to access public models or datasets.\n",
            "  warnings.warn(\n",
            "Some weights of BertForSequenceClassification were not initialized from the model checkpoint at bert-base-multilingual-uncased and are newly initialized: ['classifier.bias', 'classifier.weight']\n",
            "You should probably TRAIN this model on a down-stream task to be able to use it for predictions and inference.\n"
          ]
        }
      ],
      "source": [
        "_model_name = \"bert-base-multilingual-uncased\"\n",
        "\n",
        "model = BertForSequenceClassification.from_pretrained(\n",
        "    _model_name,\n",
        "    num_labels=2,\n",
        ").to(DEVICE)"
      ]
    },
    {
      "cell_type": "markdown",
      "metadata": {
        "id": "SDs1Z7yp2loU"
      },
      "source": [
        "**Multilingual BERT** can understand and work with text written in many different languages, including Tagalog and English. This makes it useful for identifying content in text that mixes those two languages together.\n",
        "\n",
        "**BERT for Sequence Classification** can analyze the meaning and purpose of text. By training BERT to recognize patterns of hateful or offensive language, it can be used to automatically identify and classify hate speech in written text."
      ]
    },
    {
      "cell_type": "markdown",
      "metadata": {
        "id": "wYHEx-y11R38"
      },
      "source": [
        "## BERT Tokenizer"
      ]
    },
    {
      "cell_type": "code",
      "execution_count": null,
      "metadata": {
        "id": "-S2zLyIuUDwy"
      },
      "outputs": [],
      "source": [
        "tokenizer = BertTokenizer.from_pretrained(_model_name)"
      ]
    },
    {
      "cell_type": "markdown",
      "metadata": {
        "id": "RLiCPdTVyw6o"
      },
      "source": [
        "**Bert Tokenizer** breaks down words into smaller pieces that the BERT language model can understand. It takes regular text and turns it into a format that BERT can analyze to determine the meaning and purpose of the text."
      ]
    },
    {
      "cell_type": "code",
      "execution_count": null,
      "metadata": {
        "colab": {
          "base_uri": "https://localhost:8080/"
        },
        "id": "nVfhW0QOUNQg",
        "outputId": "45b1663d-ae47-47d7-b199-217a47657bf6"
      },
      "outputs": [
        {
          "name": "stdout",
          "output_type": "stream",
          "text": [
            "Tokenizing training data...\n"
          ]
        },
        {
          "name": "stderr",
          "output_type": "stream",
          "text": [
            "Tokenizing: 100%|██████████| 22769/22769 [00:11<00:00, 2006.76it/s]\n"
          ]
        },
        {
          "name": "stdout",
          "output_type": "stream",
          "text": [
            "Training data tokenized.\n",
            "Tokenizing test data...\n"
          ]
        },
        {
          "name": "stderr",
          "output_type": "stream",
          "text": [
            "Tokenizing: 100%|██████████| 5692/5692 [00:02<00:00, 2044.00it/s]\n"
          ]
        },
        {
          "name": "stdout",
          "output_type": "stream",
          "text": [
            "Test data tokenized.\n"
          ]
        }
      ],
      "source": [
        "def tokenize_and_prepare(texts, tokenizer, max_length):\n",
        "    input_ids = []\n",
        "    attention_masks = []\n",
        "    tokens_list = []\n",
        "\n",
        "    for text in tqdm(texts, desc=\"Tokenizing\"):\n",
        "        # Tokenize the text\n",
        "        tokens = tokenizer.tokenize(text)\n",
        "\n",
        "        # Truncate the tokens if necessary\n",
        "        if len(tokens) > max_length - 2:\n",
        "            tokens = tokens[:max_length - 2]\n",
        "\n",
        "        # Add special tokens\n",
        "        tokens = ['[CLS]'] + tokens + ['[SEP]']\n",
        "\n",
        "        # Convert tokens to token IDs\n",
        "        token_ids = tokenizer.convert_tokens_to_ids(tokens)\n",
        "\n",
        "        # Pad the token IDs to max_length\n",
        "        padding = [0] * (max_length - len(token_ids))\n",
        "        token_ids += padding\n",
        "\n",
        "        # Create attention mask\n",
        "        attention_mask = [1] * len(tokens) + [0] * len(padding)\n",
        "\n",
        "        input_ids.append(token_ids)\n",
        "        attention_masks.append(attention_mask)\n",
        "        tokens_list.append(tokens)  # Append the tokens to the list\n",
        "\n",
        "    # Convert lists to tensors\n",
        "    input_ids = torch.tensor(input_ids)\n",
        "    attention_masks = torch.tensor(attention_masks)\n",
        "\n",
        "    return input_ids, attention_masks, tokens_list\n",
        "\n",
        "# Tokenize and prepare the data with progress bars\n",
        "print(\"Tokenizing training data...\")\n",
        "train_input_ids, train_attention_masks, train_tokens = tokenize_and_prepare(X_train, tokenizer, MAX_LENGTH)\n",
        "print(\"Training data tokenized.\")\n",
        "\n",
        "print(\"Tokenizing test data...\")\n",
        "test_input_ids, test_attention_masks, test_tokens = tokenize_and_prepare(X_test, tokenizer, MAX_LENGTH)\n",
        "print(\"Test data tokenized.\")\n",
        "\n",
        "# Convert labels into tensors\n",
        "train_labels = torch.tensor(y_train)\n",
        "test_labels = torch.tensor(y_test)"
      ]
    },
    {
      "cell_type": "markdown",
      "metadata": {
        "id": "tnUlWqy195hx"
      },
      "source": [
        "The first step in tokenizing is breaking text down into smaller pieces (subwords) and this process is called **WordPiece tokenization**. It then further split out of vocabulary words into sub words.\n",
        "\n",
        "**Special tokens** are added, `[CLS]` indicating the start of the sentence,`[SEP]` indicating the end of the sentence, and padding so that the number of tokens will reach the max length.\n",
        "\n",
        " The tokenized text are converted into **Token IDs** because the BERT model will only accept numerical data. Each token in the vocabulary has a unique token ID assigned.\n",
        "\n",
        "**Attention Mask** is created to indicate which of the tokens are actual words and which are padding tokens. A list of `1`s for the actual tokens and `0`s for the padding. These are added so that the model can focus on the relevant text, not the padding."
      ]
    },
    {
      "cell_type": "code",
      "execution_count": null,
      "metadata": {
        "colab": {
          "base_uri": "https://localhost:8080/"
        },
        "id": "7rxterxkVPQ_",
        "outputId": "48a0481a-cc87-4e9e-b9f9-fcd2d5d1613e"
      },
      "outputs": [
        {
          "name": "stdout",
          "output_type": "stream",
          "text": [
            "Example 1:\n",
            "Original Text: Matthew Chang [USERNAME] Remind ko lang di ba galit na galit ka dun sa taong di marunong magbayad ng utang? Tapos kay marcos hindi iboboto mo pa? Well Marcos Magnanakaw Never Again\n",
            "Tokens: [CLS] matthew chang [ user ##name ] remi ##nd ko lang di ba gali ##t na gali ##t ka dun sa taong di maru ##non ##g mag ##bay ##ad ng utan ##g ? tapo ##s kay marcos hindi ib ##obo ##to mo pa ? well marcos magna ##nak ##aw never again [SEP]\n",
            "Input IDs: 101 18569 20959 138 24934 23993 140 87397 11408 11236 11804 10120 12314 26802 10123 10135 26802 10123 10237 20010 10105 76876 10120 90248 18453 10251 18115 75992 11655 10822 13253 10251 136 29760 10107 11040 23893 18465 47810 62815 10366 10837 10202 136 11327 23893 38035 12271 29274 13362 12590 102 0 0 0 0 0 0 0 0 0 0 0 0 0 0 0 0 0 0 0 0 0 0 0 0 0 0 0 0 0 0 0 0 0 0 0 0 0 0 0 0 0 0 0 0 0 0 0 0 0 0 0 0 0 0 0 0 0 0 0 0 0 0 0 0 0 0 0 0 0 0 0 0 0 0 0 0 0 0 0 0 0 0 0 0 0 0 0 0 0 0 0 0 0 0 0 0 0 0 0 0 0 0 0 0 0 0 0 0 0 0 0 0 0 0 0 0 0 0 0 0 0 0 0 0 0 0 0 0 0 0 0 0 0 0 0 0 0 0 0 0 0 0 0 0 0 0 0 0 0 0 0 0 0 0 0 0 0 0 0 0 0 0 0 0 0 0 0 0 0 0 0 0 0 0 0 0 0 0 0 0 0 0 0 0 0 0 0 0 0 0 0 0 0 0 0 0 0 0\n",
            "Attention Mask: 1 1 1 1 1 1 1 1 1 1 1 1 1 1 1 1 1 1 1 1 1 1 1 1 1 1 1 1 1 1 1 1 1 1 1 1 1 1 1 1 1 1 1 1 1 1 1 1 1 1 1 1 0 0 0 0 0 0 0 0 0 0 0 0 0 0 0 0 0 0 0 0 0 0 0 0 0 0 0 0 0 0 0 0 0 0 0 0 0 0 0 0 0 0 0 0 0 0 0 0 0 0 0 0 0 0 0 0 0 0 0 0 0 0 0 0 0 0 0 0 0 0 0 0 0 0 0 0 0 0 0 0 0 0 0 0 0 0 0 0 0 0 0 0 0 0 0 0 0 0 0 0 0 0 0 0 0 0 0 0 0 0 0 0 0 0 0 0 0 0 0 0 0 0 0 0 0 0 0 0 0 0 0 0 0 0 0 0 0 0 0 0 0 0 0 0 0 0 0 0 0 0 0 0 0 0 0 0 0 0 0 0 0 0 0 0 0 0 0 0 0 0 0 0 0 0 0 0 0 0 0 0 0 0 0 0 0 0 0 0 0 0 0 0 0 0 0 0 0 0\n",
            "\n",
            "Example 2:\n",
            "Original Text: Yay! The interview served its purpose wellJessica Soho Interviews Angat Buhay LahatKakampink\n",
            "Tokens: [CLS] ya ##y ! the interview served its purpose well ##jes ##sic ##a soho interviews ang ##at bu ##hay lahat ##kak ##amp ##ink [SEP]\n",
            "Input IDs: 101 10593 10158 106 10103 16705 12567 10491 23272 11327 15661 45426 10112 93212 35510 10113 10552 10920 55958 72141 66553 74319 67584 102 0 0 0 0 0 0 0 0 0 0 0 0 0 0 0 0 0 0 0 0 0 0 0 0 0 0 0 0 0 0 0 0 0 0 0 0 0 0 0 0 0 0 0 0 0 0 0 0 0 0 0 0 0 0 0 0 0 0 0 0 0 0 0 0 0 0 0 0 0 0 0 0 0 0 0 0 0 0 0 0 0 0 0 0 0 0 0 0 0 0 0 0 0 0 0 0 0 0 0 0 0 0 0 0 0 0 0 0 0 0 0 0 0 0 0 0 0 0 0 0 0 0 0 0 0 0 0 0 0 0 0 0 0 0 0 0 0 0 0 0 0 0 0 0 0 0 0 0 0 0 0 0 0 0 0 0 0 0 0 0 0 0 0 0 0 0 0 0 0 0 0 0 0 0 0 0 0 0 0 0 0 0 0 0 0 0 0 0 0 0 0 0 0 0 0 0 0 0 0 0 0 0 0 0 0 0 0 0 0 0 0 0 0 0 0 0 0 0 0 0 0 0 0 0 0 0\n",
            "Attention Mask: 1 1 1 1 1 1 1 1 1 1 1 1 1 1 1 1 1 1 1 1 1 1 1 1 0 0 0 0 0 0 0 0 0 0 0 0 0 0 0 0 0 0 0 0 0 0 0 0 0 0 0 0 0 0 0 0 0 0 0 0 0 0 0 0 0 0 0 0 0 0 0 0 0 0 0 0 0 0 0 0 0 0 0 0 0 0 0 0 0 0 0 0 0 0 0 0 0 0 0 0 0 0 0 0 0 0 0 0 0 0 0 0 0 0 0 0 0 0 0 0 0 0 0 0 0 0 0 0 0 0 0 0 0 0 0 0 0 0 0 0 0 0 0 0 0 0 0 0 0 0 0 0 0 0 0 0 0 0 0 0 0 0 0 0 0 0 0 0 0 0 0 0 0 0 0 0 0 0 0 0 0 0 0 0 0 0 0 0 0 0 0 0 0 0 0 0 0 0 0 0 0 0 0 0 0 0 0 0 0 0 0 0 0 0 0 0 0 0 0 0 0 0 0 0 0 0 0 0 0 0 0 0 0 0 0 0 0 0 0 0 0 0 0 0 0 0 0 0 0 0\n",
            "\n",
            "Example 3:\n",
            "Original Text: I say DASURV\n",
            "Tokens: [CLS] i say das ##ur ##v [SEP]\n",
            "Input IDs: 101 151 16497 10216 10585 10434 102 0 0 0 0 0 0 0 0 0 0 0 0 0 0 0 0 0 0 0 0 0 0 0 0 0 0 0 0 0 0 0 0 0 0 0 0 0 0 0 0 0 0 0 0 0 0 0 0 0 0 0 0 0 0 0 0 0 0 0 0 0 0 0 0 0 0 0 0 0 0 0 0 0 0 0 0 0 0 0 0 0 0 0 0 0 0 0 0 0 0 0 0 0 0 0 0 0 0 0 0 0 0 0 0 0 0 0 0 0 0 0 0 0 0 0 0 0 0 0 0 0 0 0 0 0 0 0 0 0 0 0 0 0 0 0 0 0 0 0 0 0 0 0 0 0 0 0 0 0 0 0 0 0 0 0 0 0 0 0 0 0 0 0 0 0 0 0 0 0 0 0 0 0 0 0 0 0 0 0 0 0 0 0 0 0 0 0 0 0 0 0 0 0 0 0 0 0 0 0 0 0 0 0 0 0 0 0 0 0 0 0 0 0 0 0 0 0 0 0 0 0 0 0 0 0 0 0 0 0 0 0 0 0 0 0 0 0 0 0 0 0 0 0\n",
            "Attention Mask: 1 1 1 1 1 1 1 0 0 0 0 0 0 0 0 0 0 0 0 0 0 0 0 0 0 0 0 0 0 0 0 0 0 0 0 0 0 0 0 0 0 0 0 0 0 0 0 0 0 0 0 0 0 0 0 0 0 0 0 0 0 0 0 0 0 0 0 0 0 0 0 0 0 0 0 0 0 0 0 0 0 0 0 0 0 0 0 0 0 0 0 0 0 0 0 0 0 0 0 0 0 0 0 0 0 0 0 0 0 0 0 0 0 0 0 0 0 0 0 0 0 0 0 0 0 0 0 0 0 0 0 0 0 0 0 0 0 0 0 0 0 0 0 0 0 0 0 0 0 0 0 0 0 0 0 0 0 0 0 0 0 0 0 0 0 0 0 0 0 0 0 0 0 0 0 0 0 0 0 0 0 0 0 0 0 0 0 0 0 0 0 0 0 0 0 0 0 0 0 0 0 0 0 0 0 0 0 0 0 0 0 0 0 0 0 0 0 0 0 0 0 0 0 0 0 0 0 0 0 0 0 0 0 0 0 0 0 0 0 0 0 0 0 0 0 0 0 0 0 0\n",
            "\n",
            "Example 4:\n",
            "Original Text: TayNew said Let Leni Lead\n",
            "Tokens: [CLS] tay ##ne ##w said let len ##i lead [SEP]\n",
            "Input IDs: 101 13918 10220 10650 12338 12421 14537 10116 13868 102 0 0 0 0 0 0 0 0 0 0 0 0 0 0 0 0 0 0 0 0 0 0 0 0 0 0 0 0 0 0 0 0 0 0 0 0 0 0 0 0 0 0 0 0 0 0 0 0 0 0 0 0 0 0 0 0 0 0 0 0 0 0 0 0 0 0 0 0 0 0 0 0 0 0 0 0 0 0 0 0 0 0 0 0 0 0 0 0 0 0 0 0 0 0 0 0 0 0 0 0 0 0 0 0 0 0 0 0 0 0 0 0 0 0 0 0 0 0 0 0 0 0 0 0 0 0 0 0 0 0 0 0 0 0 0 0 0 0 0 0 0 0 0 0 0 0 0 0 0 0 0 0 0 0 0 0 0 0 0 0 0 0 0 0 0 0 0 0 0 0 0 0 0 0 0 0 0 0 0 0 0 0 0 0 0 0 0 0 0 0 0 0 0 0 0 0 0 0 0 0 0 0 0 0 0 0 0 0 0 0 0 0 0 0 0 0 0 0 0 0 0 0 0 0 0 0 0 0 0 0 0 0 0 0 0 0 0 0 0 0\n",
            "Attention Mask: 1 1 1 1 1 1 1 1 1 1 0 0 0 0 0 0 0 0 0 0 0 0 0 0 0 0 0 0 0 0 0 0 0 0 0 0 0 0 0 0 0 0 0 0 0 0 0 0 0 0 0 0 0 0 0 0 0 0 0 0 0 0 0 0 0 0 0 0 0 0 0 0 0 0 0 0 0 0 0 0 0 0 0 0 0 0 0 0 0 0 0 0 0 0 0 0 0 0 0 0 0 0 0 0 0 0 0 0 0 0 0 0 0 0 0 0 0 0 0 0 0 0 0 0 0 0 0 0 0 0 0 0 0 0 0 0 0 0 0 0 0 0 0 0 0 0 0 0 0 0 0 0 0 0 0 0 0 0 0 0 0 0 0 0 0 0 0 0 0 0 0 0 0 0 0 0 0 0 0 0 0 0 0 0 0 0 0 0 0 0 0 0 0 0 0 0 0 0 0 0 0 0 0 0 0 0 0 0 0 0 0 0 0 0 0 0 0 0 0 0 0 0 0 0 0 0 0 0 0 0 0 0 0 0 0 0 0 0 0 0 0 0 0 0 0 0 0 0 0 0\n",
            "\n",
            "Example 5:\n",
            "Original Text: Gloc 9 is not endorsing Jejomar Binay as his presidential bet  2016 Elections 2016 Polls\n",
            "Tokens: [CLS] gl ##oc 9 is not end ##ors ##ing jej ##oma ##r bina ##y as his presidential bet 2016 elections 2016 poll ##s [SEP]\n",
            "Input IDs: 101 68763 20731 130 10127 10497 11421 19249 10285 12678 16075 10131 67816 10158 10146 10235 25746 12976 10212 15716 10212 41066 10107 102 0 0 0 0 0 0 0 0 0 0 0 0 0 0 0 0 0 0 0 0 0 0 0 0 0 0 0 0 0 0 0 0 0 0 0 0 0 0 0 0 0 0 0 0 0 0 0 0 0 0 0 0 0 0 0 0 0 0 0 0 0 0 0 0 0 0 0 0 0 0 0 0 0 0 0 0 0 0 0 0 0 0 0 0 0 0 0 0 0 0 0 0 0 0 0 0 0 0 0 0 0 0 0 0 0 0 0 0 0 0 0 0 0 0 0 0 0 0 0 0 0 0 0 0 0 0 0 0 0 0 0 0 0 0 0 0 0 0 0 0 0 0 0 0 0 0 0 0 0 0 0 0 0 0 0 0 0 0 0 0 0 0 0 0 0 0 0 0 0 0 0 0 0 0 0 0 0 0 0 0 0 0 0 0 0 0 0 0 0 0 0 0 0 0 0 0 0 0 0 0 0 0 0 0 0 0 0 0 0 0 0 0 0 0 0 0 0 0 0 0 0 0 0 0 0 0\n",
            "Attention Mask: 1 1 1 1 1 1 1 1 1 1 1 1 1 1 1 1 1 1 1 1 1 1 1 1 0 0 0 0 0 0 0 0 0 0 0 0 0 0 0 0 0 0 0 0 0 0 0 0 0 0 0 0 0 0 0 0 0 0 0 0 0 0 0 0 0 0 0 0 0 0 0 0 0 0 0 0 0 0 0 0 0 0 0 0 0 0 0 0 0 0 0 0 0 0 0 0 0 0 0 0 0 0 0 0 0 0 0 0 0 0 0 0 0 0 0 0 0 0 0 0 0 0 0 0 0 0 0 0 0 0 0 0 0 0 0 0 0 0 0 0 0 0 0 0 0 0 0 0 0 0 0 0 0 0 0 0 0 0 0 0 0 0 0 0 0 0 0 0 0 0 0 0 0 0 0 0 0 0 0 0 0 0 0 0 0 0 0 0 0 0 0 0 0 0 0 0 0 0 0 0 0 0 0 0 0 0 0 0 0 0 0 0 0 0 0 0 0 0 0 0 0 0 0 0 0 0 0 0 0 0 0 0 0 0 0 0 0 0 0 0 0 0 0 0 0 0 0 0 0 0\n",
            "\n"
          ]
        }
      ],
      "source": [
        "# Print the original text, tokens, input IDs, and attention mask for the first few examples\n",
        "num_examples = 5  # Number of examples to display\n",
        "\n",
        "for i in range(num_examples):\n",
        "    print(f\"Example {i+1}:\")\n",
        "    print(\"Original Text:\", X_train.iloc[i])\n",
        "    print(\"Tokens:\", ' '.join(train_tokens[i][:MAX_LENGTH]))\n",
        "    print(\"Input IDs:\", ' '.join(map(str, train_input_ids[i][:MAX_LENGTH].tolist())))\n",
        "    print(\"Attention Mask:\", ' '.join(map(str, train_attention_masks[i][:MAX_LENGTH].tolist())))\n",
        "    print()"
      ]
    },
    {
      "cell_type": "markdown",
      "metadata": {
        "id": "xkiHZz1B1e9j"
      },
      "source": [
        "## Shuffle Train Data Function"
      ]
    },
    {
      "cell_type": "code",
      "execution_count": null,
      "metadata": {
        "id": "gnlsMXcpvtBA"
      },
      "outputs": [],
      "source": [
        "def shuffle_train_data(train_input_ids, train_attention_masks, train_labels):\n",
        "    # Combine the training data into a list of tuples\n",
        "    train_data = list(zip(train_input_ids, train_attention_masks, train_labels))\n",
        "\n",
        "    # Shuffle the training data\n",
        "    random.shuffle(train_data)\n",
        "\n",
        "    # Unpack the shuffled training data\n",
        "    train_input_ids, train_attention_masks, train_labels = zip(*train_data)\n",
        "\n",
        "    # Convert the unpacked data back to tensors\n",
        "    train_input_ids = torch.stack(train_input_ids)\n",
        "    train_attention_masks = torch.stack(train_attention_masks)\n",
        "    train_labels = torch.stack(train_labels)\n",
        "\n",
        "    return train_input_ids, train_attention_masks, train_labels"
      ]
    },
    {
      "cell_type": "markdown",
      "metadata": {
        "id": "GSIv7jE9-sUG"
      },
      "source": [
        "Shuffling of train data is done in between epochs to prevent the model from memorizing the labels."
      ]
    },
    {
      "cell_type": "markdown",
      "metadata": {
        "id": "6pQIqtUX1mhj"
      },
      "source": [
        "## Checkpoint Function"
      ]
    },
    {
      "cell_type": "code",
      "execution_count": null,
      "metadata": {
        "id": "nxpZDDXpWRhO"
      },
      "outputs": [],
      "source": [
        "def save_checkpoint(\n",
        "    model: nn.Module,\n",
        "    optimizer,\n",
        "    epoch: int,\n",
        "):\n",
        "    checkpoint_path = f'{MODEL_FOLDER}/bert_checkpoint.pth'\n",
        "    torch.save({\n",
        "        'model': model.state_dict(),\n",
        "        'optimizer': optimizer.state_dict(),\n",
        "    }, checkpoint_path)\n",
        "\n",
        "    print(f\"Saved checkpoint of epoch {epoch} at '{checkpoint_path}'\")\n",
        "\n",
        "def load_checkpoint():\n",
        "    checkpoint_path = f'{MODEL_FOLDER}/bert_checkpoint.pth'\n",
        "    try:\n",
        "        checkpoint = torch.load(checkpoint_path)\n",
        "        if checkpoint.keys() < {\n",
        "            'model',\n",
        "            'optimizer',\n",
        "        }:\n",
        "            print(\"ERROR: Checkpoint is the incorrect format\")\n",
        "            return None\n",
        "        return checkpoint\n",
        "    except FileNotFoundError:\n",
        "        print(f\"Checkpoint not found. Starting from scratch.\")\n",
        "        return None"
      ]
    },
    {
      "cell_type": "markdown",
      "metadata": {
        "id": "7EQPPR_z_N-C"
      },
      "source": [
        "A checkpoint is added to save the best model based on the accuracy."
      ]
    },
    {
      "cell_type": "markdown",
      "metadata": {
        "id": "aJoGy7gw1txm"
      },
      "source": [
        "## Training Loop"
      ]
    },
    {
      "cell_type": "code",
      "execution_count": null,
      "metadata": {
        "colab": {
          "base_uri": "https://localhost:8080/"
        },
        "id": "mb3-ioiXUzq2",
        "outputId": "4a500d1a-8375-40c7-bb9a-fd0351a7a6bb"
      },
      "outputs": [
        {
          "name": "stdout",
          "output_type": "stream",
          "text": [
            "Checkpoint not found. Starting from scratch.\n"
          ]
        },
        {
          "name": "stderr",
          "output_type": "stream",
          "text": []
        },
        {
          "name": "stdout",
          "output_type": "stream",
          "text": [
            "Saved checkpoint of epoch 1 at '/content/drive/MyDrive/models/model_bert_52/bert_checkpoint.pth'\n",
            "Epoch 1 | Train Loss: 0.4244 | Test Accuracy: 0.8403 | Precision: 0.8505 | Recall: 0.8289 | F1 Score: 0.8395\n"
          ]
        },
        {
          "name": "stderr",
          "output_type": "stream",
          "text": []
        },
        {
          "name": "stdout",
          "output_type": "stream",
          "text": [
            "Saved checkpoint of epoch 2 at '/content/drive/MyDrive/models/model_bert_52/bert_checkpoint.pth'\n",
            "Epoch 2 | Train Loss: 0.3069 | Test Accuracy: 0.8512 | Precision: 0.8122 | Recall: 0.9167 | F1 Score: 0.8613\n"
          ]
        }
      ],
      "source": [
        "# Custom data loader\n",
        "def data_loader(input_ids, attention_masks, labels, batch_size):\n",
        "    for i in range(0, len(input_ids), batch_size):\n",
        "        yield input_ids[i:i+batch_size], attention_masks[i:i+batch_size], labels[i:i+batch_size]\n",
        "\n",
        "optimizer = optim.Adam(model.parameters(), lr=LEARNING_RATE)\n",
        "loss_function = nn.CrossEntropyLoss()\n",
        "\n",
        "loss_values = []\n",
        "accuracy_values = []\n",
        "precision_values = []\n",
        "recall_values = []\n",
        "f1_values = []\n",
        "\n",
        "checkpoint_accuracy = load_checkpoint()\n",
        "\n",
        "if checkpoint_accuracy:\n",
        "    # Load checkpoint data\n",
        "    model.load_state_dict(checkpoint_accuracy['model'])\n",
        "    optimizer.load_state_dict(checkpoint_accuracy['optimizer'])\n",
        "\n",
        "loss_values = []\n",
        "accuracy_values = []\n",
        "precision_values = []\n",
        "recall_values = []\n",
        "f1_values = []\n",
        "top_accuracy = 0\n",
        "\n",
        "epoch_start = 1\n",
        "for epoch in range(MAX_EPOCHS):\n",
        "    model.train()\n",
        "    train_loss = 0\n",
        "\n",
        "    # Shuffle the training data after each epoch (starting from the second epoch)\n",
        "    if epoch > 0:\n",
        "        train_input_ids, train_attention_masks, train_labels = shuffle_train_data(\n",
        "            train_input_ids, train_attention_masks, train_labels\n",
        "        )\n",
        "\n",
        "    train_progress_bar = tqdm(data_loader(train_input_ids, train_attention_masks, train_labels, BATCH_SIZE), desc=f\"Epoch {epoch+1} Training\", leave=False)\n",
        "\n",
        "    for batch_input_ids, batch_attention_masks, batch_labels in train_progress_bar:\n",
        "        batch_input_ids = batch_input_ids.to(DEVICE)\n",
        "        batch_attention_masks = batch_attention_masks.to(DEVICE)\n",
        "        batch_labels = batch_labels.to(DEVICE)\n",
        "\n",
        "        optimizer.zero_grad()\n",
        "        outputs = model(batch_input_ids, attention_mask=batch_attention_masks)\n",
        "        loss = loss_function(outputs.logits, batch_labels)\n",
        "        train_loss += loss.item()\n",
        "        loss.backward()\n",
        "        optimizer.step()\n",
        "\n",
        "        train_progress_bar.set_postfix({\"Loss\": loss.item()})\n",
        "\n",
        "    train_loss /= len(train_input_ids) // BATCH_SIZE\n",
        "    loss_values.append(train_loss)\n",
        "\n",
        "    model.eval()\n",
        "    with torch.no_grad():\n",
        "        y_pred = []\n",
        "        y_true = []\n",
        "        test_progress_bar = tqdm(data_loader(test_input_ids, test_attention_masks, test_labels, BATCH_SIZE), desc=f\"Epoch {epoch+1} Testing\", leave=False)\n",
        "\n",
        "        for batch_input_ids, batch_attention_masks, batch_labels in test_progress_bar:\n",
        "            batch_input_ids = batch_input_ids.to(DEVICE)\n",
        "            batch_attention_masks = batch_attention_masks.to(DEVICE)\n",
        "            batch_labels = batch_labels.to(DEVICE)\n",
        "\n",
        "            outputs = model(batch_input_ids, attention_mask=batch_attention_masks)\n",
        "            predictions = argmax(outputs.logits, dim=1)\n",
        "            y_pred.extend(predictions.cpu().numpy())\n",
        "            y_true.extend(batch_labels.cpu().numpy())\n",
        "\n",
        "        test_progress_bar.close()\n",
        "\n",
        "        accuracy = accuracy_score(y_true, y_pred)\n",
        "        precision = precision_score(y_true, y_pred)\n",
        "        recall = recall_score(y_true, y_pred)\n",
        "        f1 = f1_score(y_true, y_pred)\n",
        "\n",
        "        accuracy_values.append(accuracy)\n",
        "        precision_values.append(precision)\n",
        "        recall_values.append(recall)\n",
        "        f1_values.append(f1)\n",
        "\n",
        "        if accuracy > top_accuracy:\n",
        "            top_accuracy = accuracy\n",
        "            save_checkpoint(\n",
        "                model,\n",
        "                optimizer,\n",
        "                epoch + 1,\n",
        "            )\n",
        "\n",
        "        print(f\"Epoch {epoch + 1} | Train Loss: {train_loss:.4f} | Test Accuracy: {accuracy:.4f} | Precision: {precision:.4f} | Recall: {recall:.4f} | F1 Score: {f1:.4f}\")\n",
        "\n",
        "        # Save the metrics for each epoch\n",
        "        epoch_results_df = pd.DataFrame({\n",
        "            'epoch': [epoch + 1],\n",
        "            'loss': [train_loss],\n",
        "            'accuracy': [accuracy],\n",
        "            'precision': [precision],\n",
        "            'recall': [recall],\n",
        "            'f1': [f1]\n",
        "        })\n",
        "        epoch_results_df.to_csv(f'{MODEL_FOLDER}/bert_results.csv', mode='a', header=not os.path.exists(f'{MODEL_FOLDER}/bert_results.csv'), index=False)"
      ]
    },
    {
      "cell_type": "markdown",
      "metadata": {
        "id": "xAUeWg0TB33K"
      },
      "source": [
        "Using an **optimizer** can gradually improve and learn from the data it's analyzing. It helps fine-tune the BERT model's parameters so it can make more accurate predictions, like better identifying hate speech, as it processes more text.\n",
        "\n",
        "**Cross entropy** measures how well the model is doing at classifying the text it's analyzing. It looks at the difference between the model's predictions and the actual correct labels, and tries to minimize this difference so the model can make more accurate classifications."
      ]
    },
    {
      "cell_type": "markdown",
      "metadata": {
        "id": "yZVhYgWH1yGe"
      },
      "source": [
        "## Load Checkpoint"
      ]
    },
    {
      "cell_type": "code",
      "execution_count": null,
      "metadata": {
        "colab": {
          "base_uri": "https://localhost:8080/"
        },
        "id": "NmZzgzBNPnfA",
        "outputId": "64453a96-9f2d-4869-bbb4-d301258beea4"
      },
      "outputs": [
        {
          "name": "stdout",
          "output_type": "stream",
          "text": [
            "Loaded best checkpoint\n"
          ]
        }
      ],
      "source": [
        "best_checkpoint = load_checkpoint()\n",
        "if best_checkpoint:\n",
        "    model.load_state_dict(best_checkpoint['model'])\n",
        "    print(f\"Loaded best checkpoint\")"
      ]
    },
    {
      "cell_type": "markdown",
      "metadata": {
        "id": "lyhK4ACQ13oN"
      },
      "source": [
        "## Confusion Matrix"
      ]
    },
    {
      "cell_type": "code",
      "execution_count": null,
      "metadata": {
        "colab": {
          "base_uri": "https://localhost:8080/",
          "height": 472
        },
        "id": "SdkVoucFVE6_",
        "outputId": "93c77676-bca9-48f6-ba04-c093ab3c1621"
      },
      "outputs": [
        {
          "data": {
            "image/png": "[encoded data removed]",
            "text/plain": [
              "<Figure size 640x480 with 2 Axes>"
            ]
          },
          "metadata": {},
          "output_type": "display_data"
        }
      ],
      "source": [
        "y_pred = []\n",
        "y_true = []\n",
        "\n",
        "with torch.no_grad():\n",
        "    for batch_input_ids, batch_attention_masks, batch_labels in data_loader(test_input_ids, test_attention_masks, test_labels, BATCH_SIZE):\n",
        "        batch_input_ids = batch_input_ids.to(DEVICE)\n",
        "        batch_attention_masks = batch_attention_masks.to(DEVICE)\n",
        "        batch_labels = batch_labels.to(DEVICE)\n",
        "\n",
        "        outputs = model(batch_input_ids, attention_mask=batch_attention_masks)\n",
        "        predictions = argmax(outputs.logits, dim=1)\n",
        "        y_pred.extend(predictions.cpu().numpy())\n",
        "        y_true.extend(batch_labels.cpu().numpy())\n",
        "\n",
        "conf_matrix = confusion_matrix(y_true, y_pred)\n",
        "conf_matrix_display = ConfusionMatrixDisplay(conf_matrix)\n",
        "conf_matrix_display.plot()\n",
        "plt.title(\"BERT\")\n",
        "plt.show()"
      ]
    }
  ],
  "metadata": {
    "accelerator": "GPU",
    "colab": {
      "gpuType": "T4",
      "machine_shape": "hm",
      "provenance": []
    },
    "kernelspec": {
      "display_name": "Python 3",
      "name": "python3"
    },
    "language_info": {
      "name": "python",
      "version": "3.9.12"
    }
  },
  "nbformat": 4,
  "nbformat_minor": 0
}
