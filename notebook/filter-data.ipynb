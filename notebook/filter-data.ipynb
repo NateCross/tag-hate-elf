{
 "cells": [
  {
   "cell_type": "markdown",
   "metadata": {},
   "source": [
    "# Text Analysis and Visualization Notebook\n",
    "\n",
    "This notebook processes a CSV file containing text data, cleans the text by removing markdown formatting and URLs, filters out non-Tagalog or Taglish text based on a specified confidence threshold, and visualizes the results. The goal is to identify and analyze Filipino phrases in the dataset.\n"
   ]
  },
  {
   "cell_type": "code",
   "execution_count": 1,
   "metadata": {},
   "outputs": [
    {
     "name": "stderr",
     "output_type": "stream",
     "text": [
      "/tmp/ipykernel_15765/2065884607.py:2: DeprecationWarning: \n",
      "Pyarrow will become a required dependency of pandas in the next major release of pandas (pandas 3.0),\n",
      "(to allow more performant data types, such as the Arrow string type, and better interoperability with other libraries)\n",
      "but was not found to be installed on your system.\n",
      "If this would cause problems for you,\n",
      "please provide us feedback at https://github.com/pandas-dev/pandas/issues/54466\n",
      "        \n",
      "  import pandas as pd\n"
     ]
    }
   ],
   "source": [
    "# Import necessary libraries\n",
    "import pandas as pd\n",
    "from lingua import Language, LanguageDetectorBuilder  # Placeholder for actual import if using a different library\n",
    "from markdown import Markdown\n",
    "from io import StringIO\n",
    "import re\n",
    "import matplotlib.pyplot as plt\n",
    "import emoji\n",
    "from tqdm.auto import tqdm # Import tqdm for fancy progress bars"
   ]
  },
  {
   "cell_type": "markdown",
   "metadata": {},
   "source": [
    "## Configuration\n",
    "\n",
    "Set the path to the CSV file and the threshold for identifying Tagalog content."
   ]
  },
  {
   "cell_type": "code",
   "execution_count": 2,
   "metadata": {},
   "outputs": [],
   "source": [
    "# Configuration variables\n",
    "CSV_FILENAME = 'data-Philippines-20240214-124912-hot.csv'  # Path to the CSV file\n",
    "TAGALOG_THRESHOLD = 0.5  # Threshold for Tagalog content detection\n",
    "\n",
    "# Initialize the language detector with the specified languages\n",
    "languages = [Language.ENGLISH, Language.TAGALOG]\n",
    "\n",
    "# Ensure the Tagalog threshold is within the valid range\n",
    "if not (0.00 <= TAGALOG_THRESHOLD <= 1.00):\n",
    "    print(\"ERROR: Tagalog threshold must be between 0.0 and 1.0\")\n",
    "    exit(1)"
   ]
  },
  {
   "cell_type": "markdown",
   "metadata": {},
   "source": [
    "## Initialization"
   ]
  },
  {
   "cell_type": "code",
   "execution_count": 3,
   "metadata": {},
   "outputs": [],
   "source": [
    "detector = LanguageDetectorBuilder.from_languages(*languages).build()"
   ]
  },
  {
   "cell_type": "markdown",
   "metadata": {},
   "source": [
    "## Text Processing Functions\n",
    "\n",
    "Define functions to clean the text data by removing markdown formatting, URLs, and Reddit usernames."
   ]
  },
  {
   "cell_type": "code",
   "execution_count": 4,
   "metadata": {},
   "outputs": [],
   "source": [
    "# Function to convert markdown formatted text to plain text\n",
    "def unmark_element(element, stream=None):\n",
    "    if stream is None:\n",
    "        stream = StringIO()\n",
    "    if element.text:\n",
    "        stream.write(element.text)\n",
    "    for sub in element:\n",
    "        unmark_element(sub, stream)\n",
    "    if element.tail:\n",
    "        stream.write(element.tail)\n",
    "    return stream.getvalue()\n",
    "\n",
    "# Patching the Markdown library to add a plain text output format\n",
    "Markdown.output_formats[\"plain\"] = unmark_element\n",
    "__md = Markdown(output_format=\"plain\")\n",
    "__md.stripTopLevelTags = False\n",
    "\n",
    "# Wrapper function to convert markdown text to plain text\n",
    "def unmark(text):\n",
    "    return __md.convert(text)\n",
    "\n",
    "# Function to remove URLs from a text string and replace them with '[LINK]'\n",
    "def remove_urls(text):\n",
    "    url_pattern = re.compile(r'http\\S+', re.IGNORECASE)\n",
    "    return url_pattern.sub('[LINK]', text)\n",
    "\n",
    "# Function to remove Reddit usernames from a text string and replace them with '[USERNAME]'\n",
    "def remove_usernames(text):\n",
    "    username_pattern = re.compile(r\"/?u/[A-Za-z0-9_-]+\", re.IGNORECASE)\n",
    "    return username_pattern.sub('[USERNAME]', text)\n",
    "\n",
    "# Function to remove emojis using the emoji python library\n",
    "def remove_emojis(text):\n",
    "    return emoji.replace_emoji(text, '')\n",
    "\n",
    "# Replace escape sequences with a space\n",
    "def remove_escape_sequences(text):\n",
    "    escape_pattern = re.compile(r'[\\r\\n\\t]', re.IGNORECASE)\n",
    "    return escape_pattern.sub(' ', text)"
   ]
  },
  {
   "cell_type": "markdown",
   "metadata": {},
   "source": [
    "## Main Data Processing & Saving Processed Data\n",
    "\n",
    "Read the CSV file, process the text data, filter based on the Tagalog content threshold, and count the number of Filipino phrases identified. Save the filtered and processed data to a new CSV file.\n"
   ]
  },
  {
   "cell_type": "code",
   "execution_count": 5,
   "metadata": {},
   "outputs": [],
   "source": [
    "# Read the CSV file\n",
    "try:\n",
    "    csv_data = pd.read_csv(CSV_FILENAME, lineterminator='\\n', header=0, names=[\n",
    "        'submission_name',\n",
    "        'submission_text',\n",
    "        'body',\n",
    "    ])\n",
    "except FileNotFoundError:\n",
    "    print(\"ERROR: File not found\")\n",
    "    exit(1)"
   ]
  },
  {
   "cell_type": "code",
   "execution_count": 6,
   "metadata": {},
   "outputs": [
    {
     "data": {
      "text/html": [
       "<div>\n",
       "<style scoped>\n",
       "    .dataframe tbody tr th:only-of-type {\n",
       "        vertical-align: middle;\n",
       "    }\n",
       "\n",
       "    .dataframe tbody tr th {\n",
       "        vertical-align: top;\n",
       "    }\n",
       "\n",
       "    .dataframe thead th {\n",
       "        text-align: right;\n",
       "    }\n",
       "</style>\n",
       "<table border=\"1\" class=\"dataframe\">\n",
       "  <thead>\n",
       "    <tr style=\"text-align: right;\">\n",
       "      <th></th>\n",
       "      <th>submission_name</th>\n",
       "      <th>submission_text</th>\n",
       "      <th>body</th>\n",
       "    </tr>\n",
       "  </thead>\n",
       "  <tbody>\n",
       "    <tr>\n",
       "      <th>0</th>\n",
       "      <td>Weekly help thread - Feb 12, 2024</td>\n",
       "      <td>Need help on something? Whether it's about hea...</td>\n",
       "      <td>What time po nagbubukas ang dangwa? Thanks po ...</td>\n",
       "    </tr>\n",
       "    <tr>\n",
       "      <th>1</th>\n",
       "      <td>Weekly help thread - Feb 12, 2024</td>\n",
       "      <td>Need help on something? Whether it's about hea...</td>\n",
       "      <td>Hello pwede bang blangko muna petsa sa itinera...</td>\n",
       "    </tr>\n",
       "    <tr>\n",
       "      <th>2</th>\n",
       "      <td>Weekly help thread - Feb 12, 2024</td>\n",
       "      <td>Need help on something? Whether it's about hea...</td>\n",
       "      <td>Good Day! help lang po for tips. I am starting...</td>\n",
       "    </tr>\n",
       "    <tr>\n",
       "      <th>3</th>\n",
       "      <td>Weekly help thread - Feb 12, 2024</td>\n",
       "      <td>Need help on something? Whether it's about hea...</td>\n",
       "      <td>How do you folks find room for rent na solo mo...</td>\n",
       "    </tr>\n",
       "    <tr>\n",
       "      <th>4</th>\n",
       "      <td>Weekly help thread - Feb 12, 2024</td>\n",
       "      <td>Need help on something? Whether it's about hea...</td>\n",
       "      <td>Pano po umorder ng cake sa California</td>\n",
       "    </tr>\n",
       "    <tr>\n",
       "      <th>...</th>\n",
       "      <td>...</td>\n",
       "      <td>...</td>\n",
       "      <td>...</td>\n",
       "    </tr>\n",
       "    <tr>\n",
       "      <th>820</th>\n",
       "      <td>Happy birthday, Enrile /s</td>\n",
       "      <td>NaN</td>\n",
       "      <td>Enrile's fart was the BIG BANG</td>\n",
       "    </tr>\n",
       "    <tr>\n",
       "      <th>821</th>\n",
       "      <td>Happy birthday, Enrile /s</td>\n",
       "      <td>NaN</td>\n",
       "      <td>Age estimate lang ni manong johnny yan haha no...</td>\n",
       "    </tr>\n",
       "    <tr>\n",
       "      <th>822</th>\n",
       "      <td>Happy birthday, Enrile /s</td>\n",
       "      <td>NaN</td>\n",
       "      <td>Stem Cells? More like literally sipping abando...</td>\n",
       "    </tr>\n",
       "    <tr>\n",
       "      <th>823</th>\n",
       "      <td>Happy birthday, Enrile /s</td>\n",
       "      <td>NaN</td>\n",
       "      <td>Baka next 10 years pa (hope I'm lying)</td>\n",
       "    </tr>\n",
       "    <tr>\n",
       "      <th>824</th>\n",
       "      <td>Happy birthday, Enrile /s</td>\n",
       "      <td>NaN</td>\n",
       "      <td>He saw how it all began and he shall see it wh...</td>\n",
       "    </tr>\n",
       "  </tbody>\n",
       "</table>\n",
       "<p>825 rows × 3 columns</p>\n",
       "</div>"
      ],
      "text/plain": [
       "                       submission_name  \\\n",
       "0    Weekly help thread - Feb 12, 2024   \n",
       "1    Weekly help thread - Feb 12, 2024   \n",
       "2    Weekly help thread - Feb 12, 2024   \n",
       "3    Weekly help thread - Feb 12, 2024   \n",
       "4    Weekly help thread - Feb 12, 2024   \n",
       "..                                 ...   \n",
       "820          Happy birthday, Enrile /s   \n",
       "821          Happy birthday, Enrile /s   \n",
       "822          Happy birthday, Enrile /s   \n",
       "823          Happy birthday, Enrile /s   \n",
       "824          Happy birthday, Enrile /s   \n",
       "\n",
       "                                       submission_text  \\\n",
       "0    Need help on something? Whether it's about hea...   \n",
       "1    Need help on something? Whether it's about hea...   \n",
       "2    Need help on something? Whether it's about hea...   \n",
       "3    Need help on something? Whether it's about hea...   \n",
       "4    Need help on something? Whether it's about hea...   \n",
       "..                                                 ...   \n",
       "820                                                NaN   \n",
       "821                                                NaN   \n",
       "822                                                NaN   \n",
       "823                                                NaN   \n",
       "824                                                NaN   \n",
       "\n",
       "                                                  body  \n",
       "0    What time po nagbubukas ang dangwa? Thanks po ...  \n",
       "1    Hello pwede bang blangko muna petsa sa itinera...  \n",
       "2    Good Day! help lang po for tips. I am starting...  \n",
       "3    How do you folks find room for rent na solo mo...  \n",
       "4                Pano po umorder ng cake sa California  \n",
       "..                                                 ...  \n",
       "820                     Enrile's fart was the BIG BANG  \n",
       "821  Age estimate lang ni manong johnny yan haha no...  \n",
       "822  Stem Cells? More like literally sipping abando...  \n",
       "823             Baka next 10 years pa (hope I'm lying)  \n",
       "824  He saw how it all began and he shall see it wh...  \n",
       "\n",
       "[825 rows x 3 columns]"
      ]
     },
     "execution_count": 6,
     "metadata": {},
     "output_type": "execute_result"
    }
   ],
   "source": [
    "csv_data"
   ]
  },
  {
   "cell_type": "markdown",
   "metadata": {},
   "source": [
    "## Count Before Filtering\n",
    "Start by capturing the count of rows in your DataFrame before applying any filters:"
   ]
  },
  {
   "cell_type": "code",
   "execution_count": 7,
   "metadata": {},
   "outputs": [
    {
     "name": "stdout",
     "output_type": "stream",
     "text": [
      "Count before filtering: 825\n"
     ]
    }
   ],
   "source": [
    "# Count the number of rows before filtering\n",
    "count_before_filtering = len(csv_data)\n",
    "\n",
    "print(f\"Count before filtering: {count_before_filtering}\")"
   ]
  },
  {
   "cell_type": "code",
   "execution_count": 8,
   "metadata": {},
   "outputs": [
    {
     "data": {
      "text/html": [
       "<div>\n",
       "<style scoped>\n",
       "    .dataframe tbody tr th:only-of-type {\n",
       "        vertical-align: middle;\n",
       "    }\n",
       "\n",
       "    .dataframe tbody tr th {\n",
       "        vertical-align: top;\n",
       "    }\n",
       "\n",
       "    .dataframe thead th {\n",
       "        text-align: right;\n",
       "    }\n",
       "</style>\n",
       "<table border=\"1\" class=\"dataframe\">\n",
       "  <thead>\n",
       "    <tr style=\"text-align: right;\">\n",
       "      <th></th>\n",
       "      <th>submission_name</th>\n",
       "      <th>submission_text</th>\n",
       "      <th>body</th>\n",
       "      <th>label</th>\n",
       "    </tr>\n",
       "  </thead>\n",
       "  <tbody>\n",
       "    <tr>\n",
       "      <th>0</th>\n",
       "      <td>Weekly help thread - Feb 12, 2024</td>\n",
       "      <td>Need help on something? Whether it's about hea...</td>\n",
       "      <td>What time po nagbubukas ang dangwa? Thanks po ...</td>\n",
       "      <td></td>\n",
       "    </tr>\n",
       "    <tr>\n",
       "      <th>1</th>\n",
       "      <td>Weekly help thread - Feb 12, 2024</td>\n",
       "      <td>Need help on something? Whether it's about hea...</td>\n",
       "      <td>Hello pwede bang blangko muna petsa sa itinera...</td>\n",
       "      <td></td>\n",
       "    </tr>\n",
       "    <tr>\n",
       "      <th>2</th>\n",
       "      <td>Weekly help thread - Feb 12, 2024</td>\n",
       "      <td>Need help on something? Whether it's about hea...</td>\n",
       "      <td>Good Day! help lang po for tips. I am starting...</td>\n",
       "      <td></td>\n",
       "    </tr>\n",
       "    <tr>\n",
       "      <th>3</th>\n",
       "      <td>Weekly help thread - Feb 12, 2024</td>\n",
       "      <td>Need help on something? Whether it's about hea...</td>\n",
       "      <td>How do you folks find room for rent na solo mo...</td>\n",
       "      <td></td>\n",
       "    </tr>\n",
       "    <tr>\n",
       "      <th>4</th>\n",
       "      <td>Weekly help thread - Feb 12, 2024</td>\n",
       "      <td>Need help on something? Whether it's about hea...</td>\n",
       "      <td>Pano po umorder ng cake sa California</td>\n",
       "      <td></td>\n",
       "    </tr>\n",
       "    <tr>\n",
       "      <th>...</th>\n",
       "      <td>...</td>\n",
       "      <td>...</td>\n",
       "      <td>...</td>\n",
       "      <td>...</td>\n",
       "    </tr>\n",
       "    <tr>\n",
       "      <th>820</th>\n",
       "      <td>Happy birthday, Enrile /s</td>\n",
       "      <td>NaN</td>\n",
       "      <td>Enrile's fart was the BIG BANG</td>\n",
       "      <td></td>\n",
       "    </tr>\n",
       "    <tr>\n",
       "      <th>821</th>\n",
       "      <td>Happy birthday, Enrile /s</td>\n",
       "      <td>NaN</td>\n",
       "      <td>Age estimate lang ni manong johnny yan haha no...</td>\n",
       "      <td></td>\n",
       "    </tr>\n",
       "    <tr>\n",
       "      <th>822</th>\n",
       "      <td>Happy birthday, Enrile /s</td>\n",
       "      <td>NaN</td>\n",
       "      <td>Stem Cells? More like literally sipping abando...</td>\n",
       "      <td></td>\n",
       "    </tr>\n",
       "    <tr>\n",
       "      <th>823</th>\n",
       "      <td>Happy birthday, Enrile /s</td>\n",
       "      <td>NaN</td>\n",
       "      <td>Baka next 10 years pa (hope I'm lying)</td>\n",
       "      <td></td>\n",
       "    </tr>\n",
       "    <tr>\n",
       "      <th>824</th>\n",
       "      <td>Happy birthday, Enrile /s</td>\n",
       "      <td>NaN</td>\n",
       "      <td>He saw how it all began and he shall see it wh...</td>\n",
       "      <td></td>\n",
       "    </tr>\n",
       "  </tbody>\n",
       "</table>\n",
       "<p>825 rows × 4 columns</p>\n",
       "</div>"
      ],
      "text/plain": [
       "                       submission_name  \\\n",
       "0    Weekly help thread - Feb 12, 2024   \n",
       "1    Weekly help thread - Feb 12, 2024   \n",
       "2    Weekly help thread - Feb 12, 2024   \n",
       "3    Weekly help thread - Feb 12, 2024   \n",
       "4    Weekly help thread - Feb 12, 2024   \n",
       "..                                 ...   \n",
       "820          Happy birthday, Enrile /s   \n",
       "821          Happy birthday, Enrile /s   \n",
       "822          Happy birthday, Enrile /s   \n",
       "823          Happy birthday, Enrile /s   \n",
       "824          Happy birthday, Enrile /s   \n",
       "\n",
       "                                       submission_text  \\\n",
       "0    Need help on something? Whether it's about hea...   \n",
       "1    Need help on something? Whether it's about hea...   \n",
       "2    Need help on something? Whether it's about hea...   \n",
       "3    Need help on something? Whether it's about hea...   \n",
       "4    Need help on something? Whether it's about hea...   \n",
       "..                                                 ...   \n",
       "820                                                NaN   \n",
       "821                                                NaN   \n",
       "822                                                NaN   \n",
       "823                                                NaN   \n",
       "824                                                NaN   \n",
       "\n",
       "                                                  body label  \n",
       "0    What time po nagbubukas ang dangwa? Thanks po ...        \n",
       "1    Hello pwede bang blangko muna petsa sa itinera...        \n",
       "2    Good Day! help lang po for tips. I am starting...        \n",
       "3    How do you folks find room for rent na solo mo...        \n",
       "4                Pano po umorder ng cake sa California        \n",
       "..                                                 ...   ...  \n",
       "820                     Enrile's fart was the BIG BANG        \n",
       "821  Age estimate lang ni manong johnny yan haha no...        \n",
       "822  Stem Cells? More like literally sipping abando...        \n",
       "823             Baka next 10 years pa (hope I'm lying)        \n",
       "824  He saw how it all began and he shall see it wh...        \n",
       "\n",
       "[825 rows x 4 columns]"
      ]
     },
     "execution_count": 8,
     "metadata": {},
     "output_type": "execute_result"
    }
   ],
   "source": [
    "# Add a blank 'label' column for annotation\n",
    "csv_data['label'] = ''\n",
    "\n",
    "csv_data"
   ]
  },
  {
   "cell_type": "code",
   "execution_count": 9,
   "metadata": {},
   "outputs": [],
   "source": [
    "filipino_phrases = 0  # Counter for Filipino phrases"
   ]
  },
  {
   "cell_type": "code",
   "execution_count": 10,
   "metadata": {},
   "outputs": [
    {
     "data": {
      "application/json": {
       "ascii": false,
       "bar_format": null,
       "colour": null,
       "elapsed": 0.010722875595092773,
       "initial": 0,
       "n": 0,
       "ncols": null,
       "nrows": 39,
       "postfix": null,
       "prefix": "LINES",
       "rate": null,
       "total": 825,
       "unit": "it",
       "unit_divisor": 1000,
       "unit_scale": false
      },
      "application/vnd.jupyter.widget-view+json": {
       "model_id": "8ebd52ec8daf4875b7f94cd28545001e",
       "version_major": 2,
       "version_minor": 0
      },
      "text/plain": [
       "LINES:   0%|          | 0/825 [00:00<?, ?it/s]"
      ]
     },
     "metadata": {},
     "output_type": "display_data"
    },
    {
     "name": "stdout",
     "output_type": "stream",
     "text": [
      "Finished cleaning and filtering\n"
     ]
    }
   ],
   "source": [
    "for row in tqdm(csv_data.itertuples(), total=count_before_filtering, desc=\"LINES\"):  # Iterate over each row in the CSV\n",
    "    text = str(row.body)  # Convert to string to handle non-string data\n",
    "\n",
    "    # Clean the text by removing markdown, URLs, usernames, & emojis\n",
    "    text = unmark(text)\n",
    "    text = remove_urls(text)\n",
    "    text = remove_usernames(text)\n",
    "    text = remove_emojis(text)\n",
    "    text = remove_escape_sequences(text)\n",
    "\n",
    "    # Compute the confidence of the text being Tagalog\n",
    "    result = detector.compute_language_confidence(text, Language.TAGALOG)\n",
    "    \n",
    "    # If the confidence is above the threshold, consider it a Filipino phrase\n",
    "    if result >= TAGALOG_THRESHOLD:\n",
    "        filipino_phrases += 1\n",
    "        csv_data.at[row.Index, 'body'] = text  # Update the text in the CSV\n",
    "    else:\n",
    "        csv_data.drop(row.Index, inplace=True)  # Drop rows that don't meet the threshold\n",
    "\n",
    "print(\"Finished cleaning and filtering\")"
   ]
  },
  {
   "cell_type": "code",
   "execution_count": 11,
   "metadata": {},
   "outputs": [
    {
     "name": "stdout",
     "output_type": "stream",
     "text": [
      "Total: 462 / 825\n"
     ]
    }
   ],
   "source": [
    "print(f\"Total: {filipino_phrases} / {count_before_filtering}\")  # Print the total number of Filipino phrases found"
   ]
  },
  {
   "cell_type": "code",
   "execution_count": 12,
   "metadata": {},
   "outputs": [
    {
     "name": "stdout",
     "output_type": "stream",
     "text": [
      "Filtered data saved to data-Philippines-20240214-124912-hot-filtered.csv\n"
     ]
    }
   ],
   "source": [
    "# Save the filtered CSV\n",
    "filtered_filename = CSV_FILENAME.replace('.csv', '-filtered.csv')\n",
    "csv_data.to_csv(filtered_filename, index=False)  # Prevent index from being saved as a column\n",
    "\n",
    "print(f\"Filtered data saved to {filtered_filename}\")"
   ]
  },
  {
   "cell_type": "markdown",
   "metadata": {},
   "source": [
    "## Visualization of Filtering Effect\n",
    "\n",
    "To understand the impact of our filtering based on the Tagalog content threshold, we will visualize the number of comments in the dataset before and after the filtering process. This will help us gauge the extent of data reduction and ensure that the filtering aligns with our expectations."
   ]
  },
  {
   "cell_type": "code",
   "execution_count": 13,
   "metadata": {},
   "outputs": [
    {
     "data": {
      "image/png": "[encoded data removed]",
      "text/plain": [
       "<Figure size 1000x600 with 1 Axes>"
      ]
     },
     "metadata": {},
     "output_type": "display_data"
    }
   ],
   "source": [
    "plt.figure(figsize=(10, 6))\n",
    "plt.bar(['Before Filtering', 'After Filtering'], [count_before_filtering, filipino_phrases], color=['blue', 'green'])\n",
    "plt.title('Effect of Filtering on Dataset Size')\n",
    "plt.ylabel('Number of Comments')\n",
    "plt.show()"
   ]
  }
 ],
 "metadata": {
  "kernelspec": {
   "display_name": "Python 3 (ipykernel)",
   "language": "python",
   "name": "python3"
  },
  "language_info": {
   "codemirror_mode": {
    "name": "ipython",
    "version": 3
   },
   "file_extension": ".py",
   "mimetype": "text/x-python",
   "name": "python",
   "nbconvert_exporter": "python",
   "pygments_lexer": "ipython3",
   "version": "3.9.12"
  }
 },
 "nbformat": 4,
 "nbformat_minor": 4
}
