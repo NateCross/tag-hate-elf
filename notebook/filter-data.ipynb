{
 "cells": [
  {
   "cell_type": "markdown",
   "metadata": {},
   "source": [
    "# Text Analysis and Visualization Notebook\n",
    "\n",
    "This notebook processes a CSV file containing text data, cleans the text by removing markdown formatting and URLs, filters out non-Tagalog or Taglish text based on a specified confidence threshold, and visualizes the results. The goal is to identify and analyze Filipino phrases in the dataset.\n"
   ]
  },
  {
   "cell_type": "code",
   "execution_count": 10,
   "metadata": {},
   "outputs": [],
   "source": [
    "# Import necessary libraries\n",
    "import pandas as pd\n",
    "from lingua import Language, LanguageDetectorBuilder  # Placeholder for actual import if using a different library\n",
    "from markdown import Markdown\n",
    "from io import StringIO\n",
    "import re\n",
    "import matplotlib.pyplot as plt"
   ]
  },
  {
   "cell_type": "markdown",
   "metadata": {},
   "source": [
    "## Configuration\n",
    "\n",
    "Set the path to the CSV file and the threshold for identifying Tagalog content."
   ]
  },
  {
   "cell_type": "code",
   "execution_count": 11,
   "metadata": {},
   "outputs": [],
   "source": [
    "# Configuration variables\n",
    "CSV_FILENAME = input()  # Path to the CSV file\n",
    "TAGALOG_THRESHOLD = 0.5  # Threshold for Tagalog content detection\n",
    "\n",
    "# Initialize the language detector with the specified languages\n",
    "languages = [Language.ENGLISH, Language.TAGALOG]\n",
    "\n",
    "# Ensure the Tagalog threshold is within the valid range\n",
    "if not (0.00 <= TAGALOG_THRESHOLD <= 1.00):\n",
    "    print(\"ERROR: Tagalog threshold must be between 0.0 and 1.0\")\n",
    "    exit(1)"
   ]
  },
  {
   "cell_type": "markdown",
   "metadata": {},
   "source": [
    "## Initialization"
   ]
  },
  {
   "cell_type": "code",
   "execution_count": 12,
   "metadata": {},
   "outputs": [],
   "source": [
    "detector = LanguageDetectorBuilder.from_languages(*languages).build()"
   ]
  },
  {
   "cell_type": "markdown",
   "metadata": {},
   "source": [
    "## Text Processing Functions\n",
    "\n",
    "Define functions to clean the text data by removing markdown formatting, URLs, and Reddit usernames."
   ]
  },
  {
   "cell_type": "code",
   "execution_count": 13,
   "metadata": {},
   "outputs": [],
   "source": [
    "# Function to convert markdown formatted text to plain text\n",
    "def unmark_element(element, stream=None):\n",
    "    if stream is None:\n",
    "        stream = StringIO()\n",
    "    if element.text:\n",
    "        stream.write(element.text)\n",
    "    for sub in element:\n",
    "        unmark_element(sub, stream)\n",
    "    if element.tail:\n",
    "        stream.write(element.tail)\n",
    "    return stream.getvalue()\n",
    "\n",
    "# Patching the Markdown library to add a plain text output format\n",
    "Markdown.output_formats[\"plain\"] = unmark_element\n",
    "__md = Markdown(output_format=\"plain\")\n",
    "__md.stripTopLevelTags = False\n",
    "\n",
    "# Wrapper function to convert markdown text to plain text\n",
    "def unmark(text):\n",
    "    return __md.convert(text)\n",
    "\n",
    "# Function to remove URLs from a text string and replace them with '[LINK]'\n",
    "def remove_urls(text):\n",
    "    url_pattern = re.compile(r'http\\S+', re.IGNORECASE)\n",
    "    return url_pattern.sub('[LINK]', text)\n",
    "\n",
    "# Function to remove Reddit usernames from a text string and replace them with '[USERNAME]'\n",
    "def remove_usernames(text):\n",
    "    username_pattern = re.compile(r\"/?u/[A-Za-z0-9_-]+\", re.IGNORECASE)\n",
    "    return username_pattern.sub('[USERNAME]', text)"
   ]
  },
  {
   "cell_type": "markdown",
   "metadata": {},
   "source": [
    "## Main Data Processing & Saving Processed Data\n",
    "\n",
    "Read the CSV file, process the text data, filter based on the Tagalog content threshold, and count the number of Filipino phrases identified. Save the filtered and processed data to a new CSV file.\n"
   ]
  },
  {
   "cell_type": "code",
   "execution_count": 14,
   "metadata": {},
   "outputs": [
    {
     "data": {
      "text/html": [
       "<div>\n",
       "<style scoped>\n",
       "    .dataframe tbody tr th:only-of-type {\n",
       "        vertical-align: middle;\n",
       "    }\n",
       "\n",
       "    .dataframe tbody tr th {\n",
       "        vertical-align: top;\n",
       "    }\n",
       "\n",
       "    .dataframe thead th {\n",
       "        text-align: right;\n",
       "    }\n",
       "</style>\n",
       "<table border=\"1\" class=\"dataframe\">\n",
       "  <thead>\n",
       "    <tr style=\"text-align: right;\">\n",
       "      <th></th>\n",
       "      <th>submission_name</th>\n",
       "      <th>submission_text</th>\n",
       "      <th>body</th>\n",
       "    </tr>\n",
       "  </thead>\n",
       "  <tbody>\n",
       "    <tr>\n",
       "      <th>0</th>\n",
       "      <td>Weekly help thread - Feb 05, 2024</td>\n",
       "      <td>Need help on something? Whether it's about hea...</td>\n",
       "      <td>I want to start vlogging and I'm going to use ...</td>\n",
       "    </tr>\n",
       "    <tr>\n",
       "      <th>1</th>\n",
       "      <td>Weekly help thread - Feb 05, 2024</td>\n",
       "      <td>Need help on something? Whether it's about hea...</td>\n",
       "      <td>Hi Po need lang Po nang Help kc Po. May Visa a...</td>\n",
       "    </tr>\n",
       "    <tr>\n",
       "      <th>2</th>\n",
       "      <td>Weekly help thread - Feb 05, 2024</td>\n",
       "      <td>Need help on something? Whether it's about hea...</td>\n",
       "      <td>NBI HIT\\nGot an incident pero suoer tagal, 24 ...</td>\n",
       "    </tr>\n",
       "    <tr>\n",
       "      <th>3</th>\n",
       "      <td>Weekly help thread - Feb 05, 2024</td>\n",
       "      <td>Need help on something? Whether it's about hea...</td>\n",
       "      <td>Hi! Hope somebody can help me with knowing wha...</td>\n",
       "    </tr>\n",
       "    <tr>\n",
       "      <th>4</th>\n",
       "      <td>Weekly help thread - Feb 05, 2024</td>\n",
       "      <td>Need help on something? Whether it's about hea...</td>\n",
       "      <td>Planning to buy dumbbell and my last lift was ...</td>\n",
       "    </tr>\n",
       "    <tr>\n",
       "      <th>...</th>\n",
       "      <td>...</td>\n",
       "      <td>...</td>\n",
       "      <td>...</td>\n",
       "    </tr>\n",
       "    <tr>\n",
       "      <th>1133</th>\n",
       "      <td>Nice modern jeep with a more traditional vibe ...</td>\n",
       "      <td>NaN</td>\n",
       "      <td>Don't you worry, wala naman pinephase out. Han...</td>\n",
       "    </tr>\n",
       "    <tr>\n",
       "      <th>1134</th>\n",
       "      <td>Nice modern jeep with a more traditional vibe ...</td>\n",
       "      <td>NaN</td>\n",
       "      <td>can you elaborate anong proseso dapat ang gawi...</td>\n",
       "    </tr>\n",
       "    <tr>\n",
       "      <th>1135</th>\n",
       "      <td>Nice modern jeep with a more traditional vibe ...</td>\n",
       "      <td>NaN</td>\n",
       "      <td>Sorry, struggling with my Tagalog. No aircon? ...</td>\n",
       "    </tr>\n",
       "    <tr>\n",
       "      <th>1136</th>\n",
       "      <td>Nice modern jeep with a more traditional vibe ...</td>\n",
       "      <td>NaN</td>\n",
       "      <td>Oh geez, di naman sinabi na walang ilalabas na...</td>\n",
       "    </tr>\n",
       "    <tr>\n",
       "      <th>1137</th>\n",
       "      <td>Nice modern jeep with a more traditional vibe ...</td>\n",
       "      <td>NaN</td>\n",
       "      <td>then answer my question, wala bang support ang...</td>\n",
       "    </tr>\n",
       "  </tbody>\n",
       "</table>\n",
       "<p>1138 rows × 3 columns</p>\n",
       "</div>"
      ],
      "text/plain": [
       "                                        submission_name  \\\n",
       "0                     Weekly help thread - Feb 05, 2024   \n",
       "1                     Weekly help thread - Feb 05, 2024   \n",
       "2                     Weekly help thread - Feb 05, 2024   \n",
       "3                     Weekly help thread - Feb 05, 2024   \n",
       "4                     Weekly help thread - Feb 05, 2024   \n",
       "...                                                 ...   \n",
       "1133  Nice modern jeep with a more traditional vibe ...   \n",
       "1134  Nice modern jeep with a more traditional vibe ...   \n",
       "1135  Nice modern jeep with a more traditional vibe ...   \n",
       "1136  Nice modern jeep with a more traditional vibe ...   \n",
       "1137  Nice modern jeep with a more traditional vibe ...   \n",
       "\n",
       "                                        submission_text  \\\n",
       "0     Need help on something? Whether it's about hea...   \n",
       "1     Need help on something? Whether it's about hea...   \n",
       "2     Need help on something? Whether it's about hea...   \n",
       "3     Need help on something? Whether it's about hea...   \n",
       "4     Need help on something? Whether it's about hea...   \n",
       "...                                                 ...   \n",
       "1133                                                NaN   \n",
       "1134                                                NaN   \n",
       "1135                                                NaN   \n",
       "1136                                                NaN   \n",
       "1137                                                NaN   \n",
       "\n",
       "                                                   body  \n",
       "0     I want to start vlogging and I'm going to use ...  \n",
       "1     Hi Po need lang Po nang Help kc Po. May Visa a...  \n",
       "2     NBI HIT\\nGot an incident pero suoer tagal, 24 ...  \n",
       "3     Hi! Hope somebody can help me with knowing wha...  \n",
       "4     Planning to buy dumbbell and my last lift was ...  \n",
       "...                                                 ...  \n",
       "1133  Don't you worry, wala naman pinephase out. Han...  \n",
       "1134  can you elaborate anong proseso dapat ang gawi...  \n",
       "1135  Sorry, struggling with my Tagalog. No aircon? ...  \n",
       "1136  Oh geez, di naman sinabi na walang ilalabas na...  \n",
       "1137  then answer my question, wala bang support ang...  \n",
       "\n",
       "[1138 rows x 3 columns]"
      ]
     },
     "execution_count": 14,
     "metadata": {},
     "output_type": "execute_result"
    }
   ],
   "source": [
    "# Read the CSV file\n",
    "try:\n",
    "    csv_data = pd.read_csv(CSV_FILENAME, lineterminator='\\n')\n",
    "except FileNotFoundError:\n",
    "    print(\"ERROR: File not found\")\n",
    "    exit(1)\n",
    "\n",
    "csv_data"
   ]
  },
  {
   "cell_type": "markdown",
   "metadata": {},
   "source": [
    "## Count Before Filtering\n",
    "Start by capturing the count of rows in your DataFrame before applying any filters:"
   ]
  },
  {
   "cell_type": "code",
   "execution_count": 15,
   "metadata": {},
   "outputs": [
    {
     "name": "stdout",
     "output_type": "stream",
     "text": [
      "Count before filtering: 1138\n"
     ]
    }
   ],
   "source": [
    "# Count the number of rows before filtering\n",
    "count_before_filtering = len(csv_data)\n",
    "\n",
    "print(f\"Count before filtering: {count_before_filtering}\")"
   ]
  },
  {
   "cell_type": "code",
   "execution_count": 17,
   "metadata": {},
   "outputs": [
    {
     "data": {
      "text/html": [
       "<div>\n",
       "<style scoped>\n",
       "    .dataframe tbody tr th:only-of-type {\n",
       "        vertical-align: middle;\n",
       "    }\n",
       "\n",
       "    .dataframe tbody tr th {\n",
       "        vertical-align: top;\n",
       "    }\n",
       "\n",
       "    .dataframe thead th {\n",
       "        text-align: right;\n",
       "    }\n",
       "</style>\n",
       "<table border=\"1\" class=\"dataframe\">\n",
       "  <thead>\n",
       "    <tr style=\"text-align: right;\">\n",
       "      <th></th>\n",
       "      <th>submission_name</th>\n",
       "      <th>submission_text</th>\n",
       "      <th>body</th>\n",
       "      <th>label</th>\n",
       "    </tr>\n",
       "  </thead>\n",
       "  <tbody>\n",
       "    <tr>\n",
       "      <th>0</th>\n",
       "      <td>Weekly help thread - Feb 05, 2024</td>\n",
       "      <td>Need help on something? Whether it's about hea...</td>\n",
       "      <td>I want to start vlogging and I'm going to use ...</td>\n",
       "      <td></td>\n",
       "    </tr>\n",
       "    <tr>\n",
       "      <th>1</th>\n",
       "      <td>Weekly help thread - Feb 05, 2024</td>\n",
       "      <td>Need help on something? Whether it's about hea...</td>\n",
       "      <td>Hi Po need lang Po nang Help kc Po. May Visa a...</td>\n",
       "      <td></td>\n",
       "    </tr>\n",
       "    <tr>\n",
       "      <th>2</th>\n",
       "      <td>Weekly help thread - Feb 05, 2024</td>\n",
       "      <td>Need help on something? Whether it's about hea...</td>\n",
       "      <td>NBI HIT\\nGot an incident pero suoer tagal, 24 ...</td>\n",
       "      <td></td>\n",
       "    </tr>\n",
       "    <tr>\n",
       "      <th>3</th>\n",
       "      <td>Weekly help thread - Feb 05, 2024</td>\n",
       "      <td>Need help on something? Whether it's about hea...</td>\n",
       "      <td>Hi! Hope somebody can help me with knowing wha...</td>\n",
       "      <td></td>\n",
       "    </tr>\n",
       "    <tr>\n",
       "      <th>4</th>\n",
       "      <td>Weekly help thread - Feb 05, 2024</td>\n",
       "      <td>Need help on something? Whether it's about hea...</td>\n",
       "      <td>Planning to buy dumbbell and my last lift was ...</td>\n",
       "      <td></td>\n",
       "    </tr>\n",
       "    <tr>\n",
       "      <th>...</th>\n",
       "      <td>...</td>\n",
       "      <td>...</td>\n",
       "      <td>...</td>\n",
       "      <td>...</td>\n",
       "    </tr>\n",
       "    <tr>\n",
       "      <th>1133</th>\n",
       "      <td>Nice modern jeep with a more traditional vibe ...</td>\n",
       "      <td>NaN</td>\n",
       "      <td>Don't you worry, wala naman pinephase out. Han...</td>\n",
       "      <td></td>\n",
       "    </tr>\n",
       "    <tr>\n",
       "      <th>1134</th>\n",
       "      <td>Nice modern jeep with a more traditional vibe ...</td>\n",
       "      <td>NaN</td>\n",
       "      <td>can you elaborate anong proseso dapat ang gawi...</td>\n",
       "      <td></td>\n",
       "    </tr>\n",
       "    <tr>\n",
       "      <th>1135</th>\n",
       "      <td>Nice modern jeep with a more traditional vibe ...</td>\n",
       "      <td>NaN</td>\n",
       "      <td>Sorry, struggling with my Tagalog. No aircon? ...</td>\n",
       "      <td></td>\n",
       "    </tr>\n",
       "    <tr>\n",
       "      <th>1136</th>\n",
       "      <td>Nice modern jeep with a more traditional vibe ...</td>\n",
       "      <td>NaN</td>\n",
       "      <td>Oh geez, di naman sinabi na walang ilalabas na...</td>\n",
       "      <td></td>\n",
       "    </tr>\n",
       "    <tr>\n",
       "      <th>1137</th>\n",
       "      <td>Nice modern jeep with a more traditional vibe ...</td>\n",
       "      <td>NaN</td>\n",
       "      <td>then answer my question, wala bang support ang...</td>\n",
       "      <td></td>\n",
       "    </tr>\n",
       "  </tbody>\n",
       "</table>\n",
       "<p>1138 rows × 4 columns</p>\n",
       "</div>"
      ],
      "text/plain": [
       "                                        submission_name  \\\n",
       "0                     Weekly help thread - Feb 05, 2024   \n",
       "1                     Weekly help thread - Feb 05, 2024   \n",
       "2                     Weekly help thread - Feb 05, 2024   \n",
       "3                     Weekly help thread - Feb 05, 2024   \n",
       "4                     Weekly help thread - Feb 05, 2024   \n",
       "...                                                 ...   \n",
       "1133  Nice modern jeep with a more traditional vibe ...   \n",
       "1134  Nice modern jeep with a more traditional vibe ...   \n",
       "1135  Nice modern jeep with a more traditional vibe ...   \n",
       "1136  Nice modern jeep with a more traditional vibe ...   \n",
       "1137  Nice modern jeep with a more traditional vibe ...   \n",
       "\n",
       "                                        submission_text  \\\n",
       "0     Need help on something? Whether it's about hea...   \n",
       "1     Need help on something? Whether it's about hea...   \n",
       "2     Need help on something? Whether it's about hea...   \n",
       "3     Need help on something? Whether it's about hea...   \n",
       "4     Need help on something? Whether it's about hea...   \n",
       "...                                                 ...   \n",
       "1133                                                NaN   \n",
       "1134                                                NaN   \n",
       "1135                                                NaN   \n",
       "1136                                                NaN   \n",
       "1137                                                NaN   \n",
       "\n",
       "                                                   body label  \n",
       "0     I want to start vlogging and I'm going to use ...        \n",
       "1     Hi Po need lang Po nang Help kc Po. May Visa a...        \n",
       "2     NBI HIT\\nGot an incident pero suoer tagal, 24 ...        \n",
       "3     Hi! Hope somebody can help me with knowing wha...        \n",
       "4     Planning to buy dumbbell and my last lift was ...        \n",
       "...                                                 ...   ...  \n",
       "1133  Don't you worry, wala naman pinephase out. Han...        \n",
       "1134  can you elaborate anong proseso dapat ang gawi...        \n",
       "1135  Sorry, struggling with my Tagalog. No aircon? ...        \n",
       "1136  Oh geez, di naman sinabi na walang ilalabas na...        \n",
       "1137  then answer my question, wala bang support ang...        \n",
       "\n",
       "[1138 rows x 4 columns]"
      ]
     },
     "execution_count": 17,
     "metadata": {},
     "output_type": "execute_result"
    }
   ],
   "source": [
    "# Add a blank 'label' column for annotation\n",
    "csv_data['label'] = ''\n",
    "\n",
    "csv_data"
   ]
  },
  {
   "cell_type": "code",
   "execution_count": 18,
   "metadata": {},
   "outputs": [],
   "source": [
    "from tqdm.auto import tqdm # Import tqdm for fancy progress bars\n",
    "\n",
    "filipino_phrases = 0  # Counter for Filipino phrases"
   ]
  },
  {
   "cell_type": "code",
   "execution_count": 19,
   "metadata": {},
   "outputs": [
    {
     "name": "stderr",
     "output_type": "stream",
     "text": [
      "LINES: 100%|██████████| 1138/1138 [00:05<00:00, 210.55it/s]"
     ]
    },
    {
     "name": "stdout",
     "output_type": "stream",
     "text": [
      "Finished cleaning and filtering\n"
     ]
    },
    {
     "name": "stderr",
     "output_type": "stream",
     "text": [
      "\n"
     ]
    }
   ],
   "source": [
    "for row in tqdm(csv_data.itertuples(), total=count_before_filtering, desc=\"LINES\"):  # Iterate over each row in the CSV\n",
    "    text = str(row.body)  # Convert to string to handle non-string data\n",
    "\n",
    "    # Clean the text by removing markdown, URLs, & usernames\n",
    "    text = unmark(text)\n",
    "    text = remove_urls(text)\n",
    "    text = remove_usernames(text)\n",
    "\n",
    "    # Compute the confidence of the text being Tagalog\n",
    "    result = detector.compute_language_confidence(text, Language.TAGALOG)\n",
    "    \n",
    "    # If the confidence is above the threshold, consider it a Filipino phrase\n",
    "    if result >= TAGALOG_THRESHOLD:\n",
    "        filipino_phrases += 1\n",
    "        csv_data.at[row.Index, 'body'] = text  # Update the text in the CSV\n",
    "    else:\n",
    "        csv_data.drop(row.Index, inplace=True)  # Drop rows that don't meet the threshold\n",
    "\n",
    "print(\"Finished cleaning and filtering\")"
   ]
  },
  {
   "cell_type": "code",
   "execution_count": 20,
   "metadata": {},
   "outputs": [
    {
     "name": "stdout",
     "output_type": "stream",
     "text": [
      "Total: 523 / 1138\n"
     ]
    }
   ],
   "source": [
    "print(f\"Total: {filipino_phrases} / {count_before_filtering}\")  # Print the total number of Filipino phrases found"
   ]
  },
  {
   "cell_type": "code",
   "execution_count": 21,
   "metadata": {},
   "outputs": [
    {
     "name": "stdout",
     "output_type": "stream",
     "text": [
      "Filtered data saved to testing-filtered.csv\n"
     ]
    }
   ],
   "source": [
    "# Save the filtered CSV\n",
    "filtered_filename = CSV_FILENAME.replace('.csv', '-filtered.csv')\n",
    "csv_data.to_csv(filtered_filename, index=False)  # Prevent index from being saved as a column\n",
    "\n",
    "print(f\"Filtered data saved to {filtered_filename}\")"
   ]
  },
  {
   "cell_type": "markdown",
   "metadata": {},
   "source": [
    "## Visualization of Filtering Effect\n",
    "\n",
    "To understand the impact of our filtering based on the Tagalog content threshold, we will visualize the number of comments in the dataset before and after the filtering process. This will help us gauge the extent of data reduction and ensure that the filtering aligns with our expectations."
   ]
  },
  {
   "cell_type": "code",
   "execution_count": 22,
   "metadata": {},
   "outputs": [
    {
     "data": {
      "image/png": "[encoded data removed]",
      "text/plain": [
       "<Figure size 1000x600 with 1 Axes>"
      ]
     },
     "metadata": {},
     "output_type": "display_data"
    }
   ],
   "source": [
    "plt.figure(figsize=(10, 6))\n",
    "plt.bar(['Before Filtering', 'After Filtering'], [count_before_filtering, filipino_phrases], color=['blue', 'green'])\n",
    "plt.title('Effect of Filtering on Dataset Size')\n",
    "plt.ylabel('Number of Comments')\n",
    "plt.show()"
   ]
  }
 ],
 "metadata": {
  "kernelspec": {
   "display_name": "Python 3 (ipykernel)",
   "language": "python",
   "name": "python3"
  },
  "language_info": {
   "codemirror_mode": {
    "name": "ipython",
    "version": 3
   },
   "file_extension": ".py",
   "mimetype": "text/x-python",
   "name": "python",
   "nbconvert_exporter": "python",
   "pygments_lexer": "ipython3",
   "version": "3.12.1"
  }
 },
 "nbformat": 4,
 "nbformat_minor": 4
}
