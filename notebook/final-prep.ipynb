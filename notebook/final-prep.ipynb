{
 "cells": [
  {
   "cell_type": "markdown",
   "metadata": {},
   "source": [
    "# Data Preprocessing and Undersampling\n",
    "\n",
    "This notebook demonstrates the process of reading a CSV file, preprocessing its headers, filtering the data, and applying undersampling to balance the dataset. This is particularly useful in machine learning tasks where class imbalance could bias the model training.\n",
    "\n",
    "## Features:\n",
    "- Preprocess CSV headers to remove unwanted characters.\n",
    "- Read the CSV data into a pandas DataFrame.\n",
    "- Filter the data by removing specific columns and rows with missing values.\n",
    "- Apply undersampling to balance the dataset.\n",
    "- Visualize the distribution of classes before and after undersampling.\n",
    "- Save the processed data to a new CSV file."
   ]
  },
  {
   "cell_type": "markdown",
   "metadata": {},
   "source": [
    "## Setup and Imports\n",
    "\n",
    "Before running this notebook, ensure you have installed the necessary Python packages required for your specific environment."
   ]
  },
  {
   "cell_type": "code",
   "execution_count": 1,
   "metadata": {},
   "outputs": [
    {
     "name": "stdout",
     "output_type": "stream",
     "text": [
      "Intel MKL WARNING: Support of Intel(R) Streaming SIMD Extensions 4.2 (Intel(R) SSE4.2) enabled only processors has been deprecated. Intel oneAPI Math Kernel Library 2025.0 will require Intel(R) Advanced Vector Extensions (Intel(R) AVX) instructions.\n",
      "Intel MKL WARNING: Support of Intel(R) Streaming SIMD Extensions 4.2 (Intel(R) SSE4.2) enabled only processors has been deprecated. Intel oneAPI Math Kernel Library 2025.0 will require Intel(R) Advanced Vector Extensions (Intel(R) AVX) instructions.\n"
     ]
    }
   ],
   "source": [
    "import pandas as pd\n",
    "from imblearn.under_sampling import RandomUnderSampler\n",
    "import matplotlib.pyplot as plt"
   ]
  },
  {
   "cell_type": "markdown",
   "metadata": {},
   "source": [
    "## Configuration\n",
    "\n",
    "Specify the path to the CSV file and other relevant settings here.\n"
   ]
  },
  {
   "cell_type": "code",
   "execution_count": 2,
   "metadata": {},
   "outputs": [],
   "source": [
    "CSV_FILENAME = 'testingthis.csv'  # Adjust the path to your CSV file"
   ]
  },
  {
   "cell_type": "markdown",
   "metadata": {},
   "source": [
    "## Preprocessing Function\n",
    "\n",
    "Define a function to preprocess the CSV headers, particularly to clean up the 4th column header."
   ]
  },
  {
   "cell_type": "code",
   "execution_count": 3,
   "metadata": {},
   "outputs": [],
   "source": [
    "def preprocess_header(file_path):\n",
    "    with open(file_path, 'r', encoding='utf-8') as file:\n",
    "        headers = file.readline().strip().split(',')\n",
    "        \n",
    "    if len(headers) >= 4:\n",
    "        headers[3] = headers[3].replace('\\r', '')\n",
    "    return headers"
   ]
  },
  {
   "cell_type": "markdown",
   "metadata": {},
   "source": [
    "## Data Loading and Preprocessing\n",
    "\n",
    "Load the CSV data with the corrected headers and perform initial data filtering."
   ]
  },
  {
   "cell_type": "code",
   "execution_count": 4,
   "metadata": {},
   "outputs": [],
   "source": [
    "headers = preprocess_header(CSV_FILENAME)\n",
    "csv_data = pd.read_csv(CSV_FILENAME, lineterminator='\\n', header=None, skiprows=1, names=headers)\n",
    "csv_data = csv_data.drop(columns=['submission_name', 'submission_text'])\n",
    "csv_data = csv_data[pd.to_numeric(csv_data['label'], errors='coerce').notnull()]"
   ]
  },
  {
   "cell_type": "markdown",
   "metadata": {},
   "source": [
    "## Undersampling\n",
    "\n",
    "Apply undersampling to balance the dataset, focusing on the distribution of the 'label' column."
   ]
  },
  {
   "cell_type": "code",
   "execution_count": 5,
   "metadata": {},
   "outputs": [],
   "source": [
    "sampler = RandomUnderSampler(random_state=42)\n",
    "X = csv_data.iloc[:, 0].values.reshape(-1, 1)\n",
    "y = csv_data.iloc[:, 1]\n",
    "\n",
    "X_resampled, y_resampled = sampler.fit_resample(X, y)\n",
    "resampled_data = pd.DataFrame(list(zip(X_resampled.flatten(), y_resampled)), columns=['text', 'label'])"
   ]
  },
  {
   "cell_type": "markdown",
   "metadata": {},
   "source": [
    "## Save Processed Data\n",
    "\n",
    "Save the undersampled dataset to a new CSV file."
   ]
  },
  {
   "cell_type": "code",
   "execution_count": 6,
   "metadata": {},
   "outputs": [
    {
     "name": "stdout",
     "output_type": "stream",
     "text": [
      "Processed data saved to testingthis-final.csv\n"
     ]
    }
   ],
   "source": [
    "final_filename = CSV_FILENAME.replace('.csv', '-final.csv')\n",
    "resampled_data.to_csv(final_filename, index=False)\n",
    "print(f\"Processed data saved to {final_filename}\")"
   ]
  },
  {
   "cell_type": "markdown",
   "metadata": {},
   "source": [
    "## Visualization\n",
    "\n",
    "Visualize the class distribution before and after undersampling to understand the effect.\n"
   ]
  },
  {
   "cell_type": "code",
   "execution_count": 7,
   "metadata": {},
   "outputs": [
    {
     "data": {
      "image/png": "[encoded data removed]",
      "text/plain": [
       "<Figure size 1400x500 with 2 Axes>"
      ]
     },
     "metadata": {},
     "output_type": "display_data"
    }
   ],
   "source": [
    "fig, axs = plt.subplots(1, 2, figsize=(14, 5), sharey=True)\n",
    "\n",
    "# Before undersampling\n",
    "axs[0].bar(csv_data['label'].value_counts().index, csv_data['label'].value_counts().values, color='skyblue')\n",
    "axs[0].set_title('Before Undersampling')\n",
    "axs[0].set_xlabel('Label')\n",
    "axs[0].set_ylabel('Count')\n",
    "\n",
    "# After undersampling\n",
    "axs[1].bar(resampled_data['label'].value_counts().index, resampled_data['label'].value_counts().values, color='lightgreen')\n",
    "axs[1].set_title('After Undersampling')\n",
    "axs[1].set_xlabel('Label')\n",
    "\n",
    "plt.show()"
   ]
  },
  {
   "cell_type": "code",
   "execution_count": null,
   "metadata": {},
   "outputs": [],
   "source": []
  }
 ],
 "metadata": {
  "kernelspec": {
   "display_name": "Hate-Speech",
   "language": "python",
   "name": "python3"
  },
  "language_info": {
   "codemirror_mode": {
    "name": "ipython",
    "version": 3
   },
   "file_extension": ".py",
   "mimetype": "text/x-python",
   "name": "python",
   "nbconvert_exporter": "python",
   "pygments_lexer": "ipython3",
   "version": "3.12.1"
  }
 },
 "nbformat": 4,
 "nbformat_minor": 2
}
