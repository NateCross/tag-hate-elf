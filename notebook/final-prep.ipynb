{
 "cells": [
  {
   "cell_type": "markdown",
   "metadata": {},
   "source": [
    "# Data Preprocessing and Undersampling\n",
    "\n",
    "This notebook demonstrates the process of reading a CSV file, preprocessing its headers, filtering the data, and applying undersampling to balance the dataset. This is particularly useful in machine learning tasks where class imbalance could bias the model training.\n",
    "\n",
    "## Features:\n",
    "- Preprocess CSV headers to remove unwanted characters.\n",
    "- Read the CSV data into a pandas DataFrame.\n",
    "- Filter the data by removing specific columns and rows with missing values.\n",
    "- Apply undersampling to balance the dataset.\n",
    "- Visualize the distribution of classes before and after undersampling.\n",
    "- Save the processed data to a new CSV file."
   ]
  },
  {
   "cell_type": "markdown",
   "metadata": {},
   "source": [
    "## Setup and Imports\n",
    "\n",
    "Before running this notebook, ensure you have installed the necessary Python packages required for your specific environment."
   ]
  },
  {
   "cell_type": "code",
   "execution_count": null,
   "metadata": {},
   "outputs": [],
   "source": [
    "import pandas as pd\n",
    "from imblearn.under_sampling import RandomUnderSampler\n",
    "import matplotlib.pyplot as plt"
   ]
  },
  {
   "cell_type": "markdown",
   "metadata": {},
   "source": [
    "## Configuration\n",
    "\n",
    "Specify the path to the CSV file and other relevant settings here.\n"
   ]
  },
  {
   "cell_type": "code",
   "execution_count": null,
   "metadata": {},
   "outputs": [],
   "source": [
    "CSV_FILENAME = 'annotated.csv'   # Adjust the path to your CSV file"
   ]
  },
  {
   "cell_type": "markdown",
   "metadata": {},
   "source": [
    "## Data Loading and Preprocessing\n",
    "\n",
    "Load the CSV data with the corrected headers and perform initial data filtering."
   ]
  },
  {
   "cell_type": "code",
   "execution_count": null,
   "metadata": {},
   "outputs": [],
   "source": [
    "try:\n",
    "    csv = pd.read_csv(CSV_FILENAME, lineterminator='\\n')\n",
    "except FileNotFoundError:\n",
    "    print(\"ERROR: File not found\")\n",
    "    exit(1)"
   ]
  },
  {
   "cell_type": "code",
   "execution_count": null,
   "metadata": {},
   "outputs": [],
   "source": [
    "csv"
   ]
  },
  {
   "cell_type": "code",
   "execution_count": null,
   "metadata": {},
   "outputs": [],
   "source": [
    "# Drop submission-related columns\n",
    "csv = csv.drop(columns=[\n",
    "    'submission_name',\n",
    "    'submission_text',\n",
    "    '\\r',   # Windows may append \\r and it becomes considered\n",
    "            # as its own column. This prevents that\n",
    "], errors='ignore')\n",
    "\n",
    "csv"
   ]
  },
  {
   "cell_type": "code",
   "execution_count": null,
   "metadata": {},
   "outputs": [],
   "source": [
    "# Drop all rows whose labels are not 0 or 1\n",
    "csv = pd.concat([\n",
    "    csv[csv['label'] == '0'], \n",
    "    csv[csv['label'] == '1'],\n",
    "])\n",
    "\n",
    "csv"
   ]
  },
  {
   "cell_type": "code",
   "execution_count": null,
   "metadata": {},
   "outputs": [],
   "source": [
    "# Drop all columns with no header\n",
    "# Prevents errors from having other unnecessary data in other columns\n",
    "# It selects the values of columns whose header does not\n",
    "# begin with 'Unnamed'\n",
    "csv = csv.loc[:, ~csv.columns.str.contains('^Unnamed')]\n",
    "\n",
    "csv"
   ]
  },
  {
   "cell_type": "code",
   "execution_count": null,
   "metadata": {},
   "outputs": [],
   "source": [
    "# Drop all rows with no text\n",
    "csv = csv.dropna(subset='body')"
   ]
  },
  {
   "cell_type": "code",
   "execution_count": null,
   "metadata": {},
   "outputs": [],
   "source": [
    "# Extract X and y from the csv, this allows the data to be\n",
    "# undersampled\n",
    "X = csv.iloc[:, 0]\n",
    "y = csv.iloc[:, 1]\n",
    "\n",
    "X\n",
    "y"
   ]
  },
  {
   "cell_type": "code",
   "execution_count": null,
   "metadata": {},
   "outputs": [],
   "source": [
    "# Reshape X into a 2D array to be compatible with the undersampler\n",
    "X = X.values.reshape(-1, 1)\n",
    "\n",
    "X"
   ]
  },
  {
   "cell_type": "markdown",
   "metadata": {},
   "source": [
    "## Undersampling\n",
    "\n",
    "Apply undersampling to balance the dataset, focusing on the distribution of the 'label' column."
   ]
  },
  {
   "cell_type": "code",
   "execution_count": null,
   "metadata": {},
   "outputs": [],
   "source": [
    "sampler = RandomUnderSampler(random_state=42)"
   ]
  },
  {
   "cell_type": "code",
   "execution_count": null,
   "metadata": {},
   "outputs": [],
   "source": [
    "# Undersample the dataX\n",
    "try:\n",
    "    X_resampled, y_resampled = sampler.fit_resample(X, y)\n",
    "except ValueError:\n",
    "    print(\"ERROR: Insufficient data\")\n",
    "    exit(1)"
   ]
  },
  {
   "cell_type": "code",
   "execution_count": null,
   "metadata": {},
   "outputs": [],
   "source": [
    "X_resampled\n",
    "y_resampled"
   ]
  },
  {
   "cell_type": "code",
   "execution_count": null,
   "metadata": {},
   "outputs": [],
   "source": [
    "# Flatten X again after resampling so it returns to\n",
    "# a 1D list\n",
    "X_resampled = X_resampled.flatten()\n",
    "\n",
    "X_resampled"
   ]
  },
  {
   "cell_type": "code",
   "execution_count": null,
   "metadata": {},
   "outputs": [],
   "source": [
    "# Make a new dataframe with the resampled data\n",
    "# These columns have the same name as the \n",
    "# 2016 and 2022 PH Hate Speech dataset\n",
    "final_csv = pd.DataFrame(\n",
    "    list(zip(X_resampled, y_resampled)),\n",
    "    columns=['text', 'label']\n",
    ")\n",
    "\n",
    "final_csv"
   ]
  },
  {
   "cell_type": "markdown",
   "metadata": {},
   "source": [
    "## Save Processed Data\n",
    "\n",
    "Save the undersampled dataset to a new CSV file."
   ]
  },
  {
   "cell_type": "code",
   "execution_count": null,
   "metadata": {},
   "outputs": [],
   "source": [
    "final_filename = CSV_FILENAME.replace('.csv', '-final.csv')\n",
    "final_csv.to_csv(final_filename, index=False)\n",
    "print(f\"Processed data saved to {final_filename}\")"
   ]
  },
  {
   "cell_type": "markdown",
   "metadata": {},
   "source": [
    "## Visualization\n",
    "\n",
    "Visualize the class distribution before and after undersampling to understand the effect.\n"
   ]
  },
  {
   "cell_type": "code",
   "execution_count": null,
   "metadata": {},
   "outputs": [],
   "source": [
    "fig, axs = plt.subplots(1, 2, figsize=(14, 5), sharey=True)\n",
    "\n",
    "# Before undersampling\n",
    "axs[0].bar(csv['label'].value_counts().index, csv['label'].value_counts().values, color='skyblue')\n",
    "axs[0].set_title('Before Undersampling')\n",
    "axs[0].set_xlabel('Label')\n",
    "axs[0].set_ylabel('Count')\n",
    "\n",
    "# After undersampling\n",
    "axs[1].bar(final_csv['label'].value_counts().index, final_csv['label'].value_counts().values, color='lightgreen')\n",
    "axs[1].set_title('After Undersampling')\n",
    "axs[1].set_xlabel('Label')\n",
    "\n",
    "plt.show()"
   ]
  }
 ],
 "metadata": {
  "kernelspec": {
   "display_name": "Python 3 (ipykernel)",
   "language": "python",
   "name": "python3"
  },
  "language_info": {
   "codemirror_mode": {
    "name": "ipython",
    "version": 3
   },
   "file_extension": ".py",
   "mimetype": "text/x-python",
   "name": "python",
   "nbconvert_exporter": "python",
   "pygments_lexer": "ipython3",
   "version": "3.9.12"
  }
 },
 "nbformat": 4,
 "nbformat_minor": 4
}
