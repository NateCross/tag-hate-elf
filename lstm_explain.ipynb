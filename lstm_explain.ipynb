{
 "cells": [
  {
   "cell_type": "markdown",
   "metadata": {},
   "source": [
    "# LSTM"
   ]
  },
  {
   "cell_type": "markdown",
   "metadata": {},
   "source": [
    "![Alt text](assets/image.png)"
   ]
  },
  {
   "cell_type": "markdown",
   "metadata": {},
   "source": [
    "## Forget Gate"
   ]
  },
  {
   "cell_type": "markdown",
   "metadata": {},
   "source": [
    "![Alt text](assets/image-4.png)"
   ]
  },
  {
   "cell_type": "markdown",
   "metadata": {},
   "source": [
    "$ f_t = sigmoid(W_f * [h_{t-1},x_t] + b_f) $\n",
    "\n",
    "Forget gate decides what information will be retained in the cell state.\n",
    "\n",
    "Multiply the weight of the forget gate $ W_t $ with previous state $ h_{t-1} $ and current input $ x_t $. Add the bias of the forget gate $ b_f $.\n",
    "\n",
    "The sigmoid function turns this into a value between 0 and 1 indicating how much percent of cell state to keep."
   ]
  },
  {
   "cell_type": "markdown",
   "metadata": {},
   "source": [
    "```python\n",
    "\n",
    "```"
   ]
  },
  {
   "cell_type": "markdown",
   "metadata": {},
   "source": [
    "## Input Gate"
   ]
  },
  {
   "cell_type": "markdown",
   "metadata": {},
   "source": [
    "![Alt text](assets/image-5.png)"
   ]
  },
  {
   "cell_type": "markdown",
   "metadata": {},
   "source": [
    "$ i_t = sigmoid(W_i * [h_{t-1},x_t] + b_i) $\n",
    "\n",
    "The input gate decides which values to update in the cell state and by how much.\n",
    "\n",
    "$ \\~{C_t} = tanh(W_C * [h_{t-1},x_t] + b_C) $\n",
    "\n",
    "$ \\~{C_t} $ determines the new values to be added to the cell state."
   ]
  },
  {
   "cell_type": "markdown",
   "metadata": {},
   "source": [
    "## Cell State"
   ]
  },
  {
   "cell_type": "markdown",
   "metadata": {},
   "source": [
    "![Alt text](assets/image-1.png)"
   ]
  },
  {
   "cell_type": "markdown",
   "metadata": {},
   "source": [
    "$ C_t = f_t * C_{t-1} + i_t * \\tilde{C} $\n",
    "\n",
    "Cell state is the long term memory. It forgets some information from the previous step in the sequence, then adds new information calculated from the input gate, forming the updated cell state."
   ]
  },
  {
   "cell_type": "markdown",
   "metadata": {},
   "source": [
    "## Output Gate"
   ]
  },
  {
   "cell_type": "markdown",
   "metadata": {},
   "source": [
    "![Alt text](./assets/image-6.png)"
   ]
  },
  {
   "cell_type": "markdown",
   "metadata": {},
   "source": [
    "$ o_t = sigmoid(W_o [h_{t-1},x_t] + b_o) $\n",
    "\n",
    "The output gate determines which values in the cell state will be forwarded.\n",
    "\n",
    "$ h_t = o_t * tanh(C_t) $\n",
    "\n",
    "The hidden state calculates the output by multiplying the output gate and a $ tanh $-filtered cell state. It doubly functions as the short term memory for the next input in the sequence.\n",
    "\n",
    "The `hidden_size` parameter determines the size, or dimensions, of the hidden state."
   ]
  },
  {
   "cell_type": "markdown",
   "metadata": {},
   "source": [
    "## Source"
   ]
  },
  {
   "cell_type": "markdown",
   "metadata": {},
   "source": [
    "https://github.com/pytorch/pytorch/blob/9347a79f1c35c76535310111d1c50bada4e975a8/aten/src/ATen/native/RNN.cpp#L716"
   ]
  },
  {
   "cell_type": "markdown",
   "metadata": {},
   "source": [
    "Get result of $ W_h(h_{t-1}) + W_i(x_t) + b_h + b_i $\n",
    "```cpp\n",
    "const auto gates = params.linear_hh(hx).add_(\n",
    "    pre_compute_input ? input : params.linear_ih(input));\n",
    "```\n",
    "\n",
    "Apply activation to each gate\n",
    "```cpp\n",
    "auto chunked_gates = gates.unsafe_chunk(4, 1);\n",
    "auto ingate = chunked_gates[0].sigmoid_();\n",
    "auto forgetgate = chunked_gates[1].sigmoid_();\n",
    "auto cellgate = chunked_gates[2].tanh_();\n",
    "auto outgate = chunked_gates[3].sigmoid_();\n",
    "```\n",
    "\n",
    "Update cell state (long term) and hidden state (short term)\n",
    "```cpp\n",
    "auto cy = (forgetgate * cx).add_(ingate * cellgate);\n",
    "auto hy = outgate * cy.tanh();\n",
    "return std::make_tuple(std::move(hy), std::move(cy));\n",
    "```"
   ]
  }
 ],
 "metadata": {
  "kernelspec": {
   "display_name": "base",
   "language": "python",
   "name": "python3"
  },
  "language_info": {
   "codemirror_mode": {
    "name": "ipython",
    "version": 3
   },
   "file_extension": ".py",
   "mimetype": "text/x-python",
   "name": "python",
   "nbconvert_exporter": "python",
   "pygments_lexer": "ipython3",
   "version": "3.9.12"
  },
  "orig_nbformat": 4
 },
 "nbformat": 4,
 "nbformat_minor": 2
}
