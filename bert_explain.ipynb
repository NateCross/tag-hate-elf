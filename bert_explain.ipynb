{
 "cells": [
  {
   "cell_type": "markdown",
   "metadata": {},
   "source": [
    "# BERT Sequence Classification\n",
    "\n",
    "BERT (Bidirectional Encoder Representations from Transformers) is a powerful pre-trained model for natural language processing tasks, including sequence classification. It leverages the Transformer architecture and self-attention mechanism to capture contextual information from input sequences."
   ]
  },
  {
   "cell_type": "markdown",
   "metadata": {},
   "source": [
    "## Input Representation\n",
    "\n",
    "![BERT Input Representation](https://miro.medium.com/v2/resize:fit:800/format:webp/1*tLYLk2ZGu2XYmc0n4Hn8Mg.png)\n",
    "\n",
    "BERT takes a sequence of tokens as input, typically represented as:\n",
    "- `[CLS]` token: A special token added at the beginning of the sequence, used for classification tasks.\n",
    "- Token embeddings: Each token in the input sequence is converted into a dense vector representation.\n",
    "- Segment embeddings: Used to differentiate between different segments (e.g., sentences) in the input sequence.\n",
    "- Position embeddings: Captures the positional information of each token in the sequence.\n",
    "\n",
    "These embeddings are summed element-wise to obtain the final input representation."
   ]
  },
  {
   "cell_type": "markdown",
   "metadata": {},
   "source": [
    "## BERT Encoder\n",
    "\n",
    "![BERT Encoder Architecture](https://miro.medium.com/v2/resize:fit:560/format:webp/1*VtfbRAAiQhb0IUi7fSKTaQ.png)\n",
    "\n",
    "The BERT encoder consists of multiple layers of Transformer blocks. Each Transformer block contains:\n",
    "- Multi-head self-attention: Allows the model to attend to different positions of the input sequence, capturing relationships between tokens.\n",
    "- Feed-forward neural network: Applies non-linear transformations to the output of the self-attention layer.\n",
    "\n",
    "The encoder processes the input sequence and generates contextualized representations for each token."
   ]
  },
  {
   "cell_type": "markdown",
   "metadata": {},
   "source": [
    "### Multi-Head Self-Attention\n",
    "\n",
    "The multi-head self-attention mechanism allows the model to attend to different positions of the input sequence, capturing relationships between tokens. It consists of multiple attention heads that operate in parallel.\n",
    "\n",
    "Each attention head computes attention scores between all pairs of tokens in the sequence, using query (Q), key (K), and value (V) matrices:\n",
    "\n",
    "```\n",
    "Attention(Q, K, V) = softmax(QK^T / sqrt(d_k)) * V\n",
    "```\n",
    "\n",
    "Where `d_k` is the dimension of the key vectors.\n",
    "\n",
    "The outputs of all attention heads are concatenated and passed through a linear transformation to obtain the final self-attention output."
   ]
  },
  {
   "cell_type": "markdown",
   "metadata": {},
   "source": [
    "### Position-wise Feed-Forward Neural Network\n",
    "\n",
    "After the self-attention sub-layer, a position-wise feed-forward neural network is applied to each position separately and identically. It consists of two linear transformations with a ReLU activation in between:\n",
    "\n",
    "```\n",
    "FFN(x) = max(0, xW_1 + b_1)W_2 + b_2\n",
    "```\n",
    "\n",
    "Where `W_1`, `b_1`, `W_2`, and `b_2` are learnable parameters."
   ]
  },
  {
   "cell_type": "markdown",
   "metadata": {},
   "source": [
    "## Layer Normalization and Residual Connections\n",
    "\n",
    "Each sub-layer in the Transformer block is followed by a layer normalization and a residual connection. The residual connection helps in propagating the information from lower layers to higher layers and facilitates gradient flow during training."
   ]
  },
  {
   "cell_type": "markdown",
   "metadata": {},
   "source": [
    "## Output\n",
    "\n",
    "The output of the BERT encoder is a sequence of contextualized token representations. These representations can be used for various downstream tasks, such as sequence classification, token classification, question answering, and more.\n",
    "\n",
    "For sequence classification tasks, the `[CLS]` token representation from the final layer of the BERT encoder is typically used as the aggregate representation of the input sequence."
   ]
  },
  {
   "cell_type": "markdown",
   "metadata": {},
   "source": [
    "## Sequence Classification\n",
    "\n",
    "For sequence classification, the `[CLS]` token representation from the final layer of the BERT encoder is used. This representation captures the overall contextual information of the input sequence.\n",
    "\n",
    "The `[CLS]` token representation is passed through a linear layer followed by a softmax activation to obtain the class probabilities:\n",
    "\n",
    "```\n",
    "class_probabilities = softmax(linear(cls_representation))\n",
    "```\n",
    "\n",
    "The model is trained using a cross-entropy loss function to optimize the classification performance."
   ]
  },
  {
   "cell_type": "markdown",
   "metadata": {},
   "source": [
    "## Fine-tuning\n",
    "\n",
    "BERT is pre-trained on large-scale unsupervised data using masked language modeling and next sentence prediction tasks. For sequence classification, the pre-trained BERT model is fine-tuned on a labeled dataset specific to the classification task. After pre-training, BERT can be fine-tuned on specific downstream tasks by adding task-specific layers on top of the pre-trained encoder and training the model on labeled data.\n",
    "\n",
    "During fine-tuning, the pre-trained BERT encoder weights are updated, and the additional classification layer is trained from scratch. This allows the model to adapt to the specific classification task while leveraging the pre-trained knowledge."
   ]
  },
  {
   "cell_type": "markdown",
   "metadata": {},
   "source": [
    "## Inference\n",
    "\n",
    "At inference time, the input sequence is passed through the fine-tuned BERT model, and the class probabilities are obtained from the `[CLS]` token representation. The class with the highest probability is predicted as the output.\n",
    "\n",
    "BERT sequence classification has achieved state-of-the-art performance on various benchmarks and has become a go-to approach for many natural language processing tasks.\n",
    "\n"
   ]
  },
  {
   "cell_type": "markdown",
   "metadata": {},
   "source": [
    "-----"
   ]
  },
  {
   "cell_type": "markdown",
   "metadata": {},
   "source": [
    "# THE BERT ARCHITECTURE\n",
    "\n",
    "![BERT ARCHITECTURE](assets/bert.png)"
   ]
  },
  {
   "cell_type": "markdown",
   "metadata": {},
   "source": [
    "## Bert Embeddings\n",
    "\n",
    "The input to the BERT model consists of three types of embeddings:\n",
    "1. Word embeddings: Each token in the input sequence is converted into a dense vector representation.\n",
    "2. Position embeddings: Captures the positional information of each token in the sequence.\n",
    "3. Token type embeddings: Used to differentiate between different segments (e.g., sentences) in the input sequence.\n",
    "\n",
    "These embeddings are summed element-wise to obtain the final input representation."
   ]
  },
  {
   "cell_type": "markdown",
   "metadata": {},
   "source": [
    "## 12 x Bert Encoder\n",
    "\n",
    "The BERT encoder consists of 12 identical layers (in the base version). Each layer contains two main components:"
   ]
  },
  {
   "cell_type": "markdown",
   "metadata": {},
   "source": [
    "### Bert Attention\n",
    "\n",
    "The Bert Attention module is based on the self-attention mechanism. It consists of three matrices: Query, Key, and Value. The attention mechanism computes the relationship between each token and all other tokens in the sequence.\n",
    "\n",
    "The output of the Bert Attention module goes through a dropout layer to prevent overfitting.\n"
   ]
  },
  {
   "cell_type": "markdown",
   "metadata": {},
   "source": [
    "### Bert Output\n",
    "\n",
    "The Bert Output module takes the output from the Bert Attention module and passes it through the following components:\n",
    "1. Linear layer: Applies a linear transformation to the attention output.\n",
    "2. Layer Normalization: Normalizes the activations across the features.\n",
    "3. Dropout: Applies dropout regularization.\n",
    "\n",
    "The output of the Bert Output module is then added to the input of the Bert Attention module through a residual connection."
   ]
  },
  {
   "cell_type": "markdown",
   "metadata": {},
   "source": [
    "## Bert Self Output\n",
    "\n",
    "After the 12 Bert Encoder layers, the output goes through the Bert Self Output module, which consists of:\n",
    "1. Linear layer: Applies a linear transformation to the output of the last Bert Encoder layer.\n",
    "2. GELU activation: Applies the Gaussian Error Linear Unit (GELU) activation function."
   ]
  },
  {
   "cell_type": "markdown",
   "metadata": {},
   "source": [
    "## Bert Pooler\n",
    "\n",
    "The Bert Pooler module is used to obtain a fixed-size representation of the input sequence. It consists of:\n",
    "1. Linear layer: Applies a linear transformation to the output of the first token (usually the `[CLS]` token) from the last Bert Encoder layer.\n",
    "2. Tanh activation: Applies the hyperbolic tangent activation function."
   ]
  },
  {
   "cell_type": "markdown",
   "metadata": {},
   "source": [
    "## Classifier\n",
    "\n",
    "Finally, the output of the Bert Pooler module is passed through a dropout layer and then fed into a linear classifier. The classifier produces the final output probabilities for the task at hand (e.g., sentiment classification, named entity recognition, etc.).\n",
    "\n",
    "This diagram provides a detailed overview of the BERT architecture, showcasing the flow of data through the various components. The Bert Encoder layers form the core of the model, capturing the contextual information through self-attention mechanisms. The Bert Pooler and Classifier modules are task-specific and can be adapted based on the downstream task requirements."
   ]
  },
  {
   "cell_type": "markdown",
   "metadata": {},
   "source": [
    "# [Custom Simple Transformer](https://peterbloem.nl/blog/transformers)"
   ]
  },
  {
   "cell_type": "markdown",
   "metadata": {},
   "source": [
    "- Self attention is fundamental operation in transformer\n",
    "- Sequence (of vectors) to sequence (of vectors).\n",
    "- To produce output vector, it takes weighted average over all input vectors\n",
    "- Self attention propagates information between vectors. This is in contrast to RNNs where they have a state\n",
    "- Self-attention for now ignores sequential input\n",
    "- Dot product "
   ]
  },
  {
   "cell_type": "code",
   "execution_count": null,
   "metadata": {},
   "outputs": [],
   "source": [
    "import numpy as np\n",
    "import pandas as pd"
   ]
  },
  {
   "cell_type": "code",
   "execution_count": 2,
   "metadata": {},
   "outputs": [],
   "source": [
    "import torch\n",
    "\n",
    "# 10 sequences, 20 tensors of size 30 each\n",
    "RANDOM_TEST_INPUTS = torch.rand(\n",
    "  (10, 20, 30),\n",
    "  dtype=torch.float32,\n",
    ")"
   ]
  },
  {
   "cell_type": "code",
   "execution_count": 3,
   "metadata": {},
   "outputs": [
    {
     "data": {
      "text/plain": [
       "tensor([[[0.8597, 0.5104, 0.4714,  ..., 0.8060, 0.4534, 0.6248],\n",
       "         [0.0593, 0.9803, 0.7217,  ..., 0.6627, 0.7519, 0.3200],\n",
       "         [0.5618, 0.6923, 0.7853,  ..., 0.0755, 0.8452, 0.4088],\n",
       "         ...,\n",
       "         [0.8629, 0.4481, 0.6432,  ..., 0.2817, 0.6685, 0.9825],\n",
       "         [0.3931, 0.7048, 0.5925,  ..., 0.4335, 0.3156, 0.8388],\n",
       "         [0.6964, 0.0372, 0.7412,  ..., 0.1967, 0.6473, 0.7235]],\n",
       "\n",
       "        [[0.8246, 0.3814, 0.1305,  ..., 0.5030, 0.9597, 0.8616],\n",
       "         [0.4541, 0.8536, 0.4117,  ..., 0.9847, 0.6372, 0.5771],\n",
       "         [0.9693, 0.8254, 0.8352,  ..., 0.5811, 0.0567, 0.9208],\n",
       "         ...,\n",
       "         [0.7159, 0.9516, 0.6920,  ..., 0.9895, 0.3224, 0.4988],\n",
       "         [0.5322, 0.9626, 0.4402,  ..., 0.4515, 0.1656, 0.7058],\n",
       "         [0.9095, 0.7434, 0.9173,  ..., 0.8247, 0.3174, 0.5650]],\n",
       "\n",
       "        [[0.9792, 0.2582, 0.6247,  ..., 0.9126, 0.6291, 0.1392],\n",
       "         [0.0919, 0.1052, 0.1889,  ..., 0.7426, 0.6690, 0.4245],\n",
       "         [0.1641, 0.2974, 0.1004,  ..., 0.8607, 0.6291, 0.1317],\n",
       "         ...,\n",
       "         [0.0557, 0.6004, 0.5887,  ..., 0.5207, 0.0596, 0.7286],\n",
       "         [0.2438, 0.8701, 0.2395,  ..., 0.9945, 0.8328, 0.8437],\n",
       "         [0.7214, 0.6694, 0.6379,  ..., 0.9838, 0.5971, 0.1034]],\n",
       "\n",
       "        ...,\n",
       "\n",
       "        [[0.7766, 0.7547, 0.0994,  ..., 0.6345, 0.6767, 0.8655],\n",
       "         [0.0630, 0.3234, 0.8339,  ..., 0.3421, 0.8409, 0.1411],\n",
       "         [0.6128, 0.1708, 0.8215,  ..., 0.4661, 0.1241, 0.6729],\n",
       "         ...,\n",
       "         [0.6989, 0.7058, 0.7097,  ..., 0.7184, 0.8583, 0.9549],\n",
       "         [0.7093, 0.2586, 0.0594,  ..., 0.9916, 0.6731, 0.0440],\n",
       "         [0.8925, 0.0747, 0.8755,  ..., 0.9468, 0.5344, 0.3847]],\n",
       "\n",
       "        [[0.4040, 0.0464, 0.2482,  ..., 0.8005, 0.0378, 0.1836],\n",
       "         [0.9533, 0.5251, 0.9074,  ..., 0.7983, 0.2568, 0.2373],\n",
       "         [0.2504, 0.9616, 0.3926,  ..., 0.9623, 0.9604, 0.7919],\n",
       "         ...,\n",
       "         [0.4986, 0.1185, 0.5188,  ..., 0.3878, 0.4002, 0.9166],\n",
       "         [0.8462, 0.7810, 0.6458,  ..., 0.4228, 0.3436, 0.7229],\n",
       "         [0.2261, 0.9622, 0.1608,  ..., 0.1845, 0.9080, 0.5536]],\n",
       "\n",
       "        [[0.4645, 0.1886, 0.1110,  ..., 0.1272, 0.7998, 0.0322],\n",
       "         [0.6416, 0.9478, 0.2472,  ..., 0.7643, 0.2117, 0.2670],\n",
       "         [0.7003, 0.6320, 0.6917,  ..., 0.5253, 0.1868, 0.5779],\n",
       "         ...,\n",
       "         [0.2631, 0.8281, 0.8716,  ..., 0.6783, 0.0119, 0.5396],\n",
       "         [0.7965, 0.2712, 0.9172,  ..., 0.6727, 0.5968, 0.9144],\n",
       "         [0.5934, 0.8596, 0.7199,  ..., 0.6026, 0.0128, 0.8249]]])"
      ]
     },
     "execution_count": 3,
     "metadata": {},
     "output_type": "execute_result"
    }
   ],
   "source": [
    "RANDOM_TEST_INPUTS"
   ]
  },
  {
   "cell_type": "code",
   "execution_count": 4,
   "metadata": {},
   "outputs": [
    {
     "data": {
      "text/plain": [
       "torch.Size([10, 20, 30])"
      ]
     },
     "execution_count": 4,
     "metadata": {},
     "output_type": "execute_result"
    }
   ],
   "source": [
    "RANDOM_TEST_INPUTS.shape"
   ]
  },
  {
   "cell_type": "code",
   "execution_count": 7,
   "metadata": {},
   "outputs": [],
   "source": [
    "# Creating self attention\n",
    "def self_attention(X):\n",
    "  # X is size (b, t, k)\n",
    "  # b = batch size, not necessary?\n",
    "  # t = num of tensor\n",
    "  # k = dimension of tensors\n",
    "  raw_weights = torch.bmm(X, X.transpose(1, 2))\n",
    "  return raw_weights"
   ]
  },
  {
   "cell_type": "code",
   "execution_count": 8,
   "metadata": {},
   "outputs": [],
   "source": [
    "# Dot product of a\n",
    "raw_weights = self_attention(RANDOM_TEST_INPUTS)"
   ]
  },
  {
   "cell_type": "code",
   "execution_count": 11,
   "metadata": {},
   "outputs": [
    {
     "data": {
      "text/plain": [
       "tensor([[[ 9.0988,  7.8299,  7.0427,  ...,  8.5879,  8.2779,  6.5358],\n",
       "         [ 7.8299, 10.8021,  7.5168,  ...,  8.2890,  8.7921,  6.9596],\n",
       "         [ 7.0427,  7.5168,  9.5582,  ...,  7.8614,  6.8952,  7.3989],\n",
       "         ...,\n",
       "         [ 8.5879,  8.2890,  7.8614,  ..., 11.5310,  8.7146,  8.0790],\n",
       "         [ 8.2779,  8.7921,  6.8952,  ...,  8.7146, 10.1629,  6.6800],\n",
       "         [ 6.5358,  6.9596,  7.3989,  ...,  8.0790,  6.6800, 10.2436]],\n",
       "\n",
       "        [[11.5251,  7.8385, 10.4682,  ...,  8.7468,  8.9144,  9.1780],\n",
       "         [ 7.8385,  8.4331,  8.6612,  ...,  7.5152,  7.5817,  8.1269],\n",
       "         [10.4682,  8.6612, 14.0336,  ...,  9.8568, 10.8949, 10.3171],\n",
       "         ...,\n",
       "         [ 8.7468,  7.5152,  9.8568,  ..., 11.8285,  9.4093,  9.5136],\n",
       "         [ 8.9144,  7.5817, 10.8949,  ...,  9.4093, 11.3014,  9.0996],\n",
       "         [ 9.1780,  8.1269, 10.3171,  ...,  9.5136,  9.0996, 11.4740]],\n",
       "\n",
       "        [[10.0906,  6.2442,  7.0300,  ...,  7.8157,  7.5303,  8.5084],\n",
       "         [ 6.2442,  6.8501,  5.4495,  ...,  6.3758,  7.2136,  6.5586],\n",
       "         [ 7.0300,  5.4495,  9.8384,  ...,  8.0212,  7.3469,  8.6427],\n",
       "         ...,\n",
       "         [ 7.8157,  6.3758,  8.0212,  ..., 13.3400,  9.7453,  8.3404],\n",
       "         [ 7.5303,  7.2136,  7.3469,  ...,  9.7453, 11.6732,  8.8392],\n",
       "         [ 8.5084,  6.5586,  8.6427,  ...,  8.3404,  8.8392, 11.1283]],\n",
       "\n",
       "        ...,\n",
       "\n",
       "        [[14.3059,  8.9661,  8.6708,  ..., 12.3071,  6.9525,  8.5643],\n",
       "         [ 8.9661, 10.2691,  7.2780,  ...,  9.7976,  6.6559,  7.7714],\n",
       "         [ 8.6708,  7.2780,  9.0795,  ...,  8.7830,  5.5839,  6.9569],\n",
       "         ...,\n",
       "         [12.3071,  9.7976,  8.7830,  ..., 13.6319,  7.6658,  8.9769],\n",
       "         [ 6.9525,  6.6559,  5.5839,  ...,  7.6658,  7.4158,  6.6563],\n",
       "         [ 8.5643,  7.7714,  6.9569,  ...,  8.9769,  6.6563,  9.4518]],\n",
       "\n",
       "        [[ 8.9126,  7.7114,  7.5525,  ...,  7.1854,  6.4473,  6.1653],\n",
       "         [ 7.7114, 10.9948,  8.6984,  ...,  9.3522,  8.0365,  7.8323],\n",
       "         [ 7.5525,  8.6984, 11.7354,  ...,  8.1386,  7.3967,  8.6974],\n",
       "         ...,\n",
       "         [ 7.1854,  9.3522,  8.1386,  ..., 11.7418,  7.8628,  8.6950],\n",
       "         [ 6.4473,  8.0365,  7.3967,  ...,  7.8628, 10.2899,  7.4249],\n",
       "         [ 6.1652,  7.8323,  8.6974,  ...,  8.6950,  7.4249, 11.3434]],\n",
       "\n",
       "        [[ 7.0328,  4.1746,  4.6016,  ...,  6.0947,  6.0569,  4.2735],\n",
       "         [ 4.1746,  8.4326,  6.1740,  ...,  7.4457,  7.3446,  6.6361],\n",
       "         [ 4.6016,  6.1740,  7.6212,  ...,  7.4639,  7.3696,  6.3815],\n",
       "         ...,\n",
       "         [ 6.0947,  7.4457,  7.4639,  ..., 11.1505,  9.2233,  7.6413],\n",
       "         [ 6.0569,  7.3446,  7.3696,  ...,  9.2233, 11.0778,  6.7759],\n",
       "         [ 4.2735,  6.6361,  6.3815,  ...,  7.6413,  6.7759,  9.0429]]])"
      ]
     },
     "execution_count": 11,
     "metadata": {},
     "output_type": "execute_result"
    }
   ],
   "source": [
    "raw_weights"
   ]
  },
  {
   "cell_type": "code",
   "execution_count": 10,
   "metadata": {},
   "outputs": [
    {
     "data": {
      "text/plain": [
       "torch.Size([10, 20, 20])"
      ]
     },
     "execution_count": 10,
     "metadata": {},
     "output_type": "execute_result"
    }
   ],
   "source": [
    "raw_weights.shape"
   ]
  },
  {
   "cell_type": "code",
   "execution_count": 12,
   "metadata": {},
   "outputs": [],
   "source": [
    "import torch.nn.functional as F\n",
    "\n",
    "weights = F.softmax(raw_weights, dim=2)"
   ]
  },
  {
   "cell_type": "code",
   "execution_count": 13,
   "metadata": {},
   "outputs": [
    {
     "data": {
      "text/plain": [
       "tensor([[[1.0287e-01, 2.8923e-02, 1.3164e-02,  ..., 6.1719e-02,\n",
       "          4.5271e-02, 7.9287e-03],\n",
       "         [1.9442e-02, 3.7978e-01, 1.4215e-02,  ..., 3.0769e-02,\n",
       "          5.0888e-02, 8.1428e-03],\n",
       "         [2.2017e-02, 3.5368e-02, 2.7240e-01,  ..., 4.9923e-02,\n",
       "          1.8996e-02, 3.1436e-02],\n",
       "         ...,\n",
       "         [2.0995e-02, 1.5571e-02, 1.0154e-02,  ..., 3.9837e-01,\n",
       "          2.3832e-02, 1.2622e-02],\n",
       "         [2.5069e-02, 4.1921e-02, 6.2895e-03,  ..., 3.8795e-02,\n",
       "          1.6510e-01, 5.0718e-03],\n",
       "         [9.0323e-03, 1.3800e-02, 2.1412e-02,  ..., 4.2269e-02,\n",
       "          1.0434e-02, 3.6819e-01]],\n",
       "\n",
       "        [[4.2294e-01, 1.0598e-02, 1.4699e-01,  ..., 2.6284e-02,\n",
       "          3.1080e-02, 4.0451e-02],\n",
       "         [6.6451e-02, 1.2043e-01, 1.5128e-01,  ..., 4.8093e-02,\n",
       "          5.1399e-02, 8.8663e-02],\n",
       "         [2.0398e-02, 3.3482e-03, 7.2111e-01,  ..., 1.1068e-02,\n",
       "          3.1253e-02, 1.7536e-02],\n",
       "         ...,\n",
       "         [2.3203e-02, 6.7710e-03, 7.0409e-02,  ..., 5.0570e-01,\n",
       "          4.5006e-02, 4.9953e-02],\n",
       "         [2.5227e-02, 6.6534e-03, 1.8279e-01,  ..., 4.1379e-02,\n",
       "          2.7447e-01, 3.0359e-02],\n",
       "         [4.0577e-02, 1.4184e-02, 1.2676e-01,  ..., 5.6761e-02,\n",
       "          3.7520e-02, 4.0313e-01]],\n",
       "\n",
       "        [[3.6406e-01, 7.7751e-03, 1.7060e-02,  ..., 3.7429e-02,\n",
       "          2.8136e-02, 7.4821e-02],\n",
       "         [4.9433e-02, 9.0608e-02, 2.2330e-02,  ..., 5.6384e-02,\n",
       "          1.3033e-01, 6.7697e-02],\n",
       "         [1.8201e-02, 3.7472e-03, 3.0183e-01,  ..., 4.9041e-02,\n",
       "          2.4987e-02, 9.1304e-02],\n",
       "         ...,\n",
       "         [3.2223e-03, 7.6348e-04, 3.9572e-03,  ..., 8.0789e-01,\n",
       "          2.2192e-02, 5.4454e-03],\n",
       "         [8.9237e-03, 6.5017e-03, 7.4282e-03,  ..., 8.1758e-02,\n",
       "          5.6207e-01, 3.3035e-02],\n",
       "         [3.1493e-02, 4.4817e-03, 3.6021e-02,  ..., 2.6623e-02,\n",
       "          4.3840e-02, 4.3255e-01]],\n",
       "\n",
       "        ...,\n",
       "\n",
       "        [[7.7550e-01, 3.7198e-03, 2.7688e-03,  ..., 1.0508e-01,\n",
       "          4.9665e-04, 2.4891e-03],\n",
       "         [7.0367e-02, 2.5897e-01, 1.3009e-02,  ..., 1.6163e-01,\n",
       "          6.9836e-03, 2.1308e-02],\n",
       "         [1.1999e-01, 2.9804e-02, 1.8058e-01,  ..., 1.3424e-01,\n",
       "          5.4771e-03, 2.1618e-02],\n",
       "         ...,\n",
       "         [1.6181e-01, 1.3157e-02, 4.7697e-03,  ..., 6.0862e-01,\n",
       "          1.5608e-03, 5.7909e-03],\n",
       "         [8.0374e-02, 5.9745e-02, 2.0453e-02,  ..., 1.6403e-01,\n",
       "          1.2774e-01, 5.9769e-02],\n",
       "         [9.4008e-02, 4.2541e-02, 1.8839e-02,  ..., 1.4203e-01,\n",
       "          1.3948e-02, 2.2834e-01]],\n",
       "\n",
       "        [[2.1893e-01, 6.5861e-02, 5.6185e-02,  ..., 3.8921e-02,\n",
       "          1.8607e-02, 1.4033e-02],\n",
       "         [1.6738e-02, 4.4638e-01, 4.4911e-02,  ..., 8.6360e-02,\n",
       "          2.3170e-02, 1.8889e-02],\n",
       "         [8.9614e-03, 2.8186e-02, 5.8750e-01,  ..., 1.6104e-02,\n",
       "          7.6690e-03, 2.8158e-02],\n",
       "         ...,\n",
       "         [5.5297e-03, 4.8279e-02, 1.4345e-02,  ..., 5.2668e-01,\n",
       "          1.0887e-02, 2.5023e-02],\n",
       "         [8.9441e-03, 4.3824e-02, 2.3113e-02,  ..., 3.6836e-02,\n",
       "          4.1719e-01, 2.3774e-02],\n",
       "         [3.4814e-03, 1.8439e-02, 4.3797e-02,  ..., 4.3694e-02,\n",
       "          1.2269e-02, 6.1745e-01]],\n",
       "\n",
       "        [[1.5324e-01, 8.7918e-03, 1.3476e-02,  ..., 5.9977e-02,\n",
       "          5.7751e-02, 9.7062e-03],\n",
       "         [1.3622e-03, 9.6267e-02, 1.0059e-02,  ..., 3.5880e-02,\n",
       "          3.2431e-02, 1.5968e-02],\n",
       "         [3.8844e-03, 1.8714e-02, 7.9557e-02,  ..., 6.7982e-02,\n",
       "          6.1861e-02, 2.3030e-02],\n",
       "         ...,\n",
       "         [2.6125e-03, 1.0087e-02, 1.0273e-02,  ..., 4.0999e-01,\n",
       "          5.9672e-02, 1.2266e-02],\n",
       "         [2.4234e-03, 8.7836e-03, 9.0056e-03,  ..., 5.7487e-02,\n",
       "          3.6727e-01, 4.9736e-03],\n",
       "         [2.1420e-03, 2.2744e-02, 1.7632e-02,  ..., 6.2146e-02,\n",
       "          2.6156e-02, 2.5244e-01]]])"
      ]
     },
     "execution_count": 13,
     "metadata": {},
     "output_type": "execute_result"
    }
   ],
   "source": [
    "weights"
   ]
  },
  {
   "cell_type": "code",
   "execution_count": 14,
   "metadata": {},
   "outputs": [
    {
     "data": {
      "text/plain": [
       "torch.Size([10, 20, 20])"
      ]
     },
     "execution_count": 14,
     "metadata": {},
     "output_type": "execute_result"
    }
   ],
   "source": [
    "weights.shape"
   ]
  },
  {
   "cell_type": "code",
   "execution_count": 15,
   "metadata": {},
   "outputs": [],
   "source": [
    "output_sequence = torch.bmm(weights, RANDOM_TEST_INPUTS)"
   ]
  },
  {
   "cell_type": "code",
   "execution_count": 16,
   "metadata": {},
   "outputs": [
    {
     "data": {
      "text/plain": [
       "tensor([[[0.6922, 0.7066, 0.5789,  ..., 0.4506, 0.4700, 0.5819],\n",
       "         [0.4439, 0.8395, 0.6489,  ..., 0.5022, 0.5572, 0.4680],\n",
       "         [0.6210, 0.6672, 0.6339,  ..., 0.3594, 0.6064, 0.5485],\n",
       "         ...,\n",
       "         [0.7432, 0.6152, 0.6244,  ..., 0.3558, 0.5556, 0.7556],\n",
       "         [0.6237, 0.8011, 0.6614,  ..., 0.3246, 0.4508, 0.6265],\n",
       "         [0.6720, 0.4526, 0.6516,  ..., 0.3291, 0.5666, 0.6684]],\n",
       "\n",
       "        [[0.6949, 0.5452, 0.4591,  ..., 0.5432, 0.6218, 0.7620],\n",
       "         [0.5772, 0.6464, 0.6497,  ..., 0.6371, 0.4543, 0.6558],\n",
       "         [0.8432, 0.7747, 0.8057,  ..., 0.5824, 0.1668, 0.8490],\n",
       "         ...,\n",
       "         [0.6470, 0.8238, 0.7088,  ..., 0.7895, 0.3462, 0.5973],\n",
       "         [0.5883, 0.7557, 0.6930,  ..., 0.5634, 0.3135, 0.7053],\n",
       "         [0.7324, 0.7234, 0.7913,  ..., 0.6906, 0.3455, 0.6480]],\n",
       "\n",
       "        [[0.6799, 0.5218, 0.5273,  ..., 0.7736, 0.5727, 0.3490],\n",
       "         [0.4085, 0.6274, 0.3835,  ..., 0.7583, 0.5627, 0.5189],\n",
       "         [0.4138, 0.5609, 0.3552,  ..., 0.7050, 0.5314, 0.3283],\n",
       "         ...,\n",
       "         [0.1335, 0.6120, 0.5565,  ..., 0.5464, 0.1561, 0.6924],\n",
       "         [0.3183, 0.7523, 0.3247,  ..., 0.8441, 0.6701, 0.7176],\n",
       "         [0.5922, 0.6699, 0.5380,  ..., 0.8073, 0.5696, 0.3150]],\n",
       "\n",
       "        ...,\n",
       "\n",
       "        [[0.7435, 0.7229, 0.2204,  ..., 0.6202, 0.6864, 0.8326],\n",
       "         [0.4222, 0.5026, 0.6306,  ..., 0.4968, 0.6577, 0.4841],\n",
       "         [0.5540, 0.5189, 0.5987,  ..., 0.5344, 0.5119, 0.6146],\n",
       "         ...,\n",
       "         [0.6848, 0.6731, 0.5850,  ..., 0.6381, 0.7714, 0.8401],\n",
       "         [0.5823, 0.5021, 0.5049,  ..., 0.6156, 0.6197, 0.5125],\n",
       "         [0.6756, 0.4224, 0.6032,  ..., 0.6501, 0.6456, 0.5432]],\n",
       "\n",
       "        [[0.4729, 0.4242, 0.4103,  ..., 0.6627, 0.4253, 0.5120],\n",
       "         [0.6893, 0.5445, 0.6478,  ..., 0.6686, 0.4187, 0.4687],\n",
       "         [0.3477, 0.7748, 0.4133,  ..., 0.8060, 0.7950, 0.7152],\n",
       "         ...,\n",
       "         [0.5052, 0.3757, 0.5014,  ..., 0.5005, 0.4535, 0.7684],\n",
       "         [0.6540, 0.7008, 0.5406,  ..., 0.5457, 0.4337, 0.6562],\n",
       "         [0.3387, 0.8192, 0.2872,  ..., 0.3410, 0.7914, 0.5821]],\n",
       "\n",
       "        [[0.4453, 0.6196, 0.4092,  ..., 0.4966, 0.6145, 0.3696],\n",
       "         [0.6338, 0.6952, 0.4086,  ..., 0.6658, 0.4617, 0.4309],\n",
       "         [0.5955, 0.6764, 0.5940,  ..., 0.6826, 0.4375, 0.5422],\n",
       "         ...,\n",
       "         [0.4376, 0.7376, 0.6886,  ..., 0.6879, 0.3265, 0.5095],\n",
       "         [0.6891, 0.5209, 0.6761,  ..., 0.7017, 0.5243, 0.6588],\n",
       "         [0.5845, 0.7353, 0.6029,  ..., 0.6411, 0.3741, 0.5610]]])"
      ]
     },
     "execution_count": 16,
     "metadata": {},
     "output_type": "execute_result"
    }
   ],
   "source": [
    "output_sequence"
   ]
  },
  {
   "cell_type": "code",
   "execution_count": 17,
   "metadata": {},
   "outputs": [
    {
     "data": {
      "text/plain": [
       "torch.Size([10, 20, 30])"
      ]
     },
     "execution_count": 17,
     "metadata": {},
     "output_type": "execute_result"
    }
   ],
   "source": [
    "output_sequence.shape"
   ]
  }
 ],
 "metadata": {
  "kernelspec": {
   "display_name": "base",
   "language": "python",
   "name": "python3"
  },
  "language_info": {
   "codemirror_mode": {
    "name": "ipython",
    "version": 3
   },
   "file_extension": ".py",
   "mimetype": "text/x-python",
   "name": "python",
   "nbconvert_exporter": "python",
   "pygments_lexer": "ipython3",
   "version": "3.9.12"
  }
 },
 "nbformat": 4,
 "nbformat_minor": 2
}
