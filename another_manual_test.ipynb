{
 "cells": [
  {
   "cell_type": "code",
   "execution_count": 2,
   "metadata": {},
   "outputs": [
    {
     "data": {
      "text/html": [
       "<div>\n",
       "<style scoped>\n",
       "    .dataframe tbody tr th:only-of-type {\n",
       "        vertical-align: middle;\n",
       "    }\n",
       "\n",
       "    .dataframe tbody tr th {\n",
       "        vertical-align: top;\n",
       "    }\n",
       "\n",
       "    .dataframe thead th {\n",
       "        text-align: right;\n",
       "    }\n",
       "</style>\n",
       "<table border=\"1\" class=\"dataframe\">\n",
       "  <thead>\n",
       "    <tr style=\"text-align: right;\">\n",
       "      <th></th>\n",
       "      <th>Texts</th>\n",
       "      <th>Labels</th>\n",
       "      <th>Predictions</th>\n",
       "    </tr>\n",
       "  </thead>\n",
       "  <tbody>\n",
       "    <tr>\n",
       "      <th>0</th>\n",
       "      <td>the cat is on the table</td>\n",
       "      <td>animals</td>\n",
       "      <td>animals</td>\n",
       "    </tr>\n",
       "    <tr>\n",
       "      <th>1</th>\n",
       "      <td>the dog is in the room</td>\n",
       "      <td>animals</td>\n",
       "      <td>animals</td>\n",
       "    </tr>\n",
       "    <tr>\n",
       "      <th>2</th>\n",
       "      <td>the table is in the room</td>\n",
       "      <td>not_animals</td>\n",
       "      <td>not_animals</td>\n",
       "    </tr>\n",
       "    <tr>\n",
       "      <th>3</th>\n",
       "      <td>the cat is not a dog</td>\n",
       "      <td>animals</td>\n",
       "      <td>animals</td>\n",
       "    </tr>\n",
       "    <tr>\n",
       "      <th>4</th>\n",
       "      <td>the cat and the dog are in the room</td>\n",
       "      <td>animals</td>\n",
       "      <td>animals</td>\n",
       "    </tr>\n",
       "    <tr>\n",
       "      <th>5</th>\n",
       "      <td>the room is not a table</td>\n",
       "      <td>not_animals</td>\n",
       "      <td>not_animals</td>\n",
       "    </tr>\n",
       "  </tbody>\n",
       "</table>\n",
       "</div>"
      ],
      "text/plain": [
       "                                 Texts       Labels  Predictions\n",
       "0              the cat is on the table      animals      animals\n",
       "1               the dog is in the room      animals      animals\n",
       "2             the table is in the room  not_animals  not_animals\n",
       "3                 the cat is not a dog      animals      animals\n",
       "4  the cat and the dog are in the room      animals      animals\n",
       "5              the room is not a table  not_animals  not_animals"
      ]
     },
     "execution_count": 2,
     "metadata": {},
     "output_type": "execute_result"
    }
   ],
   "source": [
    "import pandas as pd\n",
    "from sklearn.feature_extraction.text import CountVectorizer\n",
    "from sklearn.naive_bayes import BernoulliNB\n",
    "corpus = [\n",
    "  'the cat is on the table',\n",
    "  'the dog is in the room',\n",
    "  'the table is in the room',\n",
    "  'the cat is not a dog',\n",
    "  'the cat and the dog are in the room',\n",
    "  'the room is not a table',\n",
    "]\n",
    "labels = [\n",
    "  'animals',\n",
    "  'animals',\n",
    "  'not_animals',\n",
    "  'animals',\n",
    "  'animals',\n",
    "  'not_animals'\n",
    "]\n",
    "df = pd.DataFrame({'Texts':corpus,'Labels':labels})\n",
    "cv = CountVectorizer(token_pattern='\\w+')\n",
    "BoW = cv.fit_transform(df['Texts'])\n",
    "classifier = BernoulliNB()\n",
    "classifier.fit(BoW,df['Labels'])\n",
    "predictions = classifier.predict(BoW)\n",
    "df['Predictions']=predictions\n",
    "df"
   ]
  },
  {
   "cell_type": "code",
   "execution_count": 5,
   "metadata": {},
   "outputs": [
    {
     "name": "stdout",
     "output_type": "stream",
     "text": [
      "  (0, 11)\t2\n",
      "  (0, 3)\t1\n",
      "  (0, 6)\t1\n",
      "  (0, 8)\t1\n",
      "  (0, 10)\t1\n",
      "  (1, 11)\t2\n",
      "  (1, 6)\t1\n",
      "  (1, 4)\t1\n",
      "  (1, 5)\t1\n",
      "  (1, 9)\t1\n",
      "  (2, 11)\t2\n",
      "  (2, 6)\t1\n",
      "  (2, 10)\t1\n",
      "  (2, 5)\t1\n",
      "  (2, 9)\t1\n",
      "  (3, 11)\t1\n",
      "  (3, 3)\t1\n",
      "  (3, 6)\t1\n",
      "  (3, 4)\t1\n",
      "  (3, 7)\t1\n",
      "  (3, 0)\t1\n",
      "  (4, 11)\t3\n",
      "  (4, 3)\t1\n",
      "  (4, 4)\t1\n",
      "  (4, 5)\t1\n",
      "  (4, 9)\t1\n",
      "  (4, 1)\t1\n",
      "  (4, 2)\t1\n",
      "  (5, 11)\t1\n",
      "  (5, 6)\t1\n",
      "  (5, 10)\t1\n",
      "  (5, 9)\t1\n",
      "  (5, 7)\t1\n",
      "  (5, 0)\t1\n"
     ]
    }
   ],
   "source": [
    "print(BoW)"
   ]
  },
  {
   "cell_type": "code",
   "execution_count": 12,
   "metadata": {},
   "outputs": [
    {
     "data": {
      "text/plain": [
       "{'the': 11,\n",
       " 'cat': 3,\n",
       " 'is': 6,\n",
       " 'on': 8,\n",
       " 'table': 10,\n",
       " 'dog': 4,\n",
       " 'in': 5,\n",
       " 'room': 9,\n",
       " 'not': 7,\n",
       " 'a': 0,\n",
       " 'and': 1,\n",
       " 'are': 2}"
      ]
     },
     "execution_count": 12,
     "metadata": {},
     "output_type": "execute_result"
    }
   ],
   "source": [
    "cv.vocabulary_"
   ]
  },
  {
   "cell_type": "code",
   "execution_count": 13,
   "metadata": {},
   "outputs": [],
   "source": [
    "import numpy as np\n",
    "\n",
    "exp_results = np.exp(classifier.feature_log_prob_)"
   ]
  },
  {
   "cell_type": "code",
   "execution_count": 16,
   "metadata": {},
   "outputs": [
    {
     "data": {
      "text/html": [
       "<div>\n",
       "<style scoped>\n",
       "    .dataframe tbody tr th:only-of-type {\n",
       "        vertical-align: middle;\n",
       "    }\n",
       "\n",
       "    .dataframe tbody tr th {\n",
       "        vertical-align: top;\n",
       "    }\n",
       "\n",
       "    .dataframe thead th {\n",
       "        text-align: right;\n",
       "    }\n",
       "</style>\n",
       "<table border=\"1\" class=\"dataframe\">\n",
       "  <thead>\n",
       "    <tr style=\"text-align: right;\">\n",
       "      <th></th>\n",
       "      <th>0</th>\n",
       "    </tr>\n",
       "  </thead>\n",
       "  <tbody>\n",
       "    <tr>\n",
       "      <th>0</th>\n",
       "      <td>0.333333</td>\n",
       "    </tr>\n",
       "    <tr>\n",
       "      <th>1</th>\n",
       "      <td>0.333333</td>\n",
       "    </tr>\n",
       "    <tr>\n",
       "      <th>2</th>\n",
       "      <td>0.333333</td>\n",
       "    </tr>\n",
       "    <tr>\n",
       "      <th>3</th>\n",
       "      <td>0.666667</td>\n",
       "    </tr>\n",
       "    <tr>\n",
       "      <th>4</th>\n",
       "      <td>0.666667</td>\n",
       "    </tr>\n",
       "    <tr>\n",
       "      <th>5</th>\n",
       "      <td>0.500000</td>\n",
       "    </tr>\n",
       "    <tr>\n",
       "      <th>6</th>\n",
       "      <td>0.666667</td>\n",
       "    </tr>\n",
       "    <tr>\n",
       "      <th>7</th>\n",
       "      <td>0.333333</td>\n",
       "    </tr>\n",
       "    <tr>\n",
       "      <th>8</th>\n",
       "      <td>0.333333</td>\n",
       "    </tr>\n",
       "    <tr>\n",
       "      <th>9</th>\n",
       "      <td>0.500000</td>\n",
       "    </tr>\n",
       "    <tr>\n",
       "      <th>10</th>\n",
       "      <td>0.333333</td>\n",
       "    </tr>\n",
       "    <tr>\n",
       "      <th>11</th>\n",
       "      <td>0.833333</td>\n",
       "    </tr>\n",
       "  </tbody>\n",
       "</table>\n",
       "</div>"
      ],
      "text/plain": [
       "           0\n",
       "0   0.333333\n",
       "1   0.333333\n",
       "2   0.333333\n",
       "3   0.666667\n",
       "4   0.666667\n",
       "5   0.500000\n",
       "6   0.666667\n",
       "7   0.333333\n",
       "8   0.333333\n",
       "9   0.500000\n",
       "10  0.333333\n",
       "11  0.833333"
      ]
     },
     "execution_count": 16,
     "metadata": {},
     "output_type": "execute_result"
    }
   ],
   "source": [
    "pd.DataFrame(exp_results[0])"
   ]
  },
  {
   "cell_type": "code",
   "execution_count": 17,
   "metadata": {},
   "outputs": [
    {
     "data": {
      "text/html": [
       "<div>\n",
       "<style scoped>\n",
       "    .dataframe tbody tr th:only-of-type {\n",
       "        vertical-align: middle;\n",
       "    }\n",
       "\n",
       "    .dataframe tbody tr th {\n",
       "        vertical-align: top;\n",
       "    }\n",
       "\n",
       "    .dataframe thead th {\n",
       "        text-align: right;\n",
       "    }\n",
       "</style>\n",
       "<table border=\"1\" class=\"dataframe\">\n",
       "  <thead>\n",
       "    <tr style=\"text-align: right;\">\n",
       "      <th></th>\n",
       "      <th>0</th>\n",
       "    </tr>\n",
       "  </thead>\n",
       "  <tbody>\n",
       "    <tr>\n",
       "      <th>0</th>\n",
       "      <td>0.50</td>\n",
       "    </tr>\n",
       "    <tr>\n",
       "      <th>1</th>\n",
       "      <td>0.25</td>\n",
       "    </tr>\n",
       "    <tr>\n",
       "      <th>2</th>\n",
       "      <td>0.25</td>\n",
       "    </tr>\n",
       "    <tr>\n",
       "      <th>3</th>\n",
       "      <td>0.25</td>\n",
       "    </tr>\n",
       "    <tr>\n",
       "      <th>4</th>\n",
       "      <td>0.25</td>\n",
       "    </tr>\n",
       "    <tr>\n",
       "      <th>5</th>\n",
       "      <td>0.50</td>\n",
       "    </tr>\n",
       "    <tr>\n",
       "      <th>6</th>\n",
       "      <td>0.75</td>\n",
       "    </tr>\n",
       "    <tr>\n",
       "      <th>7</th>\n",
       "      <td>0.50</td>\n",
       "    </tr>\n",
       "    <tr>\n",
       "      <th>8</th>\n",
       "      <td>0.25</td>\n",
       "    </tr>\n",
       "    <tr>\n",
       "      <th>9</th>\n",
       "      <td>0.75</td>\n",
       "    </tr>\n",
       "    <tr>\n",
       "      <th>10</th>\n",
       "      <td>0.75</td>\n",
       "    </tr>\n",
       "    <tr>\n",
       "      <th>11</th>\n",
       "      <td>0.75</td>\n",
       "    </tr>\n",
       "  </tbody>\n",
       "</table>\n",
       "</div>"
      ],
      "text/plain": [
       "       0\n",
       "0   0.50\n",
       "1   0.25\n",
       "2   0.25\n",
       "3   0.25\n",
       "4   0.25\n",
       "5   0.50\n",
       "6   0.75\n",
       "7   0.50\n",
       "8   0.25\n",
       "9   0.75\n",
       "10  0.75\n",
       "11  0.75"
      ]
     },
     "execution_count": 17,
     "metadata": {},
     "output_type": "execute_result"
    }
   ],
   "source": [
    "pd.DataFrame(exp_results[1])"
   ]
  },
  {
   "cell_type": "code",
   "execution_count": 18,
   "metadata": {},
   "outputs": [
    {
     "data": {
      "text/plain": [
       "array([0.66666667, 0.33333333])"
      ]
     },
     "execution_count": 18,
     "metadata": {},
     "output_type": "execute_result"
    }
   ],
   "source": [
    "np.exp(classifier.class_log_prior_)"
   ]
  },
  {
   "cell_type": "code",
   "execution_count": 3,
   "metadata": {},
   "outputs": [
    {
     "data": {
      "text/plain": [
       "array([[0.79581183, 0.20418817],\n",
       "       [0.83862095, 0.16137905],\n",
       "       [0.12614129, 0.87385871],\n",
       "       [0.95899061, 0.04100939],\n",
       "       [0.99058655, 0.00941345],\n",
       "       [0.0348305 , 0.9651695 ]])"
      ]
     },
     "execution_count": 3,
     "metadata": {},
     "output_type": "execute_result"
    }
   ],
   "source": [
    "classifier.predict_proba(BoW)"
   ]
  },
  {
   "cell_type": "code",
   "execution_count": 21,
   "metadata": {},
   "outputs": [
    {
     "data": {
      "text/plain": [
       "0.0224669961"
      ]
     },
     "execution_count": 21,
     "metadata": {},
     "output_type": "execute_result"
    }
   ],
   "source": [
    "# Solve for proba of #1\n",
    "numerator = 0.67 * 0.67 * 0.3 * 0.3 * 0.83\n",
    "class_0_prob = 0.67\n",
    "final_numerator = numerator * class_0_prob\n",
    "final_numerator"
   ]
  },
  {
   "cell_type": "code",
   "execution_count": 25,
   "metadata": {},
   "outputs": [
    {
     "data": {
      "text/plain": [
       "0.002993552099999999"
      ]
     },
     "execution_count": 25,
     "metadata": {},
     "output_type": "execute_result"
    }
   ],
   "source": [
    "inverse_class_0_numerator = \\\n",
    "  (1 - 0.67) \\\n",
    "  * (1 - 0.67) \\\n",
    "  * (1 - 0.3) \\\n",
    "  * (1 - 0.3) \\\n",
    "  * (1 - 0.83)\n",
    "inverse_class_0_prob = 1 - 0.67\n",
    "final_inverse_class_0_prob = inverse_class_0_numerator * inverse_class_0_prob\n",
    "\n",
    "final_inverse_class_0_prob"
   ]
  },
  {
   "cell_type": "code",
   "execution_count": 44,
   "metadata": {},
   "outputs": [
    {
     "data": {
      "text/plain": [
       "0.008701171875"
      ]
     },
     "execution_count": 44,
     "metadata": {},
     "output_type": "execute_result"
    }
   ],
   "source": [
    "class_1_numerator = 0.25 * 0.75 * 0.25 * 0.75 * 0.75\n",
    "class_1_prob = 0.33\n",
    "final_class_2_numerator = class_1_numerator * class_1_prob\n",
    "final_class_2_numerator"
   ]
  },
  {
   "cell_type": "code",
   "execution_count": 47,
   "metadata": {},
   "outputs": [
    {
     "data": {
      "text/plain": [
       "0.005888671874999999"
      ]
     },
     "execution_count": 47,
     "metadata": {},
     "output_type": "execute_result"
    }
   ],
   "source": [
    "inverse_class_1_numerator = \\\n",
    "  (1 - 0.25) \\\n",
    "  * (1 - 0.75) \\\n",
    "  * (1 - 0.25) \\\n",
    "  * (1 - 0.75) \\\n",
    "  * (1 - 0.75)\n",
    "inverse_class_1_prob = 1 - 0.33\n",
    "final_inverse_class_1_prob = inverse_class_1_numerator * inverse_class_1_prob\n",
    "final_inverse_class_1_prob"
   ]
  },
  {
   "cell_type": "code",
   "execution_count": 48,
   "metadata": {},
   "outputs": [
    {
     "data": {
      "text/plain": [
       "0.000203806434411657"
      ]
     },
     "execution_count": 48,
     "metadata": {},
     "output_type": "execute_result"
    }
   ],
   "source": [
    "class_0_num = final_numerator * inverse_class_0_numerator\n",
    "class_0_num"
   ]
  },
  {
   "cell_type": "code",
   "execution_count": 49,
   "metadata": {},
   "outputs": [
    {
     "data": {
      "text/plain": [
       "0.7271488764234546"
      ]
     },
     "execution_count": 49,
     "metadata": {},
     "output_type": "execute_result"
    }
   ],
   "source": [
    "(class_0_num) / (class_0_num + (final_class_2_numerator * inverse_class_1_numerator))"
   ]
  }
 ],
 "metadata": {
  "kernelspec": {
   "display_name": "base",
   "language": "python",
   "name": "python3"
  },
  "language_info": {
   "codemirror_mode": {
    "name": "ipython",
    "version": 3
   },
   "file_extension": ".py",
   "mimetype": "text/x-python",
   "name": "python",
   "nbconvert_exporter": "python",
   "pygments_lexer": "ipython3",
   "version": "3.9.12"
  },
  "orig_nbformat": 4
 },
 "nbformat": 4,
 "nbformat_minor": 2
}
