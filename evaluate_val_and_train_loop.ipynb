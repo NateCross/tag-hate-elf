{
 "cells": [
  {
   "cell_type": "code",
   "execution_count": 1,
   "metadata": {},
   "outputs": [
    {
     "name": "stderr",
     "output_type": "stream",
     "text": [
      "/tmp/ipykernel_62590/1386655886.py:1: DeprecationWarning: \n",
      "Pyarrow will become a required dependency of pandas in the next major release of pandas (pandas 3.0),\n",
      "(to allow more performant data types, such as the Arrow string type, and better interoperability with other libraries)\n",
      "but was not found to be installed on your system.\n",
      "If this would cause problems for you,\n",
      "please provide us feedback at https://github.com/pandas-dev/pandas/issues/54466\n",
      "        \n",
      "  import pandas as pd\n",
      "/home/nate/miniconda3/lib/python3.9/site-packages/spacy/util.py:918: UserWarning: [W094] Model 'tl_calamancy_md' (0.1.0) specifies an under-constrained spaCy version requirement: >=3.5.0. This can lead to compatibility problems with older versions, or as new spaCy versions are released, because the model may say it's compatible when it's not. Consider changing the \"spacy_version\" in your meta.json to a version range, with a lower and upper pin. For example: >=3.7.4,<3.8.0\n",
      "  warnings.warn(warn_msg)\n",
      "/home/nate/miniconda3/lib/python3.9/site-packages/spacy/util.py:918: UserWarning: [W094] Model 'tl_calamancy_lg' (0.1.0) specifies an under-constrained spaCy version requirement: >=3.5.0. This can lead to compatibility problems with older versions, or as new spaCy versions are released, because the model may say it's compatible when it's not. Consider changing the \"spacy_version\" in your meta.json to a version range, with a lower and upper pin. For example: >=3.7.4,<3.8.0\n",
      "  warnings.warn(warn_msg)\n"
     ]
    }
   ],
   "source": [
    "import pandas as pd\n",
    "import numpy as np\n",
    "from src import Utils, LSTM\n",
    "from skorch.dataset import ValidSplit\n",
    "from torch.nn import BCEWithLogitsLoss, NLLLoss, BCELoss"
   ]
  },
  {
   "cell_type": "code",
   "execution_count": 2,
   "metadata": {},
   "outputs": [],
   "source": [
    "MODEL = 'model_lstm/test_point_2_hidden_300'\n",
    "\n",
    "TEST_SIZE = 0.2"
   ]
  },
  {
   "cell_type": "code",
   "execution_count": 3,
   "metadata": {},
   "outputs": [
    {
     "name": "stdout",
     "output_type": "stream",
     "text": [
      "CSV file read successfully!\n"
     ]
    },
    {
     "data": {
      "text/html": [
       "<div>\n",
       "<style scoped>\n",
       "    .dataframe tbody tr th:only-of-type {\n",
       "        vertical-align: middle;\n",
       "    }\n",
       "\n",
       "    .dataframe tbody tr th {\n",
       "        vertical-align: top;\n",
       "    }\n",
       "\n",
       "    .dataframe thead th {\n",
       "        text-align: right;\n",
       "    }\n",
       "</style>\n",
       "<table border=\"1\" class=\"dataframe\">\n",
       "  <thead>\n",
       "    <tr style=\"text-align: right;\">\n",
       "      <th></th>\n",
       "      <th>text</th>\n",
       "      <th>label</th>\n",
       "    </tr>\n",
       "  </thead>\n",
       "  <tbody>\n",
       "    <tr>\n",
       "      <th>0</th>\n",
       "      <td>Binay: Patuloy ang kahirapan dahil sa maling p...</td>\n",
       "      <td>0</td>\n",
       "    </tr>\n",
       "    <tr>\n",
       "      <th>1</th>\n",
       "      <td>SA GOBYERNONG TAPAT WELCOME SA BAGUO ANG LAHAT...</td>\n",
       "      <td>0</td>\n",
       "    </tr>\n",
       "    <tr>\n",
       "      <th>2</th>\n",
       "      <td>wait so ur telling me Let Leni Lead mo pero NY...</td>\n",
       "      <td>1</td>\n",
       "    </tr>\n",
       "    <tr>\n",
       "      <th>3</th>\n",
       "      <td>[USERNAME]wish this is just a nightmare that ...</td>\n",
       "      <td>0</td>\n",
       "    </tr>\n",
       "    <tr>\n",
       "      <th>4</th>\n",
       "      <td>doc willie ong and isko sabunutan po</td>\n",
       "      <td>0</td>\n",
       "    </tr>\n",
       "    <tr>\n",
       "      <th>...</th>\n",
       "      <td>...</td>\n",
       "      <td>...</td>\n",
       "    </tr>\n",
       "    <tr>\n",
       "      <th>28456</th>\n",
       "      <td>Bisaya, Probinsyano/a, mostly Bisaya = katulong</td>\n",
       "      <td>1</td>\n",
       "    </tr>\n",
       "    <tr>\n",
       "      <th>28457</th>\n",
       "      <td>Amnesia. In my whole life wala pa ako nakasala...</td>\n",
       "      <td>1</td>\n",
       "    </tr>\n",
       "    <tr>\n",
       "      <th>28458</th>\n",
       "      <td>Kontrabida na ilang beses na tinalo at obvious...</td>\n",
       "      <td>1</td>\n",
       "    </tr>\n",
       "    <tr>\n",
       "      <th>28459</th>\n",
       "      <td>Yung antagonist laging kailangang sobrang sama...</td>\n",
       "      <td>1</td>\n",
       "    </tr>\n",
       "    <tr>\n",
       "      <th>28460</th>\n",
       "      <td>May nabaril or nasaksak na pero 'di pa tatawag...</td>\n",
       "      <td>1</td>\n",
       "    </tr>\n",
       "  </tbody>\n",
       "</table>\n",
       "<p>28461 rows × 2 columns</p>\n",
       "</div>"
      ],
      "text/plain": [
       "                                                    text  label\n",
       "0      Binay: Patuloy ang kahirapan dahil sa maling p...      0\n",
       "1      SA GOBYERNONG TAPAT WELCOME SA BAGUO ANG LAHAT...      0\n",
       "2      wait so ur telling me Let Leni Lead mo pero NY...      1\n",
       "3       [USERNAME]wish this is just a nightmare that ...      0\n",
       "4                   doc willie ong and isko sabunutan po      0\n",
       "...                                                  ...    ...\n",
       "28456    Bisaya, Probinsyano/a, mostly Bisaya = katulong      1\n",
       "28457  Amnesia. In my whole life wala pa ako nakasala...      1\n",
       "28458  Kontrabida na ilang beses na tinalo at obvious...      1\n",
       "28459  Yung antagonist laging kailangang sobrang sama...      1\n",
       "28460  May nabaril or nasaksak na pero 'di pa tatawag...      1\n",
       "\n",
       "[28461 rows x 2 columns]"
      ]
     },
     "execution_count": 3,
     "metadata": {},
     "output_type": "execute_result"
    }
   ],
   "source": [
    "dataset = Utils.read_csv_file('datasets/datasetall.csv')\n",
    "dataset"
   ]
  },
  {
   "cell_type": "code",
   "execution_count": 4,
   "metadata": {},
   "outputs": [
    {
     "name": "stdout",
     "output_type": "stream",
     "text": [
      "Random number generators seeded.\n"
     ]
    }
   ],
   "source": [
    "Utils.seed_random_number_generators()"
   ]
  },
  {
   "cell_type": "code",
   "execution_count": 5,
   "metadata": {},
   "outputs": [],
   "source": [
    "X_train, X_test, y_train, y_test = Utils.get_train_test_split(dataset, TEST_SIZE)"
   ]
  },
  {
   "cell_type": "code",
   "execution_count": 6,
   "metadata": {},
   "outputs": [
    {
     "data": {
      "text/plain": [
       "0         [USERNAME] Palangga ka man sang mga taga Baco...\n",
       "1                      Who dafuq is Jose Montemayor Jr.???\n",
       "2        Di na nakakatuwa yung mukha ni Mar Roxas sa TV...\n",
       "3                      national elections. | via[USERNAME]\n",
       "4        Binay will be staring in a movie called \"The D...\n",
       "                               ...                        \n",
       "22764    \"Kala ko wala andito pala si Marcos.\"*pertaini...\n",
       "22765    sie ~ [USERNAME]Marcos Magnanakaw Marcos Dikta...\n",
       "22766                    If Mar is BatMarBinay is Bane-ay.\n",
       "22767    to my moots im sorry in not sorry for flooding...\n",
       "22768                                Uunlad tayo kay Binay\n",
       "Name: text, Length: 22769, dtype: object"
      ]
     },
     "execution_count": 6,
     "metadata": {},
     "output_type": "execute_result"
    }
   ],
   "source": [
    "X_train"
   ]
  },
  {
   "cell_type": "code",
   "execution_count": 7,
   "metadata": {},
   "outputs": [
    {
     "data": {
      "text/plain": [
       "0        0\n",
       "1        0\n",
       "2        1\n",
       "3        0\n",
       "4        1\n",
       "        ..\n",
       "22764    0\n",
       "22765    1\n",
       "22766    1\n",
       "22767    1\n",
       "22768    0\n",
       "Name: label, Length: 22769, dtype: int64"
      ]
     },
     "execution_count": 7,
     "metadata": {},
     "output_type": "execute_result"
    }
   ],
   "source": [
    "y_train"
   ]
  },
  {
   "cell_type": "code",
   "execution_count": 8,
   "metadata": {},
   "outputs": [
    {
     "data": {
      "text/plain": [
       "0                          Bakit trending ang Only Binay?\n",
       "1       Mare @ Cebu [USERNAME][USERNAME] Marcos Never ...\n",
       "2       Kahit anong gawin ko bakit di ko ma appreciate...\n",
       "3       Oras na para tayo'y bumoto ng taong mag tataas...\n",
       "4       VP[USERNAME]is currently in Zamboanga Sibugay ...\n",
       "                              ...                        \n",
       "5687      [USERNAME] Laban LeniAngat Buhay LahatLeni Kiko\n",
       "5688    Nagconcede ka man Maimarwala ka prinnagdala ka...\n",
       "5689    Did You Know that former Philippine secretary ...\n",
       "5690           Bakit nakakairita commercial ni Mar Roxas?\n",
       "5691    To Doc Willie Ong I'd like to believe you are ...\n",
       "Name: text, Length: 5692, dtype: object"
      ]
     },
     "execution_count": 8,
     "metadata": {},
     "output_type": "execute_result"
    }
   ],
   "source": [
    "X_test"
   ]
  },
  {
   "cell_type": "code",
   "execution_count": 9,
   "metadata": {},
   "outputs": [
    {
     "data": {
      "text/plain": [
       "0       0\n",
       "1       1\n",
       "2       1\n",
       "3       0\n",
       "4       0\n",
       "       ..\n",
       "5687    0\n",
       "5688    1\n",
       "5689    0\n",
       "5690    1\n",
       "5691    0\n",
       "Name: label, Length: 5692, dtype: int64"
      ]
     },
     "execution_count": 9,
     "metadata": {},
     "output_type": "execute_result"
    }
   ],
   "source": [
    "y_test"
   ]
  },
  {
   "cell_type": "code",
   "execution_count": 10,
   "metadata": {},
   "outputs": [],
   "source": [
    "VAL_SPLIT = 0.5\n",
    "\n",
    "X_val, X_test, y_val, y_test = Utils.get_train_test_split(\n",
    "  pd.DataFrame({\n",
    "    'text': X_test,\n",
    "    'label': y_test,\n",
    "  }), \n",
    "  VAL_SPLIT,\n",
    ")"
   ]
  },
  {
   "cell_type": "code",
   "execution_count": 11,
   "metadata": {},
   "outputs": [
    {
     "data": {
      "text/plain": [
       "0                    let leni lead Jessica Soho nterviews\n",
       "1                       Oy Let Leni Lead daw sabi ni tomi\n",
       "2                                           Dapat Si Leni\n",
       "3       [USERNAME]and[USERNAME] Beautiful girlWise too...\n",
       "4       [USERNAME] TO DONATE GCash Primitiva C TRANSPA...\n",
       "                              ...                        \n",
       "2842                                        bobong marcos\n",
       "2843                                    My kakampink rice\n",
       "2844                    Poor Binay. Too desperate. Hekhek\n",
       "2845               Yup correlated to IQ Marcos Magnanakaw\n",
       "2846    Lesbros and sissies look o. Hahahaha Let Leni ...\n",
       "Name: text, Length: 2847, dtype: object"
      ]
     },
     "execution_count": 11,
     "metadata": {},
     "output_type": "execute_result"
    }
   ],
   "source": [
    "X_val"
   ]
  },
  {
   "cell_type": "code",
   "execution_count": 12,
   "metadata": {},
   "outputs": [
    {
     "data": {
      "text/plain": [
       "0       0\n",
       "1       0\n",
       "2       0\n",
       "3       0\n",
       "4       0\n",
       "       ..\n",
       "2842    1\n",
       "2843    0\n",
       "2844    1\n",
       "2845    1\n",
       "2846    0\n",
       "Name: label, Length: 2847, dtype: int64"
      ]
     },
     "execution_count": 12,
     "metadata": {},
     "output_type": "execute_result"
    }
   ],
   "source": [
    "y_val"
   ]
  },
  {
   "cell_type": "code",
   "execution_count": 13,
   "metadata": {},
   "outputs": [
    {
     "data": {
      "text/plain": [
       "label\n",
       "0    1412\n",
       "1    1435\n",
       "Name: count, dtype: int64"
      ]
     },
     "execution_count": 13,
     "metadata": {},
     "output_type": "execute_result"
    }
   ],
   "source": [
    "y_val.value_counts(ascending=True)"
   ]
  },
  {
   "cell_type": "code",
   "execution_count": 14,
   "metadata": {},
   "outputs": [
    {
     "data": {
      "text/plain": [
       "0       Chika natin mga nagawa ni[USERNAME]ha pati sa ...\n",
       "1                 glad that my man is kakampink Leni Kiko\n",
       "2       Ayan daw mga nagawatalo pa DPWHPakivalidate mg...\n",
       "3                Rizalito david is for morality ahahahaha\n",
       "4       Its our choice and our right whom to vote for ...\n",
       "                              ...                        \n",
       "2840    Ayaw na nilang lagyan ng mukha ni Binay yung T...\n",
       "2841    Im one of the Thank you VP[USERNAME]for the in...\n",
       "2842    [USERNAME] lugaw ka putang ina mo pag nakaupo ...\n",
       "2843    you know whats a bad joke? mar's shady mrt dea...\n",
       "2844    Robredo leads Marcos snubs advertising on Face...\n",
       "Name: text, Length: 2845, dtype: object"
      ]
     },
     "execution_count": 14,
     "metadata": {},
     "output_type": "execute_result"
    }
   ],
   "source": [
    "X_test"
   ]
  },
  {
   "cell_type": "code",
   "execution_count": 15,
   "metadata": {},
   "outputs": [
    {
     "data": {
      "text/plain": [
       "0       0\n",
       "1       0\n",
       "2       0\n",
       "3       0\n",
       "4       0\n",
       "       ..\n",
       "2840    1\n",
       "2841    0\n",
       "2842    1\n",
       "2843    1\n",
       "2844    0\n",
       "Name: label, Length: 2845, dtype: int64"
      ]
     },
     "execution_count": 15,
     "metadata": {},
     "output_type": "execute_result"
    }
   ],
   "source": [
    "y_test"
   ]
  },
  {
   "cell_type": "code",
   "execution_count": 16,
   "metadata": {},
   "outputs": [
    {
     "data": {
      "text/plain": [
       "label\n",
       "0    1411\n",
       "1    1434\n",
       "Name: count, dtype: int64"
      ]
     },
     "execution_count": 16,
     "metadata": {},
     "output_type": "execute_result"
    }
   ],
   "source": [
    "y_test.value_counts(ascending=True)"
   ]
  },
  {
   "cell_type": "code",
   "execution_count": 17,
   "metadata": {},
   "outputs": [
    {
     "name": "stdout",
     "output_type": "stream",
     "text": [
      "model_lstm/test_point_2_hidden_300/0/LSTM.pkl\n"
     ]
    },
    {
     "name": "stdout",
     "output_type": "stream",
     "text": [
      "Accuracy: 0.7734457323498419\n",
      "Recall: 0.9045296167247386\n",
      "Precision: 0.7187153931339978\n",
      "F1-score: 0.800987349583462\n",
      "Accuracy: 0.7701230228471002\n",
      "Recall: 0.9058577405857741\n",
      "Precision: 0.7145214521452146\n",
      "F1-score: 0.7988929889298892\n",
      "model_lstm/test_point_2_hidden_300/1/LSTM.pkl\n",
      "Accuracy: 0.7650158061116965\n",
      "Recall: 0.7428571428571429\n",
      "Precision: 0.780380673499268\n",
      "F1-score: 0.7611567297393788\n",
      "Accuracy: 0.7585237258347979\n",
      "Recall: 0.7315202231520224\n",
      "Precision: 0.7764618800888231\n",
      "F1-score: 0.7533213644524238\n",
      "model_lstm/test_point_2_hidden_300/2/LSTM.pkl\n",
      "Accuracy: 0.7766069546891464\n",
      "Recall: 0.735191637630662\n",
      "Precision: 0.8047292143401983\n",
      "F1-score: 0.7683903860160233\n",
      "Accuracy: 0.7708260105448155\n",
      "Recall: 0.7350069735006973\n",
      "Precision: 0.7948717948717948\n",
      "F1-score: 0.763768115942029\n",
      "model_lstm/test_point_2_hidden_300/3/LSTM.pkl\n",
      "Accuracy: 0.7664207938180541\n",
      "Recall: 0.9198606271777003\n",
      "Precision: 0.7058823529411765\n",
      "F1-score: 0.7987897125567323\n",
      "Accuracy: 0.772231985940246\n",
      "Recall: 0.9358437935843794\n",
      "Precision: 0.7070600632244468\n",
      "F1-score: 0.8055222088835535\n",
      "model_lstm/test_point_2_hidden_300/4/LSTM.pkl\n",
      "Accuracy: 0.7523709167544784\n",
      "Recall: 0.7790940766550523\n",
      "Precision: 0.7423638778220452\n",
      "F1-score: 0.7602856171370282\n",
      "Accuracy: 0.7578207381370826\n",
      "Recall: 0.803347280334728\n",
      "Precision: 0.7389352148813342\n",
      "F1-score: 0.7697961911125961\n",
      "model_lstm/test_point_2_hidden_300/5/LSTM.pkl\n",
      "Accuracy: 0.7376185458377239\n",
      "Recall: 0.735191637630662\n",
      "Precision: 0.7419127988748242\n",
      "F1-score: 0.7385369268463423\n",
      "Accuracy: 0.7342706502636204\n",
      "Recall: 0.7489539748953975\n",
      "Precision: 0.7306122448979592\n",
      "F1-score: 0.7396694214876034\n",
      "model_lstm/test_point_2_hidden_300/6/LSTM.pkl\n",
      "Accuracy: 0.7864418686336495\n",
      "Recall: 0.7979094076655052\n",
      "Precision: 0.7826384142173616\n",
      "F1-score: 0.7902001380262249\n",
      "Accuracy: 0.7817223198594024\n",
      "Recall: 0.793584379358438\n",
      "Precision: 0.7778537252221462\n",
      "F1-score: 0.7856403175698998\n"
     ]
    }
   ],
   "source": [
    "import os\n",
    "import joblib\n",
    "\n",
    "subfolders = [ f.name for f in os.scandir(MODEL) if f.is_dir() ]\n",
    "\n",
    "total_accuracy = []\n",
    "total_recall = []\n",
    "total_precision = []\n",
    "total_f1 = []\n",
    "total_test_accuracy = []\n",
    "total_test_recall = []\n",
    "total_test_precision = []\n",
    "total_test_f1 = []\n",
    "\n",
    "\n",
    "for i in subfolders:\n",
    "  model_folder = f'{MODEL}/{i}/LSTM.pkl'\n",
    "  print(model_folder)\n",
    "  model = joblib.load(model_folder)\n",
    "\n",
    "  accuracy, recall, precision, f1 = Utils.get_prediction_results(\n",
    "    X_val,\n",
    "    y_val,\n",
    "    model,\n",
    "  )\n",
    "\n",
    "  test_accuracy, test_recall, test_precision, test_f1 = Utils.get_prediction_results(\n",
    "    X_test,\n",
    "    y_test,\n",
    "    model,\n",
    "  )\n",
    "\n",
    "  total_accuracy.append(accuracy)\n",
    "  total_recall.append(recall)\n",
    "  total_precision.append(precision)\n",
    "  total_f1.append(f1)\n",
    "  total_test_accuracy.append(test_accuracy)\n",
    "  total_test_recall.append(test_recall)\n",
    "  total_test_precision.append(test_precision)\n",
    "  total_test_f1.append(test_f1)"
   ]
  },
  {
   "cell_type": "code",
   "execution_count": 18,
   "metadata": {},
   "outputs": [],
   "source": [
    "metrics_data_frame = pd.DataFrame(\n",
    "  {\n",
    "    'accuracy': total_accuracy,\n",
    "    'recall': total_recall,\n",
    "    'precision': total_precision,\n",
    "    'f1': total_f1,\n",
    "    'test_accuracy': total_test_accuracy,\n",
    "    'test_recall': total_test_recall,\n",
    "    'test_precision': total_test_precision,\n",
    "    'test_f1': total_test_f1,\n",
    "  },\n",
    "  columns=[\n",
    "    'accuracy', \n",
    "    'recall', \n",
    "    'precision', \n",
    "    'f1',\n",
    "    'test_accuracy', \n",
    "    'test_recall', \n",
    "    'test_precision', \n",
    "    'test_f1',\n",
    "  ],\n",
    ")\n",
    "metrics_data_frame.to_csv(f'{MODEL}/eval_metrics.csv')"
   ]
  },
  {
   "cell_type": "code",
   "execution_count": 19,
   "metadata": {},
   "outputs": [
    {
     "name": "stdout",
     "output_type": "stream",
     "text": [
      "Done\n"
     ]
    }
   ],
   "source": [
    "print(\"Done\")"
   ]
  }
 ],
 "metadata": {
  "kernelspec": {
   "display_name": "base",
   "language": "python",
   "name": "python3"
  },
  "language_info": {
   "codemirror_mode": {
    "name": "ipython",
    "version": 3
   },
   "file_extension": ".py",
   "mimetype": "text/x-python",
   "name": "python",
   "nbconvert_exporter": "python",
   "pygments_lexer": "ipython3",
   "version": "3.9.12"
  },
  "orig_nbformat": 4
 },
 "nbformat": 4,
 "nbformat_minor": 2
}
