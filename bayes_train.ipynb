{
 "cells": [
  {
   "cell_type": "markdown",
   "metadata": {},
   "source": [
    "# Training\n",
    "\n",
    "This notebook demonstrates the process of training an ensemble learning model using a provided CSV file. It showcases data preprocessing, model training, evaluation, and saving the trained model. The ensemble method (hard voting, soft voting, or stacking) can be selected based on the user's choice.\n"
   ]
  },
  {
   "cell_type": "markdown",
   "metadata": {},
   "source": [
    "## Importing Necessary Libraries\n",
    "\n",
    "First, we import all the necessary libraries and modules needed for this script. This includes libraries for handling warnings, data manipulation, machine learning, and the custom Ensemble module containing ensemble learning methods."
   ]
  },
  {
   "cell_type": "code",
   "execution_count": 1,
   "metadata": {},
   "outputs": [
    {
     "name": "stderr",
     "output_type": "stream",
     "text": [
      "/tmp/ipykernel_27884/1069041386.py:1: DeprecationWarning: \n",
      "Pyarrow will become a required dependency of pandas in the next major release of pandas (pandas 3.0),\n",
      "(to allow more performant data types, such as the Arrow string type, and better interoperability with other libraries)\n",
      "but was not found to be installed on your system.\n",
      "If this would cause problems for you,\n",
      "please provide us feedback at https://github.com/pandas-dev/pandas/issues/54466\n",
      "        \n",
      "  import pandas as pd\n"
     ]
    }
   ],
   "source": [
    "import pandas as pd\n",
    "import os\n",
    "import math\n",
    "import numpy as np\n",
    "from src import Utils, Bayes\n",
    "\n",
    "import sklearn\n",
    "from sklearn.naive_bayes import BernoulliNB\n",
    "from sklearn.feature_extraction.text import CountVectorizer, tokenized_text, TfidfVectorizer\n",
    "from sklearn.metrics import accuracy_score, recall_score, precision_score, f1_score, confusion_matrix, ConfusionMatrixDisplay\n",
    "\n",
    "import matplotlib.pyplot as plt \n",
    "import joblib\n",
    "\n",
    "pd.set_option('max_colwidth', 800)"
   ]
  },
  {
   "cell_type": "markdown",
   "metadata": {},
   "source": [
    "## Settings"
   ]
  },
  {
   "cell_type": "code",
   "execution_count": 2,
   "metadata": {},
   "outputs": [],
   "source": [
    "TEST_SIZE = 0.2\n",
    "\n",
    "SAVE_MODEL = False\n",
    "MODEL_FOLDER = 'models/model_bayes/revised-1'\n",
    "DATASET_TRAIN = 'datasets/dataset-train.csv'\n",
    "DATASET_TEST = 'datasets/dataset-test.csv'"
   ]
  },
  {
   "cell_type": "markdown",
   "metadata": {},
   "source": [
    "## Utility Functions"
   ]
  },
  {
   "cell_type": "markdown",
   "metadata": {},
   "source": [
    "### Model saving folder creation\n",
    "\n",
    "Create a folder to save the model based on `MODEL_FOLDER`"
   ]
  },
  {
   "cell_type": "code",
   "execution_count": 3,
   "metadata": {},
   "outputs": [],
   "source": [
    "if SAVE_MODEL:\n",
    "  os.makedirs(\n",
    "    MODEL_FOLDER,\n",
    "    exist_ok=True, # Create folder if it doesn't exist, else do nothing\n",
    "  )\n",
    "\n",
    "  print(f\"Saving model at '{MODEL_FOLDER}'\")"
   ]
  },
  {
   "cell_type": "markdown",
   "metadata": {},
   "source": [
    "### Function to Read CSV File\n",
    "\n",
    "The `read_csv_file` function reads the CSV file and returns a pandas DataFrame. If the file is not found, the script will exit with an error message."
   ]
  },
  {
   "cell_type": "code",
   "execution_count": 4,
   "metadata": {},
   "outputs": [
    {
     "name": "stdout",
     "output_type": "stream",
     "text": [
      "CSV file read successfully!\n",
      "CSV file read successfully!\n"
     ]
    }
   ],
   "source": [
    "def read_csv_file(filename: str) -> pd.DataFrame:\n",
    "    try:\n",
    "        data = pd.read_csv(filename, lineterminator='\\n', usecols=range(2))\n",
    "        print(\"CSV file read successfully!\")\n",
    "        return data\n",
    "    except FileNotFoundError:\n",
    "        print(\"ERROR: File not found\")\n",
    "        exit(1)\n",
    "\n",
    "dataset_train = read_csv_file(DATASET_TRAIN)\n",
    "dataset_test = read_csv_file(DATASET_TEST)"
   ]
  },
  {
   "cell_type": "code",
   "execution_count": 5,
   "metadata": {},
   "outputs": [],
   "source": [
    "X_train = dataset_train['text']\n",
    "y_train = dataset_train['label']\n",
    "\n",
    "X_test = dataset_test['text']\n",
    "y_test = dataset_test['label']"
   ]
  },
  {
   "cell_type": "markdown",
   "metadata": {},
   "source": [
    "## Train Data"
   ]
  },
  {
   "cell_type": "code",
   "execution_count": 6,
   "metadata": {},
   "outputs": [
    {
     "data": {
      "text/html": [
       "<div>\n",
       "<style scoped>\n",
       "    .dataframe tbody tr th:only-of-type {\n",
       "        vertical-align: middle;\n",
       "    }\n",
       "\n",
       "    .dataframe tbody tr th {\n",
       "        vertical-align: top;\n",
       "    }\n",
       "\n",
       "    .dataframe thead th {\n",
       "        text-align: right;\n",
       "    }\n",
       "</style>\n",
       "<table border=\"1\" class=\"dataframe\">\n",
       "  <thead>\n",
       "    <tr style=\"text-align: right;\">\n",
       "      <th></th>\n",
       "      <th>text</th>\n",
       "      <th>label</th>\n",
       "    </tr>\n",
       "  </thead>\n",
       "  <tbody>\n",
       "    <tr>\n",
       "      <th>0</th>\n",
       "      <td>Matthew Chang [USERNAME] Remind ko lang di ba galit na galit ka dun sa taong di marunong magbayad ng utang? Tapos kay marcos hindi iboboto mo pa? Well Marcos Magnanakaw Never Again</td>\n",
       "      <td>1</td>\n",
       "    </tr>\n",
       "    <tr>\n",
       "      <th>1</th>\n",
       "      <td>Yay! The interview served its purpose wellJessica Soho Interviews Angat Buhay LahatKakampink</td>\n",
       "      <td>0</td>\n",
       "    </tr>\n",
       "    <tr>\n",
       "      <th>2</th>\n",
       "      <td>I say DASURV</td>\n",
       "      <td>0</td>\n",
       "    </tr>\n",
       "    <tr>\n",
       "      <th>3</th>\n",
       "      <td>TayNew said Let Leni Lead</td>\n",
       "      <td>0</td>\n",
       "    </tr>\n",
       "    <tr>\n",
       "      <th>4</th>\n",
       "      <td>Gloc 9 is not endorsing Jejomar Binay as his presidential bet  2016 Elections 2016 Polls</td>\n",
       "      <td>0</td>\n",
       "    </tr>\n",
       "    <tr>\n",
       "      <th>...</th>\n",
       "      <td>...</td>\n",
       "      <td>...</td>\n",
       "    </tr>\n",
       "    <tr>\n",
       "      <th>22764</th>\n",
       "      <td>Nov. 11: on [USERNAME] saw tv ads of Jojo BinayFrancis TolentinoAlan CayetanoMartin RomualdezMar RoxasRisa Hontiveros epal watch</td>\n",
       "      <td>1</td>\n",
       "    </tr>\n",
       "    <tr>\n",
       "      <th>22765</th>\n",
       "      <td>Mar Roxas your call for unity describes one thing! SELFISHNESS! You don't deserve to be the PRESIDENT!!!</td>\n",
       "      <td>1</td>\n",
       "    </tr>\n",
       "    <tr>\n",
       "      <th>22766</th>\n",
       "      <td>Buti nalang nagdecide nakong hindi manood ng TV. Hindi ko pa napapakinggan yung Only Binay na yan.</td>\n",
       "      <td>0</td>\n",
       "    </tr>\n",
       "    <tr>\n",
       "      <th>22767</th>\n",
       "      <td>sang boto para sa pagbabago. Let Leni Lead philippine elections para sa pagbabago laban para sa bayan ofw dubai election</td>\n",
       "      <td>0</td>\n",
       "    </tr>\n",
       "    <tr>\n",
       "      <th>22768</th>\n",
       "      <td>Nakakainit ng dugo yung tv ad ni Binay</td>\n",
       "      <td>1</td>\n",
       "    </tr>\n",
       "  </tbody>\n",
       "</table>\n",
       "<p>22769 rows × 2 columns</p>\n",
       "</div>"
      ],
      "text/plain": [
       "                                                                                                                                                                                       text  \\\n",
       "0      Matthew Chang [USERNAME] Remind ko lang di ba galit na galit ka dun sa taong di marunong magbayad ng utang? Tapos kay marcos hindi iboboto mo pa? Well Marcos Magnanakaw Never Again   \n",
       "1                                                                                              Yay! The interview served its purpose wellJessica Soho Interviews Angat Buhay LahatKakampink   \n",
       "2                                                                                                                                                                              I say DASURV   \n",
       "3                                                                                                                                                                 TayNew said Let Leni Lead   \n",
       "4                                                                                                  Gloc 9 is not endorsing Jejomar Binay as his presidential bet  2016 Elections 2016 Polls   \n",
       "...                                                                                                                                                                                     ...   \n",
       "22764                                                      Nov. 11: on [USERNAME] saw tv ads of Jojo BinayFrancis TolentinoAlan CayetanoMartin RomualdezMar RoxasRisa Hontiveros epal watch   \n",
       "22765                                                                              Mar Roxas your call for unity describes one thing! SELFISHNESS! You don't deserve to be the PRESIDENT!!!   \n",
       "22766                                                                                    Buti nalang nagdecide nakong hindi manood ng TV. Hindi ko pa napapakinggan yung Only Binay na yan.   \n",
       "22767                                                              sang boto para sa pagbabago. Let Leni Lead philippine elections para sa pagbabago laban para sa bayan ofw dubai election   \n",
       "22768                                                                                                                                                Nakakainit ng dugo yung tv ad ni Binay   \n",
       "\n",
       "       label  \n",
       "0          1  \n",
       "1          0  \n",
       "2          0  \n",
       "3          0  \n",
       "4          0  \n",
       "...      ...  \n",
       "22764      1  \n",
       "22765      1  \n",
       "22766      0  \n",
       "22767      0  \n",
       "22768      1  \n",
       "\n",
       "[22769 rows x 2 columns]"
      ]
     },
     "execution_count": 6,
     "metadata": {},
     "output_type": "execute_result"
    }
   ],
   "source": [
    "pd.DataFrame({\n",
    "  'text': X_train,\n",
    "  'label': y_train,\n",
    "})"
   ]
  },
  {
   "cell_type": "code",
   "execution_count": 7,
   "metadata": {},
   "outputs": [
    {
     "data": {
      "text/plain": [
       "label\n",
       "0    11292\n",
       "1    11477\n",
       "Name: count, dtype: int64"
      ]
     },
     "execution_count": 7,
     "metadata": {},
     "output_type": "execute_result"
    }
   ],
   "source": [
    "y_train.value_counts(ascending=True)"
   ]
  },
  {
   "cell_type": "markdown",
   "metadata": {},
   "source": [
    "## Test Data"
   ]
  },
  {
   "cell_type": "code",
   "execution_count": 8,
   "metadata": {},
   "outputs": [
    {
     "data": {
      "text/html": [
       "<div>\n",
       "<style scoped>\n",
       "    .dataframe tbody tr th:only-of-type {\n",
       "        vertical-align: middle;\n",
       "    }\n",
       "\n",
       "    .dataframe tbody tr th {\n",
       "        vertical-align: top;\n",
       "    }\n",
       "\n",
       "    .dataframe thead th {\n",
       "        text-align: right;\n",
       "    }\n",
       "</style>\n",
       "<table border=\"1\" class=\"dataframe\">\n",
       "  <thead>\n",
       "    <tr style=\"text-align: right;\">\n",
       "      <th></th>\n",
       "      <th>text</th>\n",
       "      <th>label</th>\n",
       "    </tr>\n",
       "  </thead>\n",
       "  <tbody>\n",
       "    <tr>\n",
       "      <th>0</th>\n",
       "      <td>Hindi susuportahan ng theatre and literary establishmentmafiasi Ka Leody de Guzman dahil at huwag na tayong maglokohan dito mga middle class matapobre from the centre centre left to the far left ang mga espasyo na ito sa PILI pinas PH Literary Mafia</td>\n",
       "      <td>0</td>\n",
       "    </tr>\n",
       "    <tr>\n",
       "      <th>1</th>\n",
       "      <td>BABAE LABAN SA FAKE AT FRAUDBFFSUMBONGDAYA DESKS The Sumbong Daya booth is our way of encouraging people to get involved in monitoring the elections one expression of peoples vigilance of beingmapagbantay eleksyon</td>\n",
       "      <td>1</td>\n",
       "    </tr>\n",
       "    <tr>\n",
       "      <th>2</th>\n",
       "      <td>Im proud to be a Filipino and a kakampink like BroArminAnimo La Salle! LSA NY here</td>\n",
       "      <td>0</td>\n",
       "    </tr>\n",
       "    <tr>\n",
       "      <th>3</th>\n",
       "      <td>Grabe noThe hypocrisy of the church to preach the Word of the Lord but then endorse politicians who clearly apparently definitely certainly evidently violated even just the Ten CommandmentsLike how can u do that?Yikes Halalan2022</td>\n",
       "      <td>1</td>\n",
       "    </tr>\n",
       "    <tr>\n",
       "      <th>4</th>\n",
       "      <td>BBMSARAUniteam Ph Arena BBMSARA</td>\n",
       "      <td>0</td>\n",
       "    </tr>\n",
       "    <tr>\n",
       "      <th>...</th>\n",
       "      <td>...</td>\n",
       "      <td>...</td>\n",
       "    </tr>\n",
       "    <tr>\n",
       "      <th>5687</th>\n",
       "      <td>[USERNAME] Rizalito David is a good man you can feel the sincerity everytime he talked And this is my first time i saw him not even before This is the kind of candidate we need</td>\n",
       "      <td>0</td>\n",
       "    </tr>\n",
       "    <tr>\n",
       "      <th>5688</th>\n",
       "      <td>A very famous religious cult in the Philippines will vote for Duterte and Marcos. ?? If only I have the means to get out of this country. ??</td>\n",
       "      <td>1</td>\n",
       "    </tr>\n",
       "    <tr>\n",
       "      <th>5689</th>\n",
       "      <td>Tama sir VP Leni Di dapat iboto SI BBM Kase No1 SINUNGALING Angat Buhay Lahat</td>\n",
       "      <td>0</td>\n",
       "    </tr>\n",
       "    <tr>\n",
       "      <th>5690</th>\n",
       "      <td>RT [USERNAME]: Mar Roxas forever arrogantI can't imagine him as a president plus the irritating first lady on his side.</td>\n",
       "      <td>1</td>\n",
       "    </tr>\n",
       "    <tr>\n",
       "      <th>5691</th>\n",
       "      <td>Let Leni Lead Kakampinks</td>\n",
       "      <td>0</td>\n",
       "    </tr>\n",
       "  </tbody>\n",
       "</table>\n",
       "<p>5692 rows × 2 columns</p>\n",
       "</div>"
      ],
      "text/plain": [
       "                                                                                                                                                                                                                                                           text  \\\n",
       "0     Hindi susuportahan ng theatre and literary establishmentmafiasi Ka Leody de Guzman dahil at huwag na tayong maglokohan dito mga middle class matapobre from the centre centre left to the far left ang mga espasyo na ito sa PILI pinas PH Literary Mafia   \n",
       "1                                         BABAE LABAN SA FAKE AT FRAUDBFFSUMBONGDAYA DESKS The Sumbong Daya booth is our way of encouraging people to get involved in monitoring the elections one expression of peoples vigilance of beingmapagbantay eleksyon   \n",
       "2                                                                                                                                                                            Im proud to be a Filipino and a kakampink like BroArminAnimo La Salle! LSA NY here   \n",
       "3                         Grabe noThe hypocrisy of the church to preach the Word of the Lord but then endorse politicians who clearly apparently definitely certainly evidently violated even just the Ten CommandmentsLike how can u do that?Yikes Halalan2022   \n",
       "4                                                                                                                                                                                                                               BBMSARAUniteam Ph Arena BBMSARA   \n",
       "...                                                                                                                                                                                                                                                         ...   \n",
       "5687                                                                           [USERNAME] Rizalito David is a good man you can feel the sincerity everytime he talked And this is my first time i saw him not even before This is the kind of candidate we need   \n",
       "5688                                                                                                               A very famous religious cult in the Philippines will vote for Duterte and Marcos. ?? If only I have the means to get out of this country. ??   \n",
       "5689                                                                                                                                                                              Tama sir VP Leni Di dapat iboto SI BBM Kase No1 SINUNGALING Angat Buhay Lahat   \n",
       "5690                                                                                                                                    RT [USERNAME]: Mar Roxas forever arrogantI can't imagine him as a president plus the irritating first lady on his side.   \n",
       "5691                                                                                                                                                                                                                                   Let Leni Lead Kakampinks   \n",
       "\n",
       "      label  \n",
       "0         0  \n",
       "1         1  \n",
       "2         0  \n",
       "3         1  \n",
       "4         0  \n",
       "...     ...  \n",
       "5687      0  \n",
       "5688      1  \n",
       "5689      0  \n",
       "5690      1  \n",
       "5691      0  \n",
       "\n",
       "[5692 rows x 2 columns]"
      ]
     },
     "execution_count": 8,
     "metadata": {},
     "output_type": "execute_result"
    }
   ],
   "source": [
    "pd.DataFrame({\n",
    "  'text': X_test,\n",
    "  'label': y_test,\n",
    "})"
   ]
  },
  {
   "cell_type": "code",
   "execution_count": 9,
   "metadata": {},
   "outputs": [
    {
     "data": {
      "text/plain": [
       "label\n",
       "0    2823\n",
       "1    2869\n",
       "Name: count, dtype: int64"
      ]
     },
     "execution_count": 9,
     "metadata": {},
     "output_type": "execute_result"
    }
   ],
   "source": [
    "y_test.value_counts(ascending=True)"
   ]
  },
  {
   "cell_type": "markdown",
   "metadata": {},
   "source": [
    "## TfidfVectorizer"
   ]
  },
  {
   "cell_type": "code",
   "execution_count": 10,
   "metadata": {},
   "outputs": [
    {
     "data": {
      "text/html": [
       "<style>#sk-container-id-1 {color: black;}#sk-container-id-1 pre{padding: 0;}#sk-container-id-1 div.sk-toggleable {background-color: white;}#sk-container-id-1 label.sk-toggleable__label {cursor: pointer;display: block;width: 100%;margin-bottom: 0;padding: 0.3em;box-sizing: border-box;text-align: center;}#sk-container-id-1 label.sk-toggleable__label-arrow:before {content: \"▸\";float: left;margin-right: 0.25em;color: #696969;}#sk-container-id-1 label.sk-toggleable__label-arrow:hover:before {color: black;}#sk-container-id-1 div.sk-estimator:hover label.sk-toggleable__label-arrow:before {color: black;}#sk-container-id-1 div.sk-toggleable__content {max-height: 0;max-width: 0;overflow: hidden;text-align: left;background-color: #f0f8ff;}#sk-container-id-1 div.sk-toggleable__content pre {margin: 0.2em;color: black;border-radius: 0.25em;background-color: #f0f8ff;}#sk-container-id-1 input.sk-toggleable__control:checked~div.sk-toggleable__content {max-height: 200px;max-width: 100%;overflow: auto;}#sk-container-id-1 input.sk-toggleable__control:checked~label.sk-toggleable__label-arrow:before {content: \"▾\";}#sk-container-id-1 div.sk-estimator input.sk-toggleable__control:checked~label.sk-toggleable__label {background-color: #d4ebff;}#sk-container-id-1 div.sk-label input.sk-toggleable__control:checked~label.sk-toggleable__label {background-color: #d4ebff;}#sk-container-id-1 input.sk-hidden--visually {border: 0;clip: rect(1px 1px 1px 1px);clip: rect(1px, 1px, 1px, 1px);height: 1px;margin: -1px;overflow: hidden;padding: 0;position: absolute;width: 1px;}#sk-container-id-1 div.sk-estimator {font-family: monospace;background-color: #f0f8ff;border: 1px dotted black;border-radius: 0.25em;box-sizing: border-box;margin-bottom: 0.5em;}#sk-container-id-1 div.sk-estimator:hover {background-color: #d4ebff;}#sk-container-id-1 div.sk-parallel-item::after {content: \"\";width: 100%;border-bottom: 1px solid gray;flex-grow: 1;}#sk-container-id-1 div.sk-label:hover label.sk-toggleable__label {background-color: #d4ebff;}#sk-container-id-1 div.sk-serial::before {content: \"\";position: absolute;border-left: 1px solid gray;box-sizing: border-box;top: 0;bottom: 0;left: 50%;z-index: 0;}#sk-container-id-1 div.sk-serial {display: flex;flex-direction: column;align-items: center;background-color: white;padding-right: 0.2em;padding-left: 0.2em;position: relative;}#sk-container-id-1 div.sk-item {position: relative;z-index: 1;}#sk-container-id-1 div.sk-parallel {display: flex;align-items: stretch;justify-content: center;background-color: white;position: relative;}#sk-container-id-1 div.sk-item::before, #sk-container-id-1 div.sk-parallel-item::before {content: \"\";position: absolute;border-left: 1px solid gray;box-sizing: border-box;top: 0;bottom: 0;left: 50%;z-index: -1;}#sk-container-id-1 div.sk-parallel-item {display: flex;flex-direction: column;z-index: 1;position: relative;background-color: white;}#sk-container-id-1 div.sk-parallel-item:first-child::after {align-self: flex-end;width: 50%;}#sk-container-id-1 div.sk-parallel-item:last-child::after {align-self: flex-start;width: 50%;}#sk-container-id-1 div.sk-parallel-item:only-child::after {width: 0;}#sk-container-id-1 div.sk-dashed-wrapped {border: 1px dashed gray;margin: 0 0.4em 0.5em 0.4em;box-sizing: border-box;padding-bottom: 0.4em;background-color: white;}#sk-container-id-1 div.sk-label label {font-family: monospace;font-weight: bold;display: inline-block;line-height: 1.2em;}#sk-container-id-1 div.sk-label-container {text-align: center;}#sk-container-id-1 div.sk-container {/* jupyter's `normalize.less` sets `[hidden] { display: none; }` but bootstrap.min.css set `[hidden] { display: none !important; }` so we also need the `!important` here to be able to override the default hidden behavior on the sphinx rendered scikit-learn.org. See: https://github.com/scikit-learn/scikit-learn/issues/21755 */display: inline-block !important;position: relative;}#sk-container-id-1 div.sk-text-repr-fallback {display: none;}</style><div id=\"sk-container-id-1\" class=\"sk-top-container\"><div class=\"sk-text-repr-fallback\"><pre>TfidfVectorizer()</pre><b>In a Jupyter environment, please rerun this cell to show the HTML representation or trust the notebook. <br />On GitHub, the HTML representation is unable to render, please try loading this page with nbviewer.org.</b></div><div class=\"sk-container\" hidden><div class=\"sk-item\"><div class=\"sk-estimator sk-toggleable\"><input class=\"sk-toggleable__control sk-hidden--visually\" id=\"sk-estimator-id-1\" type=\"checkbox\" checked><label for=\"sk-estimator-id-1\" class=\"sk-toggleable__label sk-toggleable__label-arrow\">TfidfVectorizer</label><div class=\"sk-toggleable__content\"><pre>TfidfVectorizer()</pre></div></div></div></div></div>"
      ],
      "text/plain": [
       "TfidfVectorizer()"
      ]
     },
     "execution_count": 10,
     "metadata": {},
     "output_type": "execute_result"
    }
   ],
   "source": [
    "tfidf = TfidfVectorizer()\n",
    "tfidf"
   ]
  },
  {
   "cell_type": "code",
   "execution_count": 11,
   "metadata": {},
   "outputs": [
    {
     "name": "stdout",
     "output_type": "stream",
     "text": [
      "  (0, 21543)\t1.0\n",
      "  (0, 5740)\t1.0\n",
      "  (0, 37801)\t1.0\n",
      "  (0, 31198)\t1.0\n",
      "  (0, 17072)\t1.0\n",
      "  (0, 17830)\t1.0\n",
      "  (0, 7901)\t2.0\n",
      "  (0, 2728)\t1.0\n",
      "  (0, 11007)\t2.0\n",
      "  (0, 22826)\t1.0\n",
      "  (0, 15550)\t1.0\n",
      "  (0, 8742)\t1.0\n",
      "  (0, 32107)\t1.0\n",
      "  (0, 35496)\t1.0\n",
      "  (0, 21302)\t1.0\n",
      "  (0, 19378)\t1.0\n",
      "  (0, 25135)\t1.0\n",
      "  (0, 37825)\t1.0\n",
      "  (0, 35527)\t1.0\n",
      "  (0, 16597)\t1.0\n",
      "  (0, 21092)\t2.0\n",
      "  (0, 12914)\t1.0\n",
      "  (0, 13471)\t1.0\n",
      "  (0, 22312)\t1.0\n",
      "  (0, 26607)\t1.0\n",
      "  :\t:\n",
      "  (22766, 24567)\t1.0\n",
      "  (22766, 23121)\t1.0\n",
      "  (22767, 32107)\t3.0\n",
      "  (22767, 18367)\t1.0\n",
      "  (22767, 18185)\t1.0\n",
      "  (22767, 18050)\t1.0\n",
      "  (22767, 9240)\t1.0\n",
      "  (22767, 3287)\t1.0\n",
      "  (22767, 27770)\t3.0\n",
      "  (22767, 9220)\t1.0\n",
      "  (22767, 4625)\t1.0\n",
      "  (22767, 17533)\t1.0\n",
      "  (22767, 28439)\t1.0\n",
      "  (22767, 26752)\t2.0\n",
      "  (22767, 26053)\t1.0\n",
      "  (22767, 32451)\t1.0\n",
      "  (22767, 8650)\t1.0\n",
      "  (22768, 25135)\t1.0\n",
      "  (22768, 3873)\t1.0\n",
      "  (22768, 25262)\t1.0\n",
      "  (22768, 37165)\t1.0\n",
      "  (22768, 39570)\t1.0\n",
      "  (22768, 834)\t1.0\n",
      "  (22768, 8673)\t1.0\n",
      "  (22768, 23810)\t1.0\n"
     ]
    }
   ],
   "source": [
    "X_train_transformed = tfidf.fit_transform(X_train)"
   ]
  },
  {
   "cell_type": "code",
   "execution_count": 12,
   "metadata": {},
   "outputs": [],
   "source": [
    "tokenized_text = tfidf.get_tokenized_text()"
   ]
  },
  {
   "cell_type": "code",
   "execution_count": 13,
   "metadata": {},
   "outputs": [
    {
     "name": "stdout",
     "output_type": "stream",
     "text": [
      "matthew chang username remind ko lang di ba galit na galit ka dun sa taong di marunong magbayad ng utang tapos kay marcos hindi iboboto mo pa well marcos magnanakaw never again \n",
      "yay the interview served its purpose welljessica soho interviews angat buhay lahatkakampink \n",
      "say dasurv \n",
      "taynew said let leni lead \n",
      "gloc is not endorsing jejomar binay as his presidential bet 2016 elections 2016 polls \n"
     ]
    }
   ],
   "source": [
    "for text in tokenized_text[:5]:\n",
    "  for token in text:\n",
    "    print(token, end=' ')\n",
    "  print()"
   ]
  },
  {
   "cell_type": "code",
   "execution_count": 14,
   "metadata": {},
   "outputs": [
    {
     "data": {
      "text/plain": [
       "32"
      ]
     },
     "execution_count": 14,
     "metadata": {},
     "output_type": "execute_result"
    }
   ],
   "source": [
    "length_of_first_sample = len(tokenized_text[0])\n",
    "length_of_first_sample"
   ]
  },
  {
   "cell_type": "code",
   "execution_count": 15,
   "metadata": {},
   "outputs": [
    {
     "data": {
      "text/plain": [
       "29"
      ]
     },
     "execution_count": 15,
     "metadata": {},
     "output_type": "execute_result"
    }
   ],
   "source": [
    "unique_tokens_in_first_sample = len(set(tokenized_text[0]))\n",
    "unique_tokens_in_first_sample"
   ]
  },
  {
   "cell_type": "code",
   "execution_count": 16,
   "metadata": {},
   "outputs": [
    {
     "data": {
      "text/plain": [
       "Counter({'matthew': 1,\n",
       "         'chang': 1,\n",
       "         'username': 1,\n",
       "         'remind': 1,\n",
       "         'ko': 1,\n",
       "         'lang': 1,\n",
       "         'di': 2,\n",
       "         'ba': 1,\n",
       "         'galit': 2,\n",
       "         'na': 1,\n",
       "         'ka': 1,\n",
       "         'dun': 1,\n",
       "         'sa': 1,\n",
       "         'taong': 1,\n",
       "         'marunong': 1,\n",
       "         'magbayad': 1,\n",
       "         'ng': 1,\n",
       "         'utang': 1,\n",
       "         'tapos': 1,\n",
       "         'kay': 1,\n",
       "         'marcos': 2,\n",
       "         'hindi': 1,\n",
       "         'iboboto': 1,\n",
       "         'mo': 1,\n",
       "         'pa': 1,\n",
       "         'well': 1,\n",
       "         'magnanakaw': 1,\n",
       "         'never': 1,\n",
       "         'again': 1})"
      ]
     },
     "execution_count": 16,
     "metadata": {},
     "output_type": "execute_result"
    }
   ],
   "source": [
    "from collections import Counter\n",
    "\n",
    "word_count_in_first_sample = Counter(tokenized_text[0])\n",
    "word_count_in_first_sample\n"
   ]
  },
  {
   "cell_type": "code",
   "execution_count": 17,
   "metadata": {},
   "outputs": [],
   "source": [
    "indices_of_first_sample = list(tfidf.vocabulary_.values())[:unique_tokens_in_first_sample]"
   ]
  },
  {
   "cell_type": "code",
   "execution_count": 18,
   "metadata": {},
   "outputs": [],
   "source": [
    "transformed_values_of_first_sample = X_train_transformed[0,:]\n",
    "transformed_indices = transformed_values_of_first_sample.toarray()[0][indices_of_first_sample]"
   ]
  },
  {
   "cell_type": "code",
   "execution_count": 19,
   "metadata": {},
   "outputs": [
    {
     "data": {
      "text/html": [
       "<div>\n",
       "<style scoped>\n",
       "    .dataframe tbody tr th:only-of-type {\n",
       "        vertical-align: middle;\n",
       "    }\n",
       "\n",
       "    .dataframe tbody tr th {\n",
       "        vertical-align: top;\n",
       "    }\n",
       "\n",
       "    .dataframe thead th {\n",
       "        text-align: right;\n",
       "    }\n",
       "</style>\n",
       "<table border=\"1\" class=\"dataframe\">\n",
       "  <thead>\n",
       "    <tr style=\"text-align: right;\">\n",
       "      <th></th>\n",
       "      <th>Token</th>\n",
       "      <th>Index</th>\n",
       "      <th>Word Count</th>\n",
       "      <th>TF</th>\n",
       "      <th>IDF</th>\n",
       "      <th>TF-IDF</th>\n",
       "    </tr>\n",
       "  </thead>\n",
       "  <tbody>\n",
       "    <tr>\n",
       "      <th>0</th>\n",
       "      <td>matthew</td>\n",
       "      <td>21543</td>\n",
       "      <td>1</td>\n",
       "      <td>0.03125</td>\n",
       "      <td>9.241440</td>\n",
       "      <td>0.279254</td>\n",
       "    </tr>\n",
       "    <tr>\n",
       "      <th>1</th>\n",
       "      <td>chang</td>\n",
       "      <td>5740</td>\n",
       "      <td>1</td>\n",
       "      <td>0.03125</td>\n",
       "      <td>9.646905</td>\n",
       "      <td>0.291506</td>\n",
       "    </tr>\n",
       "    <tr>\n",
       "      <th>2</th>\n",
       "      <td>username</td>\n",
       "      <td>37801</td>\n",
       "      <td>1</td>\n",
       "      <td>0.03125</td>\n",
       "      <td>2.187134</td>\n",
       "      <td>0.066090</td>\n",
       "    </tr>\n",
       "    <tr>\n",
       "      <th>3</th>\n",
       "      <td>remind</td>\n",
       "      <td>31198</td>\n",
       "      <td>1</td>\n",
       "      <td>0.03125</td>\n",
       "      <td>8.394142</td>\n",
       "      <td>0.253651</td>\n",
       "    </tr>\n",
       "    <tr>\n",
       "      <th>4</th>\n",
       "      <td>ko</td>\n",
       "      <td>17072</td>\n",
       "      <td>1</td>\n",
       "      <td>0.03125</td>\n",
       "      <td>3.594228</td>\n",
       "      <td>0.108609</td>\n",
       "    </tr>\n",
       "    <tr>\n",
       "      <th>5</th>\n",
       "      <td>lang</td>\n",
       "      <td>17830</td>\n",
       "      <td>1</td>\n",
       "      <td>0.03125</td>\n",
       "      <td>3.423833</td>\n",
       "      <td>0.103460</td>\n",
       "    </tr>\n",
       "    <tr>\n",
       "      <th>6</th>\n",
       "      <td>di</td>\n",
       "      <td>7901</td>\n",
       "      <td>2</td>\n",
       "      <td>0.06250</td>\n",
       "      <td>4.073801</td>\n",
       "      <td>0.246201</td>\n",
       "    </tr>\n",
       "    <tr>\n",
       "      <th>7</th>\n",
       "      <td>ba</td>\n",
       "      <td>2728</td>\n",
       "      <td>1</td>\n",
       "      <td>0.03125</td>\n",
       "      <td>4.118468</td>\n",
       "      <td>0.124450</td>\n",
       "    </tr>\n",
       "    <tr>\n",
       "      <th>8</th>\n",
       "      <td>galit</td>\n",
       "      <td>11007</td>\n",
       "      <td>2</td>\n",
       "      <td>0.06250</td>\n",
       "      <td>6.843544</td>\n",
       "      <td>0.413591</td>\n",
       "    </tr>\n",
       "    <tr>\n",
       "      <th>9</th>\n",
       "      <td>na</td>\n",
       "      <td>22826</td>\n",
       "      <td>1</td>\n",
       "      <td>0.03125</td>\n",
       "      <td>2.456983</td>\n",
       "      <td>0.074244</td>\n",
       "    </tr>\n",
       "    <tr>\n",
       "      <th>10</th>\n",
       "      <td>ka</td>\n",
       "      <td>15550</td>\n",
       "      <td>1</td>\n",
       "      <td>0.03125</td>\n",
       "      <td>3.551080</td>\n",
       "      <td>0.107305</td>\n",
       "    </tr>\n",
       "    <tr>\n",
       "      <th>11</th>\n",
       "      <td>dun</td>\n",
       "      <td>8742</td>\n",
       "      <td>1</td>\n",
       "      <td>0.03125</td>\n",
       "      <td>6.341851</td>\n",
       "      <td>0.191636</td>\n",
       "    </tr>\n",
       "    <tr>\n",
       "      <th>12</th>\n",
       "      <td>sa</td>\n",
       "      <td>32107</td>\n",
       "      <td>1</td>\n",
       "      <td>0.03125</td>\n",
       "      <td>2.370176</td>\n",
       "      <td>0.071621</td>\n",
       "    </tr>\n",
       "    <tr>\n",
       "      <th>13</th>\n",
       "      <td>taong</td>\n",
       "      <td>35496</td>\n",
       "      <td>1</td>\n",
       "      <td>0.03125</td>\n",
       "      <td>6.651173</td>\n",
       "      <td>0.200983</td>\n",
       "    </tr>\n",
       "    <tr>\n",
       "      <th>14</th>\n",
       "      <td>marunong</td>\n",
       "      <td>21302</td>\n",
       "      <td>1</td>\n",
       "      <td>0.03125</td>\n",
       "      <td>7.477851</td>\n",
       "      <td>0.225963</td>\n",
       "    </tr>\n",
       "    <tr>\n",
       "      <th>15</th>\n",
       "      <td>magbayad</td>\n",
       "      <td>19378</td>\n",
       "      <td>1</td>\n",
       "      <td>0.03125</td>\n",
       "      <td>8.325149</td>\n",
       "      <td>0.251566</td>\n",
       "    </tr>\n",
       "    <tr>\n",
       "      <th>16</th>\n",
       "      <td>ng</td>\n",
       "      <td>25135</td>\n",
       "      <td>1</td>\n",
       "      <td>0.03125</td>\n",
       "      <td>2.729199</td>\n",
       "      <td>0.082470</td>\n",
       "    </tr>\n",
       "    <tr>\n",
       "      <th>17</th>\n",
       "      <td>utang</td>\n",
       "      <td>37825</td>\n",
       "      <td>1</td>\n",
       "      <td>0.03125</td>\n",
       "      <td>6.990148</td>\n",
       "      <td>0.211226</td>\n",
       "    </tr>\n",
       "    <tr>\n",
       "      <th>18</th>\n",
       "      <td>tapos</td>\n",
       "      <td>35527</td>\n",
       "      <td>1</td>\n",
       "      <td>0.03125</td>\n",
       "      <td>5.299858</td>\n",
       "      <td>0.160149</td>\n",
       "    </tr>\n",
       "    <tr>\n",
       "      <th>19</th>\n",
       "      <td>kay</td>\n",
       "      <td>16597</td>\n",
       "      <td>1</td>\n",
       "      <td>0.03125</td>\n",
       "      <td>3.836513</td>\n",
       "      <td>0.115930</td>\n",
       "    </tr>\n",
       "    <tr>\n",
       "      <th>20</th>\n",
       "      <td>marcos</td>\n",
       "      <td>21092</td>\n",
       "      <td>2</td>\n",
       "      <td>0.06250</td>\n",
       "      <td>3.266359</td>\n",
       "      <td>0.197403</td>\n",
       "    </tr>\n",
       "    <tr>\n",
       "      <th>21</th>\n",
       "      <td>hindi</td>\n",
       "      <td>12914</td>\n",
       "      <td>1</td>\n",
       "      <td>0.03125</td>\n",
       "      <td>3.865390</td>\n",
       "      <td>0.116803</td>\n",
       "    </tr>\n",
       "    <tr>\n",
       "      <th>22</th>\n",
       "      <td>iboboto</td>\n",
       "      <td>13471</td>\n",
       "      <td>1</td>\n",
       "      <td>0.03125</td>\n",
       "      <td>6.098725</td>\n",
       "      <td>0.184289</td>\n",
       "    </tr>\n",
       "    <tr>\n",
       "      <th>23</th>\n",
       "      <td>mo</td>\n",
       "      <td>22312</td>\n",
       "      <td>1</td>\n",
       "      <td>0.03125</td>\n",
       "      <td>3.723987</td>\n",
       "      <td>0.112530</td>\n",
       "    </tr>\n",
       "    <tr>\n",
       "      <th>24</th>\n",
       "      <td>pa</td>\n",
       "      <td>26607</td>\n",
       "      <td>1</td>\n",
       "      <td>0.03125</td>\n",
       "      <td>3.508638</td>\n",
       "      <td>0.106023</td>\n",
       "    </tr>\n",
       "    <tr>\n",
       "      <th>25</th>\n",
       "      <td>well</td>\n",
       "      <td>38691</td>\n",
       "      <td>1</td>\n",
       "      <td>0.03125</td>\n",
       "      <td>6.173387</td>\n",
       "      <td>0.186545</td>\n",
       "    </tr>\n",
       "    <tr>\n",
       "      <th>26</th>\n",
       "      <td>magnanakaw</td>\n",
       "      <td>19612</td>\n",
       "      <td>1</td>\n",
       "      <td>0.03125</td>\n",
       "      <td>3.479913</td>\n",
       "      <td>0.105155</td>\n",
       "    </tr>\n",
       "    <tr>\n",
       "      <th>27</th>\n",
       "      <td>never</td>\n",
       "      <td>25065</td>\n",
       "      <td>1</td>\n",
       "      <td>0.03125</td>\n",
       "      <td>4.462316</td>\n",
       "      <td>0.134841</td>\n",
       "    </tr>\n",
       "    <tr>\n",
       "      <th>28</th>\n",
       "      <td>again</td>\n",
       "      <td>1010</td>\n",
       "      <td>1</td>\n",
       "      <td>0.03125</td>\n",
       "      <td>4.684060</td>\n",
       "      <td>0.141541</td>\n",
       "    </tr>\n",
       "  </tbody>\n",
       "</table>\n",
       "</div>"
      ],
      "text/plain": [
       "         Token  Index  Word Count       TF       IDF    TF-IDF\n",
       "0      matthew  21543           1  0.03125  9.241440  0.279254\n",
       "1        chang   5740           1  0.03125  9.646905  0.291506\n",
       "2     username  37801           1  0.03125  2.187134  0.066090\n",
       "3       remind  31198           1  0.03125  8.394142  0.253651\n",
       "4           ko  17072           1  0.03125  3.594228  0.108609\n",
       "5         lang  17830           1  0.03125  3.423833  0.103460\n",
       "6           di   7901           2  0.06250  4.073801  0.246201\n",
       "7           ba   2728           1  0.03125  4.118468  0.124450\n",
       "8        galit  11007           2  0.06250  6.843544  0.413591\n",
       "9           na  22826           1  0.03125  2.456983  0.074244\n",
       "10          ka  15550           1  0.03125  3.551080  0.107305\n",
       "11         dun   8742           1  0.03125  6.341851  0.191636\n",
       "12          sa  32107           1  0.03125  2.370176  0.071621\n",
       "13       taong  35496           1  0.03125  6.651173  0.200983\n",
       "14    marunong  21302           1  0.03125  7.477851  0.225963\n",
       "15    magbayad  19378           1  0.03125  8.325149  0.251566\n",
       "16          ng  25135           1  0.03125  2.729199  0.082470\n",
       "17       utang  37825           1  0.03125  6.990148  0.211226\n",
       "18       tapos  35527           1  0.03125  5.299858  0.160149\n",
       "19         kay  16597           1  0.03125  3.836513  0.115930\n",
       "20      marcos  21092           2  0.06250  3.266359  0.197403\n",
       "21       hindi  12914           1  0.03125  3.865390  0.116803\n",
       "22     iboboto  13471           1  0.03125  6.098725  0.184289\n",
       "23          mo  22312           1  0.03125  3.723987  0.112530\n",
       "24          pa  26607           1  0.03125  3.508638  0.106023\n",
       "25        well  38691           1  0.03125  6.173387  0.186545\n",
       "26  magnanakaw  19612           1  0.03125  3.479913  0.105155\n",
       "27       never  25065           1  0.03125  4.462316  0.134841\n",
       "28       again   1010           1  0.03125  4.684060  0.141541"
      ]
     },
     "execution_count": 19,
     "metadata": {},
     "output_type": "execute_result"
    }
   ],
   "source": [
    "idf_of_first_sample = tfidf.idf_[indices_of_first_sample]\n",
    "\n",
    "pd.DataFrame({\n",
    "  'Token': word_count_in_first_sample.keys(),\n",
    "  'Index': indices_of_first_sample,\n",
    "  'Word Count': word_count_in_first_sample.values(),\n",
    "  'TF': np.array(list(word_count_in_first_sample.values())) / length_of_first_sample,\n",
    "  'IDF': idf_of_first_sample,\n",
    "  'TF-IDF': transformed_indices,\n",
    "})"
   ]
  },
  {
   "cell_type": "code",
   "execution_count": 20,
   "metadata": {},
   "outputs": [
    {
     "name": "stdout",
     "output_type": "stream",
     "text": [
      "  (0, 1010)\t0.14154114290502026\n",
      "  (0, 25065)\t0.13484056819880236\n",
      "  (0, 19612)\t0.10515466975097663\n",
      "  (0, 38691)\t0.18654504544666467\n",
      "  (0, 26607)\t0.10602268230271318\n",
      "  (0, 22312)\t0.11253001200396257\n",
      "  (0, 13471)\t0.18428895185804584\n",
      "  (0, 12914)\t0.11680287938523953\n",
      "  (0, 21092)\t0.19740315706525552\n",
      "  (0, 16597)\t0.11593027353784696\n",
      "  (0, 35527)\t0.16014908327853106\n",
      "  (0, 37825)\t0.21122562182827861\n",
      "  (0, 25135)\t0.0824698997175756\n",
      "  (0, 19378)\t0.25156617468210496\n",
      "  (0, 21302)\t0.22596285123042645\n",
      "  (0, 35496)\t0.20098259353198072\n",
      "  (0, 32107)\t0.07162105948607582\n",
      "  (0, 8742)\t0.19163564209743453\n",
      "  (0, 15550)\t0.10730518761249495\n",
      "  (0, 22826)\t0.07424416354646084\n",
      "  (0, 11007)\t0.41359122796583175\n",
      "  (0, 2728)\t0.12445030263663033\n",
      "  (0, 7901)\t0.24620110711286955\n",
      "  (0, 17830)\t0.10346006775287145\n",
      "  (0, 17072)\t0.10860899720215379\n",
      "  :\t:\n",
      "  (18, 20340)\t0.22606670142469276\n",
      "  (18, 37364)\t0.3321944874652387\n",
      "  (18, 35293)\t0.2589027133825387\n",
      "  (18, 2675)\t0.20470675383495324\n",
      "  (18, 39570)\t0.14725301970957752\n",
      "  (18, 30438)\t0.29534651692211583\n",
      "  (18, 21967)\t0.12721446166957992\n",
      "  (18, 3873)\t0.09794318524837244\n",
      "  (18, 32107)\t0.09531489808191454\n",
      "  (19, 1310)\t0.2269755593393113\n",
      "  (19, 9222)\t0.3064823557400658\n",
      "  (19, 7990)\t0.24636936529028605\n",
      "  (19, 31433)\t0.4013765822887325\n",
      "  (19, 9220)\t0.23481004380783013\n",
      "  (19, 37646)\t0.3356496881585606\n",
      "  (19, 30885)\t0.3856226022151842\n",
      "  (19, 26167)\t0.18147222028023965\n",
      "  (19, 7394)\t0.28906687594750846\n",
      "  (19, 31832)\t0.13415095017046072\n",
      "  (19, 12281)\t0.19510044591010192\n",
      "  (19, 36056)\t0.18310911612839353\n",
      "  (19, 22793)\t0.18887848060428772\n",
      "  (19, 153)\t0.2195969453780221\n",
      "  (19, 35922)\t0.1203823430129773\n",
      "  (19, 22826)\t0.10852249648488757\n"
     ]
    }
   ],
   "source": [
    "print(X_train_transformed[:20])"
   ]
  },
  {
   "cell_type": "code",
   "execution_count": 21,
   "metadata": {},
   "outputs": [
    {
     "data": {
      "text/plain": [
       "(22769, 39663)"
      ]
     },
     "execution_count": 21,
     "metadata": {},
     "output_type": "execute_result"
    }
   ],
   "source": [
    "X_train_transformed.shape"
   ]
  },
  {
   "cell_type": "markdown",
   "metadata": {},
   "source": [
    "## Bernoulli Naive Bayes"
   ]
  },
  {
   "cell_type": "code",
   "execution_count": 22,
   "metadata": {},
   "outputs": [
    {
     "data": {
      "text/html": [
       "<style>#sk-container-id-2 {color: black;}#sk-container-id-2 pre{padding: 0;}#sk-container-id-2 div.sk-toggleable {background-color: white;}#sk-container-id-2 label.sk-toggleable__label {cursor: pointer;display: block;width: 100%;margin-bottom: 0;padding: 0.3em;box-sizing: border-box;text-align: center;}#sk-container-id-2 label.sk-toggleable__label-arrow:before {content: \"▸\";float: left;margin-right: 0.25em;color: #696969;}#sk-container-id-2 label.sk-toggleable__label-arrow:hover:before {color: black;}#sk-container-id-2 div.sk-estimator:hover label.sk-toggleable__label-arrow:before {color: black;}#sk-container-id-2 div.sk-toggleable__content {max-height: 0;max-width: 0;overflow: hidden;text-align: left;background-color: #f0f8ff;}#sk-container-id-2 div.sk-toggleable__content pre {margin: 0.2em;color: black;border-radius: 0.25em;background-color: #f0f8ff;}#sk-container-id-2 input.sk-toggleable__control:checked~div.sk-toggleable__content {max-height: 200px;max-width: 100%;overflow: auto;}#sk-container-id-2 input.sk-toggleable__control:checked~label.sk-toggleable__label-arrow:before {content: \"▾\";}#sk-container-id-2 div.sk-estimator input.sk-toggleable__control:checked~label.sk-toggleable__label {background-color: #d4ebff;}#sk-container-id-2 div.sk-label input.sk-toggleable__control:checked~label.sk-toggleable__label {background-color: #d4ebff;}#sk-container-id-2 input.sk-hidden--visually {border: 0;clip: rect(1px 1px 1px 1px);clip: rect(1px, 1px, 1px, 1px);height: 1px;margin: -1px;overflow: hidden;padding: 0;position: absolute;width: 1px;}#sk-container-id-2 div.sk-estimator {font-family: monospace;background-color: #f0f8ff;border: 1px dotted black;border-radius: 0.25em;box-sizing: border-box;margin-bottom: 0.5em;}#sk-container-id-2 div.sk-estimator:hover {background-color: #d4ebff;}#sk-container-id-2 div.sk-parallel-item::after {content: \"\";width: 100%;border-bottom: 1px solid gray;flex-grow: 1;}#sk-container-id-2 div.sk-label:hover label.sk-toggleable__label {background-color: #d4ebff;}#sk-container-id-2 div.sk-serial::before {content: \"\";position: absolute;border-left: 1px solid gray;box-sizing: border-box;top: 0;bottom: 0;left: 50%;z-index: 0;}#sk-container-id-2 div.sk-serial {display: flex;flex-direction: column;align-items: center;background-color: white;padding-right: 0.2em;padding-left: 0.2em;position: relative;}#sk-container-id-2 div.sk-item {position: relative;z-index: 1;}#sk-container-id-2 div.sk-parallel {display: flex;align-items: stretch;justify-content: center;background-color: white;position: relative;}#sk-container-id-2 div.sk-item::before, #sk-container-id-2 div.sk-parallel-item::before {content: \"\";position: absolute;border-left: 1px solid gray;box-sizing: border-box;top: 0;bottom: 0;left: 50%;z-index: -1;}#sk-container-id-2 div.sk-parallel-item {display: flex;flex-direction: column;z-index: 1;position: relative;background-color: white;}#sk-container-id-2 div.sk-parallel-item:first-child::after {align-self: flex-end;width: 50%;}#sk-container-id-2 div.sk-parallel-item:last-child::after {align-self: flex-start;width: 50%;}#sk-container-id-2 div.sk-parallel-item:only-child::after {width: 0;}#sk-container-id-2 div.sk-dashed-wrapped {border: 1px dashed gray;margin: 0 0.4em 0.5em 0.4em;box-sizing: border-box;padding-bottom: 0.4em;background-color: white;}#sk-container-id-2 div.sk-label label {font-family: monospace;font-weight: bold;display: inline-block;line-height: 1.2em;}#sk-container-id-2 div.sk-label-container {text-align: center;}#sk-container-id-2 div.sk-container {/* jupyter's `normalize.less` sets `[hidden] { display: none; }` but bootstrap.min.css set `[hidden] { display: none !important; }` so we also need the `!important` here to be able to override the default hidden behavior on the sphinx rendered scikit-learn.org. See: https://github.com/scikit-learn/scikit-learn/issues/21755 */display: inline-block !important;position: relative;}#sk-container-id-2 div.sk-text-repr-fallback {display: none;}</style><div id=\"sk-container-id-2\" class=\"sk-top-container\"><div class=\"sk-text-repr-fallback\"><pre>BernoulliNB()</pre><b>In a Jupyter environment, please rerun this cell to show the HTML representation or trust the notebook. <br />On GitHub, the HTML representation is unable to render, please try loading this page with nbviewer.org.</b></div><div class=\"sk-container\" hidden><div class=\"sk-item\"><div class=\"sk-estimator sk-toggleable\"><input class=\"sk-toggleable__control sk-hidden--visually\" id=\"sk-estimator-id-2\" type=\"checkbox\" checked><label for=\"sk-estimator-id-2\" class=\"sk-toggleable__label sk-toggleable__label-arrow\">BernoulliNB</label><div class=\"sk-toggleable__content\"><pre>BernoulliNB()</pre></div></div></div></div></div>"
      ],
      "text/plain": [
       "BernoulliNB()"
      ]
     },
     "execution_count": 22,
     "metadata": {},
     "output_type": "execute_result"
    }
   ],
   "source": [
    "bayes = BernoulliNB()\n",
    "bayes"
   ]
  },
  {
   "cell_type": "code",
   "execution_count": 23,
   "metadata": {},
   "outputs": [
    {
     "data": {
      "text/html": [
       "<style>#sk-container-id-3 {color: black;}#sk-container-id-3 pre{padding: 0;}#sk-container-id-3 div.sk-toggleable {background-color: white;}#sk-container-id-3 label.sk-toggleable__label {cursor: pointer;display: block;width: 100%;margin-bottom: 0;padding: 0.3em;box-sizing: border-box;text-align: center;}#sk-container-id-3 label.sk-toggleable__label-arrow:before {content: \"▸\";float: left;margin-right: 0.25em;color: #696969;}#sk-container-id-3 label.sk-toggleable__label-arrow:hover:before {color: black;}#sk-container-id-3 div.sk-estimator:hover label.sk-toggleable__label-arrow:before {color: black;}#sk-container-id-3 div.sk-toggleable__content {max-height: 0;max-width: 0;overflow: hidden;text-align: left;background-color: #f0f8ff;}#sk-container-id-3 div.sk-toggleable__content pre {margin: 0.2em;color: black;border-radius: 0.25em;background-color: #f0f8ff;}#sk-container-id-3 input.sk-toggleable__control:checked~div.sk-toggleable__content {max-height: 200px;max-width: 100%;overflow: auto;}#sk-container-id-3 input.sk-toggleable__control:checked~label.sk-toggleable__label-arrow:before {content: \"▾\";}#sk-container-id-3 div.sk-estimator input.sk-toggleable__control:checked~label.sk-toggleable__label {background-color: #d4ebff;}#sk-container-id-3 div.sk-label input.sk-toggleable__control:checked~label.sk-toggleable__label {background-color: #d4ebff;}#sk-container-id-3 input.sk-hidden--visually {border: 0;clip: rect(1px 1px 1px 1px);clip: rect(1px, 1px, 1px, 1px);height: 1px;margin: -1px;overflow: hidden;padding: 0;position: absolute;width: 1px;}#sk-container-id-3 div.sk-estimator {font-family: monospace;background-color: #f0f8ff;border: 1px dotted black;border-radius: 0.25em;box-sizing: border-box;margin-bottom: 0.5em;}#sk-container-id-3 div.sk-estimator:hover {background-color: #d4ebff;}#sk-container-id-3 div.sk-parallel-item::after {content: \"\";width: 100%;border-bottom: 1px solid gray;flex-grow: 1;}#sk-container-id-3 div.sk-label:hover label.sk-toggleable__label {background-color: #d4ebff;}#sk-container-id-3 div.sk-serial::before {content: \"\";position: absolute;border-left: 1px solid gray;box-sizing: border-box;top: 0;bottom: 0;left: 50%;z-index: 0;}#sk-container-id-3 div.sk-serial {display: flex;flex-direction: column;align-items: center;background-color: white;padding-right: 0.2em;padding-left: 0.2em;position: relative;}#sk-container-id-3 div.sk-item {position: relative;z-index: 1;}#sk-container-id-3 div.sk-parallel {display: flex;align-items: stretch;justify-content: center;background-color: white;position: relative;}#sk-container-id-3 div.sk-item::before, #sk-container-id-3 div.sk-parallel-item::before {content: \"\";position: absolute;border-left: 1px solid gray;box-sizing: border-box;top: 0;bottom: 0;left: 50%;z-index: -1;}#sk-container-id-3 div.sk-parallel-item {display: flex;flex-direction: column;z-index: 1;position: relative;background-color: white;}#sk-container-id-3 div.sk-parallel-item:first-child::after {align-self: flex-end;width: 50%;}#sk-container-id-3 div.sk-parallel-item:last-child::after {align-self: flex-start;width: 50%;}#sk-container-id-3 div.sk-parallel-item:only-child::after {width: 0;}#sk-container-id-3 div.sk-dashed-wrapped {border: 1px dashed gray;margin: 0 0.4em 0.5em 0.4em;box-sizing: border-box;padding-bottom: 0.4em;background-color: white;}#sk-container-id-3 div.sk-label label {font-family: monospace;font-weight: bold;display: inline-block;line-height: 1.2em;}#sk-container-id-3 div.sk-label-container {text-align: center;}#sk-container-id-3 div.sk-container {/* jupyter's `normalize.less` sets `[hidden] { display: none; }` but bootstrap.min.css set `[hidden] { display: none !important; }` so we also need the `!important` here to be able to override the default hidden behavior on the sphinx rendered scikit-learn.org. See: https://github.com/scikit-learn/scikit-learn/issues/21755 */display: inline-block !important;position: relative;}#sk-container-id-3 div.sk-text-repr-fallback {display: none;}</style><div id=\"sk-container-id-3\" class=\"sk-top-container\"><div class=\"sk-text-repr-fallback\"><pre>BernoulliNB()</pre><b>In a Jupyter environment, please rerun this cell to show the HTML representation or trust the notebook. <br />On GitHub, the HTML representation is unable to render, please try loading this page with nbviewer.org.</b></div><div class=\"sk-container\" hidden><div class=\"sk-item\"><div class=\"sk-estimator sk-toggleable\"><input class=\"sk-toggleable__control sk-hidden--visually\" id=\"sk-estimator-id-3\" type=\"checkbox\" checked><label for=\"sk-estimator-id-3\" class=\"sk-toggleable__label sk-toggleable__label-arrow\">BernoulliNB</label><div class=\"sk-toggleable__content\"><pre>BernoulliNB()</pre></div></div></div></div></div>"
      ],
      "text/plain": [
       "BernoulliNB()"
      ]
     },
     "execution_count": 23,
     "metadata": {},
     "output_type": "execute_result"
    }
   ],
   "source": [
    "bayes.fit(X_train_transformed, y_train)"
   ]
  },
  {
   "cell_type": "markdown",
   "metadata": {},
   "source": [
    "## Results"
   ]
  },
  {
   "cell_type": "code",
   "execution_count": 24,
   "metadata": {},
   "outputs": [],
   "source": [
    "X_test_transformed = tfidf.transform(X_test)"
   ]
  },
  {
   "cell_type": "code",
   "execution_count": 25,
   "metadata": {},
   "outputs": [
    {
     "name": "stdout",
     "output_type": "stream",
     "text": [
      "  (0, 36420)\t0.06932671158019985\n",
      "  (0, 35922)\t0.13366727539468312\n",
      "  (0, 35683)\t0.15714039537990382\n",
      "  (0, 35017)\t0.20961838615698605\n",
      "  (0, 32107)\t0.058120655879867054\n",
      "  (0, 28872)\t0.12302623547885334\n",
      "  (0, 28585)\t0.12910359147160638\n",
      "  (0, 28402)\t0.12174452645604648\n",
      "  (0, 25135)\t0.06692451488886765\n",
      "  (0, 22826)\t0.12049862181699064\n",
      "  (0, 22021)\t0.20583835444944304\n",
      "  (0, 21967)\t0.15514443383836807\n",
      "  (0, 21468)\t0.23108633939513457\n",
      "  (0, 19584)\t0.23655819135353445\n",
      "  (0, 19314)\t0.22661551081090742\n",
      "  (0, 18333)\t0.11260969154431087\n",
      "  (0, 18140)\t0.35897892279803467\n",
      "  (0, 15550)\t0.0870784086147579\n",
      "  (0, 14941)\t0.12964595693670605\n",
      "  (0, 13340)\t0.16309784077944908\n",
      "  (0, 12914)\t0.09478580751583185\n",
      "  (0, 11900)\t0.115468613366716\n",
      "  (0, 10783)\t0.11604666674618455\n",
      "  (0, 10143)\t0.18408020057645222\n",
      "  (0, 8293)\t0.13410112172771607\n",
      "  :\t:\n",
      "  (5689, 4885)\t0.1834887118355732\n",
      "  (5689, 3338)\t0.1982656239149944\n",
      "  (5689, 1773)\t0.19589663436166543\n",
      "  (5690, 37801)\t0.08960026415650933\n",
      "  (5690, 35922)\t0.11165521341524225\n",
      "  (5690, 33318)\t0.30634494427704057\n",
      "  (5690, 32031)\t0.19290694195949173\n",
      "  (5690, 31832)\t0.12442566406541537\n",
      "  (5690, 29841)\t0.16106261492306742\n",
      "  (5690, 29236)\t0.31852244021871023\n",
      "  (5690, 26167)\t0.16831637412260464\n",
      "  (5690, 21044)\t0.1310292278643267\n",
      "  (5690, 17601)\t0.33841222711485175\n",
      "  (5690, 14711)\t0.3722787481424729\n",
      "  (5690, 13815)\t0.2951489428604052\n",
      "  (5690, 12986)\t0.19732125081090565\n",
      "  (5690, 12856)\t0.234129509342001\n",
      "  (5690, 10605)\t0.29887578148845423\n",
      "  (5690, 10427)\t0.2456480870371804\n",
      "  (5690, 5328)\t0.2032025340384468\n",
      "  (5690, 2299)\t0.1874182143719393\n",
      "  (5691, 18367)\t0.4098517431758798\n",
      "  (5691, 18185)\t0.32707115025985306\n",
      "  (5691, 18050)\t0.4128247394565061\n",
      "  (5691, 15947)\t0.7447293104048324\n"
     ]
    }
   ],
   "source": [
    "print(X_test_transformed)"
   ]
  },
  {
   "cell_type": "code",
   "execution_count": 26,
   "metadata": {},
   "outputs": [],
   "source": [
    "y_preds = bayes.predict(X_test_transformed)"
   ]
  },
  {
   "cell_type": "code",
   "execution_count": 27,
   "metadata": {},
   "outputs": [
    {
     "name": "stdout",
     "output_type": "stream",
     "text": [
      "Accuracy: 0.8185172171468728\n",
      "Recall: 0.8717323109097247\n",
      "Precision: 0.7899557801642451\n",
      "F1: 0.8288318144159071\n"
     ]
    }
   ],
   "source": [
    "accuracy = accuracy_score(y_test, y_preds)\n",
    "recall = recall_score(y_test, y_preds)\n",
    "precision = precision_score(y_test, y_preds)\n",
    "f1 = f1_score(y_test, y_preds)\n",
    "\n",
    "print(f\"Accuracy: {accuracy}\")\n",
    "print(f\"Recall: {recall}\")\n",
    "print(f\"Precision: {precision}\")\n",
    "print(f\"F1: {f1}\")\n",
    "\n",
    "if SAVE_MODEL:\n",
    "  pd.DataFrame([{\n",
    "    'accuracy': accuracy,\n",
    "    'recall': recall,\n",
    "    'precision': precision,\n",
    "    'f1': f1,\n",
    "  }]).to_csv(f'{MODEL_FOLDER}/bayes_results.csv', index=False)"
   ]
  },
  {
   "cell_type": "code",
   "execution_count": 28,
   "metadata": {},
   "outputs": [
    {
     "data": {
      "image/png": "[encoded data removed]",
      "text/plain": [
       "<Figure size 640x480 with 2 Axes>"
      ]
     },
     "metadata": {},
     "output_type": "display_data"
    }
   ],
   "source": [
    "conf_matrix = confusion_matrix(y_test, y_preds)\n",
    "\n",
    "conf_matrix_display = ConfusionMatrixDisplay(conf_matrix)\n",
    "\n",
    "conf_matrix_display.plot()\n",
    "if SAVE_MODEL:\n",
    "  conf_matrix_display.figure_.savefig(f'{MODEL_FOLDER}/conf_matrix.png')\n",
    "\n",
    "plt.title(\"Bernoulli Naive Bayes\")\n",
    "plt.show()"
   ]
  },
  {
   "cell_type": "code",
   "execution_count": 29,
   "metadata": {},
   "outputs": [],
   "source": [
    "if SAVE_MODEL:\n",
    "  joblib.dump(tfidf, f'{MODEL_FOLDER}/tfidf.pkl', compress=True)\n",
    "  joblib.dump(bayes, f'{MODEL_FOLDER}/bayes.pkl', compress=True)\n",
    "  print(f\"Saved model to {MODEL_FOLDER}/bayes.pkl\")"
   ]
  }
 ],
 "metadata": {
  "kernelspec": {
   "display_name": "Python 3 (ipykernel)",
   "language": "python",
   "name": "python3"
  },
  "language_info": {
   "codemirror_mode": {
    "name": "ipython",
    "version": 3
   },
   "file_extension": ".py",
   "mimetype": "text/x-python",
   "name": "python",
   "nbconvert_exporter": "python",
   "pygments_lexer": "ipython3",
   "version": "3.9.12"
  }
 },
 "nbformat": 4,
 "nbformat_minor": 4
}
