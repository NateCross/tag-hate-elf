{
 "cells": [
  {
   "cell_type": "markdown",
   "metadata": {},
   "source": [
    "# Training\n",
    "\n",
    "This notebook demonstrates the process of training an ensemble learning model using a provided CSV file. It showcases data preprocessing, model training, evaluation, and saving the trained model. The ensemble method (hard voting, soft voting, or stacking) can be selected based on the user's choice.\n"
   ]
  },
  {
   "cell_type": "markdown",
   "metadata": {},
   "source": [
    "## Importing Necessary Libraries\n",
    "\n",
    "First, we import all the necessary libraries and modules needed for this script. This includes libraries for handling warnings, data manipulation, machine learning, and the custom Ensemble module containing ensemble learning methods."
   ]
  },
  {
   "cell_type": "code",
   "execution_count": 24,
   "metadata": {},
   "outputs": [],
   "source": [
    "import pandas as pd\n",
    "import torch\n",
    "import numpy as np\n",
    "from sklearn.model_selection import train_test_split\n",
    "from sklearn.metrics import (\n",
    "    accuracy_score, \n",
    "    recall_score, \n",
    "    precision_score, \n",
    "    f1_score\n",
    ")\n",
    "from src import Ensemble\n",
    "import math"
   ]
  },
  {
   "cell_type": "markdown",
   "metadata": {},
   "source": [
    "## Utility Functions"
   ]
  },
  {
   "cell_type": "markdown",
   "metadata": {},
   "source": [
    "### Function to Read CSV File\n",
    "\n",
    "The `read_csv_file` function reads the CSV file and returns a pandas DataFrame. If the file is not found, the script will exit with an error message."
   ]
  },
  {
   "cell_type": "code",
   "execution_count": 2,
   "metadata": {},
   "outputs": [
    {
     "name": "stdout",
     "output_type": "stream",
     "text": [
      "CSV file read successfully!\n"
     ]
    },
    {
     "data": {
      "text/html": [
       "<div>\n",
       "<style scoped>\n",
       "    .dataframe tbody tr th:only-of-type {\n",
       "        vertical-align: middle;\n",
       "    }\n",
       "\n",
       "    .dataframe tbody tr th {\n",
       "        vertical-align: top;\n",
       "    }\n",
       "\n",
       "    .dataframe thead th {\n",
       "        text-align: right;\n",
       "    }\n",
       "</style>\n",
       "<table border=\"1\" class=\"dataframe\">\n",
       "  <thead>\n",
       "    <tr style=\"text-align: right;\">\n",
       "      <th></th>\n",
       "      <th>text</th>\n",
       "      <th>label</th>\n",
       "    </tr>\n",
       "  </thead>\n",
       "  <tbody>\n",
       "    <tr>\n",
       "      <th>0</th>\n",
       "      <td>Binay: Patuloy ang kahirapan dahil sa maling p...</td>\n",
       "      <td>0</td>\n",
       "    </tr>\n",
       "    <tr>\n",
       "      <th>1</th>\n",
       "      <td>SA GOBYERNONG TAPAT WELCOME SA BAGUO ANG LAHAT...</td>\n",
       "      <td>0</td>\n",
       "    </tr>\n",
       "    <tr>\n",
       "      <th>2</th>\n",
       "      <td>wait so ur telling me Let Leni Lead mo pero NY...</td>\n",
       "      <td>1</td>\n",
       "    </tr>\n",
       "    <tr>\n",
       "      <th>3</th>\n",
       "      <td>[USERNAME]wish this is just a nightmare that ...</td>\n",
       "      <td>0</td>\n",
       "    </tr>\n",
       "    <tr>\n",
       "      <th>4</th>\n",
       "      <td>doc willie ong and isko sabunutan po</td>\n",
       "      <td>0</td>\n",
       "    </tr>\n",
       "    <tr>\n",
       "      <th>...</th>\n",
       "      <td>...</td>\n",
       "      <td>...</td>\n",
       "    </tr>\n",
       "    <tr>\n",
       "      <th>28456</th>\n",
       "      <td>Bisaya, Probinsyano/a, mostly Bisaya = katulong</td>\n",
       "      <td>1</td>\n",
       "    </tr>\n",
       "    <tr>\n",
       "      <th>28457</th>\n",
       "      <td>Amnesia. In my whole life wala pa ako nakasala...</td>\n",
       "      <td>1</td>\n",
       "    </tr>\n",
       "    <tr>\n",
       "      <th>28458</th>\n",
       "      <td>Kontrabida na ilang beses na tinalo at obvious...</td>\n",
       "      <td>1</td>\n",
       "    </tr>\n",
       "    <tr>\n",
       "      <th>28459</th>\n",
       "      <td>Yung antagonist laging kailangang sobrang sama...</td>\n",
       "      <td>1</td>\n",
       "    </tr>\n",
       "    <tr>\n",
       "      <th>28460</th>\n",
       "      <td>May nabaril or nasaksak na pero 'di pa tatawag...</td>\n",
       "      <td>1</td>\n",
       "    </tr>\n",
       "  </tbody>\n",
       "</table>\n",
       "<p>28461 rows × 2 columns</p>\n",
       "</div>"
      ],
      "text/plain": [
       "                                                    text  label\n",
       "0      Binay: Patuloy ang kahirapan dahil sa maling p...      0\n",
       "1      SA GOBYERNONG TAPAT WELCOME SA BAGUO ANG LAHAT...      0\n",
       "2      wait so ur telling me Let Leni Lead mo pero NY...      1\n",
       "3       [USERNAME]wish this is just a nightmare that ...      0\n",
       "4                   doc willie ong and isko sabunutan po      0\n",
       "...                                                  ...    ...\n",
       "28456    Bisaya, Probinsyano/a, mostly Bisaya = katulong      1\n",
       "28457  Amnesia. In my whole life wala pa ako nakasala...      1\n",
       "28458  Kontrabida na ilang beses na tinalo at obvious...      1\n",
       "28459  Yung antagonist laging kailangang sobrang sama...      1\n",
       "28460  May nabaril or nasaksak na pero 'di pa tatawag...      1\n",
       "\n",
       "[28461 rows x 2 columns]"
      ]
     },
     "execution_count": 2,
     "metadata": {},
     "output_type": "execute_result"
    }
   ],
   "source": [
    "def read_csv_file(filename: str) -> pd.DataFrame:\n",
    "    try:\n",
    "        data = pd.read_csv(filename, lineterminator='\\n', usecols=range(2))\n",
    "        print(\"CSV file read successfully!\")\n",
    "        return data\n",
    "    except FileNotFoundError:\n",
    "        print(\"ERROR: File not found\")\n",
    "        exit(1)\n",
    "\n",
    "# Demonstrate reading a CSV file (use a sample or mock filename)\n",
    "dataset = read_csv_file('datasets/datasetall.csv')\n",
    "dataset"
   ]
  },
  {
   "cell_type": "code",
   "execution_count": 12,
   "metadata": {},
   "outputs": [
    {
     "data": {
      "text/plain": [
       "label\n",
       "0    14115\n",
       "1    14346\n",
       "Name: count, dtype: int64"
      ]
     },
     "execution_count": 12,
     "metadata": {},
     "output_type": "execute_result"
    }
   ],
   "source": [
    "dataset['label'].value_counts(ascending=True)"
   ]
  },
  {
   "cell_type": "markdown",
   "metadata": {},
   "source": [
    "### Function to Seed Random Number Generators\n",
    "\n",
    "To ensure reproducibility, the `seed_random_number_generators` function seeds the random number generators for PyTorch and NumPy."
   ]
  },
  {
   "cell_type": "code",
   "execution_count": 4,
   "metadata": {},
   "outputs": [
    {
     "name": "stdout",
     "output_type": "stream",
     "text": [
      "Random number generators seeded.\n"
     ]
    }
   ],
   "source": [
    "def seed_random_number_generators(seed=0):\n",
    "    torch.manual_seed(seed)\n",
    "    torch.cuda.manual_seed(seed)\n",
    "    torch.cuda.manual_seed_all(seed)\n",
    "    np.random.seed(seed)\n",
    "    print(\"Random number generators seeded.\")\n",
    "\n",
    "# Seed the random number generators\n",
    "seed_random_number_generators()"
   ]
  },
  {
   "cell_type": "markdown",
   "metadata": {},
   "source": [
    "### Function for Train-Test Split\n",
    "\n",
    "The `get_train_test_split` function splits the dataset into training and testing sets with an 80-20 split ratio and returns them."
   ]
  },
  {
   "cell_type": "code",
   "execution_count": 42,
   "metadata": {},
   "outputs": [],
   "source": [
    "def shuffle_data_frame(data_frame):\n",
    "    text = list(data_frame['text'])\n",
    "    label = list(data_frame['label'])\n",
    "\n",
    "    assert(len(text) == len(label))\n",
    "\n",
    "    indices = list(range(len(label)))\n",
    "\n",
    "    # Make a random number generator that will shuffle list of indices\n",
    "    # It is seeded to be reproducible\n",
    "    random_number_generator = np.random.default_rng(seed=0)\n",
    "    random_number_generator.shuffle(indices)\n",
    "\n",
    "    shuffled_text = []\n",
    "    shuffled_labels = []\n",
    "\n",
    "    # Iterate through the list of indices and add the original data\n",
    "    # from those shuffled indices\n",
    "    for index in indices:\n",
    "        shuffled_text.append(text[index])\n",
    "        shuffled_labels.append(label[index])\n",
    "\n",
    "    return pd.DataFrame({\n",
    "        'text': shuffled_text,\n",
    "        'label': shuffled_labels,\n",
    "    })\n",
    "\n",
    "\n",
    "def get_train_test_split(data_frame: pd.DataFrame, test_size: float):\n",
    "    \"\"\"\n",
    "    Makes a stratified train test split.\n",
    "    This aims to preserve the distribution between classes.\n",
    "    \"\"\"\n",
    "    if not (1 >= test_size >= 0):\n",
    "        print('ERROR: test_size must be between 0 and 1')\n",
    "        return\n",
    "\n",
    "    data_frame = shuffle_data_frame(data_frame)\n",
    "\n",
    "    data_frame_length = len(data_frame)\n",
    "    train_size = 1 - test_size\n",
    "\n",
    "    nonhate_rows = data_frame[data_frame['label'] == 0] \n",
    "    nonhate_row_length = len(nonhate_rows)\n",
    "\n",
    "    nonhate_row_train_size = math.ceil(nonhate_row_length * train_size)\n",
    "\n",
    "    nonhate_row_train = nonhate_rows[0:nonhate_row_train_size]\n",
    "    nonhate_row_test = nonhate_rows[nonhate_row_train_size:nonhate_row_length]\n",
    "\n",
    "    assert(len(nonhate_row_train) + len(nonhate_row_test) == nonhate_row_length)\n",
    "\n",
    "    hate_rows = data_frame[data_frame['label'] == 1] \n",
    "    hate_row_length = len(hate_rows)\n",
    "\n",
    "    hate_row_train_size = math.ceil(hate_row_length * train_size)\n",
    "\n",
    "    hate_row_train = hate_rows[0:hate_row_train_size]\n",
    "    hate_row_test = hate_rows[hate_row_train_size:hate_row_length]\n",
    "\n",
    "    assert(len(hate_row_train) + len(hate_row_test) == hate_row_length)\n",
    "\n",
    "    combined_train = pd.concat([nonhate_row_train, hate_row_train])\n",
    "    combined_test = pd.concat([nonhate_row_test, hate_row_test])\n",
    "\n",
    "    shuffled_train = shuffle_data_frame(combined_train)\n",
    "    shuffled_test = shuffle_data_frame(combined_test)\n",
    "\n",
    "    return (\n",
    "        shuffled_train['text'],\n",
    "        shuffled_test['text'],\n",
    "        shuffled_train['label'],\n",
    "        shuffled_test['label'],\n",
    "    )\n",
    "\n",
    "X_train, X_test, y_train, y_test = get_train_test_split(dataset, 0.2)"
   ]
  },
  {
   "cell_type": "markdown",
   "metadata": {},
   "source": [
    "## Code Explanations\n",
    "```python\n",
    "# pd.DataFrame.sample\n",
    "def sample(\n",
    "        self,\n",
    "        n: int | None = None,\n",
    "        frac: float | None = None,\n",
    "        replace: bool_t = False,\n",
    "        weights=None,\n",
    "        random_state: RandomState | None = None,\n",
    "        axis: Axis | None = None,\n",
    "        ignore_index: bool_t = False,\n",
    "    ) -> Self:\n",
    "    if axis is None:\n",
    "        axis = 0\n",
    "\n",
    "    axis = self._get_axis_number(axis)\n",
    "    obj_len = self.shape[axis]\n",
    "\n",
    "    # Process random_state argument\n",
    "    ### random state affects this, so if it is set, this will be consistent\n",
    "    rs = common.random_state(random_state)\n",
    "\n",
    "    size = sample.process_sampling_size(n, frac, replace)\n",
    "    if size is None:\n",
    "        assert frac is not None\n",
    "        size = round(frac * obj_len)\n",
    "\n",
    "    ### We do not use weights, so this can be ignored\n",
    "    if weights is not None:\n",
    "        weights = sample.preprocess_weights(self, weights, axis)\n",
    "\n",
    "    sampled_indices = sample.sample(obj_len, size, replace, weights, rs)\n",
    "    result = self.take(sampled_indices, axis=axis)\n",
    "\n",
    "    if ignore_index:\n",
    "        result.index = default_index(len(result))\n",
    "\n",
    "    return result\n",
    "\n",
    "# pd.generic._get_axis_number\n",
    "def _get_axis_number(cls, axis: Axis) -> AxisInt:\n",
    "    try:\n",
    "        return cls._AXIS_TO_AXIS_NUMBER[axis]\n",
    "        ### dict[Axis, AxisInt] = {0: 0, \"index\": 0, \"rows\": 0}\n",
    "    except KeyError:\n",
    "        raise ValueError(f\"No axis named {axis} for object type {cls.__name__}\")\n",
    "```"
   ]
  },
  {
   "cell_type": "markdown",
   "metadata": {},
   "source": [
    "## Train Data"
   ]
  },
  {
   "cell_type": "code",
   "execution_count": 43,
   "metadata": {},
   "outputs": [
    {
     "data": {
      "text/html": [
       "<div>\n",
       "<style scoped>\n",
       "    .dataframe tbody tr th:only-of-type {\n",
       "        vertical-align: middle;\n",
       "    }\n",
       "\n",
       "    .dataframe tbody tr th {\n",
       "        vertical-align: top;\n",
       "    }\n",
       "\n",
       "    .dataframe thead th {\n",
       "        text-align: right;\n",
       "    }\n",
       "</style>\n",
       "<table border=\"1\" class=\"dataframe\">\n",
       "  <thead>\n",
       "    <tr style=\"text-align: right;\">\n",
       "      <th></th>\n",
       "      <th>text</th>\n",
       "    </tr>\n",
       "  </thead>\n",
       "  <tbody>\n",
       "    <tr>\n",
       "      <th>0</th>\n",
       "      <td>[USERNAME] Palangga ka man sang mga taga Baco...</td>\n",
       "    </tr>\n",
       "    <tr>\n",
       "      <th>1</th>\n",
       "      <td>Who dafuq is Jose Montemayor Jr.???</td>\n",
       "    </tr>\n",
       "    <tr>\n",
       "      <th>2</th>\n",
       "      <td>Di na nakakatuwa yung mukha ni Mar Roxas sa TV...</td>\n",
       "    </tr>\n",
       "    <tr>\n",
       "      <th>3</th>\n",
       "      <td>national elections. | via[USERNAME]</td>\n",
       "    </tr>\n",
       "    <tr>\n",
       "      <th>4</th>\n",
       "      <td>Binay will be staring in a movie called \"The D...</td>\n",
       "    </tr>\n",
       "    <tr>\n",
       "      <th>...</th>\n",
       "      <td>...</td>\n",
       "    </tr>\n",
       "    <tr>\n",
       "      <th>22764</th>\n",
       "      <td>\"Kala ko wala andito pala si Marcos.\"*pertaini...</td>\n",
       "    </tr>\n",
       "    <tr>\n",
       "      <th>22765</th>\n",
       "      <td>sie ~ [USERNAME]Marcos Magnanakaw Marcos Dikta...</td>\n",
       "    </tr>\n",
       "    <tr>\n",
       "      <th>22766</th>\n",
       "      <td>If Mar is BatMarBinay is Bane-ay.</td>\n",
       "    </tr>\n",
       "    <tr>\n",
       "      <th>22767</th>\n",
       "      <td>to my moots im sorry in not sorry for flooding...</td>\n",
       "    </tr>\n",
       "    <tr>\n",
       "      <th>22768</th>\n",
       "      <td>Uunlad tayo kay Binay</td>\n",
       "    </tr>\n",
       "  </tbody>\n",
       "</table>\n",
       "<p>22769 rows × 1 columns</p>\n",
       "</div>"
      ],
      "text/plain": [
       "                                                    text\n",
       "0       [USERNAME] Palangga ka man sang mga taga Baco...\n",
       "1                    Who dafuq is Jose Montemayor Jr.???\n",
       "2      Di na nakakatuwa yung mukha ni Mar Roxas sa TV...\n",
       "3                    national elections. | via[USERNAME]\n",
       "4      Binay will be staring in a movie called \"The D...\n",
       "...                                                  ...\n",
       "22764  \"Kala ko wala andito pala si Marcos.\"*pertaini...\n",
       "22765  sie ~ [USERNAME]Marcos Magnanakaw Marcos Dikta...\n",
       "22766                  If Mar is BatMarBinay is Bane-ay.\n",
       "22767  to my moots im sorry in not sorry for flooding...\n",
       "22768                              Uunlad tayo kay Binay\n",
       "\n",
       "[22769 rows x 1 columns]"
      ]
     },
     "execution_count": 43,
     "metadata": {},
     "output_type": "execute_result"
    }
   ],
   "source": [
    "pd.DataFrame(X_train)"
   ]
  },
  {
   "cell_type": "code",
   "execution_count": 44,
   "metadata": {},
   "outputs": [
    {
     "data": {
      "text/html": [
       "<div>\n",
       "<style scoped>\n",
       "    .dataframe tbody tr th:only-of-type {\n",
       "        vertical-align: middle;\n",
       "    }\n",
       "\n",
       "    .dataframe tbody tr th {\n",
       "        vertical-align: top;\n",
       "    }\n",
       "\n",
       "    .dataframe thead th {\n",
       "        text-align: right;\n",
       "    }\n",
       "</style>\n",
       "<table border=\"1\" class=\"dataframe\">\n",
       "  <thead>\n",
       "    <tr style=\"text-align: right;\">\n",
       "      <th></th>\n",
       "      <th>label</th>\n",
       "    </tr>\n",
       "  </thead>\n",
       "  <tbody>\n",
       "    <tr>\n",
       "      <th>0</th>\n",
       "      <td>0</td>\n",
       "    </tr>\n",
       "    <tr>\n",
       "      <th>1</th>\n",
       "      <td>0</td>\n",
       "    </tr>\n",
       "    <tr>\n",
       "      <th>2</th>\n",
       "      <td>1</td>\n",
       "    </tr>\n",
       "    <tr>\n",
       "      <th>3</th>\n",
       "      <td>0</td>\n",
       "    </tr>\n",
       "    <tr>\n",
       "      <th>4</th>\n",
       "      <td>1</td>\n",
       "    </tr>\n",
       "    <tr>\n",
       "      <th>...</th>\n",
       "      <td>...</td>\n",
       "    </tr>\n",
       "    <tr>\n",
       "      <th>22764</th>\n",
       "      <td>0</td>\n",
       "    </tr>\n",
       "    <tr>\n",
       "      <th>22765</th>\n",
       "      <td>1</td>\n",
       "    </tr>\n",
       "    <tr>\n",
       "      <th>22766</th>\n",
       "      <td>1</td>\n",
       "    </tr>\n",
       "    <tr>\n",
       "      <th>22767</th>\n",
       "      <td>1</td>\n",
       "    </tr>\n",
       "    <tr>\n",
       "      <th>22768</th>\n",
       "      <td>0</td>\n",
       "    </tr>\n",
       "  </tbody>\n",
       "</table>\n",
       "<p>22769 rows × 1 columns</p>\n",
       "</div>"
      ],
      "text/plain": [
       "       label\n",
       "0          0\n",
       "1          0\n",
       "2          1\n",
       "3          0\n",
       "4          1\n",
       "...      ...\n",
       "22764      0\n",
       "22765      1\n",
       "22766      1\n",
       "22767      1\n",
       "22768      0\n",
       "\n",
       "[22769 rows x 1 columns]"
      ]
     },
     "execution_count": 44,
     "metadata": {},
     "output_type": "execute_result"
    }
   ],
   "source": [
    "y_train_dataframe = pd.DataFrame(y_train, columns=['label'])\n",
    "y_train_dataframe"
   ]
  },
  {
   "cell_type": "code",
   "execution_count": 45,
   "metadata": {},
   "outputs": [
    {
     "data": {
      "text/plain": [
       "label\n",
       "0        11292\n",
       "1        11477\n",
       "Name: count, dtype: int64"
      ]
     },
     "execution_count": 45,
     "metadata": {},
     "output_type": "execute_result"
    }
   ],
   "source": [
    "y_train_dataframe.value_counts(ascending=True)"
   ]
  },
  {
   "cell_type": "markdown",
   "metadata": {},
   "source": [
    "## Test Data"
   ]
  },
  {
   "cell_type": "code",
   "execution_count": 46,
   "metadata": {},
   "outputs": [
    {
     "data": {
      "text/html": [
       "<div>\n",
       "<style scoped>\n",
       "    .dataframe tbody tr th:only-of-type {\n",
       "        vertical-align: middle;\n",
       "    }\n",
       "\n",
       "    .dataframe tbody tr th {\n",
       "        vertical-align: top;\n",
       "    }\n",
       "\n",
       "    .dataframe thead th {\n",
       "        text-align: right;\n",
       "    }\n",
       "</style>\n",
       "<table border=\"1\" class=\"dataframe\">\n",
       "  <thead>\n",
       "    <tr style=\"text-align: right;\">\n",
       "      <th></th>\n",
       "      <th>text</th>\n",
       "    </tr>\n",
       "  </thead>\n",
       "  <tbody>\n",
       "    <tr>\n",
       "      <th>0</th>\n",
       "      <td>Bakit trending ang Only Binay?</td>\n",
       "    </tr>\n",
       "    <tr>\n",
       "      <th>1</th>\n",
       "      <td>Mare @ Cebu [USERNAME][USERNAME] Marcos Never ...</td>\n",
       "    </tr>\n",
       "    <tr>\n",
       "      <th>2</th>\n",
       "      <td>Kahit anong gawin ko bakit di ko ma appreciate...</td>\n",
       "    </tr>\n",
       "    <tr>\n",
       "      <th>3</th>\n",
       "      <td>Oras na para tayo'y bumoto ng taong mag tataas...</td>\n",
       "    </tr>\n",
       "    <tr>\n",
       "      <th>4</th>\n",
       "      <td>VP[USERNAME]is currently in Zamboanga Sibugay ...</td>\n",
       "    </tr>\n",
       "    <tr>\n",
       "      <th>...</th>\n",
       "      <td>...</td>\n",
       "    </tr>\n",
       "    <tr>\n",
       "      <th>5687</th>\n",
       "      <td>[USERNAME] Laban LeniAngat Buhay LahatLeni Kiko</td>\n",
       "    </tr>\n",
       "    <tr>\n",
       "      <th>5688</th>\n",
       "      <td>Nagconcede ka man Maimarwala ka prinnagdala ka...</td>\n",
       "    </tr>\n",
       "    <tr>\n",
       "      <th>5689</th>\n",
       "      <td>Did You Know that former Philippine secretary ...</td>\n",
       "    </tr>\n",
       "    <tr>\n",
       "      <th>5690</th>\n",
       "      <td>Bakit nakakairita commercial ni Mar Roxas?</td>\n",
       "    </tr>\n",
       "    <tr>\n",
       "      <th>5691</th>\n",
       "      <td>To Doc Willie Ong I'd like to believe you are ...</td>\n",
       "    </tr>\n",
       "  </tbody>\n",
       "</table>\n",
       "<p>5692 rows × 1 columns</p>\n",
       "</div>"
      ],
      "text/plain": [
       "                                                   text\n",
       "0                        Bakit trending ang Only Binay?\n",
       "1     Mare @ Cebu [USERNAME][USERNAME] Marcos Never ...\n",
       "2     Kahit anong gawin ko bakit di ko ma appreciate...\n",
       "3     Oras na para tayo'y bumoto ng taong mag tataas...\n",
       "4     VP[USERNAME]is currently in Zamboanga Sibugay ...\n",
       "...                                                 ...\n",
       "5687    [USERNAME] Laban LeniAngat Buhay LahatLeni Kiko\n",
       "5688  Nagconcede ka man Maimarwala ka prinnagdala ka...\n",
       "5689  Did You Know that former Philippine secretary ...\n",
       "5690         Bakit nakakairita commercial ni Mar Roxas?\n",
       "5691  To Doc Willie Ong I'd like to believe you are ...\n",
       "\n",
       "[5692 rows x 1 columns]"
      ]
     },
     "execution_count": 46,
     "metadata": {},
     "output_type": "execute_result"
    }
   ],
   "source": [
    "pd.DataFrame(X_test)"
   ]
  },
  {
   "cell_type": "code",
   "execution_count": 47,
   "metadata": {},
   "outputs": [
    {
     "data": {
      "text/html": [
       "<div>\n",
       "<style scoped>\n",
       "    .dataframe tbody tr th:only-of-type {\n",
       "        vertical-align: middle;\n",
       "    }\n",
       "\n",
       "    .dataframe tbody tr th {\n",
       "        vertical-align: top;\n",
       "    }\n",
       "\n",
       "    .dataframe thead th {\n",
       "        text-align: right;\n",
       "    }\n",
       "</style>\n",
       "<table border=\"1\" class=\"dataframe\">\n",
       "  <thead>\n",
       "    <tr style=\"text-align: right;\">\n",
       "      <th></th>\n",
       "      <th>label</th>\n",
       "    </tr>\n",
       "  </thead>\n",
       "  <tbody>\n",
       "    <tr>\n",
       "      <th>0</th>\n",
       "      <td>0</td>\n",
       "    </tr>\n",
       "    <tr>\n",
       "      <th>1</th>\n",
       "      <td>1</td>\n",
       "    </tr>\n",
       "    <tr>\n",
       "      <th>2</th>\n",
       "      <td>1</td>\n",
       "    </tr>\n",
       "    <tr>\n",
       "      <th>3</th>\n",
       "      <td>0</td>\n",
       "    </tr>\n",
       "    <tr>\n",
       "      <th>4</th>\n",
       "      <td>0</td>\n",
       "    </tr>\n",
       "    <tr>\n",
       "      <th>...</th>\n",
       "      <td>...</td>\n",
       "    </tr>\n",
       "    <tr>\n",
       "      <th>5687</th>\n",
       "      <td>0</td>\n",
       "    </tr>\n",
       "    <tr>\n",
       "      <th>5688</th>\n",
       "      <td>1</td>\n",
       "    </tr>\n",
       "    <tr>\n",
       "      <th>5689</th>\n",
       "      <td>0</td>\n",
       "    </tr>\n",
       "    <tr>\n",
       "      <th>5690</th>\n",
       "      <td>1</td>\n",
       "    </tr>\n",
       "    <tr>\n",
       "      <th>5691</th>\n",
       "      <td>0</td>\n",
       "    </tr>\n",
       "  </tbody>\n",
       "</table>\n",
       "<p>5692 rows × 1 columns</p>\n",
       "</div>"
      ],
      "text/plain": [
       "      label\n",
       "0         0\n",
       "1         1\n",
       "2         1\n",
       "3         0\n",
       "4         0\n",
       "...     ...\n",
       "5687      0\n",
       "5688      1\n",
       "5689      0\n",
       "5690      1\n",
       "5691      0\n",
       "\n",
       "[5692 rows x 1 columns]"
      ]
     },
     "execution_count": 47,
     "metadata": {},
     "output_type": "execute_result"
    }
   ],
   "source": [
    "y_test_dataframe = pd.DataFrame(y_test, columns=['label'])\n",
    "y_test_dataframe"
   ]
  },
  {
   "cell_type": "code",
   "execution_count": 48,
   "metadata": {},
   "outputs": [
    {
     "data": {
      "text/plain": [
       "label\n",
       "0        2823\n",
       "1        2869\n",
       "Name: count, dtype: int64"
      ]
     },
     "execution_count": 48,
     "metadata": {},
     "output_type": "execute_result"
    }
   ],
   "source": [
    "y_test_dataframe.value_counts(ascending=True)"
   ]
  },
  {
   "cell_type": "markdown",
   "metadata": {},
   "source": [
    "## Ensemble Training Function\n",
    "\n",
    "The `train_ensemble` function initializes and trains the ensemble model using the provided training data. It takes the training features and labels as input, along with the ensemble model instance, and returns the trained model."
   ]
  },
  {
   "cell_type": "code",
   "execution_count": null,
   "metadata": {},
   "outputs": [],
   "source": [
    "def train_ensemble(X_train: list, y_train: list, ensemble):\n",
    "    seed_random_number_generators()  # Ensure reproducibility\n",
    "    ensemble.fit(X_train, y_train)\n",
    "    print(\"Ensemble model trained.\")\n",
    "    return ensemble"
   ]
  },
  {
   "cell_type": "markdown",
   "metadata": {},
   "source": [
    "## Prediction and Evaluation Function\n",
    "\n",
    "The `get_prediction_results` function uses the trained ensemble model to make predictions on the test set and then evaluates these predictions by calculating the accuracy, recall, precision, and F1-score. It returns these metrics for further analysis."
   ]
  },
  {
   "cell_type": "code",
   "execution_count": null,
   "metadata": {},
   "outputs": [],
   "source": [
    "def get_prediction_results(X_test: list, y_test: list, ensemble):\n",
    "    with torch.inference_mode():\n",
    "        y_pred = ensemble.predict(X_test)\n",
    "        accuracy = accuracy_score(y_test, y_pred)\n",
    "        recall = recall_score(y_test, y_pred)\n",
    "        precision = precision_score(y_test, y_pred)\n",
    "        f1 = f1_score(y_test, y_pred)\n",
    "        print(f\"Accuracy: {accuracy}\\nRecall: {recall}\\nPrecision: {precision}\\nF1-score: {f1}\")\n",
    "        return accuracy, recall, precision, f1"
   ]
  },
  {
   "cell_type": "markdown",
   "metadata": {},
   "source": [
    "## Save Model Function\n",
    "\n",
    "The `save_trained_model` function saves the trained ensemble model to disk using the joblib library. This allows for the model to be reloaded and used for predictions without the need for retraining."
   ]
  },
  {
   "cell_type": "code",
   "execution_count": null,
   "metadata": {},
   "outputs": [],
   "source": [
    "def save_trained_model(ensemble, filename=\"Ensemble\"):\n",
    "    import joblib\n",
    "    joblib.dump(ensemble, f'{filename}.pkl', compress=True)\n",
    "    print(f\"Ensemble model saved to {filename}.pkl\")"
   ]
  },
  {
   "cell_type": "markdown",
   "metadata": {},
   "source": [
    "## Main Execution Workflow\n",
    "\n",
    "This cell combines all the previous steps to execute the workflow. It includes reading the dataset, splitting it into training and testing sets, selecting the ensemble method, training the model, evaluating its performance, and saving the trained model. Replace 'your_dataset.csv' with the path to your dataset and choose an appropriate ensemble method."
   ]
  },
  {
   "cell_type": "code",
   "execution_count": null,
   "metadata": {},
   "outputs": [],
   "source": [
    "FILENAME = 'datasets/datasetall.csv'\n",
    "ENSEMBLE_METHOD = 'hard'\n",
    "\n",
    "# Read data and prepare train-test split\n",
    "data_frame = read_csv_file(FILENAME)\n",
    "X_train, X_test, y_train, y_test = get_train_test_split(data_frame)\n",
    "\n",
    "# Initialize and train the ensemble\n",
    "ensemble_methods = {\n",
    "    'hard': Ensemble.HardVotingEnsemble(),\n",
    "    'soft': Ensemble.SoftVotingEnsemble(),\n",
    "    'stacking': Ensemble.StackingEnsemble(),\n",
    "}\n",
    "ensemble = train_ensemble(X_train, y_train, ensemble_methods[ENSEMBLE_METHOD])\n",
    "\n",
    "# Evaluate the trained ensemble and display results\n",
    "accuracy, recall, precision, f1 = get_prediction_results(X_test, y_test, ensemble)\n",
    "\n",
    "# Save the trained model\n",
    "save_trained_model(ensemble, f'ensemble-{ENSEMBLE_METHOD}')"
   ]
  },
  {
   "cell_type": "markdown",
   "metadata": {},
   "source": [
    "## Results\n",
    "\n",
    "To better visualize the evaluation results, this cell creates a pandas DataFrame to display the accuracy, recall, precision, and F1-score in a tabular format."
   ]
  },
  {
   "cell_type": "code",
   "execution_count": null,
   "metadata": {},
   "outputs": [],
   "source": [
    "import pandas as pd\n",
    "results_df = pd.DataFrame({\n",
    "    'Metric': ['Accuracy', 'Recall', 'Precision', 'F1-Score'],\n",
    "    'Value': [accuracy, recall, precision, f1]\n",
    "})\n",
    "results_df"
   ]
  }
 ],
 "metadata": {
  "kernelspec": {
   "display_name": "Python 3 (ipykernel)",
   "language": "python",
   "name": "python3"
  },
  "language_info": {
   "codemirror_mode": {
    "name": "ipython",
    "version": 3
   },
   "file_extension": ".py",
   "mimetype": "text/x-python",
   "name": "python",
   "nbconvert_exporter": "python",
   "pygments_lexer": "ipython3",
   "version": "3.9.12"
  }
 },
 "nbformat": 4,
 "nbformat_minor": 4
}
